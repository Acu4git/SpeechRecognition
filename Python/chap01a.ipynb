{
  "nbformat": 4,
  "nbformat_minor": 0,
  "metadata": {
    "colab": {
      "name": "chap01a.ipynb",
      "provenance": [],
      "collapsed_sections": []
    },
    "kernelspec": {
      "name": "python3",
      "display_name": "Python 3"
    },
    "language_info": {
      "name": "python"
    }
  },
  "cells": [
    {
      "cell_type": "markdown",
      "source": [
        "### 例題1.1"
      ],
      "metadata": {
        "id": "HjTu8qREfkll"
      }
    },
    {
      "cell_type": "code",
      "execution_count": null,
      "metadata": {
        "id": "JuD9L91OfEH_"
      },
      "outputs": [],
      "source": [
        "import numpy as np\n",
        "\n",
        "proto = np.array(\n",
        "    [[[0,1,1,1,0],\n",
        "      [1,0,0,0,1],\n",
        "      [1,0,0,0,1],\n",
        "      [1,0,0,0,1],\n",
        "      [0,1,1,1,0]],\n",
        "     [[0,0,1,0,0],\n",
        "      [0,0,1,0,0],\n",
        "      [0,0,1,0,0],\n",
        "      [0,0,1,0,0],\n",
        "      [0,0,1,0,0]],\n",
        "     [[0,1,1,1,1],\n",
        "      [1,0,0,1,0],\n",
        "      [0,0,1,0,0],\n",
        "      [0,1,0,0,0],\n",
        "      [1,1,1,1,1]],\n",
        "     [[0,1,1,1,0],\n",
        "      [1,0,0,0,1],\n",
        "      [0,0,1,1,0],\n",
        "      [1,0,0,0,1],\n",
        "      [0,1,1,1,0]],\n",
        "     [[0,0,1,0,0],\n",
        "      [0,1,0,0,0],\n",
        "      [1,0,0,1,0],\n",
        "      [1,1,1,1,1],\n",
        "      [0,0,0,1,0]]])\n",
        "x = np.array(\n",
        "     [[0,0,0,1,0],\n",
        "      [0,0,0,1,0],\n",
        "      [0,0,0,1,0],\n",
        "      [0,0,0,1,0],\n",
        "      [0,0,0,1,0]])\n",
        "\n",
        "# 以下にxとproto[i]との距離を求めて最小値のインデックスを表示する\n",
        "# コードを記述する\n",
        "d = [np.linalg.norm(x - p) for p in proto]\n",
        "print(f'result: {np.argmin(d)}')"
      ]
    }
  ]
}