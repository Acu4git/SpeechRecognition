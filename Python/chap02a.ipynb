{
  "nbformat": 4,
  "nbformat_minor": 0,
  "metadata": {
    "colab": {
      "name": "chap02a.ipynb",
      "provenance": [],
      "collapsed_sections": []
    },
    "kernelspec": {
      "name": "python3",
      "display_name": "Python 3"
    },
    "language_info": {
      "name": "python"
    }
  },
  "cells": [
    {
      "cell_type": "markdown",
      "source": [
        "<a href=\"https://colab.research.google.com/github/MasahiroAraki/SpeechRecognition/blob/master/Python/chap02a.ipynb\" target=\"_parent\"><img src=\"https://colab.research.google.com/assets/colab-badge.svg\" alt=\"Open In Colab\"/></a>"
      ],
      "metadata": {
        "id": "adbnwYQFcWop"
      }
    },
    {
      "cell_type": "markdown",
      "source": [
        "## 問題演習\n",
        "\n",
        "メディアンフィルタを実装せよ。\n",
        "\n",
        "\n"
      ],
      "metadata": {
        "id": "2VJpPVoZfokk"
      }
    },
    {
      "cell_type": "markdown",
      "source": [
        "準備"
      ],
      "metadata": {
        "id": "F3fC6ydSbHdw"
      }
    },
    {
      "cell_type": "code",
      "source": [
        "# サンプル画像を取得\n",
        "!wget https://github.com/MasahiroAraki/SpeechRecognition/raw/master/Python/sampledata/sample1.jpg"
      ],
      "metadata": {
        "colab": {
          "base_uri": "https://localhost:8080/"
        },
        "id": "bdcUEPVfbIVb",
        "outputId": "d85fdcde-3dbf-45ac-aaf8-d60b4fdf456a"
      },
      "execution_count": 1,
      "outputs": [
        {
          "output_type": "stream",
          "name": "stdout",
          "text": [
            "--2022-05-25 00:58:58--  https://github.com/MasahiroAraki/SpeechRecognition/raw/master/Python/sampledata/sample1.jpg\n",
            "Resolving github.com (github.com)... 140.82.114.4\n",
            "Connecting to github.com (github.com)|140.82.114.4|:443... connected.\n",
            "HTTP request sent, awaiting response... 302 Found\n",
            "Location: https://raw.githubusercontent.com/MasahiroAraki/SpeechRecognition/master/Python/sampledata/sample1.jpg [following]\n",
            "--2022-05-25 00:58:58--  https://raw.githubusercontent.com/MasahiroAraki/SpeechRecognition/master/Python/sampledata/sample1.jpg\n",
            "Resolving raw.githubusercontent.com (raw.githubusercontent.com)... 185.199.108.133, 185.199.109.133, 185.199.110.133, ...\n",
            "Connecting to raw.githubusercontent.com (raw.githubusercontent.com)|185.199.108.133|:443... connected.\n",
            "HTTP request sent, awaiting response... 200 OK\n",
            "Length: 1750 (1.7K) [image/jpeg]\n",
            "Saving to: ‘sample1.jpg’\n",
            "\n",
            "\rsample1.jpg           0%[                    ]       0  --.-KB/s               \rsample1.jpg         100%[===================>]   1.71K  --.-KB/s    in 0s      \n",
            "\n",
            "2022-05-25 00:58:58 (30.7 MB/s) - ‘sample1.jpg’ saved [1750/1750]\n",
            "\n"
          ]
        }
      ]
    },
    {
      "cell_type": "code",
      "source": [
        "import numpy as np\n",
        "import matplotlib.pyplot as plt\n",
        "\n",
        "imagefile = 'sample1.jpg'\n",
        "im = plt.imread(imagefile)\n",
        "(h, w) = im.shape\n",
        "plt.imshow(im)\n",
        "plt.gray()"
      ],
      "metadata": {
        "colab": {
          "base_uri": "https://localhost:8080/",
          "height": 268
        },
        "id": "iPOMhifkbQpU",
        "outputId": "822313a8-72ad-4afd-9e92-3005f0a26138"
      },
      "execution_count": 3,
      "outputs": [
        {
          "output_type": "display_data",
          "data": {
            "text/plain": [
              "<Figure size 432x288 with 1 Axes>"
            ],
            "image/png": "[encoded data removed]"
          },
          "metadata": {
            "needs_background": "light"
          }
        }
      ]
    },
    {
      "cell_type": "markdown",
      "source": [
        "メディアンフィルタ"
      ],
      "metadata": {
        "id": "70NNhgHGa-AY"
      }
    },
    {
      "cell_type": "code",
      "source": [
        "# メディアンフィルタ (5x5)\n",
        "im3 = np.full_like(im, 255)\n",
        "\n",
        "for y in range(2,h-2):\n",
        "  for x in range(2,w-2):\n",
        "    im3[x,y] = np.median(im[x-2:x+3, y-2:y+3])\n",
        "\n",
        "plt.imshow(im3)\n",
        "plt.gray()"
      ],
      "metadata": {
        "colab": {
          "base_uri": "https://localhost:8080/",
          "height": 268
        },
        "id": "mC0e7Nw6bEOk",
        "outputId": "e02975dd-46a3-4741-a524-022ab5fb0c18"
      },
      "execution_count": 4,
      "outputs": [
        {
          "output_type": "display_data",
          "data": {
            "text/plain": [
              "<Figure size 432x288 with 1 Axes>"
            ],
            "image/png": "[encoded data removed]"
          },
          "metadata": {
            "needs_background": "light"
          }
        }
      ]
    },
    {
      "cell_type": "markdown",
      "source": [
        "（応用問題）上記処理に加えて、ストライドを2にして画像圧縮を行え。"
      ],
      "metadata": {
        "id": "Hn71SMYKfu5V"
      }
    },
    {
      "cell_type": "code",
      "source": [
        "# メディアンフィルタ (5x5)\n",
        "s = 2 # stride\n",
        "im4 = np.full((h//s, w//s), 255)\n",
        "\n",
        "for y in range(2,h-2,s):\n",
        "  for x in range(2,w-2,s):\n",
        "    im4[x//s,y//s] = np.median(im[x-2:x+3, y-2:y+3])\n",
        "\n",
        "plt.imshow(im4)\n",
        "plt.gray()"
      ],
      "metadata": {
        "id": "QrfqDHIWfz6U",
        "outputId": "6d592646-7d4e-40c7-cb40-f0e51d84b9b9",
        "colab": {
          "base_uri": "https://localhost:8080/",
          "height": 268
        }
      },
      "execution_count": 10,
      "outputs": [
        {
          "output_type": "display_data",
          "data": {
            "text/plain": [
              "<Figure size 432x288 with 1 Axes>"
            ],
            "image/png": "[encoded data removed]"
          },
          "metadata": {
            "needs_background": "light"
          }
        }
      ]
    },
    {
      "cell_type": "markdown",
      "source": [
        "Sobelフィルタを実装せよ"
      ],
      "metadata": {
        "id": "Dd0B_ycYbEi2"
      }
    },
    {
      "cell_type": "code",
      "execution_count": null,
      "metadata": {
        "colab": {
          "base_uri": "https://localhost:8080/",
          "height": 268
        },
        "id": "XlRHsKb_a6e4",
        "outputId": "82fa667f-3167-4bb1-d51c-9ddbb5033f3b"
      },
      "outputs": [
        {
          "output_type": "display_data",
          "data": {
            "text/plain": [
              "<Figure size 432x288 with 1 Axes>"
            ],
            "image/png": "[encoded data removed]"
          },
          "metadata": {
            "needs_background": "light"
          }
        }
      ],
      "source": [
        "# Sobelフィルタ\n",
        "\n",
        "filter2x = np.array([[-1,0,1],[-2,0,2],[-1,0,1]], dtype=np.float32)\n",
        "filter2y = np.array([[1,2,1],[0,0,0],[-1,-2,-1]], dtype=np.float32)\n",
        "im5 = np.full_like(im, 255, np.float32)\n",
        "\n",
        "for y in range(1,h-1):\n",
        "  for x in range(1,w-1):\n",
        "    t = im[x-1:x+2, y-1:y+2]\n",
        "    im5[x,y] = np.sqrt(np.sum(t * filter2x)**2 + np.sum(t * filter2y)**2)\n",
        "\n",
        "plt.imshow(im5)\n",
        "plt.gray()"
      ]
    }
  ]
}