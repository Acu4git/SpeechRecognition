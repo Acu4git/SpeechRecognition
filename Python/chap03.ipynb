{
  "nbformat": 4,
  "nbformat_minor": 0,
  "metadata": {
    "colab": {
      "name": "chap03.ipynb",
      "provenance": [],
      "collapsed_sections": []
    },
    "kernelspec": {
      "name": "python3",
      "display_name": "Python 3"
    },
    "language_info": {
      "name": "python"
    }
  },
  "cells": [
    {
      "cell_type": "markdown",
      "metadata": {
        "id": "xzl0Tes9AhZU"
      },
      "source": [
        "<a href=\"https://colab.research.google.com/github/MasahiroAraki/SpeechRecognition/blob/master/Python/chap03.ipynb\" target=\"_parent\"><img src=\"https://colab.research.google.com/assets/colab-badge.svg\" alt=\"Open In Colab\"/></a>\n"
      ]
    },
    {
      "cell_type": "markdown",
      "metadata": {
        "id": "NMKNPkRlAm3P"
      },
      "source": [
        "## 3.2 特徴のスケールをそろえる"
      ]
    },
    {
      "cell_type": "markdown",
      "metadata": {
        "id": "ThA1AQMHjzzI"
      },
      "source": [
        "乱数を用いて、スケールの異なる2次元データを生成。"
      ]
    },
    {
      "cell_type": "code",
      "metadata": {
        "id": "OKOLuwLxALxA"
      },
      "source": [
        "import numpy as np\n",
        "import matplotlib.pyplot as plt\n",
        "from sklearn.datasets import make_blobs\n",
        "\n",
        "centers = [(50,1), (50, 2)]\n",
        "cluster_std = [(20, 0.2), (20, 0.2)]\n",
        "X, y = make_blobs(n_samples=40, centers=centers, cluster_std=cluster_std, \n",
        "                  random_state=30)"
      ],
      "execution_count": 1,
      "outputs": []
    },
    {
      "cell_type": "markdown",
      "metadata": {
        "id": "1KGTyv8mAcz7"
      },
      "source": [
        "1次元目と2次元目の軸のスケールを合わせてプロット"
      ]
    },
    {
      "cell_type": "code",
      "metadata": {
        "colab": {
          "base_uri": "https://localhost:8080/",
          "height": 301
        },
        "id": "coKe8LIOHa97",
        "outputId": "a70b6510-7583-4d45-a61b-ad6558be1cae"
      },
      "source": [
        "plt.xlim(0,100)\n",
        "plt.ylim(0,100)\n",
        "plt.xlabel(\"x1\")\n",
        "plt.ylabel(\"x2\")\n",
        "plt.scatter(X[:,0][y==0], X[:,1][y==0], marker='x')\n",
        "plt.scatter(X[:,0][y==1], X[:,1][y==1], marker='o')  "
      ],
      "execution_count": 2,
      "outputs": [
        {
          "output_type": "execute_result",
          "data": {
            "text/plain": [
              "<matplotlib.collections.PathCollection at 0x7f272fd2cd10>"
            ]
          },
          "metadata": {},
          "execution_count": 2
        },
        {
          "output_type": "display_data",
          "data": {
            "text/plain": [
              "<Figure size 432x288 with 1 Axes>"
            ],
            "image/png": "[encoded data removed]"
          },
          "metadata": {
            "needs_background": "light"
          }
        }
      ]
    },
    {
      "cell_type": "markdown",
      "metadata": {
        "id": "Q6HHt0IVIVOd"
      },
      "source": [
        "1次元目と2次元目の軸のスケールを自動で設定してプロット"
      ]
    },
    {
      "cell_type": "code",
      "metadata": {
        "colab": {
          "base_uri": "https://localhost:8080/",
          "height": 297
        },
        "id": "RqcPzMl8EcBy",
        "outputId": "df598b1e-5e0e-42b5-a21f-3d0b9463678f"
      },
      "source": [
        "plt.xlim()\n",
        "plt.ylim()\n",
        "plt.xlabel(\"x1\")\n",
        "plt.ylabel(\"x2\")\n",
        "plt.scatter(X[:,0][y==0], X[:,1][y==0], marker='x')\n",
        "plt.scatter(X[:,0][y==1], X[:,1][y==1], marker='o')  "
      ],
      "execution_count": 3,
      "outputs": [
        {
          "output_type": "execute_result",
          "data": {
            "text/plain": [
              "<matplotlib.collections.PathCollection at 0x7f272f89c590>"
            ]
          },
          "metadata": {},
          "execution_count": 3
        },
        {
          "output_type": "display_data",
          "data": {
            "text/plain": [
              "<Figure size 432x288 with 1 Axes>"
            ],
            "image/png": "[encoded data removed]"
          },
          "metadata": {
            "needs_background": "light"
          }
        }
      ]
    },
    {
      "cell_type": "markdown",
      "metadata": {
        "id": "pdStA7S3KLiN"
      },
      "source": [
        "## 例題3.2\n",
        "\n",
        "例題3.1の処理をPythonでコーディングせよ．\n"
      ]
    },
    {
      "cell_type": "markdown",
      "metadata": {
        "id": "GsoYARtwKKoX"
      },
      "source": [
        "データの準備と表示"
      ]
    },
    {
      "cell_type": "code",
      "metadata": {
        "colab": {
          "base_uri": "https://localhost:8080/",
          "height": 283
        },
        "id": "NC1AC3-qKKcB",
        "outputId": "b11e3942-aa11-499c-8ad5-5ccf1cf73148"
      },
      "source": [
        "import numpy as np\n",
        "import matplotlib.pyplot as plt\n",
        "\n",
        "X = np.array([[3,2],[3,4],[5,4],[5,6]])\n",
        "plt.scatter(X[:,0], X[:,1])"
      ],
      "execution_count": 4,
      "outputs": [
        {
          "output_type": "execute_result",
          "data": {
            "text/plain": [
              "<matplotlib.collections.PathCollection at 0x7f272f80c990>"
            ]
          },
          "metadata": {},
          "execution_count": 4
        },
        {
          "output_type": "display_data",
          "data": {
            "text/plain": [
              "<Figure size 432x288 with 1 Axes>"
            ],
            "image/png": "[encoded data removed]"
          },
          "metadata": {
            "needs_background": "light"
          }
        }
      ]
    },
    {
      "cell_type": "markdown",
      "metadata": {
        "id": "rZLZ9rJEKoTr"
      },
      "source": [
        "numpyを用いた標準化\n",
        "\n",
        "- マニュアル\n",
        "  - [numpy.mean](https://numpy.org/doc/stable/reference/generated/numpy.mean.html)\n",
        "  - [numpy.std](https://numpy.org/doc/stable/reference/generated/numpy.std.html)"
      ]
    },
    {
      "cell_type": "code",
      "metadata": {
        "id": "B7GCP2gkKKu7"
      },
      "source": [
        ""
      ],
      "execution_count": null,
      "outputs": []
    },
    {
      "cell_type": "markdown",
      "metadata": {
        "id": "w2MH-6XJKK2u"
      },
      "source": [
        "標準化後のデータの表示"
      ]
    },
    {
      "cell_type": "code",
      "metadata": {
        "id": "ZDuucNyhHbGO"
      },
      "source": [
        ""
      ],
      "execution_count": null,
      "outputs": []
    },
    {
      "cell_type": "markdown",
      "metadata": {
        "id": "l-7Ejh26KwUC"
      },
      "source": [
        "機械学習ライブラリ scikit-learn を利用した標準化のコード\n",
        "\n",
        "- マニュアル\n",
        "  - [StandardScaler](https://scikit-learn.org/stable/modules/generated/sklearn.preprocessing.StandardScaler.html#sklearn.preprocessing.StandardScaler)"
      ]
    },
    {
      "cell_type": "code",
      "metadata": {
        "id": "0e32RmvfHbJR"
      },
      "source": [
        ""
      ],
      "execution_count": null,
      "outputs": []
    },
    {
      "cell_type": "markdown",
      "metadata": {
        "id": "N_-el_IoAexL"
      },
      "source": [
        "## 例題3.5\n",
        "\n",
        "例題3.4の処理を Python でコーディングせよ．"
      ]
    },
    {
      "cell_type": "markdown",
      "metadata": {
        "id": "xEW-LVnLLLyp"
      },
      "source": [
        "numpyで標準化後のデータから共分散行列を計算し、その共分散行列の第1固有ベクトルを計算\n",
        "\n",
        "- マニュアル\n",
        "  - [numpy.cov](https://numpy.org/doc/stable/reference/generated/numpy.cov.html)\n",
        "  - [numpy.linalg.eig](https://numpy.org/doc/stable/reference/generated/numpy.linalg.eig.html)"
      ]
    },
    {
      "cell_type": "code",
      "metadata": {
        "id": "cMCEzJMWLKtp"
      },
      "source": [
        ""
      ],
      "execution_count": null,
      "outputs": []
    },
    {
      "cell_type": "markdown",
      "metadata": {
        "id": "UxCR7pPtLMmP"
      },
      "source": [
        "第1固有ベクトルを用いた1次元データへの変換"
      ]
    },
    {
      "cell_type": "markdown",
      "metadata": {
        "id": "0ZFvtGFrLM17"
      },
      "source": [
        "機械学習ライブラリ scikit-learn を利用した主成分分析のコード\n",
        "\n",
        "- マニュアル\n",
        "  - [PCA](https://scikit-learn.org/stable/modules/generated/sklearn.decomposition.PCA.html)"
      ]
    },
    {
      "cell_type": "code",
      "metadata": {
        "id": "3PdDcpANLMvC"
      },
      "source": [
        ""
      ],
      "execution_count": null,
      "outputs": []
    }
  ]
}