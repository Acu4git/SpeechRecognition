{
  "nbformat": 4,
  "nbformat_minor": 0,
  "metadata": {
    "colab": {
      "name": "chap04.ipynb",
      "provenance": [],
      "collapsed_sections": []
    },
    "kernelspec": {
      "name": "Python 3.7.6 64-bit ('base': conda)",
      "display_name": "Python 3.7.6 64-bit ('base': conda)",
      "metadata": {
        "interpreter": {
          "hash": "9558e1a7b673a21bf293f4d79394c4c42637de0f423c160520e66c3c2eebbf7a"
        }
      }
    }
  },
  "cells": [
    {
      "cell_type": "markdown",
      "metadata": {
        "id": "dNGRugaooWTh"
      },
      "source": [
        "<a href=\"https://colab.research.google.com/github/MasahiroAraki/SpeechRecognition/blob/master/Python/chap04.ipynb\" target=\"_parent\"><img src=\"https://colab.research.google.com/assets/colab-badge.svg\" alt=\"Open In Colab\"/></a>"
      ]
    },
    {
      "cell_type": "markdown",
      "metadata": {
        "id": "4EuxkmpjLdXY"
      },
      "source": [
        "## 例題4.3\n",
        "\n",
        "例題4.2の処理（パーセプトロンの学習規則）をPythonでコーディングせよ．"
      ]
    },
    {
      "cell_type": "markdown",
      "metadata": {
        "id": "7MxuFEDgc8Hd"
      },
      "source": [
        "使用する関数\n",
        "\n",
        "[numpy.zeros](https://numpy.org/doc/stable/reference/generated/numpy.zeros.html) 全要素が0のベクトル・行列を作成\n",
        "\n",
        "[numpy.ones](https://numpy.org/doc/stable/reference/generated/numpy.ones.html) 全要素が1のベクトル・行列を作成\n",
        "\n",
        "[numpy.concatenate](https://numpy.org/doc/stable/reference/generated/numpy.concatenate.html) ベクトル・行列の結合\n",
        "\n",
        "numpyの@演算子 （[numpy.matmul](https://numpy.org/doc/stable/reference/generated/numpy.matmul.html)と同じ） 行列の積を求める"
      ]
    },
    {
      "cell_type": "markdown",
      "metadata": {
        "id": "iTON6qy7fn7E"
      },
      "source": [
        "データの準備と表示"
      ]
    },
    {
      "cell_type": "code",
      "metadata": {
        "id": "FYj94JQ6LZcV",
        "colab": {
          "base_uri": "https://localhost:8080/",
          "height": 283
        },
        "outputId": "ec4f2555-fa40-4004-be1b-c609c49cbe25"
      },
      "source": [
        "import numpy as np\n",
        "import matplotlib.pyplot as plt\n",
        "\n",
        "X = np.array([[1.0], [0.5], [-0.2], [-1.3]])\n",
        "y = np.array([1, 1, 0, 0])\n",
        "plt.grid()\n",
        "plt.scatter(X[y==1], np.zeros(len(X[y==1])), c='blue', label='class1')\n",
        "plt.scatter(X[y==0], np.zeros(len(X[y==0])), c='red',  label='class2')\n",
        "plt.legend(loc='upper right')"
      ],
      "execution_count": 1,
      "outputs": [
        {
          "output_type": "execute_result",
          "data": {
            "text/plain": [
              "<matplotlib.legend.Legend at 0x7fdc4b5be810>"
            ]
          },
          "metadata": {},
          "execution_count": 1
        },
        {
          "output_type": "display_data",
          "data": {
            "image/png": "[encoded data removed]",
            "text/plain": [
              "<Figure size 432x288 with 1 Axes>"
            ]
          },
          "metadata": {
            "needs_background": "light"
          }
        }
      ]
    },
    {
      "cell_type": "markdown",
      "metadata": {
        "id": "w5uuLWGtbx4z"
      },
      "source": [
        "学習の設定"
      ]
    },
    {
      "cell_type": "code",
      "metadata": {
        "id": "ruVzymhZ1IuY",
        "colab": {
          "base_uri": "https://localhost:8080/"
        },
        "outputId": "a8c85613-cf78-4ec4-a60f-5497d3d88ee4"
      },
      "source": [
        "roh = 0.5\n",
        "w = np.array([0.2, 0.3])\n",
        "flag = True\n",
        "(n, d) = X.shape\n",
        "X2 = np.concatenate((np.ones((n, d)), X), axis=1)\n",
        "print(X2)"
      ],
      "execution_count": 2,
      "outputs": [
        {
          "output_type": "stream",
          "name": "stdout",
          "text": [
            "[[ 1.   1. ]\n",
            " [ 1.   0.5]\n",
            " [ 1.  -0.2]\n",
            " [ 1.  -1.3]]\n"
          ]
        }
      ]
    },
    {
      "cell_type": "markdown",
      "metadata": {
        "id": "rqjowi-ggNIw"
      },
      "source": [
        "学習"
      ]
    },
    {
      "cell_type": "code",
      "metadata": {
        "id": "tZx8pAb1OLI7"
      },
      "source": [
        ""
      ],
      "execution_count": null,
      "outputs": []
    },
    {
      "cell_type": "markdown",
      "metadata": {
        "id": "656cNJDfYnkl"
      },
      "source": [
        "### 機械学習ライブラリ scikit-learn, mlxtend を利用したコード\n",
        "\n",
        "使用するクラス、メソッド\n",
        "\n",
        "[make_classification](https://scikit-learn.org/stable/modules/generated/sklearn.datasets.make_classification.html) データの生成\n",
        "\n",
        "[Perceptron](https://scikit-learn.org/stable/modules/generated/sklearn.linear_model.Perceptron.html) パーセプトロン\n",
        "\n",
        "[plot_decision_regions](http://rasbt.github.io/mlxtend/user_guide/plotting/plot_decision_regions/) 識別面の表示\n",
        "\n"
      ]
    },
    {
      "cell_type": "code",
      "metadata": {
        "id": "Ual2MuB11Iua"
      },
      "source": [
        "from sklearn.datasets import make_classification\n",
        "from sklearn.linear_model import Perceptron\n",
        "from mlxtend.plotting import plot_decision_regions\n",
        "\n",
        "X, y = make_classification(n_features=2, n_redundant=0, n_clusters_per_class=1, random_state=8)\n",
        "plt.scatter(X[:, 0], X[:, 1], marker='o', c=y)\n"
      ],
      "execution_count": null,
      "outputs": []
    },
    {
      "cell_type": "code",
      "metadata": {
        "id": "ojX8v76OYnvN"
      },
      "source": [
        ""
      ],
      "execution_count": null,
      "outputs": []
    },
    {
      "cell_type": "code",
      "metadata": {
        "id": "EvKq7t5z1Iua"
      },
      "source": [
        "plot_decision_regions(X=X, y=y, clf=clf, legend=2)"
      ],
      "execution_count": null,
      "outputs": []
    },
    {
      "cell_type": "markdown",
      "metadata": {
        "id": "3uNCdHcAOxCX"
      },
      "source": [
        "## 例題4.5\n",
        "\n",
        "例題4.4の処理を Python でコーディングし、x=(3,4) を識別せよ．"
      ]
    },
    {
      "cell_type": "markdown",
      "metadata": {
        "id": "XJ9F3DkaeF2w"
      },
      "source": [
        "使用する関数\n",
        "\n",
        "[numpy.linalg.norm](https://numpy.org/doc/stable/reference/generated/numpy.linalg.norm.html) ノルムを求める\n",
        "\n",
        "[numpy.argsort](https://numpy.org/doc/stable/reference/generated/numpy.argsort.html) ソート結果のインデックスを求める\n",
        "\n",
        "[scipy.stats.mode](https://docs.scipy.org/doc/scipy/reference/generated/scipy.stats.mode.html) 最頻値を求める"
      ]
    },
    {
      "cell_type": "markdown",
      "metadata": {
        "id": "uzS-V4e3gXhH"
      },
      "source": [
        "データの準備と表示"
      ]
    },
    {
      "cell_type": "code",
      "metadata": {
        "id": "dh3RfaPkOURA"
      },
      "source": [
        "import numpy as np\n",
        "from scipy.stats import mode\n",
        "import matplotlib.pyplot as plt\n",
        "\n",
        "X = np.array([[1,4], [2,3], [4,3], [5,4], [2,1], [3,2], [3,3], [4,1]])\n",
        "y = np.array([1, 1, 1, 1, 0, 0, 0, 0])\n",
        "plt.scatter(X[:,0], X[:,1], c=y)"
      ],
      "execution_count": null,
      "outputs": []
    },
    {
      "cell_type": "markdown",
      "metadata": {
        "id": "Vr4DkizBgl4O"
      },
      "source": [
        "学習の設定"
      ]
    },
    {
      "cell_type": "code",
      "metadata": {
        "id": "r4os8VttQpdS"
      },
      "source": [
        "k = 3\n",
        "x = np.array([3,4])"
      ],
      "execution_count": null,
      "outputs": []
    },
    {
      "cell_type": "markdown",
      "metadata": {
        "id": "8ya1ygYJ1Iub"
      },
      "source": [
        "k-NN法による識別"
      ]
    },
    {
      "cell_type": "code",
      "metadata": {
        "id": "bRNXzTeF1Iuc"
      },
      "source": [
        ""
      ],
      "execution_count": null,
      "outputs": []
    },
    {
      "cell_type": "markdown",
      "metadata": {
        "id": "X8mYdwOCSImO"
      },
      "source": [
        "### 機械学習ライブラリ scikit-learn を利用したk-NN法のコード\n",
        "\n",
        "使用するクラス、メソッド\n",
        "\n",
        "[KNeighborsClassifier](https://scikit-learn.org/stable/modules/generated/sklearn.neighbors.KNeighborsClassifier.html)"
      ]
    },
    {
      "cell_type": "code",
      "metadata": {
        "id": "9ekLOVc5RjeM"
      },
      "source": [
        "from sklearn.datasets import make_classification\n",
        "from sklearn.neighbors import KNeighborsClassifier\n",
        "from mlxtend.plotting import plot_decision_regions\n",
        "\n",
        "X, y = make_classification(n_features=2, n_redundant=0, n_clusters_per_class=1, random_state=5)\n",
        "plt.scatter(X[:, 0], X[:, 1], marker='o', c=y)"
      ],
      "execution_count": null,
      "outputs": []
    },
    {
      "cell_type": "code",
      "metadata": {
        "id": "KPu273ek1Iuc"
      },
      "source": [
        ""
      ],
      "execution_count": null,
      "outputs": []
    },
    {
      "cell_type": "code",
      "metadata": {
        "id": "U7ksB5ny1Iuc"
      },
      "source": [
        "plot_decision_regions(X=X, y=y, clf=clf, legend=2)"
      ],
      "execution_count": null,
      "outputs": []
    },
    {
      "cell_type": "markdown",
      "metadata": {
        "id": "1cJpZkBu1pdq"
      },
      "source": [
        "# 解答例"
      ]
    },
    {
      "cell_type": "markdown",
      "metadata": {
        "id": "onZKrVpW1rQt"
      },
      "source": [
        "例題4.3"
      ]
    },
    {
      "cell_type": "code",
      "metadata": {
        "id": "CJITWNvF1pmw"
      },
      "source": [
        "while flag:\n",
        "    flag = False\n",
        "    for (x, t) in zip(X2, y):\n",
        "        print(f'w = {w}')\n",
        "        g = x @ w\n",
        "        if t == 1 and g < 0:\n",
        "            w = w + roh * x\n",
        "            flag = True\n",
        "        elif t == 0 and g > 0:\n",
        "            w = w - roh * x\n",
        "            flag = True\n",
        "    print('-----') \n",
        "print(f'result: {w}')"
      ],
      "execution_count": null,
      "outputs": []
    },
    {
      "cell_type": "code",
      "metadata": {
        "id": "5exzM1SN2G3h"
      },
      "source": [
        "clf = Perceptron(eta0 = 0.1, random_state=3)\n",
        "clf.fit(X, y)"
      ],
      "execution_count": null,
      "outputs": []
    },
    {
      "cell_type": "markdown",
      "metadata": {
        "id": "Hzdeqmjt1pyA"
      },
      "source": [
        "例題4.5"
      ]
    },
    {
      "cell_type": "code",
      "metadata": {
        "id": "GV2qRTE22Ub9"
      },
      "source": [
        "mode_val, mode_num = mode(y[np.argsort(np.linalg.norm(X - x, axis=1))][:k])\n",
        "print(f'result = {mode_val}')"
      ],
      "execution_count": null,
      "outputs": []
    },
    {
      "cell_type": "code",
      "metadata": {
        "id": "h0YS7GV61p7J"
      },
      "source": [
        "clf = KNeighborsClassifier(n_neighbors=1)\n",
        "clf.fit(X, y)"
      ],
      "execution_count": null,
      "outputs": []
    }
  ]
}