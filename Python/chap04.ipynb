{
  "nbformat": 4,
  "nbformat_minor": 0,
  "metadata": {
    "colab": {
      "name": "chap04.ipynb",
      "provenance": [],
      "collapsed_sections": []
    },
    "kernelspec": {
      "name": "python3",
      "display_name": "Python 3"
    },
    "language_info": {
      "name": "python"
    }
  },
  "cells": [
    {
      "cell_type": "markdown",
      "metadata": {
        "id": "dNGRugaooWTh"
      },
      "source": [
        "<a href=\"https://colab.research.google.com/github/MasahiroAraki/SpeechRecognition/blob/master/Python/chap04.ipynb\" target=\"_parent\"><img src=\"https://colab.research.google.com/assets/colab-badge.svg\" alt=\"Open In Colab\"/></a>"
      ]
    },
    {
      "cell_type": "markdown",
      "metadata": {
        "id": "4EuxkmpjLdXY"
      },
      "source": [
        "## 例題4.3\n",
        "\n",
        "例題4.2の処理（パーセプトロンの学習規則）をPythonでコーディングせよ．ただし正解クラス1,2はそれぞれ0,1に読み替えてコーディングすること。"
      ]
    },
    {
      "cell_type": "markdown",
      "metadata": {
        "id": "7MxuFEDgc8Hd"
      },
      "source": [
        "使用する関数等\n",
        "- [numpy.zeros](https://numpy.org/doc/stable/reference/generated/numpy.zeros.html) 全要素が0のベクトル・行列を作成\n",
        "\n",
        "- [numpy.ones](https://numpy.org/doc/stable/reference/generated/numpy.ones.html) 全要素が1のベクトル・行列を作成\n",
        "\n",
        "- [numpy.hstack](https://numpy.org/doc/stable/reference/generated/numpy.hstack.html) ベクトル・行列を横方向に結合\n",
        "\n",
        "- numpyの@演算子 （[numpy.matmul](https://numpy.org/doc/stable/reference/generated/numpy.matmul.html)と同じ） 行列の積を求める"
      ]
    },
    {
      "cell_type": "markdown",
      "metadata": {
        "id": "iTON6qy7fn7E"
      },
      "source": [
        "データの準備と表示"
      ]
    },
    {
      "cell_type": "code",
      "metadata": {
        "colab": {
          "base_uri": "https://localhost:8080/",
          "height": 283
        },
        "id": "PHNJRAOX7SOj",
        "outputId": "8c63d724-653d-4c08-a101-c0294000d4e4"
      },
      "source": [
        "import numpy as np\n",
        "import matplotlib.pyplot as plt\n",
        "\n",
        "X = np.array([[1.0], [0.5], [-0.2], [-1.3]])\n",
        "y = np.array([0, 0, 1, 1])\n",
        "plt.grid()\n",
        "plt.scatter(X[y==0], np.zeros(len(X[y==0])), c='blue', marker='s', label='class0')\n",
        "plt.scatter(X[y==1], np.zeros(len(X[y==1])), c='red', marker='^', label='class1')\n",
        "plt.legend(loc='upper right')"
      ],
      "execution_count": 1,
      "outputs": [
        {
          "output_type": "execute_result",
          "data": {
            "text/plain": [
              "<matplotlib.legend.Legend at 0x7fa2ced8ddd0>"
            ]
          },
          "metadata": {},
          "execution_count": 1
        },
        {
          "output_type": "display_data",
          "data": {
            "image/png": "[encoded data removed]",
            "text/plain": [
              "<Figure size 432x288 with 1 Axes>"
            ]
          },
          "metadata": {
            "needs_background": "light"
          }
        }
      ]
    },
    {
      "cell_type": "markdown",
      "metadata": {
        "id": "w5uuLWGtbx4z"
      },
      "source": [
        "学習の設定と特徴ベクトルの次元拡張（$x_0 \\equiv 1$）"
      ]
    },
    {
      "cell_type": "code",
      "metadata": {
        "colab": {
          "base_uri": "https://localhost:8080/"
        },
        "id": "sO01PKsP7Vhm",
        "outputId": "c74e6c2f-c32e-4600-9638-6f378906ce2e"
      },
      "source": [
        "roh = 0.5                 # 学習係数\n",
        "w = np.array([0.2, 0.3])  # 重みの初期値\n",
        "flag = True               # 学習終了判定用フラグ\n",
        "(n, d) = X.shape\n",
        "X2 = np.hstack([np.ones((n, d)), X])  # 特徴ベクトルをd+1次元に拡張\n",
        "print(X2)"
      ],
      "execution_count": 2,
      "outputs": [
        {
          "output_type": "stream",
          "name": "stdout",
          "text": [
            "[[ 1.   1. ]\n",
            " [ 1.   0.5]\n",
            " [ 1.  -0.2]\n",
            " [ 1.  -1.3]]\n"
          ]
        }
      ]
    },
    {
      "cell_type": "markdown",
      "metadata": {
        "id": "rqjowi-ggNIw"
      },
      "source": [
        "以下のセルに、学習を実行するコードと得られた重みを表示するコードを記述せよ。"
      ]
    },
    {
      "cell_type": "code",
      "metadata": {
        "id": "SiwfDrh57us-"
      },
      "source": [
        ""
      ],
      "execution_count": null,
      "outputs": []
    },
    {
      "cell_type": "markdown",
      "metadata": {
        "id": "656cNJDfYnkl"
      },
      "source": [
        "### 機械学習ライブラリ scikit-learn, mlxtend を利用したコード\n",
        "\n",
        "乱数を用いて学習データを生成し、パーセプトロンの学習を実行するインスタンスを生成して学習する。そして、得られた識別面を機械学習用拡張ライブラリmlxtendを用いて表示する。\n",
        "\n",
        "使用するクラス、メソッド\n",
        "- [make_classification](https://scikit-learn.org/stable/modules/generated/sklearn.datasets.make_classification.html) データの生成\n",
        "\n",
        "- [Perceptron](https://scikit-learn.org/stable/modules/generated/sklearn.linear_model.Perceptron.html) パーセプトロン\n",
        "\n",
        "- [plot_decision_regions](http://rasbt.github.io/mlxtend/user_guide/plotting/plot_decision_regions/) 識別面の表示\n",
        "\n"
      ]
    },
    {
      "cell_type": "code",
      "metadata": {
        "colab": {
          "base_uri": "https://localhost:8080/",
          "height": 283
        },
        "id": "AW2X99vV8OHf",
        "outputId": "6e848811-edba-4d1f-9733-7a795c0e377c"
      },
      "source": [
        "from sklearn.datasets import make_classification\n",
        "from sklearn.linear_model import Perceptron\n",
        "from mlxtend.plotting import plot_decision_regions\n",
        "\n",
        "X, y = make_classification(n_features=2, n_redundant=0, n_clusters_per_class=1, random_state=8)\n",
        "plt.scatter(X[:, 0][y==0], X[:, 1][y==0], c='blue', marker='s', label='class0')\n",
        "plt.scatter(X[:, 0][y==1], X[:, 1][y==1], c='red', marker='^', label='class1')\n",
        "plt.legend(loc='upper left')"
      ],
      "execution_count": 4,
      "outputs": [
        {
          "output_type": "execute_result",
          "data": {
            "text/plain": [
              "<matplotlib.legend.Legend at 0x7fa2bd0c9c90>"
            ]
          },
          "metadata": {},
          "execution_count": 4
        },
        {
          "output_type": "display_data",
          "data": {
            "image/png": "[encoded data removed]",
            "text/plain": [
              "<Figure size 432x288 with 1 Axes>"
            ]
          },
          "metadata": {
            "needs_background": "light"
          }
        }
      ]
    },
    {
      "cell_type": "markdown",
      "metadata": {
        "id": "xnFm6wai8R2S"
      },
      "source": [
        "以下のセルに、学習を実行するコードと得られた識別面を表示するコードを記述せよ。"
      ]
    },
    {
      "cell_type": "code",
      "metadata": {
        "id": "9vq5pR1k8SBp"
      },
      "source": [
        ""
      ],
      "execution_count": null,
      "outputs": []
    },
    {
      "cell_type": "markdown",
      "metadata": {
        "id": "3uNCdHcAOxCX"
      },
      "source": [
        "## 例題4.5\n",
        "\n",
        "例題4.4の処理を Python でコーディングし、x=(3,4) を識別せよ．ただし正解クラス1,2はそれぞれ0,1に読み替えてコーディングすること。"
      ]
    },
    {
      "cell_type": "markdown",
      "metadata": {
        "id": "XJ9F3DkaeF2w"
      },
      "source": [
        "使用する関数\n",
        "\n",
        "- [numpy.linalg.norm](https://numpy.org/doc/stable/reference/generated/numpy.linalg.norm.html) ノルムを求める\n",
        "\n",
        "- [numpy.argsort](https://numpy.org/doc/stable/reference/generated/numpy.argsort.html) ソート結果のインデックスを求める\n",
        "\n",
        "- [scipy.stats.mode](https://docs.scipy.org/doc/scipy/reference/generated/scipy.stats.mode.html) 最頻値を求める"
      ]
    },
    {
      "cell_type": "markdown",
      "metadata": {
        "id": "uzS-V4e3gXhH"
      },
      "source": [
        "データの準備と表示"
      ]
    },
    {
      "cell_type": "code",
      "metadata": {
        "colab": {
          "base_uri": "https://localhost:8080/",
          "height": 283
        },
        "id": "XScTmnAJ-I1Y",
        "outputId": "fa0b080c-a018-4801-b37d-8bc4bee11377"
      },
      "source": [
        "import numpy as np\n",
        "from scipy.stats import mode\n",
        "import matplotlib.pyplot as plt\n",
        "\n",
        "X = np.array([[1,4], [2,3], [4,3], [5,4], [2,1], [3,2], [3,3], [4,1]])\n",
        "y = np.array([0, 0, 0, 0, 1, 1, 1, 1])\n",
        "plt.scatter(X[:, 0][y==0], X[:, 1][y==0], c='blue', marker='s', label='class0')\n",
        "plt.scatter(X[:, 0][y==1], X[:, 1][y==1], c='red', marker='^', label='class1')\n",
        "plt.legend(loc='lower left')"
      ],
      "execution_count": 6,
      "outputs": [
        {
          "output_type": "execute_result",
          "data": {
            "text/plain": [
              "<matplotlib.legend.Legend at 0x7fa2b4dac1d0>"
            ]
          },
          "metadata": {},
          "execution_count": 6
        },
        {
          "output_type": "display_data",
          "data": {
            "image/png": "[encoded data removed]",
            "text/plain": [
              "<Figure size 432x288 with 1 Axes>"
            ]
          },
          "metadata": {
            "needs_background": "light"
          }
        }
      ]
    },
    {
      "cell_type": "markdown",
      "metadata": {
        "id": "Vr4DkizBgl4O"
      },
      "source": [
        "学習の設定"
      ]
    },
    {
      "cell_type": "code",
      "metadata": {
        "id": "gvsUSbYy-MHO"
      },
      "source": [
        "k = 3\n",
        "x = np.array([3,4])"
      ],
      "execution_count": 7,
      "outputs": []
    },
    {
      "cell_type": "markdown",
      "metadata": {
        "id": "8ya1ygYJ1Iub"
      },
      "source": [
        "以下のセルに、k-NN法によってxを識別するコードを記述せよ。"
      ]
    },
    {
      "cell_type": "code",
      "metadata": {
        "id": "BEM0Jhwa-qYA"
      },
      "source": [
        ""
      ],
      "execution_count": null,
      "outputs": []
    },
    {
      "cell_type": "markdown",
      "metadata": {
        "id": "X8mYdwOCSImO"
      },
      "source": [
        "### 機械学習ライブラリ scikit-learn を利用したk-NN法のコード\n",
        "\n",
        "乱数を用いて学習データを生成し、k-NN法によって得られる識別面をmlxtendを用いて表示する。\n",
        "\n",
        "\n",
        "使用するクラス、メソッド\n",
        "- [KNeighborsClassifier](https://scikit-learn.org/stable/modules/generated/sklearn.neighbors.KNeighborsClassifier.html)"
      ]
    },
    {
      "cell_type": "code",
      "metadata": {
        "colab": {
          "base_uri": "https://localhost:8080/",
          "height": 283
        },
        "id": "GfPP-2gC_JE4",
        "outputId": "e09259cc-9ac9-40af-bb71-f408eb8d5da4"
      },
      "source": [
        "from sklearn.datasets import make_classification\n",
        "from sklearn.neighbors import KNeighborsClassifier\n",
        "from mlxtend.plotting import plot_decision_regions\n",
        "\n",
        "X, y = make_classification(n_features=2, n_redundant=0, n_clusters_per_class=1, random_state=5)\n",
        "plt.scatter(X[:, 0][y==0], X[:, 1][y==0], c='blue', marker='s', label='class0')\n",
        "plt.scatter(X[:, 0][y==1], X[:, 1][y==1], c='red', marker='^', label='class1')\n",
        "plt.legend(loc='upper left')"
      ],
      "execution_count": 9,
      "outputs": [
        {
          "output_type": "execute_result",
          "data": {
            "text/plain": [
              "<matplotlib.legend.Legend at 0x7fa2b3f2ca90>"
            ]
          },
          "metadata": {},
          "execution_count": 9
        },
        {
          "output_type": "display_data",
          "data": {
            "image/png": "[encoded data removed]",
            "text/plain": [
              "<Figure size 432x288 with 1 Axes>"
            ]
          },
          "metadata": {
            "needs_background": "light"
          }
        }
      ]
    },
    {
      "cell_type": "markdown",
      "metadata": {
        "id": "Xc__Z0GT_K-f"
      },
      "source": [
        "以下のセルに、k-NN法による識別器を作成し、識別面を表示するコードを記述せよ。"
      ]
    },
    {
      "cell_type": "code",
      "metadata": {
        "id": "2KxG1mPq_dgV"
      },
      "source": [
        ""
      ],
      "execution_count": null,
      "outputs": []
    },
    {
      "cell_type": "markdown",
      "metadata": {
        "id": "1cJpZkBu1pdq"
      },
      "source": [
        "# 解答例"
      ]
    },
    {
      "cell_type": "markdown",
      "metadata": {
        "id": "onZKrVpW1rQt"
      },
      "source": [
        "例題4.3"
      ]
    },
    {
      "cell_type": "code",
      "metadata": {
        "id": "lMubLssN9Ifg"
      },
      "source": [
        "while flag:\n",
        "    flag = False\n",
        "    for (x, t) in zip(X2, y):\n",
        "        print(f'w = {w}')\n",
        "        g = x @ w\n",
        "        if t == 0 and g < 0:\n",
        "            w = w + roh * x\n",
        "            flag = True\n",
        "        elif t == 1 and g > 0:\n",
        "            w = w - roh * x\n",
        "            flag = True\n",
        "    print('-----') \n",
        "print(f'result: {w}')"
      ],
      "execution_count": null,
      "outputs": []
    },
    {
      "cell_type": "code",
      "metadata": {
        "id": "ZafzWavI9Il7"
      },
      "source": [
        "clf = Perceptron(eta0 = 0.1, random_state=3)\n",
        "clf.fit(X, y)\n",
        "plot_decision_regions(X=X, y=y, clf=clf, legend=2)"
      ],
      "execution_count": null,
      "outputs": []
    },
    {
      "cell_type": "markdown",
      "metadata": {
        "id": "Hzdeqmjt1pyA"
      },
      "source": [
        "例題4.5"
      ]
    },
    {
      "cell_type": "code",
      "metadata": {
        "id": "LiaQO4vj9-hf"
      },
      "source": [
        "mode_val, mode_num = mode(y[np.argsort(np.linalg.norm(X - x, axis=1))][:k])\n",
        "print(f'result = class{mode_val[0]}')"
      ],
      "execution_count": null,
      "outputs": []
    },
    {
      "cell_type": "code",
      "metadata": {
        "id": "7dxq5aXI9-nt"
      },
      "source": [
        "clf = KNeighborsClassifier(n_neighbors=1)\n",
        "clf.fit(X, y)\n",
        "plot_decision_regions(X=X, y=y, clf=clf, legend=2)"
      ],
      "execution_count": null,
      "outputs": []
    }
  ]
}