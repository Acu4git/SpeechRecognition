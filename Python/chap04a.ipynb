{
  "nbformat": 4,
  "nbformat_minor": 0,
  "metadata": {
    "colab": {
      "name": "chap04a.ipynb",
      "provenance": [],
      "collapsed_sections": []
    },
    "kernelspec": {
      "name": "python3",
      "display_name": "Python 3"
    },
    "language_info": {
      "name": "python"
    }
  },
  "cells": [
    {
      "cell_type": "markdown",
      "source": [
        "<a href=\"https://colab.research.google.com/github/MasahiroAraki/SpeechRecognition/blob/master/Python/chap04a.ipynb\" target=\"_parent\"><img src=\"https://colab.research.google.com/assets/colab-badge.svg\" alt=\"Open In Colab\"/></a>"
      ],
      "metadata": {
        "id": "Yhg4U3A6cZUy"
      }
    },
    {
      "cell_type": "markdown",
      "metadata": {
        "id": "1cJpZkBu1pdq"
      },
      "source": [
        "# 解答例"
      ]
    },
    {
      "cell_type": "markdown",
      "metadata": {
        "id": "onZKrVpW1rQt"
      },
      "source": [
        "例題4.3"
      ]
    },
    {
      "cell_type": "code",
      "source": [
        "%reset -f\n",
        "import numpy as np\n",
        "import matplotlib.pyplot as plt\n",
        "\n",
        "X = np.array([[1.0], [0.5], [-0.2], [-1.3]])\n",
        "y = np.array([0, 0, 1, 1])\n",
        "\n",
        "plt.figure(figsize=(8,2))\n",
        "plt.yticks(color=\"None\")\n",
        "plt.axhline(y=0, linewidth=1, c='black')\n",
        "plt.scatter(X[y==0], np.zeros(len(X[y==0])), c='blue', marker='s', label='class0')\n",
        "plt.scatter(X[y==1], np.zeros(len(X[y==1])), c='red', marker='^', label='class1')\n",
        "plt.legend(loc='upper right')\n",
        "roh = 0.5                 # 学習係数\n",
        "w = np.array([0.2, 0.3])  # 重みの初期値\n",
        "flag = True               # 学習終了判定用フラグ\n",
        "(n, d) = X.shape\n",
        "X2 = np.hstack([np.ones((n, 1)), X])  # 特徴ベクトルをd+1次元に拡張\n",
        "print(X2)"
      ],
      "metadata": {
        "colab": {
          "base_uri": "https://localhost:8080/",
          "height": 229
        },
        "id": "kt35XgVJVwEP",
        "outputId": "f002cedc-8fe2-4f00-c6a8-4ed79119fdcb"
      },
      "execution_count": null,
      "outputs": [
        {
          "output_type": "stream",
          "name": "stdout",
          "text": [
            "[[ 1.   1. ]\n",
            " [ 1.   0.5]\n",
            " [ 1.  -0.2]\n",
            " [ 1.  -1.3]]\n"
          ]
        },
        {
          "output_type": "display_data",
          "data": {
            "text/plain": [
              "<Figure size 576x144 with 1 Axes>"
            ],
            "image/png": "[encoded data removed]"
          },
          "metadata": {
            "needs_background": "light"
          }
        }
      ]
    },
    {
      "cell_type": "code",
      "metadata": {
        "id": "lMubLssN9Ifg",
        "colab": {
          "base_uri": "https://localhost:8080/"
        },
        "outputId": "d2137bab-9980-4e19-fc8c-a737faa70501"
      },
      "source": [
        "while flag:\n",
        "    flag = False\n",
        "    for (x, t) in zip(X2, y):\n",
        "        print(f'w = {w}')\n",
        "        g = x @ w\n",
        "        if t == 0 and g < 0:\n",
        "            w = w + roh * x\n",
        "            flag = True\n",
        "        elif t == 1 and g > 0:\n",
        "            w = w - roh * x\n",
        "            flag = True\n",
        "    print('-----') \n",
        "print(f'result: {w}')"
      ],
      "execution_count": null,
      "outputs": [
        {
          "output_type": "stream",
          "name": "stdout",
          "text": [
            "w = [0.2 0.3]\n",
            "w = [0.2 0.3]\n",
            "w = [0.2 0.3]\n",
            "w = [-0.3  0.4]\n",
            "-----\n",
            "w = [-0.3  0.4]\n",
            "w = [-0.3  0.4]\n",
            "w = [0.2  0.65]\n",
            "w = [-0.3   0.75]\n",
            "-----\n",
            "w = [-0.3   0.75]\n",
            "w = [-0.3   0.75]\n",
            "w = [-0.3   0.75]\n",
            "w = [-0.3   0.75]\n",
            "-----\n",
            "result: [-0.3   0.75]\n"
          ]
        }
      ]
    },
    {
      "cell_type": "code",
      "source": [
        "from sklearn.datasets import make_classification\n",
        "from sklearn.linear_model import Perceptron\n",
        "from mlxtend.plotting import plot_decision_regions\n",
        "\n",
        "# 特徴ベクトルは2次元、冗長な次元なし、クラス毎のクラスタの数1\n",
        "X, y = make_classification(n_features=2, n_redundant=0, n_clusters_per_class=1, random_state=8)\n",
        "plt.scatter(X[:,0][y==0], X[:,1][y==0], c='blue', marker='s', label='class0')\n",
        "plt.scatter(X[:,0][y==1], X[:,1][y==1], c='red', marker='^', label='class1')\n",
        "plt.legend(loc='upper left')"
      ],
      "metadata": {
        "colab": {
          "base_uri": "https://localhost:8080/",
          "height": 283
        },
        "id": "QZ1EdiEfWAEz",
        "outputId": "28444ffe-0d44-4667-88cd-1512fc0adef8"
      },
      "execution_count": null,
      "outputs": [
        {
          "output_type": "execute_result",
          "data": {
            "text/plain": [
              "<matplotlib.legend.Legend at 0x7f5b4eb87750>"
            ]
          },
          "metadata": {},
          "execution_count": 3
        },
        {
          "output_type": "display_data",
          "data": {
            "text/plain": [
              "<Figure size 432x288 with 1 Axes>"
            ],
            "image/png": "[encoded data removed]"
          },
          "metadata": {
            "needs_background": "light"
          }
        }
      ]
    },
    {
      "cell_type": "code",
      "metadata": {
        "id": "ZafzWavI9Il7",
        "colab": {
          "base_uri": "https://localhost:8080/",
          "height": 339
        },
        "outputId": "0bf2a4ca-5fb4-4f90-d43d-7fdbb661a8d6"
      },
      "source": [
        "clf = Perceptron(eta0 = 0.1, random_state=3)\n",
        "clf.fit(X, y)\n",
        "plot_decision_regions(X=X, y=y, clf=clf, legend=2)"
      ],
      "execution_count": null,
      "outputs": [
        {
          "output_type": "stream",
          "name": "stderr",
          "text": [
            "/usr/local/lib/python3.7/dist-packages/mlxtend/plotting/decision_regions.py:244: MatplotlibDeprecationWarning: Passing unsupported keyword arguments to axis() will raise a TypeError in 3.3.\n",
            "  ax.axis(xmin=xx.min(), xmax=xx.max(), y_min=yy.min(), y_max=yy.max())\n"
          ]
        },
        {
          "output_type": "execute_result",
          "data": {
            "text/plain": [
              "<matplotlib.axes._subplots.AxesSubplot at 0x7f5b4ed863d0>"
            ]
          },
          "metadata": {},
          "execution_count": 4
        },
        {
          "output_type": "display_data",
          "data": {
            "text/plain": [
              "<Figure size 432x288 with 1 Axes>"
            ],
            "image/png": "[encoded data removed]"
          },
          "metadata": {
            "needs_background": "light"
          }
        }
      ]
    },
    {
      "cell_type": "markdown",
      "metadata": {
        "id": "Hzdeqmjt1pyA"
      },
      "source": [
        "例題4.5"
      ]
    },
    {
      "cell_type": "code",
      "source": [
        "import numpy as np\n",
        "from scipy.stats import mode\n",
        "import matplotlib.pyplot as plt\n",
        "\n",
        "X = np.array([[1,4], [2,3], [4,3], [5,4], [2,1], [3,2], [3,3], [4,1]])\n",
        "y = np.array([0, 0, 0, 0, 1, 1, 1, 1])\n",
        "plt.scatter(X[:,0][y==0], X[:,1][y==0], c='blue', marker='s', label='class0')\n",
        "plt.scatter(X[:,0][y==1], X[:,1][y==1], c='red', marker='^', label='class1')\n",
        "plt.legend(loc='lower left')\n",
        "k = 3\n",
        "x = np.array([3,4])"
      ],
      "metadata": {
        "colab": {
          "base_uri": "https://localhost:8080/",
          "height": 265
        },
        "id": "xahYnazQWDtj",
        "outputId": "210be758-a15a-4d9d-8ff6-e1f6dc023583"
      },
      "execution_count": null,
      "outputs": [
        {
          "output_type": "display_data",
          "data": {
            "text/plain": [
              "<Figure size 432x288 with 1 Axes>"
            ],
            "image/png": "[encoded data removed]"
          },
          "metadata": {
            "needs_background": "light"
          }
        }
      ]
    },
    {
      "cell_type": "code",
      "metadata": {
        "id": "LiaQO4vj9-hf",
        "colab": {
          "base_uri": "https://localhost:8080/"
        },
        "outputId": "ac1b554a-34e7-4a8d-831d-a97148e44477"
      },
      "source": [
        "mode_val, mode_num = mode(y[np.argsort(np.linalg.norm(X - x, axis=1))][:k])\n",
        "print(f'result = class{mode_val[0]}')"
      ],
      "execution_count": null,
      "outputs": [
        {
          "output_type": "stream",
          "name": "stdout",
          "text": [
            "result = class0\n"
          ]
        }
      ]
    },
    {
      "cell_type": "code",
      "source": [
        "from sklearn.datasets import make_classification\n",
        "from sklearn.neighbors import KNeighborsClassifier\n",
        "from mlxtend.plotting import plot_decision_regions\n",
        "\n",
        "X, y = make_classification(n_features=2, n_redundant=0, n_clusters_per_class=1, random_state=5)\n",
        "plt.scatter(X[:,0][y==0], X[:,1][y==0], c='blue', marker='s', label='class0')\n",
        "plt.scatter(X[:,0][y==1], X[:,1][y==1], c='red', marker='^', label='class1')\n",
        "plt.legend(loc='upper left')"
      ],
      "metadata": {
        "colab": {
          "base_uri": "https://localhost:8080/",
          "height": 283
        },
        "id": "Xu0jHk_mWPjZ",
        "outputId": "dfb88630-f88b-44c6-a591-d55c606f9078"
      },
      "execution_count": null,
      "outputs": [
        {
          "output_type": "execute_result",
          "data": {
            "text/plain": [
              "<matplotlib.legend.Legend at 0x7f5b4bdde6d0>"
            ]
          },
          "metadata": {},
          "execution_count": 7
        },
        {
          "output_type": "display_data",
          "data": {
            "text/plain": [
              "<Figure size 432x288 with 1 Axes>"
            ],
            "image/png": "[encoded data removed]"
          },
          "metadata": {
            "needs_background": "light"
          }
        }
      ]
    },
    {
      "cell_type": "code",
      "metadata": {
        "id": "7dxq5aXI9-nt",
        "colab": {
          "base_uri": "https://localhost:8080/",
          "height": 342
        },
        "outputId": "fed7f653-dd7c-46ae-9cea-a79bdb87fbbe"
      },
      "source": [
        "clf = KNeighborsClassifier(n_neighbors=1)\n",
        "clf.fit(X, y)\n",
        "plot_decision_regions(X=X, y=y, clf=clf, legend=2)"
      ],
      "execution_count": null,
      "outputs": [
        {
          "output_type": "stream",
          "name": "stderr",
          "text": [
            "/usr/local/lib/python3.7/dist-packages/mlxtend/plotting/decision_regions.py:244: MatplotlibDeprecationWarning: Passing unsupported keyword arguments to axis() will raise a TypeError in 3.3.\n",
            "  ax.axis(xmin=xx.min(), xmax=xx.max(), y_min=yy.min(), y_max=yy.max())\n"
          ]
        },
        {
          "output_type": "execute_result",
          "data": {
            "text/plain": [
              "<matplotlib.axes._subplots.AxesSubplot at 0x7f5b4bde8550>"
            ]
          },
          "metadata": {},
          "execution_count": 8
        },
        {
          "output_type": "display_data",
          "data": {
            "text/plain": [
              "<Figure size 432x288 with 1 Axes>"
            ],
            "image/png": "[encoded data removed]"
          },
          "metadata": {
            "needs_background": "light"
          }
        }
      ]
    }
  ]
}