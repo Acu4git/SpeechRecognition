{
  "nbformat": 4,
  "nbformat_minor": 0,
  "metadata": {
    "colab": {
      "name": "chap05.ipynb",
      "provenance": [],
      "collapsed_sections": []
    },
    "kernelspec": {
      "name": "python3",
      "display_name": "Python 3"
    },
    "language_info": {
      "name": "python"
    }
  },
  "cells": [
    {
      "cell_type": "markdown",
      "metadata": {
        "id": "dNGRugaooWTh"
      },
      "source": [
        "<a href=\"https://colab.research.google.com/github/MasahiroAraki/SpeechRecognition/blob/master/Python/chap05.ipynb\" target=\"_parent\"><img src=\"https://colab.research.google.com/assets/colab-badge.svg\" alt=\"Open In Colab\"/></a>"
      ]
    },
    {
      "cell_type": "markdown",
      "source": [
        "# 5章"
      ],
      "metadata": {
        "id": "d5Ob1tBIXDVL"
      }
    },
    {
      "cell_type": "code",
      "metadata": {
        "id": "KJoW36KgG77M",
        "outputId": "792dc04a-b655-446b-e222-c1a5724471f2",
        "colab": {
          "base_uri": "https://localhost:8080/"
        }
      },
      "source": [
        "# mlxtendパッケージを最新(0.20.0)に更新\n",
        "!pip install -U mlxtend"
      ],
      "execution_count": 1,
      "outputs": [
        {
          "output_type": "stream",
          "name": "stdout",
          "text": [
            "Looking in indexes: https://pypi.org/simple, https://us-python.pkg.dev/colab-wheels/public/simple/\n",
            "Requirement already satisfied: mlxtend in /usr/local/lib/python3.7/dist-packages (0.14.0)\n",
            "Collecting mlxtend\n",
            "  Downloading mlxtend-0.20.0-py2.py3-none-any.whl (1.3 MB)\n",
            "\u001b[K     |████████████████████████████████| 1.3 MB 12.6 MB/s \n",
            "\u001b[?25hRequirement already satisfied: pandas>=0.24.2 in /usr/local/lib/python3.7/dist-packages (from mlxtend) (1.3.5)\n",
            "Requirement already satisfied: matplotlib>=3.0.0 in /usr/local/lib/python3.7/dist-packages (from mlxtend) (3.2.2)\n",
            "Requirement already satisfied: scipy>=1.2.1 in /usr/local/lib/python3.7/dist-packages (from mlxtend) (1.4.1)\n",
            "Requirement already satisfied: setuptools in /usr/local/lib/python3.7/dist-packages (from mlxtend) (57.4.0)\n",
            "Requirement already satisfied: joblib>=0.13.2 in /usr/local/lib/python3.7/dist-packages (from mlxtend) (1.1.0)\n",
            "Requirement already satisfied: numpy>=1.16.2 in /usr/local/lib/python3.7/dist-packages (from mlxtend) (1.21.6)\n",
            "Requirement already satisfied: scikit-learn>=1.0.2 in /usr/local/lib/python3.7/dist-packages (from mlxtend) (1.0.2)\n",
            "Requirement already satisfied: python-dateutil>=2.1 in /usr/local/lib/python3.7/dist-packages (from matplotlib>=3.0.0->mlxtend) (2.8.2)\n",
            "Requirement already satisfied: kiwisolver>=1.0.1 in /usr/local/lib/python3.7/dist-packages (from matplotlib>=3.0.0->mlxtend) (1.4.2)\n",
            "Requirement already satisfied: cycler>=0.10 in /usr/local/lib/python3.7/dist-packages (from matplotlib>=3.0.0->mlxtend) (0.11.0)\n",
            "Requirement already satisfied: pyparsing!=2.0.4,!=2.1.2,!=2.1.6,>=2.0.1 in /usr/local/lib/python3.7/dist-packages (from matplotlib>=3.0.0->mlxtend) (3.0.9)\n",
            "Requirement already satisfied: typing-extensions in /usr/local/lib/python3.7/dist-packages (from kiwisolver>=1.0.1->matplotlib>=3.0.0->mlxtend) (4.2.0)\n",
            "Requirement already satisfied: pytz>=2017.3 in /usr/local/lib/python3.7/dist-packages (from pandas>=0.24.2->mlxtend) (2022.1)\n",
            "Requirement already satisfied: six>=1.5 in /usr/local/lib/python3.7/dist-packages (from python-dateutil>=2.1->matplotlib>=3.0.0->mlxtend) (1.15.0)\n",
            "Requirement already satisfied: threadpoolctl>=2.0.0 in /usr/local/lib/python3.7/dist-packages (from scikit-learn>=1.0.2->mlxtend) (3.1.0)\n",
            "Installing collected packages: mlxtend\n",
            "  Attempting uninstall: mlxtend\n",
            "    Found existing installation: mlxtend 0.14.0\n",
            "    Uninstalling mlxtend-0.14.0:\n",
            "      Successfully uninstalled mlxtend-0.14.0\n",
            "Successfully installed mlxtend-0.20.0\n"
          ]
        }
      ]
    },
    {
      "cell_type": "markdown",
      "metadata": {
        "id": "4EuxkmpjLdXY"
      },
      "source": [
        "## 例題5.1\n",
        "\n",
        "最小二乗法の解析的手法をPythonでコーディングせよ。ただし、教科書の例題から教師信号を下記コードのように変更（クラス1が1、クラス2が-1）して実行するので、求まる重みは異なる。"
      ]
    },
    {
      "cell_type": "markdown",
      "metadata": {
        "id": "9tQZcFL94ipi"
      },
      "source": [
        "使用する関数\n",
        "\n",
        "[numpy.linalg.inv](https://numpy.org/doc/stable/reference/generated/numpy.linalg.inv.html) 逆行列を求める"
      ]
    },
    {
      "cell_type": "markdown",
      "metadata": {
        "id": "iTON6qy7fn7E"
      },
      "source": [
        "データの準備と表示"
      ]
    },
    {
      "cell_type": "code",
      "metadata": {
        "colab": {
          "base_uri": "https://localhost:8080/",
          "height": 157
        },
        "id": "noZlYto46ReE",
        "outputId": "158670cf-1609-4388-c751-d8640bb500b5"
      },
      "source": [
        "import numpy as np\n",
        "import matplotlib.pyplot as plt\n",
        "\n",
        "X = np.array([[1.0], [0.5], [-0.2], [-0.4], [-1.3], [-2.0]])\n",
        "y = np.array([1, 1, -1, 1, -1, -1])\n",
        "\n",
        "plt.figure(figsize=(8,2))\n",
        "plt.yticks(color=\"None\")\n",
        "plt.axhline(y=0, linewidth=1, c='black')\n",
        "plt.scatter(X[y==1], np.zeros(len(X[y==1])), c='red', marker='^', label='class1')\n",
        "plt.scatter(X[y==-1], np.zeros(len(X[y==-1])), c='blue', marker='s', label='class2')\n",
        "plt.legend(loc='upper right')\n",
        "\n",
        "(n, d) = X.shape\n",
        "X2 = np.concatenate((np.ones((n, 1)), X), axis=1)"
      ],
      "execution_count": 2,
      "outputs": [
        {
          "output_type": "display_data",
          "data": {
            "text/plain": [
              "<Figure size 576x144 with 1 Axes>"
            ],
            "image/png": "[encoded data removed]"
          },
          "metadata": {
            "needs_background": "light"
          }
        }
      ]
    },
    {
      "cell_type": "markdown",
      "metadata": {
        "id": "w5uuLWGtbx4z"
      },
      "source": [
        "学習の設定"
      ]
    },
    {
      "cell_type": "code",
      "metadata": {
        "colab": {
          "base_uri": "https://localhost:8080/"
        },
        "id": "eEmY6OJ96T78",
        "outputId": "c02340ae-5797-48a4-e43f-a27509b79088"
      },
      "source": [
        "(n, d) = X.shape\n",
        "X2 = np.concatenate((np.ones((n, 1)), X), axis=1)\n",
        "print(X2)"
      ],
      "execution_count": 3,
      "outputs": [
        {
          "output_type": "stream",
          "name": "stdout",
          "text": [
            "[[ 1.   1. ]\n",
            " [ 1.   0.5]\n",
            " [ 1.  -0.2]\n",
            " [ 1.  -0.4]\n",
            " [ 1.  -1.3]\n",
            " [ 1.  -2. ]]\n"
          ]
        }
      ]
    },
    {
      "cell_type": "markdown",
      "metadata": {
        "id": "rqjowi-ggNIw"
      },
      "source": [
        "解析的手法による解法のコードを記述せよ。"
      ]
    },
    {
      "cell_type": "code",
      "metadata": {
        "id": "ODU8bopM6XyT"
      },
      "source": [
        ""
      ],
      "execution_count": null,
      "outputs": []
    },
    {
      "cell_type": "markdown",
      "metadata": {
        "id": "vj9iL2dY4ipl"
      },
      "source": [
        "[numpy.linalg.lstsq](https://numpy.org/doc/stable/reference/generated/numpy.linalg.lstsq.html) 最小二乗法を実行する関数を用いた別解を記述せよ。"
      ]
    },
    {
      "cell_type": "code",
      "metadata": {
        "id": "ZNQ6cbSc6YW0"
      },
      "source": [
        ""
      ],
      "execution_count": null,
      "outputs": []
    },
    {
      "cell_type": "markdown",
      "metadata": {
        "id": "3uNCdHcAOxCX"
      },
      "source": [
        "## 例題5.3\n",
        "\n",
        "Widrow-Hoffの学習規則を Python でコーディングせよ．"
      ]
    },
    {
      "cell_type": "markdown",
      "metadata": {
        "id": "tDA_yQ804ipm"
      },
      "source": [
        "使用する関数\n",
        "\n",
        "[numpy.sum](https://numpy.org/doc/stable/reference/generated/numpy.sum.html) 要素の和\n",
        "\n",
        "[numpy.abs](https://numpy.org/doc/stable/reference/generated/numpy.absolute.html) 絶対値"
      ]
    },
    {
      "cell_type": "markdown",
      "metadata": {
        "id": "uzS-V4e3gXhH"
      },
      "source": [
        "データの準備と表示"
      ]
    },
    {
      "cell_type": "code",
      "metadata": {
        "colab": {
          "base_uri": "https://localhost:8080/",
          "height": 157
        },
        "id": "fPKnLQLA6ZXt",
        "outputId": "08839506-e48d-4fa1-9a3e-c11ab9827f7d"
      },
      "source": [
        "import numpy as np\n",
        "import matplotlib.pyplot as plt\n",
        "\n",
        "X = np.array([[1.0], [0.5], [-0.2], [-0.4], [-1.3], [-2.0]])\n",
        "y = np.array([1, 1, -1, 1, -1, -1])\n",
        "\n",
        "plt.figure(figsize=(8,2))\n",
        "plt.yticks(color=\"None\")\n",
        "plt.axhline(y=0, linewidth=1, c='black')\n",
        "plt.scatter(X[y==1], np.zeros(len(X[y==1])), c='red', marker='^', label='class1')\n",
        "plt.scatter(X[y==-1], np.zeros(len(X[y==-1])), c='blue', marker='s', label='class2')\n",
        "plt.legend(loc='upper right')\n",
        "\n",
        "(n, d) = X.shape\n",
        "X2 = np.concatenate((np.ones((n, 1)), X), axis=1)"
      ],
      "execution_count": 4,
      "outputs": [
        {
          "output_type": "display_data",
          "data": {
            "text/plain": [
              "<Figure size 576x144 with 1 Axes>"
            ],
            "image/png": "[encoded data removed]"
          },
          "metadata": {
            "needs_background": "light"
          }
        }
      ]
    },
    {
      "cell_type": "markdown",
      "metadata": {
        "id": "Vr4DkizBgl4O"
      },
      "source": [
        "学習の設定"
      ]
    },
    {
      "cell_type": "code",
      "metadata": {
        "colab": {
          "base_uri": "https://localhost:8080/"
        },
        "id": "eBo2_Ywt6coj",
        "outputId": "20b98189-c58b-4de5-bf38-99cf9a344e89"
      },
      "source": [
        "eps = 1e-8\n",
        "differ = np.inf\n",
        "olderr = np.inf\n",
        "w = np.array([0.2, 0.3])\n",
        "rho = 0.2\n",
        "(n, d) = X.shape\n",
        "X2 = np.concatenate((np.ones((n, 1)), X), axis=1)\n",
        "print(X2)"
      ],
      "execution_count": 5,
      "outputs": [
        {
          "output_type": "stream",
          "name": "stdout",
          "text": [
            "[[ 1.   1. ]\n",
            " [ 1.   0.5]\n",
            " [ 1.  -0.2]\n",
            " [ 1.  -0.4]\n",
            " [ 1.  -1.3]\n",
            " [ 1.  -2. ]]\n"
          ]
        }
      ]
    },
    {
      "cell_type": "markdown",
      "metadata": {
        "id": "h3OlcO8Y4ipn"
      },
      "source": [
        "Widrow-Hoffの学習規則を記述せよ。"
      ]
    },
    {
      "cell_type": "code",
      "metadata": {
        "id": "4z21c2it6ei-"
      },
      "source": [
        ""
      ],
      "execution_count": null,
      "outputs": []
    },
    {
      "cell_type": "markdown",
      "metadata": {
        "id": "X8mYdwOCSImO"
      },
      "source": [
        "### 機械学習ライブラリ scikit-learn を利用した勾配降下法のコード\n",
        "\n",
        "乱数で生成した線形分離不可能な2クラスのデータに対して、勾配降下法 [SGDClassifier](https://scikit-learn.org/stable/modules/generated/sklearn.linear_model.SGDClassifier.html)を用いて二乗誤差最小の識別面を求め、mlxtendによって識別面を表示せよ。"
      ]
    },
    {
      "cell_type": "code",
      "metadata": {
        "colab": {
          "base_uri": "https://localhost:8080/",
          "height": 283
        },
        "id": "dsjMRCRm6g57",
        "outputId": "784e3e01-d40e-4c61-bbea-8c03afde6521"
      },
      "source": [
        "from sklearn.datasets import make_classification\n",
        "from sklearn.linear_model import SGDClassifier\n",
        "from mlxtend.plotting import plot_decision_regions\n",
        "import matplotlib.pyplot as plt\n",
        "\n",
        "X, y = make_classification(n_features=2, n_redundant=0, n_clusters_per_class=1, random_state=2)\n",
        "plt.scatter(X[:, 0], X[:, 1], marker='o', c=y)"
      ],
      "execution_count": null,
      "outputs": [
        {
          "output_type": "execute_result",
          "data": {
            "text/plain": [
              "<matplotlib.collections.PathCollection at 0x7f7d58cca850>"
            ]
          },
          "metadata": {},
          "execution_count": 6
        },
        {
          "output_type": "display_data",
          "data": {
            "text/plain": [
              "<Figure size 432x288 with 1 Axes>"
            ],
            "image/png": "[encoded data removed]"
          },
          "metadata": {
            "needs_background": "light"
          }
        }
      ]
    },
    {
      "cell_type": "markdown",
      "metadata": {
        "id": "F_IKhy6z5Pml"
      },
      "source": [
        "SGDClassifierの学習と識別面の表示を行うコードを記述せよ。"
      ]
    },
    {
      "cell_type": "code",
      "metadata": {
        "id": "knbI11-B6i6c"
      },
      "source": [
        ""
      ],
      "execution_count": null,
      "outputs": []
    }
  ]
}