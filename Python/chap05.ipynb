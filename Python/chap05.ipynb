{
  "nbformat": 4,
  "nbformat_minor": 0,
  "metadata": {
    "colab": {
      "name": "chap05.ipynb",
      "provenance": [],
      "collapsed_sections": []
    },
    "kernelspec": {
      "name": "python3",
      "display_name": "Python 3"
    },
    "language_info": {
      "name": "python"
    }
  },
  "cells": [
    {
      "cell_type": "markdown",
      "metadata": {
        "id": "dNGRugaooWTh"
      },
      "source": [
        "<a href=\"https://colab.research.google.com/github/MasahiroAraki/SpeechRecognition/blob/master/Python/chap05.ipynb\" target=\"_parent\"><img src=\"https://colab.research.google.com/assets/colab-badge.svg\" alt=\"Open In Colab\"/></a>"
      ]
    },
    {
      "cell_type": "code",
      "metadata": {
        "id": "KJoW36KgG77M"
      },
      "source": [
        "# mlxtendパッケージを最新(0.19.0)に更新して再起動\n",
        "!pip install -U mlxtend"
      ],
      "execution_count": null,
      "outputs": []
    },
    {
      "cell_type": "markdown",
      "metadata": {
        "id": "4EuxkmpjLdXY"
      },
      "source": [
        "## 例題5.1\n",
        "\n",
        "最小二乗法の解析的手法をPythonでコーディングせよ．"
      ]
    },
    {
      "cell_type": "markdown",
      "metadata": {
        "id": "9tQZcFL94ipi"
      },
      "source": [
        "使用する関数\n",
        "\n",
        "[numpy.linalg.inv](https://numpy.org/doc/stable/reference/generated/numpy.linalg.inv.html) 逆行列を求める"
      ]
    },
    {
      "cell_type": "markdown",
      "metadata": {
        "id": "iTON6qy7fn7E"
      },
      "source": [
        "データの準備と表示"
      ]
    },
    {
      "cell_type": "code",
      "metadata": {
        "colab": {
          "base_uri": "https://localhost:8080/",
          "height": 283
        },
        "id": "noZlYto46ReE",
        "outputId": "09860fe2-ff15-47f5-9639-b579a2bcc62b"
      },
      "source": [
        "import numpy as np\n",
        "import matplotlib.pyplot as plt\n",
        "\n",
        "X = np.array([[1.0], [0.5], [-0.2], [-0.4], [-1.3], [-2.0]])\n",
        "y = np.array([1, 1, 0, 1, 0, 0])\n",
        "plt.grid()\n",
        "plt.scatter(X[y==1], np.zeros(len(X[y==1])), c='blue', label='class1')\n",
        "plt.scatter(X[y==0], np.zeros(len(X[y==0])), c='red',  label='class2')\n",
        "plt.legend(loc='upper right')"
      ],
      "execution_count": 4,
      "outputs": [
        {
          "output_type": "execute_result",
          "data": {
            "text/plain": [
              "<matplotlib.legend.Legend at 0x7fee095018d0>"
            ]
          },
          "metadata": {},
          "execution_count": 4
        },
        {
          "output_type": "display_data",
          "data": {
            "image/png": "[encoded data removed]",
            "text/plain": [
              "<Figure size 432x288 with 1 Axes>"
            ]
          },
          "metadata": {
            "needs_background": "light"
          }
        }
      ]
    },
    {
      "cell_type": "markdown",
      "metadata": {
        "id": "w5uuLWGtbx4z"
      },
      "source": [
        "学習の設定"
      ]
    },
    {
      "cell_type": "code",
      "metadata": {
        "colab": {
          "base_uri": "https://localhost:8080/"
        },
        "id": "eEmY6OJ96T78",
        "outputId": "a89cb325-8d85-444f-b1eb-af73c362daa5"
      },
      "source": [
        "(n, d) = X.shape\n",
        "X2 = np.concatenate((np.ones((n, 1)), X), axis=1)\n",
        "print(X2)"
      ],
      "execution_count": 5,
      "outputs": [
        {
          "output_type": "stream",
          "name": "stdout",
          "text": [
            "[[ 1.   1. ]\n",
            " [ 1.   0.5]\n",
            " [ 1.  -0.2]\n",
            " [ 1.  -0.4]\n",
            " [ 1.  -1.3]\n",
            " [ 1.  -2. ]]\n"
          ]
        }
      ]
    },
    {
      "cell_type": "markdown",
      "metadata": {
        "id": "rqjowi-ggNIw"
      },
      "source": [
        "解析的手法による解法のコードを記述せよ。"
      ]
    },
    {
      "cell_type": "code",
      "metadata": {
        "id": "ODU8bopM6XyT"
      },
      "source": [
        ""
      ],
      "execution_count": 5,
      "outputs": []
    },
    {
      "cell_type": "markdown",
      "metadata": {
        "id": "vj9iL2dY4ipl"
      },
      "source": [
        "[numpy.linalg.lstsq](https://numpy.org/doc/stable/reference/generated/numpy.linalg.lstsq.html) 最小二乗法を実行する関数を用いた別解を記述せよ。"
      ]
    },
    {
      "cell_type": "code",
      "metadata": {
        "id": "ZNQ6cbSc6YW0"
      },
      "source": [
        ""
      ],
      "execution_count": 5,
      "outputs": []
    },
    {
      "cell_type": "markdown",
      "metadata": {
        "id": "3uNCdHcAOxCX"
      },
      "source": [
        "## 例題5.3\n",
        "\n",
        "Widrow-Hoffの学習規則を Python でコーディングせよ．"
      ]
    },
    {
      "cell_type": "markdown",
      "metadata": {
        "id": "tDA_yQ804ipm"
      },
      "source": [
        "使用する関数\n",
        "\n",
        "[numpy.sum](https://numpy.org/doc/stable/reference/generated/numpy.sum.html) 要素の和\n",
        "\n",
        "[numpy.abs](https://numpy.org/doc/stable/reference/generated/numpy.absolute.html) 絶対値"
      ]
    },
    {
      "cell_type": "markdown",
      "metadata": {
        "id": "uzS-V4e3gXhH"
      },
      "source": [
        "データの準備と表示"
      ]
    },
    {
      "cell_type": "code",
      "metadata": {
        "colab": {
          "base_uri": "https://localhost:8080/",
          "height": 283
        },
        "id": "fPKnLQLA6ZXt",
        "outputId": "ed11d3e7-4eb2-4c3e-e63f-ddd18947b1ba"
      },
      "source": [
        "import numpy as np\n",
        "import matplotlib.pyplot as plt\n",
        "\n",
        "X = np.array([[1.0], [0.5], [-0.2], [-0.4], [-1.3], [-2.0]])\n",
        "y = np.array([1, 1, 0, 1, 0, 0])\n",
        "plt.grid()\n",
        "plt.scatter(X[y==1], np.zeros(len(X[y==1])), c='blue', label='class1')\n",
        "plt.scatter(X[y==0], np.zeros(len(X[y==0])), c='red',  label='class2')\n",
        "plt.legend(loc='upper right')"
      ],
      "execution_count": 6,
      "outputs": [
        {
          "output_type": "execute_result",
          "data": {
            "text/plain": [
              "<matplotlib.legend.Legend at 0x7fee0900a750>"
            ]
          },
          "metadata": {},
          "execution_count": 6
        },
        {
          "output_type": "display_data",
          "data": {
            "image/png": "[encoded data removed]",
            "text/plain": [
              "<Figure size 432x288 with 1 Axes>"
            ]
          },
          "metadata": {
            "needs_background": "light"
          }
        }
      ]
    },
    {
      "cell_type": "markdown",
      "metadata": {
        "id": "Vr4DkizBgl4O"
      },
      "source": [
        "学習の設定"
      ]
    },
    {
      "cell_type": "code",
      "metadata": {
        "colab": {
          "base_uri": "https://localhost:8080/"
        },
        "id": "eBo2_Ywt6coj",
        "outputId": "64dcd699-e8ef-4775-d1f3-64b1ca13711b"
      },
      "source": [
        "eps = 1e-8\n",
        "differ = np.inf\n",
        "olderr = np.inf\n",
        "w = np.array([0.2, 0.3])\n",
        "rho = 0.2\n",
        "(n, d) = X.shape\n",
        "X2 = np.concatenate((np.ones((n, 1)), X), axis=1)\n",
        "print(X2)"
      ],
      "execution_count": 7,
      "outputs": [
        {
          "output_type": "stream",
          "name": "stdout",
          "text": [
            "[[ 1.   1. ]\n",
            " [ 1.   0.5]\n",
            " [ 1.  -0.2]\n",
            " [ 1.  -0.4]\n",
            " [ 1.  -1.3]\n",
            " [ 1.  -2. ]]\n"
          ]
        }
      ]
    },
    {
      "cell_type": "markdown",
      "metadata": {
        "id": "h3OlcO8Y4ipn"
      },
      "source": [
        "Widrow-Hoffの学習規則を記述せよ。"
      ]
    },
    {
      "cell_type": "code",
      "metadata": {
        "id": "4z21c2it6ei-"
      },
      "source": [
        ""
      ],
      "execution_count": 7,
      "outputs": []
    },
    {
      "cell_type": "markdown",
      "metadata": {
        "id": "X8mYdwOCSImO"
      },
      "source": [
        "### 機械学習ライブラリ scikit-learn を利用した最急降下法のコード\n",
        "\n",
        "乱数で生成した線形分離不可能な2クラスのデータに対して、再急降下法 [SGDClassifier](https://scikit-learn.org/stable/modules/generated/sklearn.linear_model.SGDClassifier.html)を用いて二乗誤差最小の識別面を求め、mlxtendによって識別面を表示せよ。"
      ]
    },
    {
      "cell_type": "code",
      "metadata": {
        "colab": {
          "base_uri": "https://localhost:8080/",
          "height": 283
        },
        "id": "dsjMRCRm6g57",
        "outputId": "f714584c-e77d-4268-ac36-f1eace342336"
      },
      "source": [
        "from sklearn.datasets import make_classification\n",
        "from sklearn.linear_model import SGDClassifier\n",
        "from mlxtend.plotting import plot_decision_regions\n",
        "import matplotlib.pyplot as plt\n",
        "\n",
        "X, y = make_classification(n_features=2, n_redundant=0, n_clusters_per_class=1, random_state=2)\n",
        "plt.scatter(X[:, 0], X[:, 1], marker='o', c=y)"
      ],
      "execution_count": 8,
      "outputs": [
        {
          "output_type": "execute_result",
          "data": {
            "text/plain": [
              "<matplotlib.collections.PathCollection at 0x7fedf8871750>"
            ]
          },
          "metadata": {},
          "execution_count": 8
        },
        {
          "output_type": "display_data",
          "data": {
            "image/png": "[encoded data removed]",
            "text/plain": [
              "<Figure size 432x288 with 1 Axes>"
            ]
          },
          "metadata": {
            "needs_background": "light"
          }
        }
      ]
    },
    {
      "cell_type": "markdown",
      "metadata": {
        "id": "F_IKhy6z5Pml"
      },
      "source": [
        "SGDClassifierの学習と識別面の表示を行うコードを記述せよ。"
      ]
    },
    {
      "cell_type": "code",
      "metadata": {
        "id": "knbI11-B6i6c"
      },
      "source": [
        ""
      ],
      "execution_count": null,
      "outputs": []
    },
    {
      "cell_type": "markdown",
      "metadata": {
        "id": "TH3cd0ba5Z0d"
      },
      "source": [
        "# 解答例"
      ]
    },
    {
      "cell_type": "markdown",
      "metadata": {
        "id": "GnRYK8M65aos"
      },
      "source": [
        "### 例題5.1"
      ]
    },
    {
      "cell_type": "code",
      "metadata": {
        "id": "NUnMHUyc6kh7"
      },
      "source": [
        "w = np.linalg.inv(X2.T @ X2) @ X2.T @ y\n",
        "print(f'result: {w}')"
      ],
      "execution_count": null,
      "outputs": []
    },
    {
      "cell_type": "code",
      "metadata": {
        "id": "biy0_9xV6knM"
      },
      "source": [
        "w2 = np.linalg.lstsq(X2, y, rcond=None)[0]  # rcond=Noneは警告を消すため\n",
        "print(f'result: {w2}')"
      ],
      "execution_count": null,
      "outputs": []
    },
    {
      "cell_type": "markdown",
      "metadata": {
        "id": "GshVprH-5j2t"
      },
      "source": [
        "### 例題5.3"
      ]
    },
    {
      "cell_type": "code",
      "metadata": {
        "id": "9eNxRa8R6nq8"
      },
      "source": [
        "while differ > eps:\n",
        "    g = X2 @ w - y\n",
        "    w = w - rho * np.sum(g * X2.T, axis=1)\n",
        "    sqrerr = 0.5 * np.sum(g**2)\n",
        "    differ = np.abs(olderr - sqrerr)\n",
        "    olderr = sqrerr\n",
        "    print(f'w = {w}')"
      ],
      "execution_count": null,
      "outputs": []
    },
    {
      "cell_type": "code",
      "metadata": {
        "id": "NAAlMKUa6nwH"
      },
      "source": [
        "clf = SGDClassifier(loss='squared_error', eta0=0.01, learning_rate=\"constant\", penalty=None)\n",
        "clf.fit(X, y)\n",
        "plot_decision_regions(X=X, y=y, clf=clf, legend=2)"
      ],
      "execution_count": null,
      "outputs": []
    }
  ]
}