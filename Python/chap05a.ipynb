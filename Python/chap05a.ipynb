{
  "nbformat": 4,
  "nbformat_minor": 0,
  "metadata": {
    "colab": {
      "name": "chap05a.ipynb",
      "provenance": [],
      "collapsed_sections": []
    },
    "kernelspec": {
      "name": "python3",
      "display_name": "Python 3"
    },
    "language_info": {
      "name": "python"
    }
  },
  "cells": [
    {
      "cell_type": "markdown",
      "metadata": {
        "id": "dNGRugaooWTh"
      },
      "source": [
        "<a href=\"https://colab.research.google.com/github/MasahiroAraki/SpeechRecognition/blob/master/Python/chap05a.ipynb\" target=\"_parent\"><img src=\"https://colab.research.google.com/assets/colab-badge.svg\" alt=\"Open In Colab\"/></a>"
      ]
    },
    {
      "cell_type": "markdown",
      "source": [
        "# 5章 解答例"
      ],
      "metadata": {
        "id": "kwgYmDaMW97D"
      }
    },
    {
      "cell_type": "code",
      "source": [
        "# mlxtendパッケージを最新(0.20.0)に更新\n",
        "!pip install -U mlxtend"
      ],
      "metadata": {
        "colab": {
          "base_uri": "https://localhost:8080/"
        },
        "id": "rTlOGvcWWYmj",
        "outputId": "c124fe54-8290-431b-cf4d-9892de8bbf32"
      },
      "execution_count": 1,
      "outputs": [
        {
          "output_type": "stream",
          "name": "stdout",
          "text": [
            "Looking in indexes: https://pypi.org/simple, https://us-python.pkg.dev/colab-wheels/public/simple/\n",
            "Requirement already satisfied: mlxtend in /usr/local/lib/python3.7/dist-packages (0.14.0)\n",
            "Collecting mlxtend\n",
            "  Downloading mlxtend-0.20.0-py2.py3-none-any.whl (1.3 MB)\n",
            "\u001b[K     |████████████████████████████████| 1.3 MB 15.3 MB/s \n",
            "\u001b[?25hRequirement already satisfied: setuptools in /usr/local/lib/python3.7/dist-packages (from mlxtend) (57.4.0)\n",
            "Requirement already satisfied: matplotlib>=3.0.0 in /usr/local/lib/python3.7/dist-packages (from mlxtend) (3.2.2)\n",
            "Requirement already satisfied: scipy>=1.2.1 in /usr/local/lib/python3.7/dist-packages (from mlxtend) (1.4.1)\n",
            "Requirement already satisfied: scikit-learn>=1.0.2 in /usr/local/lib/python3.7/dist-packages (from mlxtend) (1.0.2)\n",
            "Requirement already satisfied: pandas>=0.24.2 in /usr/local/lib/python3.7/dist-packages (from mlxtend) (1.3.5)\n",
            "Requirement already satisfied: joblib>=0.13.2 in /usr/local/lib/python3.7/dist-packages (from mlxtend) (1.1.0)\n",
            "Requirement already satisfied: numpy>=1.16.2 in /usr/local/lib/python3.7/dist-packages (from mlxtend) (1.21.6)\n",
            "Requirement already satisfied: python-dateutil>=2.1 in /usr/local/lib/python3.7/dist-packages (from matplotlib>=3.0.0->mlxtend) (2.8.2)\n",
            "Requirement already satisfied: pyparsing!=2.0.4,!=2.1.2,!=2.1.6,>=2.0.1 in /usr/local/lib/python3.7/dist-packages (from matplotlib>=3.0.0->mlxtend) (3.0.9)\n",
            "Requirement already satisfied: cycler>=0.10 in /usr/local/lib/python3.7/dist-packages (from matplotlib>=3.0.0->mlxtend) (0.11.0)\n",
            "Requirement already satisfied: kiwisolver>=1.0.1 in /usr/local/lib/python3.7/dist-packages (from matplotlib>=3.0.0->mlxtend) (1.4.2)\n",
            "Requirement already satisfied: typing-extensions in /usr/local/lib/python3.7/dist-packages (from kiwisolver>=1.0.1->matplotlib>=3.0.0->mlxtend) (4.2.0)\n",
            "Requirement already satisfied: pytz>=2017.3 in /usr/local/lib/python3.7/dist-packages (from pandas>=0.24.2->mlxtend) (2022.1)\n",
            "Requirement already satisfied: six>=1.5 in /usr/local/lib/python3.7/dist-packages (from python-dateutil>=2.1->matplotlib>=3.0.0->mlxtend) (1.15.0)\n",
            "Requirement already satisfied: threadpoolctl>=2.0.0 in /usr/local/lib/python3.7/dist-packages (from scikit-learn>=1.0.2->mlxtend) (3.1.0)\n",
            "Installing collected packages: mlxtend\n",
            "  Attempting uninstall: mlxtend\n",
            "    Found existing installation: mlxtend 0.14.0\n",
            "    Uninstalling mlxtend-0.14.0:\n",
            "      Successfully uninstalled mlxtend-0.14.0\n",
            "Successfully installed mlxtend-0.20.0\n"
          ]
        }
      ]
    },
    {
      "cell_type": "markdown",
      "metadata": {
        "id": "4EuxkmpjLdXY"
      },
      "source": [
        "## 例題5.1\n",
        "\n",
        "最小二乗法の解析的手法をPythonでコーディングせよ．ただし、教科書の例題から教師信号を下記コードのように変更（クラス1が1、クラス2が-1）して実行するので、求まる重みは異なる(p.65の注釈参照)。"
      ]
    },
    {
      "cell_type": "code",
      "metadata": {
        "colab": {
          "base_uri": "https://localhost:8080/",
          "height": 157
        },
        "id": "noZlYto46ReE",
        "outputId": "83f50439-281d-4811-84eb-968b91b92ee3"
      },
      "source": [
        "import numpy as np\n",
        "import matplotlib.pyplot as plt\n",
        "\n",
        "X = np.array([[1.0], [0.5], [-0.2], [-0.4], [-1.3], [-2.0]])\n",
        "y = np.array([1, 1, -1, 1, -1, -1])\n",
        "\n",
        "plt.figure(figsize=(8,2))\n",
        "plt.yticks(color=\"None\")\n",
        "plt.axhline(y=0, linewidth=1, c='black')\n",
        "plt.scatter(X[y==1], np.zeros(len(X[y==1])), c='red', marker='^', label='class1')\n",
        "plt.scatter(X[y==-1], np.zeros(len(X[y==-1])), c='blue', marker='s', label='class2')\n",
        "plt.legend(loc='upper right')\n",
        "\n",
        "(n, d) = X.shape\n",
        "X2 = np.concatenate((np.ones((n, 1)), X), axis=1)"
      ],
      "execution_count": 2,
      "outputs": [
        {
          "output_type": "display_data",
          "data": {
            "text/plain": [
              "<Figure size 576x144 with 1 Axes>"
            ],
            "image/png": "[encoded data removed]"
          },
          "metadata": {
            "needs_background": "light"
          }
        }
      ]
    },
    {
      "cell_type": "markdown",
      "metadata": {
        "id": "rqjowi-ggNIw"
      },
      "source": [
        "解析的手法による解法のコードを記述せよ。"
      ]
    },
    {
      "cell_type": "code",
      "metadata": {
        "colab": {
          "base_uri": "https://localhost:8080/"
        },
        "id": "eEmY6OJ96T78",
        "outputId": "9ab17c86-dff5-484e-e1cd-3c8ebf662906"
      },
      "source": [
        "w = np.linalg.inv(X2.T @ X2) @ X2.T @ y\n",
        "print(f'result: {w}')"
      ],
      "execution_count": 3,
      "outputs": [
        {
          "output_type": "stream",
          "name": "stdout",
          "text": [
            "result: [0.29773463 0.74433657]\n"
          ]
        }
      ]
    },
    {
      "cell_type": "markdown",
      "metadata": {
        "id": "vj9iL2dY4ipl"
      },
      "source": [
        "[numpy.linalg.lstsq](https://numpy.org/doc/stable/reference/generated/numpy.linalg.lstsq.html) 最小二乗法を実行する関数を用いた別解を記述せよ。"
      ]
    },
    {
      "cell_type": "code",
      "metadata": {
        "id": "ZNQ6cbSc6YW0",
        "colab": {
          "base_uri": "https://localhost:8080/"
        },
        "outputId": "fe0bf210-135e-4a77-b2fc-2055b9701dd9"
      },
      "source": [
        "w2 = np.linalg.lstsq(X2, y, rcond=None)[0]  # rcond=Noneは警告を消すため\n",
        "print(f'result: {w2}')"
      ],
      "execution_count": 4,
      "outputs": [
        {
          "output_type": "stream",
          "name": "stdout",
          "text": [
            "result: [0.29773463 0.74433657]\n"
          ]
        }
      ]
    },
    {
      "cell_type": "markdown",
      "source": [
        "w[0]+w[1]*x = 0 、すなわち -w[0]/w[1] = -0.4 という識別境界が得られた。"
      ],
      "metadata": {
        "id": "fooO0NwRrc_-"
      }
    },
    {
      "cell_type": "markdown",
      "metadata": {
        "id": "3uNCdHcAOxCX"
      },
      "source": [
        "## 例題5.3\n",
        "\n",
        "Widrow-Hoffの学習規則を Python でコーディングせよ．"
      ]
    },
    {
      "cell_type": "code",
      "metadata": {
        "colab": {
          "base_uri": "https://localhost:8080/",
          "height": 157
        },
        "id": "fPKnLQLA6ZXt",
        "outputId": "cd88f0da-83bc-4d50-9e62-9a8d85ce19e1"
      },
      "source": [
        "import numpy as np\n",
        "import matplotlib.pyplot as plt\n",
        "\n",
        "X = np.array([[1.0], [0.5], [-0.2], [-0.4], [-1.3], [-2.0]])\n",
        "y = np.array([1, 1, -1, 1, -1, -1])\n",
        "\n",
        "plt.figure(figsize=(8,2))\n",
        "plt.yticks(color=\"None\")\n",
        "plt.axhline(y=0, linewidth=1, c='black')\n",
        "plt.scatter(X[y==1], np.zeros(len(X[y==1])), c='red', marker='^', label='class1')\n",
        "plt.scatter(X[y==-1], np.zeros(len(X[y==-1])), c='blue', marker='s', label='class2')\n",
        "plt.legend(loc='upper right')\n",
        "\n",
        "(n, d) = X.shape\n",
        "X2 = np.concatenate((np.ones((n, 1)), X), axis=1)\n",
        "\n",
        "eps = 1e-8\n",
        "differ = np.inf\n",
        "olderr = np.inf\n",
        "w = np.array([0.2, 0.3])\n",
        "rho = 0.2\n",
        "(n, d) = X.shape\n",
        "X2 = np.concatenate((np.ones((n, 1)), X), axis=1)"
      ],
      "execution_count": 6,
      "outputs": [
        {
          "output_type": "display_data",
          "data": {
            "text/plain": [
              "<Figure size 576x144 with 1 Axes>"
            ],
            "image/png": "[encoded data removed]"
          },
          "metadata": {
            "needs_background": "light"
          }
        }
      ]
    },
    {
      "cell_type": "markdown",
      "metadata": {
        "id": "h3OlcO8Y4ipn"
      },
      "source": [
        "Widrow-Hoffの学習規則を記述せよ。"
      ]
    },
    {
      "cell_type": "code",
      "metadata": {
        "id": "4z21c2it6ei-",
        "colab": {
          "base_uri": "https://localhost:8080/"
        },
        "outputId": "8b61827a-9486-4c98-bb03-3f3601fcec5e"
      },
      "source": [
        "while differ > eps:\n",
        "    g = X2 @ w - y\n",
        "    w = w - rho * np.sum(g * X2.T, axis=1)\n",
        "    sqrerr = 0.5 * np.sum(g**2)\n",
        "    differ = np.abs(olderr - sqrerr)\n",
        "    olderr = sqrerr\n",
        "    print(f'w = {w}')"
      ],
      "execution_count": 7,
      "outputs": [
        {
          "output_type": "stream",
          "name": "stdout",
          "text": [
            "w = [0.104  0.8876]\n",
            "w = [0.405248  0.5900272]\n",
            "w = [0.20216346 0.8619874 ]\n",
            "w = [0.37332126 0.64810785]\n",
            "w = [0.23642752 0.82180404]\n",
            "w = [0.34718044 0.68175308]\n",
            "w = [0.25780539 0.79485629]\n",
            "w = [0.32996994 0.70354809]\n",
            "w = [0.2717091  0.77726699]\n",
            "w = [0.31874634 0.7177501 ]\n",
            "w = [0.28077078 0.7658012 ]\n",
            "w = [0.31143042 0.72700706]\n",
            "w = [0.2866773  0.75832758]\n",
            "w = [0.30666178 0.7330409 ]\n",
            "w = [0.29052728 0.75345615]\n",
            "w = [0.3035535  0.73697386]\n",
            "w = [0.29303675 0.75028086]\n",
            "w = [0.30152746 0.73953743]\n",
            "w = [0.29467247 0.74821116]\n",
            "w = [0.30020686 0.74120841]\n",
            "w = [0.29573866 0.74686209]\n",
            "w = [0.29934607 0.74229758]\n",
            "w = [0.29643363 0.74598275]\n",
            "w = [0.29878499 0.74300752]\n",
            "w = [0.29688661 0.74540958]\n",
            "w = [0.29841927 0.74347027]\n",
            "w = [0.29718188 0.74503597]\n",
            "w = [0.29818089 0.7437719 ]\n",
            "w = [0.29737434 0.74479245]\n",
            "w = [0.29802551 0.74396851]\n",
            "w = [0.29749978 0.74463372]\n",
            "w = [0.29792423 0.74409666]\n",
            "w = [0.29758155 0.74453026]\n",
            "w = [0.29785821 0.74418019]\n",
            "w = [0.29763485 0.74446282]\n",
            "w = [0.29781518 0.74423464]\n",
            "w = [0.29766959 0.74441886]\n",
            "w = [0.29778714 0.74427013]\n",
            "w = [0.29769224 0.74439021]\n",
            "w = [0.29776885 0.74429326]\n",
            "w = [0.297707   0.74437153]\n"
          ]
        }
      ]
    },
    {
      "cell_type": "markdown",
      "metadata": {
        "id": "X8mYdwOCSImO"
      },
      "source": [
        "### 機械学習ライブラリ scikit-learn を利用した勾配降下法のコード\n",
        "\n",
        "乱数で生成した線形分離不可能な2クラスのデータに対して、勾配降下法 [SGDClassifier](https://scikit-learn.org/stable/modules/generated/sklearn.linear_model.SGDClassifier.html)を用いて二乗誤差最小の識別面を求め、mlxtendによって識別面を表示せよ。"
      ]
    },
    {
      "cell_type": "code",
      "metadata": {
        "colab": {
          "base_uri": "https://localhost:8080/",
          "height": 283
        },
        "id": "dsjMRCRm6g57",
        "outputId": "9187ac13-3f0d-46f4-efb9-0c8df69a22ed"
      },
      "source": [
        "from sklearn.datasets import make_classification\n",
        "from sklearn.linear_model import SGDClassifier\n",
        "from mlxtend.plotting import plot_decision_regions\n",
        "import matplotlib.pyplot as plt\n",
        "\n",
        "X, y = make_classification(n_features=2, n_redundant=0, n_clusters_per_class=1, random_state=2)\n",
        "plt.scatter(X[:, 0], X[:, 1], marker='o', c=y)"
      ],
      "execution_count": 8,
      "outputs": [
        {
          "output_type": "execute_result",
          "data": {
            "text/plain": [
              "<matplotlib.collections.PathCollection at 0x7fb866819410>"
            ]
          },
          "metadata": {},
          "execution_count": 8
        },
        {
          "output_type": "display_data",
          "data": {
            "text/plain": [
              "<Figure size 432x288 with 1 Axes>"
            ],
            "image/png": "[encoded data removed]"
          },
          "metadata": {
            "needs_background": "light"
          }
        }
      ]
    },
    {
      "cell_type": "markdown",
      "metadata": {
        "id": "F_IKhy6z5Pml"
      },
      "source": [
        "SGDClassifierの学習と識別面の表示を行うコードを記述せよ。"
      ]
    },
    {
      "cell_type": "code",
      "metadata": {
        "id": "NAAlMKUa6nwH",
        "colab": {
          "base_uri": "https://localhost:8080/",
          "height": 283
        },
        "outputId": "b40b0907-48a1-4409-f3b4-8cc19dda9f29"
      },
      "source": [
        "clf = SGDClassifier(loss='squared_error', eta0=0.01, learning_rate=\"constant\", penalty=None)\n",
        "clf.fit(X, y)\n",
        "plot_decision_regions(X=X, y=y, clf=clf, legend=2)"
      ],
      "execution_count": 9,
      "outputs": [
        {
          "output_type": "execute_result",
          "data": {
            "text/plain": [
              "<matplotlib.axes._subplots.AxesSubplot at 0x7fb8667e24d0>"
            ]
          },
          "metadata": {},
          "execution_count": 9
        },
        {
          "output_type": "display_data",
          "data": {
            "text/plain": [
              "<Figure size 432x288 with 1 Axes>"
            ],
            "image/png": "[encoded data removed]"
          },
          "metadata": {
            "needs_background": "light"
          }
        }
      ]
    }
  ]
}