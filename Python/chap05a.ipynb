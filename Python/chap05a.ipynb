{
  "nbformat": 4,
  "nbformat_minor": 0,
  "metadata": {
    "colab": {
      "name": "chap05a.ipynb",
      "provenance": [],
      "collapsed_sections": []
    },
    "kernelspec": {
      "name": "python3",
      "display_name": "Python 3"
    },
    "language_info": {
      "name": "python"
    }
  },
  "cells": [
    {
      "cell_type": "markdown",
      "metadata": {
        "id": "dNGRugaooWTh"
      },
      "source": [
        "<a href=\"https://colab.research.google.com/github/MasahiroAraki/SpeechRecognition/blob/master/Python/chap05a.ipynb\" target=\"_parent\"><img src=\"https://colab.research.google.com/assets/colab-badge.svg\" alt=\"Open In Colab\"/></a>"
      ]
    },
    {
      "cell_type": "markdown",
      "source": [
        "# 5章 解答例"
      ],
      "metadata": {
        "id": "kwgYmDaMW97D"
      }
    },
    {
      "cell_type": "code",
      "source": [
        "# mlxtendパッケージを最新(0.20.0)に更新\n",
        "!pip install -U mlxtend"
      ],
      "metadata": {
        "colab": {
          "base_uri": "https://localhost:8080/"
        },
        "id": "rTlOGvcWWYmj",
        "outputId": "ef21d65b-289b-42a5-a852-8ad46830a9fc"
      },
      "execution_count": 1,
      "outputs": [
        {
          "output_type": "stream",
          "name": "stdout",
          "text": [
            "Looking in indexes: https://pypi.org/simple, https://us-python.pkg.dev/colab-wheels/public/simple/\n",
            "Requirement already satisfied: mlxtend in /usr/local/lib/python3.7/dist-packages (0.14.0)\n",
            "Collecting mlxtend\n",
            "  Downloading mlxtend-0.20.0-py2.py3-none-any.whl (1.3 MB)\n",
            "\u001b[K     |████████████████████████████████| 1.3 MB 5.6 MB/s \n",
            "\u001b[?25hRequirement already satisfied: scikit-learn>=1.0.2 in /usr/local/lib/python3.7/dist-packages (from mlxtend) (1.0.2)\n",
            "Requirement already satisfied: joblib>=0.13.2 in /usr/local/lib/python3.7/dist-packages (from mlxtend) (1.1.0)\n",
            "Requirement already satisfied: numpy>=1.16.2 in /usr/local/lib/python3.7/dist-packages (from mlxtend) (1.21.6)\n",
            "Requirement already satisfied: pandas>=0.24.2 in /usr/local/lib/python3.7/dist-packages (from mlxtend) (1.3.5)\n",
            "Requirement already satisfied: setuptools in /usr/local/lib/python3.7/dist-packages (from mlxtend) (57.4.0)\n",
            "Requirement already satisfied: scipy>=1.2.1 in /usr/local/lib/python3.7/dist-packages (from mlxtend) (1.4.1)\n",
            "Requirement already satisfied: matplotlib>=3.0.0 in /usr/local/lib/python3.7/dist-packages (from mlxtend) (3.2.2)\n",
            "Requirement already satisfied: python-dateutil>=2.1 in /usr/local/lib/python3.7/dist-packages (from matplotlib>=3.0.0->mlxtend) (2.8.2)\n",
            "Requirement already satisfied: pyparsing!=2.0.4,!=2.1.2,!=2.1.6,>=2.0.1 in /usr/local/lib/python3.7/dist-packages (from matplotlib>=3.0.0->mlxtend) (3.0.9)\n",
            "Requirement already satisfied: kiwisolver>=1.0.1 in /usr/local/lib/python3.7/dist-packages (from matplotlib>=3.0.0->mlxtend) (1.4.2)\n",
            "Requirement already satisfied: cycler>=0.10 in /usr/local/lib/python3.7/dist-packages (from matplotlib>=3.0.0->mlxtend) (0.11.0)\n",
            "Requirement already satisfied: typing-extensions in /usr/local/lib/python3.7/dist-packages (from kiwisolver>=1.0.1->matplotlib>=3.0.0->mlxtend) (4.2.0)\n",
            "Requirement already satisfied: pytz>=2017.3 in /usr/local/lib/python3.7/dist-packages (from pandas>=0.24.2->mlxtend) (2022.1)\n",
            "Requirement already satisfied: six>=1.5 in /usr/local/lib/python3.7/dist-packages (from python-dateutil>=2.1->matplotlib>=3.0.0->mlxtend) (1.15.0)\n",
            "Requirement already satisfied: threadpoolctl>=2.0.0 in /usr/local/lib/python3.7/dist-packages (from scikit-learn>=1.0.2->mlxtend) (3.1.0)\n",
            "Installing collected packages: mlxtend\n",
            "  Attempting uninstall: mlxtend\n",
            "    Found existing installation: mlxtend 0.14.0\n",
            "    Uninstalling mlxtend-0.14.0:\n",
            "      Successfully uninstalled mlxtend-0.14.0\n",
            "Successfully installed mlxtend-0.20.0\n"
          ]
        }
      ]
    },
    {
      "cell_type": "markdown",
      "metadata": {
        "id": "4EuxkmpjLdXY"
      },
      "source": [
        "## 例題5.1\n",
        "\n",
        "最小二乗法の解析的手法をPythonでコーディングせよ．"
      ]
    },
    {
      "cell_type": "code",
      "metadata": {
        "colab": {
          "base_uri": "https://localhost:8080/",
          "height": 157
        },
        "id": "noZlYto46ReE",
        "outputId": "21dfceaa-fcad-4500-9194-b802359b1176"
      },
      "source": [
        "import numpy as np\n",
        "import matplotlib.pyplot as plt\n",
        "\n",
        "X = np.array([[1.0], [0.5], [-0.2], [-0.4], [-1.3], [-2.0]])\n",
        "y = np.array([1, 1, 0, 1, 0, 0])\n",
        "\n",
        "plt.figure(figsize=(8,2))\n",
        "plt.yticks(color=\"None\")\n",
        "plt.axhline(y=0, linewidth=1, c='black')\n",
        "plt.scatter(X[y==0], np.zeros(len(X[y==0])), c='blue', marker='s', label='class0')\n",
        "plt.scatter(X[y==1], np.zeros(len(X[y==1])), c='red', marker='^', label='class1')\n",
        "plt.legend(loc='upper right')\n",
        "\n",
        "(n, d) = X.shape\n",
        "X2 = np.concatenate((np.ones((n, 1)), X), axis=1)"
      ],
      "execution_count": 2,
      "outputs": [
        {
          "output_type": "display_data",
          "data": {
            "text/plain": [
              "<Figure size 576x144 with 1 Axes>"
            ],
            "image/png": "[encoded data removed]"
          },
          "metadata": {
            "needs_background": "light"
          }
        }
      ]
    },
    {
      "cell_type": "markdown",
      "metadata": {
        "id": "rqjowi-ggNIw"
      },
      "source": [
        "解析的手法による解法のコードを記述せよ。"
      ]
    },
    {
      "cell_type": "code",
      "metadata": {
        "colab": {
          "base_uri": "https://localhost:8080/"
        },
        "id": "eEmY6OJ96T78",
        "outputId": "0af85bc6-5987-40d6-c87e-048773026ecc"
      },
      "source": [
        "w = np.linalg.inv(X2.T @ X2) @ X2.T @ y\n",
        "print(f'result: {w}')"
      ],
      "execution_count": 3,
      "outputs": [
        {
          "output_type": "stream",
          "name": "stdout",
          "text": [
            "result: [0.64886731 0.37216828]\n"
          ]
        }
      ]
    },
    {
      "cell_type": "markdown",
      "metadata": {
        "id": "vj9iL2dY4ipl"
      },
      "source": [
        "[numpy.linalg.lstsq](https://numpy.org/doc/stable/reference/generated/numpy.linalg.lstsq.html) 最小二乗法を実行する関数を用いた別解を記述せよ。"
      ]
    },
    {
      "cell_type": "code",
      "metadata": {
        "id": "ZNQ6cbSc6YW0",
        "colab": {
          "base_uri": "https://localhost:8080/"
        },
        "outputId": "492da76b-bd77-4bae-d428-a9cbe77e1d07"
      },
      "source": [
        "w2 = np.linalg.lstsq(X2, y, rcond=None)[0]  # rcond=Noneは警告を消すため\n",
        "print(f'result: {w2}')"
      ],
      "execution_count": 4,
      "outputs": [
        {
          "output_type": "stream",
          "name": "stdout",
          "text": [
            "result: [0.64886731 0.37216828]\n"
          ]
        }
      ]
    },
    {
      "cell_type": "markdown",
      "metadata": {
        "id": "3uNCdHcAOxCX"
      },
      "source": [
        "## 例題5.3\n",
        "\n",
        "Widrow-Hoffの学習規則を Python でコーディングせよ．"
      ]
    },
    {
      "cell_type": "code",
      "metadata": {
        "colab": {
          "base_uri": "https://localhost:8080/",
          "height": 157
        },
        "id": "fPKnLQLA6ZXt",
        "outputId": "875a6853-880c-468f-b5e8-c11fd66335a3"
      },
      "source": [
        "import numpy as np\n",
        "import matplotlib.pyplot as plt\n",
        "\n",
        "X = np.array([[1.0], [0.5], [-0.2], [-0.4], [-1.3], [-2.0]])\n",
        "y = np.array([1, 1, 0, 1, 0, 0])\n",
        "\n",
        "plt.figure(figsize=(8,2))\n",
        "plt.yticks(color=\"None\")\n",
        "plt.axhline(y=0, linewidth=1, c='black')\n",
        "plt.scatter(X[y==0], np.zeros(len(X[y==0])), c='blue', marker='s', label='class0')\n",
        "plt.scatter(X[y==1], np.zeros(len(X[y==1])), c='red', marker='^', label='class1')\n",
        "plt.legend(loc='upper right')\n",
        "\n",
        "eps = 1e-8\n",
        "differ = np.inf\n",
        "olderr = np.inf\n",
        "w = np.array([0.2, 0.3])\n",
        "rho = 0.2\n",
        "(n, d) = X.shape\n",
        "X2 = np.concatenate((np.ones((n, 1)), X), axis=1)"
      ],
      "execution_count": 5,
      "outputs": [
        {
          "output_type": "display_data",
          "data": {
            "text/plain": [
              "<Figure size 576x144 with 1 Axes>"
            ],
            "image/png": "[encoded data removed]"
          },
          "metadata": {
            "needs_background": "light"
          }
        }
      ]
    },
    {
      "cell_type": "markdown",
      "metadata": {
        "id": "h3OlcO8Y4ipn"
      },
      "source": [
        "Widrow-Hoffの学習規則を記述せよ。"
      ]
    },
    {
      "cell_type": "code",
      "metadata": {
        "id": "4z21c2it6ei-",
        "colab": {
          "base_uri": "https://localhost:8080/"
        },
        "outputId": "a0d5e577-9364-49a7-e22b-2f2d019f4b47"
      },
      "source": [
        "while differ > eps:\n",
        "    g = X2 @ w - y\n",
        "    w = w - rho * np.sum(g * X2.T, axis=1)\n",
        "    sqrerr = 0.5 * np.sum(g**2)\n",
        "    differ = np.abs(olderr - sqrerr)\n",
        "    olderr = sqrerr\n",
        "    print(f'w = {w}')"
      ],
      "execution_count": 6,
      "outputs": [
        {
          "output_type": "stream",
          "name": "stdout",
          "text": [
            "w = [0.704  0.1876]\n",
            "w = [0.549248  0.4776272]\n",
            "w = [0.71941146 0.2792146 ]\n",
            "w = [0.59014072 0.44581365]\n",
            "w = [0.69596241 0.3124593 ]\n",
            "w = [0.61078798 0.42032938]\n",
            "w = [0.6796005  0.33327726]\n",
            "w = [0.62405298 0.40356557]\n",
            "w = [0.66890088 0.34681937]\n",
            "w = [0.63269312 0.39263373]\n",
            "w = [0.66192557 0.35564546]\n",
            "w = [0.63832471 0.38550802]\n",
            "w = [0.65737891 0.36139843]\n",
            "w = [0.64199546 0.38086335]\n",
            "w = [0.65441531 0.36514831]\n",
            "w = [0.64438813 0.37783587]\n",
            "w = [0.65248359 0.36759255]\n",
            "w = [0.6459477  0.37586252]\n",
            "w = [0.65122447 0.36918574]\n",
            "w = [0.64696426 0.37457625]\n",
            "w = [0.65040375 0.37022421]\n",
            "w = [0.64762687 0.37373784]\n",
            "w = [0.64986879 0.37090111]\n",
            "w = [0.64805877 0.37319134]\n",
            "w = [0.64952009 0.37134232]\n",
            "w = [0.64834029 0.37283513]\n",
            "w = [0.6492928 0.3716299]\n",
            "w = [0.64852379 0.37260295]\n",
            "w = [0.64914466 0.37181736]\n",
            "w = [0.6486434  0.37245161]\n",
            "w = [0.64904809 0.37193955]\n",
            "w = [0.64872136 0.37235296]\n",
            "w = [0.64898515 0.37201919]\n",
            "w = [0.64877218 0.37228866]\n",
            "w = [0.64894412 0.3720711 ]\n",
            "w = [0.6488053  0.37224675]\n",
            "w = [0.64891738 0.37210494]\n",
            "w = [0.6488269  0.37221943]\n",
            "w = [0.64889995 0.37212699]\n",
            "w = [0.64884097 0.37220162]\n"
          ]
        }
      ]
    },
    {
      "cell_type": "markdown",
      "metadata": {
        "id": "X8mYdwOCSImO"
      },
      "source": [
        "### 機械学習ライブラリ scikit-learn を利用した勾配降下法のコード\n",
        "\n",
        "乱数で生成した線形分離不可能な2クラスのデータに対して、勾配降下法 [SGDClassifier](https://scikit-learn.org/stable/modules/generated/sklearn.linear_model.SGDClassifier.html)を用いて二乗誤差最小の識別面を求め、mlxtendによって識別面を表示せよ。"
      ]
    },
    {
      "cell_type": "code",
      "metadata": {
        "colab": {
          "base_uri": "https://localhost:8080/",
          "height": 283
        },
        "id": "dsjMRCRm6g57",
        "outputId": "937dc5cf-5c3a-49d7-b14f-fbadc0dc7918"
      },
      "source": [
        "from sklearn.datasets import make_classification\n",
        "from sklearn.linear_model import SGDClassifier\n",
        "from mlxtend.plotting import plot_decision_regions\n",
        "import matplotlib.pyplot as plt\n",
        "\n",
        "X, y = make_classification(n_features=2, n_redundant=0, n_clusters_per_class=1, random_state=2)\n",
        "plt.scatter(X[:, 0], X[:, 1], marker='o', c=y)"
      ],
      "execution_count": 7,
      "outputs": [
        {
          "output_type": "execute_result",
          "data": {
            "text/plain": [
              "<matplotlib.collections.PathCollection at 0x7ff8af4df250>"
            ]
          },
          "metadata": {},
          "execution_count": 7
        },
        {
          "output_type": "display_data",
          "data": {
            "text/plain": [
              "<Figure size 432x288 with 1 Axes>"
            ],
            "image/png": "[encoded data removed]"
          },
          "metadata": {
            "needs_background": "light"
          }
        }
      ]
    },
    {
      "cell_type": "markdown",
      "metadata": {
        "id": "F_IKhy6z5Pml"
      },
      "source": [
        "SGDClassifierの学習と識別面の表示を行うコードを記述せよ。"
      ]
    },
    {
      "cell_type": "code",
      "metadata": {
        "id": "NAAlMKUa6nwH",
        "colab": {
          "base_uri": "https://localhost:8080/",
          "height": 283
        },
        "outputId": "c51a0dd0-8914-4339-d61e-b963b9bd1273"
      },
      "source": [
        "clf = SGDClassifier(loss='squared_error', eta0=0.01, learning_rate=\"constant\", penalty=None)\n",
        "clf.fit(X, y)\n",
        "plot_decision_regions(X=X, y=y, clf=clf, legend=2)"
      ],
      "execution_count": 8,
      "outputs": [
        {
          "output_type": "execute_result",
          "data": {
            "text/plain": [
              "<matplotlib.axes._subplots.AxesSubplot at 0x7ff8af40b590>"
            ]
          },
          "metadata": {},
          "execution_count": 8
        },
        {
          "output_type": "display_data",
          "data": {
            "text/plain": [
              "<Figure size 432x288 with 1 Axes>"
            ],
            "image/png": "[encoded data removed]"
          },
          "metadata": {
            "needs_background": "light"
          }
        }
      ]
    }
  ]
}