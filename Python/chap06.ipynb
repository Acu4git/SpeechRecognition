{
  "cells": [
    {
      "cell_type": "markdown",
      "metadata": {
        "id": "dNGRugaooWTh"
      },
      "source": [
        "<a href=\"https://colab.research.google.com/github/MasahiroAraki/SpeechRecognition/blob/master/Python/chap06.ipynb\" target=\"_parent\"><img src=\"https://colab.research.google.com/assets/colab-badge.svg\" alt=\"Open In Colab\"/></a>"
      ]
    },
    {
      "cell_type": "code",
      "execution_count": 1,
      "metadata": {
        "colab": {
          "base_uri": "https://localhost:8080/"
        },
        "id": "6rFiVAXrzanT",
        "outputId": "63ffc0d6-cc3e-44ec-f776-c4f65a32f2f3"
      },
      "outputs": [
        {
          "output_type": "stream",
          "name": "stdout",
          "text": [
            "Looking in indexes: https://pypi.org/simple, https://us-python.pkg.dev/colab-wheels/public/simple/\n",
            "Requirement already satisfied: mlxtend in /usr/local/lib/python3.7/dist-packages (0.14.0)\n",
            "Collecting mlxtend\n",
            "  Downloading mlxtend-0.20.0-py2.py3-none-any.whl (1.3 MB)\n",
            "\u001b[K     |████████████████████████████████| 1.3 MB 5.1 MB/s \n",
            "\u001b[?25hRequirement already satisfied: matplotlib>=3.0.0 in /usr/local/lib/python3.7/dist-packages (from mlxtend) (3.2.2)\n",
            "Requirement already satisfied: pandas>=0.24.2 in /usr/local/lib/python3.7/dist-packages (from mlxtend) (1.3.5)\n",
            "Requirement already satisfied: joblib>=0.13.2 in /usr/local/lib/python3.7/dist-packages (from mlxtend) (1.1.0)\n",
            "Requirement already satisfied: numpy>=1.16.2 in /usr/local/lib/python3.7/dist-packages (from mlxtend) (1.21.6)\n",
            "Requirement already satisfied: scikit-learn>=1.0.2 in /usr/local/lib/python3.7/dist-packages (from mlxtend) (1.0.2)\n",
            "Requirement already satisfied: setuptools in /usr/local/lib/python3.7/dist-packages (from mlxtend) (57.4.0)\n",
            "Requirement already satisfied: scipy>=1.2.1 in /usr/local/lib/python3.7/dist-packages (from mlxtend) (1.4.1)\n",
            "Requirement already satisfied: python-dateutil>=2.1 in /usr/local/lib/python3.7/dist-packages (from matplotlib>=3.0.0->mlxtend) (2.8.2)\n",
            "Requirement already satisfied: kiwisolver>=1.0.1 in /usr/local/lib/python3.7/dist-packages (from matplotlib>=3.0.0->mlxtend) (1.4.2)\n",
            "Requirement already satisfied: cycler>=0.10 in /usr/local/lib/python3.7/dist-packages (from matplotlib>=3.0.0->mlxtend) (0.11.0)\n",
            "Requirement already satisfied: pyparsing!=2.0.4,!=2.1.2,!=2.1.6,>=2.0.1 in /usr/local/lib/python3.7/dist-packages (from matplotlib>=3.0.0->mlxtend) (3.0.9)\n",
            "Requirement already satisfied: typing-extensions in /usr/local/lib/python3.7/dist-packages (from kiwisolver>=1.0.1->matplotlib>=3.0.0->mlxtend) (4.2.0)\n",
            "Requirement already satisfied: pytz>=2017.3 in /usr/local/lib/python3.7/dist-packages (from pandas>=0.24.2->mlxtend) (2022.1)\n",
            "Requirement already satisfied: six>=1.5 in /usr/local/lib/python3.7/dist-packages (from python-dateutil>=2.1->matplotlib>=3.0.0->mlxtend) (1.15.0)\n",
            "Requirement already satisfied: threadpoolctl>=2.0.0 in /usr/local/lib/python3.7/dist-packages (from scikit-learn>=1.0.2->mlxtend) (3.1.0)\n",
            "Installing collected packages: mlxtend\n",
            "  Attempting uninstall: mlxtend\n",
            "    Found existing installation: mlxtend 0.14.0\n",
            "    Uninstalling mlxtend-0.14.0:\n",
            "      Successfully uninstalled mlxtend-0.14.0\n",
            "Successfully installed mlxtend-0.20.0\n"
          ]
        }
      ],
      "source": [
        "!pip install -U mlxtend"
      ]
    },
    {
      "cell_type": "markdown",
      "metadata": {
        "id": "4EuxkmpjLdXY"
      },
      "source": [
        "## 例題6.1\n",
        "\n",
        "線形分離可能なデータに対するSVMの学習をscikit-learnの[SVC](https://scikit-learn.org/stable/modules/generated/sklearn.svm.SVC.html)でコーディングせよ．"
      ]
    },
    {
      "cell_type": "markdown",
      "metadata": {
        "id": "iTON6qy7fn7E"
      },
      "source": [
        "データの準備と表示\n",
        "\n",
        "クラス1,2それぞれに対応するSVM用の正解ラベルを1,-1とします。"
      ]
    },
    {
      "cell_type": "code",
      "execution_count": 4,
      "metadata": {
        "colab": {
          "base_uri": "https://localhost:8080/",
          "height": 283
        },
        "id": "_tPamDpQyLQD",
        "outputId": "34b4c11a-898c-4f52-cd64-19819552b61e"
      },
      "outputs": [
        {
          "output_type": "execute_result",
          "data": {
            "text/plain": [
              "<matplotlib.legend.Legend at 0x7f52aba763d0>"
            ]
          },
          "metadata": {},
          "execution_count": 4
        },
        {
          "output_type": "display_data",
          "data": {
            "text/plain": [
              "<Figure size 432x288 with 1 Axes>"
            ],
            "image/png": "[encoded data removed]"
          },
          "metadata": {
            "needs_background": "light"
          }
        }
      ],
      "source": [
        "import numpy as np\n",
        "import matplotlib.pyplot as plt\n",
        "from mlxtend.plotting import plot_decision_regions\n",
        "\n",
        "X = np.array([[1.0, 2.0], [1.0, 4.0], [2.0, 4.0], [2.0, 1.0], [5.0, 1.0], [4.0, 2.0]])\n",
        "y = np.array([1, 1, 1, -1, -1, -1])\n",
        "plt.grid()\n",
        "plt.scatter(X[:,0][y==1], X[:,1][y==1], c='red', marker='^', label='class1')\n",
        "plt.scatter(X[:,0][y==-1], X[:,1][y==-1], c='blue', marker='s', label='class2')\n",
        "plt.legend(loc='upper right')"
      ]
    },
    {
      "cell_type": "markdown",
      "metadata": {
        "id": "40ICmWPtyFUH"
      },
      "source": [
        "線形SVCでマージン最大の識別面を求めよ。"
      ]
    },
    {
      "cell_type": "code",
      "execution_count": 2,
      "metadata": {
        "id": "xoEY0Q28054t"
      },
      "outputs": [],
      "source": [
        ""
      ]
    },
    {
      "cell_type": "markdown",
      "metadata": {
        "id": "nQ7b9UBgyFUH"
      },
      "source": [
        "学習された識別面の係数を表示し、マージン最大である$x_1 = x_2$という識別面になっていることを確認せよ。"
      ]
    },
    {
      "cell_type": "code",
      "execution_count": 2,
      "metadata": {
        "id": "KawiwZjU08J6"
      },
      "outputs": [],
      "source": [
        ""
      ]
    },
    {
      "cell_type": "markdown",
      "metadata": {
        "id": "iSoiGRPLyFUI"
      },
      "source": [
        "## 例題6.2\n",
        "\n",
        "線形分離不可能なデータに対するSVMの学習をscikit-learnのSVCでコーディングせよ．"
      ]
    },
    {
      "cell_type": "code",
      "execution_count": 5,
      "metadata": {
        "colab": {
          "base_uri": "https://localhost:8080/",
          "height": 283
        },
        "id": "loSy4Y6N0vjd",
        "outputId": "587edbeb-bfee-4c73-a80c-e58bdd2ffa41"
      },
      "outputs": [
        {
          "output_type": "execute_result",
          "data": {
            "text/plain": [
              "<matplotlib.legend.Legend at 0x7f52aba0fc50>"
            ]
          },
          "metadata": {},
          "execution_count": 5
        },
        {
          "output_type": "display_data",
          "data": {
            "text/plain": [
              "<Figure size 432x288 with 1 Axes>"
            ],
            "image/png": "[encoded data removed]"
          },
          "metadata": {
            "needs_background": "light"
          }
        }
      ],
      "source": [
        "import numpy as np\n",
        "import matplotlib.pyplot as plt\n",
        "\n",
        "X = np.array([[1.0, 4.0], [2.0, 3.0], [4.0, 3.0], [5.0, 4.0], [2.0, 1.0], [3.0, 2.0], [3.0, 3.0], [4.0, 1.0]])\n",
        "y = np.array([1, 1, 1, 1, -1, -1, -1, -1])\n",
        "plt.grid()\n",
        "plt.scatter(X[:,0][y==1], X[:,1][y==1], c='red', marker='^', label='class1')\n",
        "plt.scatter(X[:,0][y==-1], X[:,1][y==-1], c='blue', marker='s', label='class2')\n",
        "plt.legend(loc='upper center')"
      ]
    },
    {
      "cell_type": "markdown",
      "metadata": {
        "id": "w5uuLWGtbx4z"
      },
      "source": [
        "多項式カーネルを用いて識別面を求めよ。カーネルの次数は適切なものを選択すること。"
      ]
    },
    {
      "cell_type": "code",
      "execution_count": 3,
      "metadata": {
        "id": "LStd8YHt0x5D"
      },
      "outputs": [],
      "source": [
        ""
      ]
    },
    {
      "cell_type": "markdown",
      "metadata": {
        "id": "e9Y6OObwyFUJ"
      },
      "source": [
        "RBFカーネルを用いて識別面を求めよ。gammaの値は[マニュアル](https://scikit-learn.org/stable/auto_examples/svm/plot_rbf_parameters.html)を読んだ上で適切なものを選択すること。"
      ]
    },
    {
      "cell_type": "code",
      "execution_count": 3,
      "metadata": {
        "id": "y5RUJr6t2Gis"
      },
      "outputs": [],
      "source": [
        ""
      ]
    }
  ],
  "metadata": {
    "colab": {
      "collapsed_sections": [],
      "name": "chap06.ipynb",
      "provenance": []
    },
    "kernelspec": {
      "display_name": "Python 3",
      "name": "python3"
    },
    "language_info": {
      "name": "python"
    }
  },
  "nbformat": 4,
  "nbformat_minor": 0
}