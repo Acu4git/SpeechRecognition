{
  "cells": [
    {
      "cell_type": "markdown",
      "metadata": {
        "id": "dNGRugaooWTh"
      },
      "source": [
        "<a href=\"https://colab.research.google.com/github/MasahiroAraki/SpeechRecognition/blob/master/Python/chap06a.ipynb\" target=\"_parent\"><img src=\"https://colab.research.google.com/assets/colab-badge.svg\" alt=\"Open In Colab\"/></a>"
      ]
    },
    {
      "cell_type": "markdown",
      "metadata": {
        "id": "j1S2JTl-awSI"
      },
      "source": [
        "# 6章 解答例"
      ]
    },
    {
      "cell_type": "code",
      "execution_count": null,
      "metadata": {
        "colab": {
          "base_uri": "https://localhost:8080/"
        },
        "id": "6rFiVAXrzanT",
        "outputId": "582c7083-3bac-43c1-b10c-5500e0522224"
      },
      "outputs": [
        {
          "name": "stdout",
          "output_type": "stream",
          "text": [
            "Requirement already satisfied: mlxtend in /usr/local/lib/python3.7/dist-packages (0.19.0)\n",
            "Requirement already satisfied: scipy>=1.2.1 in /usr/local/lib/python3.7/dist-packages (from mlxtend) (1.4.1)\n",
            "Requirement already satisfied: pandas>=0.24.2 in /usr/local/lib/python3.7/dist-packages (from mlxtend) (1.1.5)\n",
            "Requirement already satisfied: numpy>=1.16.2 in /usr/local/lib/python3.7/dist-packages (from mlxtend) (1.19.5)\n",
            "Requirement already satisfied: joblib>=0.13.2 in /usr/local/lib/python3.7/dist-packages (from mlxtend) (1.1.0)\n",
            "Requirement already satisfied: matplotlib>=3.0.0 in /usr/local/lib/python3.7/dist-packages (from mlxtend) (3.2.2)\n",
            "Requirement already satisfied: setuptools in /usr/local/lib/python3.7/dist-packages (from mlxtend) (57.4.0)\n",
            "Requirement already satisfied: scikit-learn>=0.20.3 in /usr/local/lib/python3.7/dist-packages (from mlxtend) (1.0.1)\n",
            "Requirement already satisfied: cycler>=0.10 in /usr/local/lib/python3.7/dist-packages (from matplotlib>=3.0.0->mlxtend) (0.11.0)\n",
            "Requirement already satisfied: kiwisolver>=1.0.1 in /usr/local/lib/python3.7/dist-packages (from matplotlib>=3.0.0->mlxtend) (1.3.2)\n",
            "Requirement already satisfied: python-dateutil>=2.1 in /usr/local/lib/python3.7/dist-packages (from matplotlib>=3.0.0->mlxtend) (2.8.2)\n",
            "Requirement already satisfied: pyparsing!=2.0.4,!=2.1.2,!=2.1.6,>=2.0.1 in /usr/local/lib/python3.7/dist-packages (from matplotlib>=3.0.0->mlxtend) (3.0.6)\n",
            "Requirement already satisfied: pytz>=2017.2 in /usr/local/lib/python3.7/dist-packages (from pandas>=0.24.2->mlxtend) (2018.9)\n",
            "Requirement already satisfied: six>=1.5 in /usr/local/lib/python3.7/dist-packages (from python-dateutil>=2.1->matplotlib>=3.0.0->mlxtend) (1.15.0)\n",
            "Requirement already satisfied: threadpoolctl>=2.0.0 in /usr/local/lib/python3.7/dist-packages (from scikit-learn>=0.20.3->mlxtend) (3.0.0)\n"
          ]
        }
      ],
      "source": [
        "!pip install -U mlxtend"
      ]
    },
    {
      "cell_type": "markdown",
      "metadata": {
        "id": "4EuxkmpjLdXY"
      },
      "source": [
        "## 例題6.1\n",
        "\n",
        "線形分離可能なデータに対するSVMの学習をscikit-learnの[SVC](https://scikit-learn.org/stable/modules/generated/sklearn.svm.SVC.html)でコーディングせよ．"
      ]
    },
    {
      "cell_type": "markdown",
      "metadata": {
        "id": "iTON6qy7fn7E"
      },
      "source": [
        "データの準備と表示\n",
        "\n",
        "教科書のクラス1,2をこのNotebookではそれぞれクラス0,1と読み替えます。それぞれに対応するSVM用の正解ラベルは1,-1です。"
      ]
    },
    {
      "cell_type": "code",
      "execution_count": null,
      "metadata": {
        "colab": {
          "base_uri": "https://localhost:8080/",
          "height": 283
        },
        "id": "_tPamDpQyLQD",
        "outputId": "af91d56b-f67c-4700-b2bb-0e451064fc43"
      },
      "outputs": [
        {
          "data": {
            "text/plain": [
              "<matplotlib.legend.Legend at 0x7fcdac0ab550>"
            ]
          },
          "execution_count": 5,
          "metadata": {},
          "output_type": "execute_result"
        },
        {
          "data": {
            "image/png": "[encoded data removed]",
            "text/plain": [
              "<Figure size 432x288 with 1 Axes>"
            ]
          },
          "metadata": {
            "needs_background": "light"
          },
          "output_type": "display_data"
        }
      ],
      "source": [
        "import numpy as np\n",
        "import matplotlib.pyplot as plt\n",
        "from mlxtend.plotting import plot_decision_regions\n",
        "\n",
        "X = np.array([[1.0, 2.0], [1.0, 4.0], [2.0, 4.0], [2.0, 1.0], [5.0, 1.0], [4.0, 2.0]])\n",
        "y = np.array([1, 1, 1, -1, -1, -1])\n",
        "plt.grid()\n",
        "plt.scatter(X[:, 0][y==1], X[:, 1][y==1], c='red', marker='^', label='class0')\n",
        "plt.scatter(X[:, 0][y==-1], X[:, 1][y==-1], c='blue', marker='s', label='class1')\n",
        "plt.legend(loc='upper right')"
      ]
    },
    {
      "cell_type": "markdown",
      "metadata": {
        "id": "40ICmWPtyFUH"
      },
      "source": [
        "課題：線形SVCでマージン最大の識別面を求めよ。"
      ]
    },
    {
      "cell_type": "code",
      "execution_count": null,
      "metadata": {
        "id": "xoEY0Q28054t"
      },
      "outputs": [],
      "source": [
        "from sklearn.svm import SVC\n",
        "from mlxtend.plotting import plot_decision_regions\n",
        "\n",
        "clf = SVC(kernel='linear')\n",
        "clf.fit(X,y)\n",
        "plot_decision_regions(X=X, y=y, clf=clf, legend=2)"
      ]
    },
    {
      "cell_type": "markdown",
      "metadata": {
        "id": "nQ7b9UBgyFUH"
      },
      "source": [
        "課題：学習された識別面の係数を表示し、マージン最大である$x_1 = x_2$という識別面になっていることを確認せよ。"
      ]
    },
    {
      "cell_type": "code",
      "execution_count": null,
      "metadata": {
        "id": "KawiwZjU08J6"
      },
      "outputs": [],
      "source": [
        "print(clf.coef_)\n",
        "print(clf.intercept_)"
      ]
    },
    {
      "cell_type": "markdown",
      "metadata": {
        "id": "iSoiGRPLyFUI"
      },
      "source": [
        "## 例題6.2\n",
        "\n",
        "線形分離不可能なデータに対するSVMの学習をscikit-learnのSVCでコーディングせよ．"
      ]
    },
    {
      "cell_type": "code",
      "execution_count": null,
      "metadata": {
        "colab": {
          "base_uri": "https://localhost:8080/",
          "height": 283
        },
        "id": "loSy4Y6N0vjd",
        "outputId": "98710c4c-dfcb-4852-fbe7-aa525e9aad56"
      },
      "outputs": [
        {
          "data": {
            "text/plain": [
              "<matplotlib.legend.Legend at 0x7fcd944af850>"
            ]
          },
          "execution_count": 6,
          "metadata": {},
          "output_type": "execute_result"
        },
        {
          "data": {
            "image/png": "[encoded data removed]",
            "text/plain": [
              "<Figure size 432x288 with 1 Axes>"
            ]
          },
          "metadata": {
            "needs_background": "light"
          },
          "output_type": "display_data"
        }
      ],
      "source": [
        "import numpy as np\n",
        "import matplotlib.pyplot as plt\n",
        "\n",
        "X = np.array([[1.0, 4.0], [2.0, 3.0], [4.0, 3.0], [5.0, 4.0], [2.0, 1.0], [3.0, 2.0], [3.0, 3.0], [4.0, 1.0]])\n",
        "y = np.array([1, 1, 1, 1, -1, -1, -1, -1])\n",
        "plt.grid()\n",
        "plt.scatter(X[:, 0][y==1], X[:, 1][y==1], c='red', marker='^', label='class0')\n",
        "plt.scatter(X[:, 0][y==-1], X[:, 1][y==-1], c='blue', marker='s', label='class1')\n",
        "plt.legend(loc='upper center')"
      ]
    },
    {
      "cell_type": "markdown",
      "metadata": {
        "id": "w5uuLWGtbx4z"
      },
      "source": [
        "課題：多項式カーネルを用いて識別面を求めよ。カーネルの次数は適切なものを選択すること。"
      ]
    },
    {
      "cell_type": "code",
      "execution_count": null,
      "metadata": {
        "id": "LStd8YHt0x5D"
      },
      "outputs": [],
      "source": [
        "from sklearn.svm import SVC\n",
        "from mlxtend.plotting import plot_decision_regions\n",
        "\n",
        "clf = SVC(kernel='poly', degree=4)\n",
        "clf.fit(X,y)\n",
        "plot_decision_regions(X=X, y=y, clf=clf, legend=2)"
      ]
    },
    {
      "cell_type": "markdown",
      "metadata": {
        "id": "e9Y6OObwyFUJ"
      },
      "source": [
        "課題：RBFカーネルを用いて識別面を求めよ。gammaの値は[マニュアル](https://scikit-learn.org/stable/auto_examples/svm/plot_rbf_parameters.html)を読んだ上で適切なものを選択すること。"
      ]
    },
    {
      "cell_type": "code",
      "execution_count": null,
      "metadata": {
        "id": "y5RUJr6t2Gis"
      },
      "outputs": [],
      "source": [
        "clf = SVC(kernel='rbf', gamma=0.5)\n",
        "clf.fit(X,y)\n",
        "plot_decision_regions(X=X, y=y, clf=clf, legend=2)"
      ]
    }
  ],
  "metadata": {
    "colab": {
      "collapsed_sections": [],
      "name": "chap06a.ipynb",
      "provenance": []
    },
    "kernelspec": {
      "display_name": "Python 3",
      "name": "python3"
    },
    "language_info": {
      "name": "python"
    }
  },
  "nbformat": 4,
  "nbformat_minor": 0
}