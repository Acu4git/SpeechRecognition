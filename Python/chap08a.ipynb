{
  "nbformat": 4,
  "nbformat_minor": 0,
  "metadata": {
    "colab": {
      "name": "chap08a.ipynb",
      "provenance": [],
      "collapsed_sections": []
    },
    "kernelspec": {
      "name": "python3",
      "display_name": "Python 3.7.6 64-bit (conda)",
      "metadata": {
        "interpreter": {
          "hash": "9558e1a7b673a21bf293f4d79394c4c42637de0f423c160520e66c3c2eebbf7a"
        }
      }
    }
  },
  "cells": [
    {
      "cell_type": "markdown",
      "metadata": {
        "id": "dNGRugaooWTh"
      },
      "source": [
        "<a href=\"https://colab.research.google.com/github/MasahiroAraki/SpeechRecognition/blob/master/Python/chap08a.ipynb\" target=\"_parent\"><img src=\"https://colab.research.google.com/assets/colab-badge.svg\" alt=\"Open In Colab\"/></a>"
      ]
    },
    {
      "source": [
        "## EMアルゴリズムの例題\n",
        "\n",
        "2つのクラスタからなるランダムなデータを生成し、EMアルゴリズムによって分布のパラメータを求めよ。\n"
      ],
      "cell_type": "markdown",
      "metadata": {
        "id": "UbKhI1z4D272"
      }
    },
    {
      "cell_type": "code",
      "execution_count": 90,
      "metadata": {
        "id": "Bv9YcHlKD272",
        "outputId": "9ce36266-9c8e-40ce-f99f-6c5fd9e2e273",
        "colab": {
          "base_uri": "https://localhost:8080/",
          "height": 284
        }
      },
      "outputs": [
        {
          "output_type": "execute_result",
          "data": {
            "text/plain": [
              "<matplotlib.collections.PathCollection at 0x7f3b2092ee90>"
            ]
          },
          "metadata": {},
          "execution_count": 90
        },
        {
          "output_type": "display_data",
          "data": {
            "text/plain": [
              "<Figure size 432x288 with 1 Axes>"
            ],
            "image/png": "[encoded data removed]"
          },
          "metadata": {
            "needs_background": "light"
          }
        }
      ],
      "source": [
        "import numpy as np\n",
        "from sklearn.datasets import make_blobs\n",
        "from sklearn import mixture\n",
        "import matplotlib.pyplot as plt\n",
        "from matplotlib.colors import LogNorm\n",
        "\n",
        "X, y = make_blobs(n_samples=200, centers=2, n_features=2, random_state=12)\n",
        "plt.scatter(X[:, 0], X[:, 1])"
      ]
    },
    {
      "cell_type": "code",
      "execution_count": 58,
      "metadata": {
        "id": "Fk1SkZWFD272",
        "outputId": "08a9c4ac-1b25-448d-8388-5c9b00b733b6",
        "colab": {
          "base_uri": "https://localhost:8080/"
        }
      },
      "outputs": [
        {
          "output_type": "execute_result",
          "data": {
            "text/plain": [
              "GaussianMixture(n_components=2)"
            ]
          },
          "metadata": {},
          "execution_count": 58
        }
      ],
      "source": [
        "clf = mixture.GaussianMixture(n_components=2, covariance_type='full')\n",
        "clf.fit(X)"
      ]
    },
    {
      "cell_type": "markdown",
      "source": [
        "# 練習問題\n",
        "\n",
        "上記「EMアルゴリズムの例題」で用いたデータに対して、GaussianMixtureによって求めた2つの分布を2クラスの分布と解釈して、クラス境界を描画せよ。"
      ],
      "metadata": {
        "id": "NI5tUedI5ORU"
      }
    },
    {
      "cell_type": "markdown",
      "source": [
        "# 解答例\n",
        "\n",
        "clfインスタンスの属性から2つの分布のパラメータを得て、例題8.1と同じ手順で描画します。"
      ],
      "metadata": {
        "id": "pJM5fuDl7xsu"
      }
    },
    {
      "cell_type": "code",
      "source": [
        "clf.means_"
      ],
      "metadata": {
        "colab": {
          "base_uri": "https://localhost:8080/"
        },
        "id": "mIadERFg7x6X",
        "outputId": "5fc98dd0-0f9e-4f58-ab51-0fec6f35c728"
      },
      "execution_count": 59,
      "outputs": [
        {
          "output_type": "execute_result",
          "data": {
            "text/plain": [
              "array([[-4.6618308 ,  0.60698657],\n",
              "       [-7.10718231,  4.63880267]])"
            ]
          },
          "metadata": {},
          "execution_count": 59
        }
      ]
    },
    {
      "cell_type": "code",
      "source": [
        "clf.covariances_"
      ],
      "metadata": {
        "colab": {
          "base_uri": "https://localhost:8080/"
        },
        "id": "hQgBDzV48i_w",
        "outputId": "dacf7797-5303-4ada-8b44-0c8b03aa786f"
      },
      "execution_count": 60,
      "outputs": [
        {
          "output_type": "execute_result",
          "data": {
            "text/plain": [
              "array([[[ 0.88832338,  0.01894626],\n",
              "        [ 0.01894626,  0.87822621]],\n",
              "\n",
              "       [[ 1.16958954, -0.07856041],\n",
              "        [-0.07856041,  1.06482599]]])"
            ]
          },
          "metadata": {},
          "execution_count": 60
        }
      ]
    },
    {
      "cell_type": "code",
      "source": [
        "m1 = clf.means_[0]\n",
        "m2 = clf.means_[1]\n",
        "c1 = clf.covariances_[0]\n",
        "c2 = clf.covariances_[1]"
      ],
      "metadata": {
        "id": "xdbLzBxv7hoi"
      },
      "execution_count": 61,
      "outputs": []
    },
    {
      "cell_type": "code",
      "source": [
        "from scipy.stats import multivariate_normal\n",
        "f = lambda x: multivariate_normal.pdf(x, mean=m1, cov=c1) - multivariate_normal.pdf(x, mean=m2, cov=c2)\n",
        "\n",
        "x1 = np.arange(np.min(X[:,0]), np.max(X[:,0]), 0.1)\n",
        "x2 = np.arange(np.min(X[:,1]), np.max(X[:,1]), 0.1)\n",
        "X1, X2 = np.meshgrid(x1, x2)\n",
        "\n",
        "Z = f(np.array([X1.ravel(), X2.ravel()]).T)\n",
        "Z = Z.reshape(X1.shape)\n",
        "\n",
        "plt.scatter(X[:, 0], X[:, 1], marker='o', c=y)\n",
        "plt.axis('equal')\n",
        "plt.contour(X1, X2, Z, levels=0, colors=\"blue\")\n",
        "plt.show()"
      ],
      "metadata": {
        "colab": {
          "base_uri": "https://localhost:8080/",
          "height": 266
        },
        "id": "z50FVkAf7iEJ",
        "outputId": "518197b9-c4a5-49f3-e947-20cc084c2a9f"
      },
      "execution_count": 63,
      "outputs": [
        {
          "output_type": "display_data",
          "data": {
            "text/plain": [
              "<Figure size 432x288 with 1 Axes>"
            ],
            "image/png": "[encoded data removed]"
          },
          "metadata": {
            "needs_background": "light"
          }
        }
      ]
    }
  ]
}