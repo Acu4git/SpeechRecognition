{
  "cells": [
    {
      "cell_type": "markdown",
      "metadata": {
        "id": "boqOkrCrb7Bv"
      },
      "source": [
        "<a href=\"https://colab.research.google.com/github/MasahiroAraki/SpeechRecognition/blob/master/Python/pyintro1.ipynb\" target=\"_parent\"><img src=\"https://colab.research.google.com/assets/colab-badge.svg\" alt=\"Open In Colab\"/></a>"
      ]
    },
    {
      "cell_type": "markdown",
      "metadata": {
        "id": "jy0nO1OGgGQm"
      },
      "source": [
        "# Python入門(1)\n",
        "\n",
        "* Python入門\n",
        "  * 読み込み・演算・表示\n",
        "  * リスト・タプル・辞書\n",
        "  * 制御構造\n",
        "* 統計の概要\n",
        "\n"
      ]
    },
    {
      "cell_type": "markdown",
      "metadata": {
        "id": "aGrqlvtkr5AF"
      },
      "source": [
        "## 1.1 読み込み・演算・表示"
      ]
    },
    {
      "cell_type": "code",
      "source": [
        "v1 = 5  # 整数型\n",
        "type(v1)"
      ],
      "metadata": {
        "id": "ZejLSVR4ULtD"
      },
      "execution_count": null,
      "outputs": []
    },
    {
      "cell_type": "code",
      "source": [
        "v2 = 6.5  # 浮動小数点型\n",
        "type(v2)"
      ],
      "metadata": {
        "id": "Lsi9Sd87ULvz"
      },
      "execution_count": null,
      "outputs": []
    },
    {
      "cell_type": "code",
      "source": [
        "v3 = 'これは文字列です。'  # 文字列型\n",
        "type(v3)"
      ],
      "metadata": {
        "id": "rTYPVjkBULyN"
      },
      "execution_count": null,
      "outputs": []
    },
    {
      "cell_type": "code",
      "source": [
        "# print関数\n",
        "\n",
        "print(f'変数v1の値は {v1}、v2の値は {v2:.3} です。')"
      ],
      "metadata": {
        "id": "CSsyfOxSUL1b"
      },
      "execution_count": null,
      "outputs": []
    },
    {
      "cell_type": "code",
      "source": [
        "# 演算子\n",
        "\n",
        "a = 5\n",
        "b = 6\n",
        "print((a+b)/2)"
      ],
      "metadata": {
        "id": "sO5O6AuXUiuS"
      },
      "execution_count": null,
      "outputs": []
    },
    {
      "cell_type": "markdown",
      "source": [
        "## 1.2 リスト・タプル・辞書"
      ],
      "metadata": {
        "id": "Lz-vOheUUshD"
      }
    },
    {
      "cell_type": "code",
      "source": [
        "# リスト\n",
        "\n",
        "num_list = [10, 20, 30, 40, 50]\n",
        "num_list[2]"
      ],
      "metadata": {
        "id": "YVV9eEUbUizo"
      },
      "execution_count": null,
      "outputs": []
    },
    {
      "cell_type": "code",
      "source": [
        "# 平均値\n",
        "\n",
        "a = [3, 8, 2, 1, 9]\n",
        "b = (a[0] + a[1] + a[2] + a[3] + a[4]) / 5\n",
        "print(f'平均は {b}')"
      ],
      "metadata": {
        "id": "M74oS6kwUi2r"
      },
      "execution_count": null,
      "outputs": []
    },
    {
      "cell_type": "code",
      "source": [
        "# スライス\n",
        "\n",
        "num_list[1:4]"
      ],
      "metadata": {
        "id": "4eJsj2xvVdMk"
      },
      "execution_count": null,
      "outputs": []
    },
    {
      "cell_type": "code",
      "source": [
        "# リストのコピー（失敗例）\n",
        "\n",
        "a = [5, 8, 3]\n",
        "b = a\n",
        "print(b)\n",
        "a[1] = 2\n",
        "print(b)"
      ],
      "metadata": {
        "id": "wyeJ9eOLVdO7"
      },
      "execution_count": null,
      "outputs": []
    },
    {
      "cell_type": "code",
      "source": [
        "# リストのコピー（成功例）\n",
        "\n",
        "a = [5, 8, 3]\n",
        "b = a.copy()\n",
        "print(b)\n",
        "a[1] = 2\n",
        "print(b)"
      ],
      "metadata": {
        "id": "mvd7agA7VdUK"
      },
      "execution_count": null,
      "outputs": []
    },
    {
      "cell_type": "code",
      "source": [
        "# タプル\n",
        "\n",
        "a = (2, 8, 7, 1, 5)\n",
        "a[1]"
      ],
      "metadata": {
        "id": "QNelfpNTVdWx"
      },
      "execution_count": null,
      "outputs": []
    },
    {
      "cell_type": "code",
      "source": [
        "# タプルを書き換えようとしているのでエラーになる\n",
        "a[1] = 3"
      ],
      "metadata": {
        "id": "RFEiFlghV6pj"
      },
      "execution_count": null,
      "outputs": []
    },
    {
      "cell_type": "code",
      "source": [
        "# 辞書\n",
        "\n",
        "c = {'name':'Tom Bean', 'age':21, 'point':80}\n",
        "c['name']"
      ],
      "metadata": {
        "id": "4xkcc5HfV6sZ"
      },
      "execution_count": null,
      "outputs": []
    },
    {
      "cell_type": "markdown",
      "source": [
        "## 1.3 制御構造"
      ],
      "metadata": {
        "id": "Ry9-Rc1-WD6i"
      }
    },
    {
      "cell_type": "code",
      "source": [
        "# if\n",
        "\n",
        "c = {'name':'Tom Bean', 'age':21, 'point':80}\n",
        "if c['age'] >= 18:\n",
        "    print(c['point'])\n",
        "else:\n",
        "    print('Under 18 years old.')"
      ],
      "metadata": {
        "id": "i5ncOAvaV6vx"
      },
      "execution_count": null,
      "outputs": []
    },
    {
      "cell_type": "code",
      "source": [
        "# for （インデックス）\n",
        "\n",
        "num_list = [10, 20, 30, 40, 50]\n",
        "s = 0\n",
        "for i in range(5):\n",
        "    s += num_list[i]\n",
        "print(f'平均は {s/5}')"
      ],
      "metadata": {
        "id": "66hhUmABWKpC"
      },
      "execution_count": null,
      "outputs": []
    },
    {
      "cell_type": "code",
      "source": [
        "# for （イテラブルオブジェクト）\n",
        "\n",
        "num_list = [10, 20, 30, 40, 50]\n",
        "s = 0\n",
        "for x in num_list:\n",
        "    s += x\n",
        "print(f'平均は {s/len(num_list)}')"
      ],
      "metadata": {
        "id": "4BUMTWqPWKrp"
      },
      "execution_count": null,
      "outputs": []
    },
    {
      "cell_type": "code",
      "source": [
        "# while \n",
        "\n",
        "x = 2.0\n",
        "diff = float('inf') # 差の初期値を無限大に設定\n",
        "rnew = x            # 近似値の初期値は入力値\n",
        "\n",
        "while diff > 1.0E-3:\n",
        "  r1 = rnew\n",
        "  r2 = x/r1\n",
        "  rnew = (r1 + r2)/2\n",
        "  diff = r1 - r2\n",
        "\n",
        "print(f'{r2:.8} < {rnew:.8} < {r1:.8}')"
      ],
      "metadata": {
        "id": "tZAM4GGZWKxb"
      },
      "execution_count": null,
      "outputs": []
    },
    {
      "cell_type": "code",
      "source": [
        "# break\n",
        "\n",
        "x = 2.0\n",
        "rnew = x\n",
        "\n",
        "while True:\n",
        "  r1 = rnew\n",
        "  r2 = x/r1\n",
        "  rnew = (r1 + r2)/2\n",
        "  if r1 - r2 < 1.0E-3:\n",
        "    break\n",
        "\n",
        "print(f'{r2:.8} < {rnew:.8} < {r1:.8}')"
      ],
      "metadata": {
        "id": "sqcOByZmWK0D"
      },
      "execution_count": null,
      "outputs": []
    },
    {
      "cell_type": "code",
      "source": [
        "# 実行時エラーの可能性\n",
        "\n",
        "x = float(input('Enter positive number> '))\n",
        "diff = float('inf')\n",
        "rnew = x\n",
        "\n",
        "while diff > 1.0E-3:\n",
        "  r1 = rnew\n",
        "  r2 = x/r1\n",
        "  rnew = (r1 + r2)/2\n",
        "  diff = r1 - r2\n",
        "\n",
        "print(f'{r2:.8} < {rnew:.8} < {r1:.8}')"
      ],
      "metadata": {
        "id": "zoX9RxM9Wzd7"
      },
      "execution_count": null,
      "outputs": []
    },
    {
      "cell_type": "code",
      "source": [
        "# 正の数が得られるまでloop\n",
        "\n",
        "while True:\n",
        "  x = input('Enter positive number> ')\n",
        "  try:\n",
        "    x = float(x)\n",
        "  except ValueError:\n",
        "    print(f'{x}は数値に変換できません。')\n",
        "    continue\n",
        "  if x <= 0:\n",
        "    print(f'{x}は正の数値ではありません。')\n",
        "    continue\n",
        "  break\n",
        "\n",
        "print(x)"
      ],
      "metadata": {
        "id": "Xskg5tAkXH0i"
      },
      "execution_count": null,
      "outputs": []
    }
  ],
  "metadata": {
    "colab": {
      "provenance": []
    },
    "kernelspec": {
      "display_name": "Python 3",
      "name": "python3"
    },
    "language_info": {
      "name": "python"
    }
  },
  "nbformat": 4,
  "nbformat_minor": 0
}