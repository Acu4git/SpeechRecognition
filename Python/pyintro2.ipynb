{
  "cells": [
    {
      "cell_type": "markdown",
      "metadata": {
        "id": "9t365WgSAI_T"
      },
      "source": [
        "<a href=\"https://colab.research.google.com/github/MasahiroAraki/SpeechRecognition/blob/master/Python/pyintro2.ipynb\" target=\"_parent\"><img src=\"https://colab.research.google.com/assets/colab-badge.svg\" alt=\"Open In Colab\"/></a>"
      ]
    },
    {
      "cell_type": "markdown",
      "metadata": {
        "id": "yzshjpxJkN_j"
      },
      "source": [
        "# Python入門(2)\n",
        "\n",
        "- 関数\n",
        "- クラス\n",
        "- 入出力\n",
        "- おまけ (タートルグラフィックス)\n",
        "\n",
        "このテキストは [京大 プログラミング演習 Python 2021](http://hdl.handle.net/2433/265459) 7,11,12章を参考にしています。説明が足りないところはリンク先のテキストで補ってください。"
      ]
    },
    {
      "cell_type": "markdown",
      "metadata": {
        "id": "wXQyUE2IHNGM"
      },
      "source": [
        "# 関数\n",
        "\n",
        "Python入門(1)のプログラム5と6を組み合わせると、入力に対して一定レベルのエラーチェックを行い、高い精度で平方根を求めるプログラムができます。一方、読み込み・演算・表示という基本手順はプログラム1と変わらないのに、コードはかなり長くなっており、全体の見通しが悪くなっています。\n",
        "\n",
        "ここではまとまった処理を関数として定義し、大まかな基本手順と細かな実現部分にわけてコーディングを行います。関数内部で定義された変数はローカルスコープなので関数の外側から参照や変更ができません。これによって関数内での処理が見通しやすくなります。"
      ]
    },
    {
      "cell_type": "markdown",
      "metadata": {
        "id": "HUMng2oCuL1g"
      },
      "source": [
        "まず、入力を行う関数の定義は以下のようになります。\n",
        "\n",
        "memo:  \n",
        "インデントを下げるショートカットキーは ctrl+'}'"
      ]
    },
    {
      "cell_type": "code",
      "execution_count": 1,
      "metadata": {
        "id": "PLm4gFCTHHka"
      },
      "outputs": [],
      "source": [
        "def input_number():\n",
        "  while True:\n",
        "    x = input('Enter positive number> ')\n",
        "    try:\n",
        "      x = float(x)\n",
        "    except ValueError:\n",
        "      print(f'{x}は数値に変換できません。')\n",
        "      continue\n",
        "    except:\n",
        "      print('予期せぬエラーです')\n",
        "      sys.exit()\n",
        "    if x <= 0:\n",
        "      print(f'{x}は正の数値ではありません。')\n",
        "      continue\n",
        "    break\n",
        "  return x"
      ]
    },
    {
      "cell_type": "markdown",
      "metadata": {
        "id": "djWxKspPvU4f"
      },
      "source": [
        "平方根を求める関数の定義は以下のようになります。"
      ]
    },
    {
      "cell_type": "code",
      "execution_count": 2,
      "metadata": {
        "id": "kjURTqNZvVBe"
      },
      "outputs": [],
      "source": [
        "def square_root(x):\n",
        "  rnew = x\n",
        "  while True:\n",
        "    r1 = rnew\n",
        "    r2 = x/r1\n",
        "    rnew = (r1 + r2)/2\n",
        "    if abs(r1 - r2) < 1.0E-6:\n",
        "      break\n",
        "  return rnew"
      ]
    },
    {
      "cell_type": "markdown",
      "metadata": {
        "id": "Pft_4fbYvVI5"
      },
      "source": [
        "全体の手順は以下のようになります。"
      ]
    },
    {
      "cell_type": "code",
      "execution_count": 3,
      "metadata": {
        "colab": {
          "base_uri": "https://localhost:8080/"
        },
        "id": "sN2luqNavVPx",
        "outputId": "ff216fa7-12b6-49e4-a4de-809b60981514"
      },
      "outputs": [
        {
          "output_type": "stream",
          "name": "stdout",
          "text": [
            "Enter positive number> 2\n",
            "Square root of 2.0 is 1.414213562373095.\n"
          ]
        }
      ],
      "source": [
        "x = input_number()\n",
        "sq = square_root(x)\n",
        "print(f'Square root of {x} is {sq}.')"
      ]
    },
    {
      "cell_type": "markdown",
      "metadata": {
        "id": "OAcC1rpwvVWO"
      },
      "source": [
        "### プログラム7\n",
        "\n",
        "上の3つのコードをまとめたものです。"
      ]
    },
    {
      "cell_type": "code",
      "execution_count": 4,
      "metadata": {
        "colab": {
          "base_uri": "https://localhost:8080/"
        },
        "id": "mQuTqo1wvVc5",
        "outputId": "f4a7c6e5-d693-4b1c-ab3e-1765d101a95e"
      },
      "outputs": [
        {
          "output_type": "stream",
          "name": "stdout",
          "text": [
            "Enter positive number> 3\n",
            "Square root of 3.0 is 1.7320508075688772.\n"
          ]
        }
      ],
      "source": [
        "%reset -f\n",
        "# 平方根を求めるプログラム\n",
        "import sys\n",
        "\n",
        "def input_number():\n",
        "  while True:\n",
        "    x = input('Enter positive number> ')\n",
        "    try:\n",
        "      x = float(x)\n",
        "    except ValueError:\n",
        "      print(f'{x}は数値に変換できません。')\n",
        "      continue\n",
        "    except:\n",
        "      print('予期せぬエラーです')\n",
        "      sys.exit()\n",
        "    if x <= 0:\n",
        "      print(f'{x}は正の数値ではありません。')\n",
        "      continue\n",
        "    break\n",
        "  return x\n",
        "\n",
        "def square_root(x):\n",
        "  rnew = x\n",
        "  while True:\n",
        "    r1 = rnew\n",
        "    r2 = x/r1\n",
        "    rnew = (r1 + r2)/2\n",
        "    if r1 - r2 < 1.0E-6:\n",
        "      break\n",
        "  return rnew\n",
        "\n",
        "x = input_number()\n",
        "sq = square_root(x)\n",
        "print(f'Square root of {x} is {sq}.')"
      ]
    },
    {
      "cell_type": "markdown",
      "metadata": {
        "id": "R_PRwkG6xjkW"
      },
      "source": [
        "## デフォルト引数\n",
        "\n",
        "ここで関数 square_root内で繰り返しを打ち切る精度の値がコード中に直接書かれているのはあまり好ましくありません。グローバル定数とする方法もありますが、この定数定義を忘れると関数内でエラーが発生してしまいます。\n",
        "\n",
        "そこで、関数の仕様を変更します。第2引数として精度を与えることができるようにして、もし第2引数が指定されていなければデフォルト値を使えるよう、デフォルト引数とします。なお、デフォルト引数が複数になったときに、任意のものが省略可能になって定義順に意味がなくなるので、デフォルト引数はキーワード引数として呼び出すのが無難です。"
      ]
    },
    {
      "cell_type": "code",
      "execution_count": 5,
      "metadata": {
        "id": "5hwPujPDxjvf"
      },
      "outputs": [],
      "source": [
        "%reset -f\n",
        "def square_root(x, eps=1.0E-6):\n",
        "  rnew = x\n",
        "  while True:\n",
        "    r1 = rnew\n",
        "    r2 = x/r1\n",
        "    rnew = (r1 + r2)/2\n",
        "    if r1 - r2 < eps:\n",
        "      break\n",
        "  return rnew"
      ]
    },
    {
      "cell_type": "code",
      "execution_count": 6,
      "metadata": {
        "colab": {
          "base_uri": "https://localhost:8080/"
        },
        "id": "F6pW_Q7WyWU6",
        "outputId": "bee2b790-bdf0-495d-d333-3aa0901d3c71"
      },
      "outputs": [
        {
          "output_type": "execute_result",
          "data": {
            "text/plain": [
              "1.4142156862745097"
            ]
          },
          "metadata": {},
          "execution_count": 6
        }
      ],
      "source": [
        "# 仮引数の順に実引数を与えて呼び出す\n",
        "square_root(2, 1.0E-2)"
      ]
    },
    {
      "cell_type": "code",
      "execution_count": 7,
      "metadata": {
        "colab": {
          "base_uri": "https://localhost:8080/"
        },
        "id": "WcYVaIZ8yWo0",
        "outputId": "f1986cc7-3e0f-4989-82ae-e8c50fc1477e"
      },
      "outputs": [
        {
          "output_type": "execute_result",
          "data": {
            "text/plain": [
              "1.414213562373095"
            ]
          },
          "metadata": {},
          "execution_count": 7
        }
      ],
      "source": [
        "# キーワード引数で呼び出す\n",
        "square_root(2, eps=1.0E-6)"
      ]
    },
    {
      "cell_type": "markdown",
      "metadata": {
        "id": "Bu3rNuYZLJWn"
      },
      "source": [
        "### 練習問題2-1\n",
        "\n",
        "Pythonでは関数を変数の値としたり、引数として別の関数に渡すことができます。[京大テキスト](https://repository.kulib.kyoto-u.ac.jp/dspace/bitstream/2433/265459/1/Version2021_10_08_01.pdf)のp.116 7.10節を参考にして、関数に関数を渡して実行するコードを作成してみてください。"
      ]
    },
    {
      "cell_type": "code",
      "execution_count": 7,
      "metadata": {
        "id": "7LAOu7UXLJjW"
      },
      "outputs": [],
      "source": [
        ""
      ]
    },
    {
      "cell_type": "markdown",
      "metadata": {
        "id": "OUTKUgfvHLxd"
      },
      "source": [
        "# クラス\n",
        "\n",
        "C言語の構造体の考え方を発展させたものがクラスです。クラスは変数（の集まり）で表現された内部状態を持ち、その内部状態を使って何らかの処理を行う関数であるメソッドと合わせてクラスが定義されます。なお、クラス名は変数名と同じ規則で命名されますが、大文字で始め、複数の単語からなる場合はキャメルケース（各単語の先頭文字を大文字にして結合）とすることで変数名と区別する習慣になっています。\n",
        "\n",
        "オブジェクト指向プログラミングでは、このクラス定義に具体的な値を与えることによってメモリ上の実体であるインスタンスを作成し、外部からそのインスタンスのメソッドを呼び出すことによって、メソッド実装の詳細は外部から隠蔽し、高いレベルのメッセージ交換のみで必要な処理を記述することができるようになります。"
      ]
    },
    {
      "cell_type": "markdown",
      "metadata": {
        "id": "FAbG3FIwqmgV"
      },
      "source": [
        "### プログラム8\n",
        "\n",
        "例としてスタックをクラスとして定義してみます。スタックとは、棚のようなデータ構造で、入ってきたデータが順に積み重ねられ、出るときは一番最後に入ったデータから出て行きます。\n",
        "\n",
        "\\_\\_init\\_\\_ というメソッドはコンストラクタとよばれ、インスタンスが作成されるときに自動的に呼び出されるメソッドです。各メソッドの引数には、先頭に自分自身のインスタンスを表すselfを書きますが、外部からの呼び出しのときには、この引数を書く必要はありません。"
      ]
    },
    {
      "cell_type": "code",
      "execution_count": 8,
      "metadata": {
        "colab": {
          "base_uri": "https://localhost:8080/"
        },
        "id": "v94evy7VHL7E",
        "outputId": "5fddc901-e60e-4c57-b253-e731ae10c283"
      },
      "outputs": [
        {
          "output_type": "stream",
          "name": "stdout",
          "text": [
            "3\n",
            "2\n",
            "9\n",
            "8\n",
            "5\n",
            "None\n"
          ]
        }
      ],
      "source": [
        "%reset -f\n",
        "class MyStack():\n",
        "  def __init__(self, data):\n",
        "    self.num_list = data\n",
        "\n",
        "  def push(self, elem):\n",
        "    self.num_list.append(elem)\n",
        "\n",
        "  def pop(self):\n",
        "    if self.is_empty() == True:\n",
        "      return None\n",
        "    else:\n",
        "      x = self.num_list[-1]\n",
        "      self.num_list = self.num_list[:-1]\n",
        "      return x\n",
        "\n",
        "  def is_empty(self):\n",
        "    return self.num_list == []\n",
        "\n",
        "  def clear(self):\n",
        "    self.num_list = []\n",
        "\n",
        "if __name__ == '__main__':\n",
        "  st = MyStack([5, 2, 3])\n",
        "  print(st.pop())\n",
        "  print(st.pop())\n",
        "  st.push(8)\n",
        "  st.push(9)\n",
        "  print(st.pop())\n",
        "  print(st.pop())\n",
        "  print(st.pop())\n",
        "  print(st.pop())"
      ]
    },
    {
      "cell_type": "markdown",
      "metadata": {
        "id": "o-1_gM0OvJ0Q"
      },
      "source": [
        "プログラム8中のnum_listのようにインスタンス毎に用意される変数をインスタンス変数とよびます。インスタンス変数はメソッド内でself,を前に付けて定義され、外部からは インスタンス名.変数名 でアクセスします。一方、メソッド定義の外側で定義された変数はクラス変数とよばれ、そのクラスのすべてのインスタンスで共通の値を持ち、クラス名.変数名 の形でアクセスします。\n",
        "\n",
        "変数名の前にアンダーバー2つを付けると、クラス外からは操作できないアクセス制限された変数になります。"
      ]
    },
    {
      "cell_type": "markdown",
      "metadata": {
        "id": "B8Rm4GKqIYiM"
      },
      "source": [
        "# 入出力\n",
        "\n",
        "ファイルを読み書きするためには、まずopen関数でファイル名とモードを指定して、戻り値でファイルオブジェクトを得ます。モードは'r'が読み込み、'w'が書き込みです。\n",
        "\n",
        "内容の読み込みメソッドは read (全体) または readline（1行ずつ）を使います。1行ずつ読むときは、for文を使うこともできます。書き込みメソッドは　writeです。\n",
        "\n",
        "処理が終われば、closeメソッドでファイルを閉じます。\n"
      ]
    },
    {
      "cell_type": "markdown",
      "metadata": {
        "id": "FYiYuyuhkiVl"
      },
      "source": [
        "プログラミング言語の用途別の有用性を評価したデータをファイルに書き出してみます。（評価値は架空のものです）"
      ]
    },
    {
      "cell_type": "code",
      "execution_count": 9,
      "metadata": {
        "id": "Ekt4j8RDIYtL"
      },
      "outputs": [],
      "source": [
        "data = ''', web, mobile, enterprise, embedded\n",
        "Python, 80, 30, 90, 70\n",
        "Java, 85, 60, 85, 40\n",
        "C, 30, 40, 70, 90\n",
        "'''\n",
        "\n",
        "f = open('data.csv', 'w')\n",
        "f.write(data)\n",
        "f.close()"
      ]
    },
    {
      "cell_type": "markdown",
      "metadata": {
        "id": "dp2XzP6AUmQY"
      },
      "source": [
        "このファイルを読み込んで表示します。"
      ]
    },
    {
      "cell_type": "code",
      "execution_count": 10,
      "metadata": {
        "colab": {
          "base_uri": "https://localhost:8080/"
        },
        "id": "UOA1bEWXUmbM",
        "outputId": "e565058f-99ec-4bbf-bc67-2d4dd66b8265"
      },
      "outputs": [
        {
          "output_type": "stream",
          "name": "stdout",
          "text": [
            "                     web      mobile  enterprise   embedded\n",
            "      Python          80          30          90         70\n",
            "        Java          85          60          85         40\n",
            "           C          30          40          70         90\n"
          ]
        }
      ],
      "source": [
        "f = open('data.csv', 'r')\n",
        "for line in f:\n",
        "  elems = line.split(',')\n",
        "  for e in elems:\n",
        "    print(f'{e:>12s}', end='')\n",
        "f.close()"
      ]
    },
    {
      "cell_type": "markdown",
      "metadata": {
        "id": "FTLSNvU5Umz7"
      },
      "source": [
        "ファイルの入出力はエラーを起こすことが多いので、プログラムが途中で終わってもcloseされるように、多くの場合は withブロックを使ってファイルの入出力を行います。"
      ]
    },
    {
      "cell_type": "code",
      "execution_count": 11,
      "metadata": {
        "colab": {
          "base_uri": "https://localhost:8080/"
        },
        "id": "kNXkdaJqlQQ3",
        "outputId": "eaa93637-52aa-4d6a-95fd-43e1cc1cfc1d"
      },
      "outputs": [
        {
          "output_type": "stream",
          "name": "stdout",
          "text": [
            "                     web      mobile  enterprise   embedded\n",
            "      Python          80          30          90         70\n",
            "        Java          85          60          85         40\n",
            "           C          30          40          70         90\n"
          ]
        }
      ],
      "source": [
        "with open('data.csv', 'r') as f:\n",
        "  for line in f:\n",
        "    elems = line.split(',')\n",
        "    for e in elems:\n",
        "      print(f'{e:>12s}', end='')"
      ]
    },
    {
      "cell_type": "markdown",
      "metadata": {
        "id": "6iSHnioFTPqA"
      },
      "source": [
        "## 練習問題2-2\n",
        "\n",
        "data.csvを読み込み、新たなプログラミング言語に関する評価をプログラム中で追加して、data2.csvとして保存してください。"
      ]
    },
    {
      "cell_type": "code",
      "execution_count": 11,
      "metadata": {
        "id": "MtUjBq4kTQBN"
      },
      "outputs": [],
      "source": [
        ""
      ]
    },
    {
      "cell_type": "markdown",
      "metadata": {
        "id": "tBp6OqBEHMEM"
      },
      "source": [
        "# おまけ：タートルグラフィックス\n",
        "\n",
        "京大テキストの6章の内容をColabで実行する場合は、以下のコードを参考にしてください。"
      ]
    },
    {
      "cell_type": "code",
      "execution_count": 12,
      "metadata": {
        "colab": {
          "base_uri": "https://localhost:8080/"
        },
        "id": "XFreIr7GHML1",
        "outputId": "b52ef83a-96be-49bd-a221-beae11d1e029"
      },
      "outputs": [
        {
          "output_type": "stream",
          "name": "stdout",
          "text": [
            "Collecting ColabTurtle\n",
            "  Downloading ColabTurtle-2.1.0.tar.gz (6.8 kB)\n",
            "Building wheels for collected packages: ColabTurtle\n",
            "  Building wheel for ColabTurtle (setup.py) ... \u001b[?25l\u001b[?25hdone\n",
            "  Created wheel for ColabTurtle: filename=ColabTurtle-2.1.0-py3-none-any.whl size=7657 sha256=31cbeb19905faa9427ff34892ae8cd9a48c74ae7267099d9d17aed7bae103d4f\n",
            "  Stored in directory: /root/.cache/pip/wheels/0d/ab/65/cc4478508751448dfb4ecb20a6533082855c227dfce8c13902\n",
            "Successfully built ColabTurtle\n",
            "Installing collected packages: ColabTurtle\n",
            "Successfully installed ColabTurtle-2.1.0\n"
          ]
        }
      ],
      "source": [
        "!pip install ColabTurtle\n",
        "import ColabTurtle.Turtle as turtle"
      ]
    },
    {
      "cell_type": "code",
      "execution_count": 13,
      "metadata": {
        "colab": {
          "base_uri": "https://localhost:8080/",
          "height": 522
        },
        "id": "ZjuuKkp4HfAB",
        "outputId": "36752e0f-1eb9-40b3-9f33-f6b615dd4f7a"
      },
      "outputs": [
        {
          "output_type": "display_data",
          "data": {
            "text/plain": [
              "<IPython.core.display.HTML object>"
            ],
            "text/html": [
              "\n",
              "      <svg width=\"800\" height=\"500\">\n",
              "        <rect width=\"100%\" height=\"100%\" fill=\"black\"/>\n",
              "        <line x1=\"400\" y1=\"250\" x2=\"400.0\" y2=\"150.0\" stroke-linecap=\"round\" style=\"stroke:white;stroke-width:4\"/><line x1=\"400.0\" y1=\"150.0\" x2=\"300.0\" y2=\"150.0\" stroke-linecap=\"round\" style=\"stroke:white;stroke-width:4\"/>\n",
              "        <g visibility=visible transform=\"rotate(270,300.0,150.0) translate(282.0, 132.0)\">\n",
              "<path style=\" stroke:none;fill-rule:evenodd;fill:white;fill-opacity:1;\" d=\"M 18.214844 0.632812 C 16.109375 1.800781 15.011719 4.074219 15.074219 7.132812 L 15.085938 7.652344 L 14.785156 7.496094 C 13.476562 6.824219 11.957031 6.671875 10.40625 7.066406 C 8.46875 7.550781 6.515625 9.15625 4.394531 11.992188 C 3.0625 13.777344 2.679688 14.636719 3.042969 15.027344 L 3.15625 15.152344 L 3.519531 15.152344 C 4.238281 15.152344 4.828125 14.886719 8.1875 13.039062 C 9.386719 12.378906 10.371094 11.839844 10.378906 11.839844 C 10.386719 11.839844 10.355469 11.929688 10.304688 12.035156 C 9.832031 13.09375 9.257812 14.820312 8.96875 16.078125 C 7.914062 20.652344 8.617188 24.53125 11.070312 27.660156 C 11.351562 28.015625 11.363281 27.914062 10.972656 28.382812 C 8.925781 30.84375 7.945312 33.28125 8.238281 35.1875 C 8.289062 35.527344 8.28125 35.523438 8.917969 35.523438 C 10.941406 35.523438 13.074219 34.207031 15.136719 31.6875 C 15.359375 31.417969 15.328125 31.425781 15.5625 31.574219 C 16.292969 32.042969 18.023438 32.964844 18.175781 32.964844 C 18.335938 32.964844 19.941406 32.210938 20.828125 31.71875 C 20.996094 31.625 21.136719 31.554688 21.136719 31.558594 C 21.203125 31.664062 21.898438 32.414062 22.222656 32.730469 C 23.835938 34.300781 25.5625 35.132812 27.582031 35.300781 C 27.90625 35.328125 27.9375 35.308594 28.007812 34.984375 C 28.382812 33.242188 27.625 30.925781 25.863281 28.425781 L 25.542969 27.96875 L 25.699219 27.785156 C 28.945312 23.960938 29.132812 18.699219 26.257812 11.96875 L 26.207031 11.84375 L 27.945312 12.703125 C 31.53125 14.476562 32.316406 14.800781 33.03125 14.800781 C 33.976562 14.800781 33.78125 13.9375 32.472656 12.292969 C 28.519531 7.355469 25.394531 5.925781 21.921875 7.472656 L 21.558594 7.636719 L 21.578125 7.542969 C 21.699219 6.992188 21.761719 5.742188 21.699219 5.164062 C 21.496094 3.296875 20.664062 1.964844 19.003906 0.855469 C 18.480469 0.503906 18.457031 0.5 18.214844 0.632812\"/>\n",
              "</g>\n",
              "      </svg>\n",
              "    "
            ]
          },
          "metadata": {}
        }
      ],
      "source": [
        "turtle.initializeTurtle()\n",
        "turtle.pendown()\n",
        "\n",
        "turtle.forward(100)\n",
        "turtle.left(90)\n",
        "turtle.forward(100)"
      ]
    },
    {
      "cell_type": "markdown",
      "metadata": {
        "id": "abdRejdpL0ld"
      },
      "source": [
        "# 練習問題の解答例"
      ]
    },
    {
      "cell_type": "markdown",
      "metadata": {
        "id": "Vsst4SLZL1wd"
      },
      "source": [
        "### 練習問題2-1"
      ]
    },
    {
      "cell_type": "code",
      "execution_count": 14,
      "metadata": {
        "colab": {
          "base_uri": "https://localhost:8080/"
        },
        "id": "9auGD7JYL00V",
        "outputId": "38f57252-77f2-46fe-bca5-683fcbe7aa70"
      },
      "outputs": [
        {
          "output_type": "stream",
          "name": "stdout",
          "text": [
            "f says Hello\n",
            "In F, f says Hello\n"
          ]
        }
      ],
      "source": [
        "%reset -f\n",
        "def f():\n",
        "  print(\"f says Hello\")\n",
        "\n",
        "# 関数を引数でもらって実行する関数\n",
        "def F(y):\n",
        "  print(\"In F, \", end=\"\")\n",
        "  y()\n",
        "\n",
        "# f を実行\n",
        "f()\n",
        "\n",
        "# f を F に渡して F を実行\n",
        "F(f)"
      ]
    },
    {
      "cell_type": "markdown",
      "metadata": {
        "id": "Qy59EihMOrHj"
      },
      "source": [
        "### 練習問題2-2\n",
        "\n",
        "書き出したファイルが見えない場合は、エクスプローラペインを更新してください。"
      ]
    },
    {
      "cell_type": "code",
      "execution_count": 15,
      "metadata": {
        "id": "6SQDf4B4N6Mh"
      },
      "outputs": [],
      "source": [
        "%reset -f\n",
        "new_data = \"JavaScript, 90, 30 , 40, 20 \"\n",
        "\n",
        "with open('data.csv', 'r') as f:\n",
        "  data = f.read()\n",
        "data = data + new_data\n",
        "with open('data2.csv', 'w') as f:\n",
        "  f.write(data)"
      ]
    }
  ],
  "metadata": {
    "colab": {
      "collapsed_sections": [],
      "name": "pyintro2.ipynb",
      "provenance": []
    },
    "kernelspec": {
      "display_name": "Python 3",
      "name": "python3"
    },
    "language_info": {
      "name": "python"
    }
  },
  "nbformat": 4,
  "nbformat_minor": 0
}