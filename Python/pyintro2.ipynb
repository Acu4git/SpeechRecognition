{
  "cells": [
    {
      "cell_type": "markdown",
      "metadata": {
        "id": "yzshjpxJkN_j"
      },
      "source": [
        "# Python入門(2)\n",
        "\n",
        "- 関数\n",
        "- クラス\n",
        "- 入出力\n",
        "- ライブラリ"
      ]
    },
    {
      "cell_type": "markdown",
      "source": [
        "## 関数"
      ],
      "metadata": {
        "id": "30EgpORhJ8LV"
      }
    },
    {
      "cell_type": "markdown",
      "metadata": {
        "id": "HUMng2oCuL1g"
      },
      "source": [
        "memo:  \n",
        "Colabでインデントを下げるショートカットキーは ctrl+'}'"
      ]
    },
    {
      "cell_type": "code",
      "source": [
        "# 入力を行う関数\n",
        "\n",
        "def input_number():\n",
        "  while True:\n",
        "    x = input('Enter positive number> ')\n",
        "    try:\n",
        "      x = float(x)\n",
        "    except ValueError:\n",
        "      print(f'{x}は数値に変換できません。')\n",
        "      continue\n",
        "    if x <= 0:\n",
        "      print(f'{x}は正の数値ではありません。')\n",
        "      continue\n",
        "    break\n",
        "  return x"
      ],
      "metadata": {
        "id": "xeDz-Z76KFv7"
      },
      "execution_count": 2,
      "outputs": []
    },
    {
      "cell_type": "code",
      "source": [
        "# 平方根を求める関数\n",
        "\n",
        "def square_root(x):\n",
        "  rnew = x\n",
        "  while True:\n",
        "    r1 = rnew\n",
        "    r2 = x/r1\n",
        "    rnew = (r1 + r2)/2\n",
        "    if r1 - r2 < 1.0E-3:\n",
        "      break\n",
        "  return rnew"
      ],
      "metadata": {
        "id": "Tjh6ztokKOV9"
      },
      "execution_count": 3,
      "outputs": []
    },
    {
      "cell_type": "code",
      "execution_count": 4,
      "metadata": {
        "colab": {
          "base_uri": "https://localhost:8080/"
        },
        "id": "sN2luqNavVPx",
        "outputId": "6db2dec2-ea7f-4021-b211-43f20b4981f7"
      },
      "outputs": [
        {
          "output_type": "stream",
          "name": "stdout",
          "text": [
            "Enter positive number> 2\n",
            "Square root of 2.0 is 1.4142135623746899.\n"
          ]
        }
      ],
      "source": [
        "# 全体の手順\n",
        "\n",
        "x = input_number()\n",
        "sq = square_root(x)\n",
        "print(f'Square root of {x} is {sq}.')"
      ]
    },
    {
      "cell_type": "code",
      "source": [
        "# デフォルト引数\n",
        "\n",
        "def square_root(x, eps=1.0E-6):\n",
        "  rnew = x\n",
        "  while True:\n",
        "    r1 = rnew\n",
        "    r2 = x/r1\n",
        "    rnew = (r1 + r2)/2\n",
        "    if r1 - r2 < eps:\n",
        "      break\n",
        "  return rnew"
      ],
      "metadata": {
        "id": "AcDKYgC6KqRn"
      },
      "execution_count": 5,
      "outputs": []
    },
    {
      "cell_type": "code",
      "source": [
        "# 引数1つで呼び出す\n",
        "\n",
        "square_root(2)"
      ],
      "metadata": {
        "colab": {
          "base_uri": "https://localhost:8080/"
        },
        "id": "FepUNlhIK28J",
        "outputId": "4d45b857-bf09-481b-de37-422ee20ed9c2"
      },
      "execution_count": 8,
      "outputs": [
        {
          "output_type": "execute_result",
          "data": {
            "text/plain": [
              "1.414213562373095"
            ]
          },
          "metadata": {},
          "execution_count": 8
        }
      ]
    },
    {
      "cell_type": "code",
      "source": [
        "# 仮引数の順に実引数を与えて呼び出す\n",
        "square_root(2, 1.0E-2)"
      ],
      "metadata": {
        "colab": {
          "base_uri": "https://localhost:8080/"
        },
        "id": "zOROvlg-KqXx",
        "outputId": "61718117-27ab-4bc7-b279-ac4f6383f960"
      },
      "execution_count": 9,
      "outputs": [
        {
          "output_type": "execute_result",
          "data": {
            "text/plain": [
              "1.4142156862745097"
            ]
          },
          "metadata": {},
          "execution_count": 9
        }
      ]
    },
    {
      "cell_type": "code",
      "source": [
        "# キーワード引数で呼び出す\n",
        "square_root(2, eps=1.0E-6)"
      ],
      "metadata": {
        "colab": {
          "base_uri": "https://localhost:8080/"
        },
        "id": "Fv2Tjq9QKqab",
        "outputId": "84553cab-5fc1-407f-859d-24e728250838"
      },
      "execution_count": 10,
      "outputs": [
        {
          "output_type": "execute_result",
          "data": {
            "text/plain": [
              "1.414213562373095"
            ]
          },
          "metadata": {},
          "execution_count": 10
        }
      ]
    },
    {
      "cell_type": "markdown",
      "source": [
        "## クラス"
      ],
      "metadata": {
        "id": "9Z1WlXOcLN2T"
      }
    },
    {
      "cell_type": "code",
      "execution_count": 11,
      "metadata": {
        "colab": {
          "base_uri": "https://localhost:8080/"
        },
        "id": "v94evy7VHL7E",
        "outputId": "e0b6362e-3015-4dec-bc45-1d78ad5f3857"
      },
      "outputs": [
        {
          "output_type": "stream",
          "name": "stdout",
          "text": [
            "3\n",
            "2\n",
            "9\n",
            "8\n",
            "5\n",
            "None\n"
          ]
        }
      ],
      "source": [
        "# スタックの例\n",
        "\n",
        "class MyStack():\n",
        "  def __init__(self, data):\n",
        "    self.num_list = data\n",
        "\n",
        "  def push(self, elem):\n",
        "    self.num_list.append(elem)\n",
        "\n",
        "  def pop(self):\n",
        "    if self.is_empty() == True:\n",
        "      return None\n",
        "    else:\n",
        "      x = self.num_list[-1]\n",
        "      self.num_list = self.num_list[:-1]\n",
        "      return x\n",
        "\n",
        "  def is_empty(self):\n",
        "    return self.num_list == []\n",
        "\n",
        "  def clear(self):\n",
        "    self.num_list = []\n",
        "\n",
        "if __name__ == '__main__':\n",
        "  st = MyStack([5, 2, 3])\n",
        "  print(st.pop())\n",
        "  print(st.pop())\n",
        "  st.push(8)\n",
        "  st.push(9)\n",
        "  print(st.pop())\n",
        "  print(st.pop())\n",
        "  print(st.pop())\n",
        "  print(st.pop())"
      ]
    },
    {
      "cell_type": "markdown",
      "metadata": {
        "id": "B8Rm4GKqIYiM"
      },
      "source": [
        "# 入出力\n"
      ]
    },
    {
      "cell_type": "code",
      "execution_count": 14,
      "metadata": {
        "id": "Ekt4j8RDIYtL"
      },
      "outputs": [],
      "source": [
        "# ファイルの作成\n",
        "\n",
        "data = ''', web, mobile, enterprise, embedded\n",
        "Python, 80, 30, 90, 70\n",
        "Java, 85, 60, 85, 40\n",
        "C, 30, 40, 70, 90\n",
        "'''\n",
        "\n",
        "f = open('data.csv', 'w')\n",
        "f.write(data)\n",
        "f.close()"
      ]
    },
    {
      "cell_type": "code",
      "execution_count": 15,
      "metadata": {
        "colab": {
          "base_uri": "https://localhost:8080/"
        },
        "id": "UOA1bEWXUmbM",
        "outputId": "9c2c2206-fd48-4895-90e6-112066aaef63"
      },
      "outputs": [
        {
          "output_type": "stream",
          "name": "stdout",
          "text": [
            "                     web      mobile  enterprise   embedded\n",
            "      Python          80          30          90         70\n",
            "        Java          85          60          85         40\n",
            "           C          30          40          70         90\n"
          ]
        }
      ],
      "source": [
        "# ファイルの読み込みと表示\n",
        "\n",
        "f = open('data.csv', 'r')\n",
        "data = f.readlines()\n",
        "for line in data:\n",
        "  elems = line.split(',')\n",
        "  for e in elems:\n",
        "    print(f'{e:>12s}', end='')\n",
        "f.close()"
      ]
    },
    {
      "cell_type": "code",
      "execution_count": 16,
      "metadata": {
        "colab": {
          "base_uri": "https://localhost:8080/"
        },
        "id": "kNXkdaJqlQQ3",
        "outputId": "fa2bdbbb-e948-4566-d99a-c75137fe7d9a"
      },
      "outputs": [
        {
          "output_type": "stream",
          "name": "stdout",
          "text": [
            "                     web      mobile  enterprise   embedded\n",
            "      Python          80          30          90         70\n",
            "        Java          85          60          85         40\n",
            "           C          30          40          70         90\n"
          ]
        }
      ],
      "source": [
        "# withを用いたファイルの読み込みと表示\n",
        "\n",
        "with open('data.csv', 'r') as f:\n",
        "  data = f.readlines()\n",
        "  for line in data:\n",
        "    elems = line.split(',')\n",
        "    for e in elems:\n",
        "      print(f'{e:>12s}', end='')"
      ]
    },
    {
      "cell_type": "markdown",
      "source": [
        "## ライブラリ"
      ],
      "metadata": {
        "id": "XUgKUGg4MNH7"
      }
    },
    {
      "cell_type": "code",
      "execution_count": 17,
      "metadata": {
        "id": "MtUjBq4kTQBN"
      },
      "outputs": [],
      "source": [
        "import numpy as np\n",
        "import matplotlib.pyplot as plt\n",
        "import pandas as pd"
      ]
    },
    {
      "cell_type": "code",
      "source": [
        "%precision 3"
      ],
      "metadata": {
        "colab": {
          "base_uri": "https://localhost:8080/",
          "height": 36
        },
        "id": "3ducW_lnQKyH",
        "outputId": "8cd3f687-6581-416e-b972-045e50194971"
      },
      "execution_count": 20,
      "outputs": [
        {
          "output_type": "execute_result",
          "data": {
            "text/plain": [
              "'%.3f'"
            ],
            "application/vnd.google.colaboratory.intrinsic+json": {
              "type": "string"
            }
          },
          "metadata": {},
          "execution_count": 20
        }
      ]
    },
    {
      "cell_type": "markdown",
      "source": [
        "### numpy"
      ],
      "metadata": {
        "id": "qi6VrrHJQSNF"
      }
    },
    {
      "cell_type": "code",
      "source": [
        "# ベクトルや行列は ndarray で保持する\n",
        "\n",
        "arr2 = np.array([[1.3, 2.5, 3.1], [4.0, 5.1, 6.9]])\n",
        "print(arr2)\n",
        "print('type: ', type(arr2))\n",
        "print('ndim: ', arr2.ndim)\n",
        "print('shape: ', arr2.shape)\n",
        "print('dtype: ', arr2.dtype)"
      ],
      "metadata": {
        "colab": {
          "base_uri": "https://localhost:8080/"
        },
        "id": "n1B23aX9QK1R",
        "outputId": "860061a0-1ce3-4346-e9d2-3a74666643cb"
      },
      "execution_count": 21,
      "outputs": [
        {
          "output_type": "stream",
          "name": "stdout",
          "text": [
            "[[1.3 2.5 3.1]\n",
            " [4.  5.1 6.9]]\n",
            "type:  <class 'numpy.ndarray'>\n",
            "ndim:  2\n",
            "shape:  (2, 3)\n",
            "dtype:  float64\n"
          ]
        }
      ]
    },
    {
      "cell_type": "code",
      "source": [
        "# 乱数（平均0、分散1の標準正規分布）で配列の初期値を与える\n",
        "arr3 = np.random.randn(10)\n",
        "print(arr3)"
      ],
      "metadata": {
        "colab": {
          "base_uri": "https://localhost:8080/"
        },
        "id": "gzL4tA5nQclM",
        "outputId": "ec3894fb-b688-483c-8d59-fcc48fd04776"
      },
      "execution_count": 22,
      "outputs": [
        {
          "output_type": "stream",
          "name": "stdout",
          "text": [
            "[-0.315 -2.237  0.032 -0.289  0.942  1.413 -1.214 -1.377 -0.022 -0.774]\n"
          ]
        }
      ]
    },
    {
      "cell_type": "code",
      "source": [
        "# ブールインデックスを使った参照\n",
        "\n",
        "arr3[arr3 > 0]"
      ],
      "metadata": {
        "colab": {
          "base_uri": "https://localhost:8080/"
        },
        "id": "W2vKsxrRQcos",
        "outputId": "ac6aacc7-7268-466e-8698-04d0765a7051"
      },
      "execution_count": 23,
      "outputs": [
        {
          "output_type": "execute_result",
          "data": {
            "text/plain": [
              "array([0.032, 0.942, 1.413])"
            ]
          },
          "metadata": {},
          "execution_count": 23
        }
      ]
    },
    {
      "cell_type": "code",
      "source": [
        "# 行列計算\n",
        "\n",
        "m1 = np.array([[1, 2], [3, 4]])\n",
        "m2 = np.array([[5, 6], [7, 8]])\n",
        "\n",
        "print('original:')\n",
        "print(m1)\n",
        "# 転置\n",
        "print('transposed:')\n",
        "print(m1.T)\n",
        "# 逆行列\n",
        "print('inverse:')\n",
        "print(np.linalg.inv(m1))\n",
        "# 対角要素\n",
        "print('diag:')\n",
        "print(np.diag(m1))\n",
        "# 行列式\n",
        "print('det:')\n",
        "print(np.linalg.det(m1))\n",
        "# 固有値\n",
        "print('eigenvalues:')\n",
        "print(np.linalg.eig(m1))\n",
        "# 和\n",
        "print('sum:')\n",
        "print(m1 + m2)\n",
        "# 積\n",
        "print('product:')\n",
        "print(m1 @ m2)"
      ],
      "metadata": {
        "colab": {
          "base_uri": "https://localhost:8080/"
        },
        "id": "Ymv5LEPTp8C3",
        "outputId": "7472b216-3ad1-4800-81b0-fef5ac2c4466"
      },
      "execution_count": 24,
      "outputs": [
        {
          "output_type": "stream",
          "name": "stdout",
          "text": [
            "original:\n",
            "[[1 2]\n",
            " [3 4]]\n",
            "transposed:\n",
            "[[1 3]\n",
            " [2 4]]\n",
            "inverse:\n",
            "[[-2.   1. ]\n",
            " [ 1.5 -0.5]]\n",
            "diag:\n",
            "[1 4]\n",
            "det:\n",
            "-2.0000000000000004\n",
            "eigenvalues:\n",
            "(array([-0.372,  5.372]), array([[-0.825, -0.416],\n",
            "       [ 0.566, -0.909]]))\n",
            "sum:\n",
            "[[ 6  8]\n",
            " [10 12]]\n",
            "product:\n",
            "[[19 22]\n",
            " [43 50]]\n"
          ]
        }
      ]
    },
    {
      "cell_type": "markdown",
      "source": [
        "### matplotlib"
      ],
      "metadata": {
        "id": "UesFbiPEQVTB"
      }
    },
    {
      "cell_type": "code",
      "source": [
        "# 関数のプロット\n",
        "\n",
        "import math\n",
        "x = np.arange(-math.pi, math.pi, 0.1)\n",
        "y = np.sin(x)\n",
        "plt.title('sine curve')\n",
        "plt.xlabel('x')\n",
        "plt.ylabel('y')\n",
        "plt.plot(x, y, 'r-')\n",
        "plt.plot(x, y*2, 'b--')"
      ],
      "metadata": {
        "colab": {
          "base_uri": "https://localhost:8080/",
          "height": 491
        },
        "id": "Foka6ZBwQK4b",
        "outputId": "0b7fd155-aaa7-417c-956a-906b6617b029"
      },
      "execution_count": 25,
      "outputs": [
        {
          "output_type": "execute_result",
          "data": {
            "text/plain": [
              "[<matplotlib.lines.Line2D at 0x7fc67245fb20>]"
            ]
          },
          "metadata": {},
          "execution_count": 25
        },
        {
          "output_type": "display_data",
          "data": {
            "text/plain": [
              "<Figure size 640x480 with 1 Axes>"
            ],
            "image/png": "[encoded data removed]"
          },
          "metadata": {}
        }
      ]
    },
    {
      "cell_type": "code",
      "source": [
        "# 散布図\n",
        "\n",
        "np.random.seed(0)\n",
        "# 平均(0,0)、分散1の正規分布から2次元データを50個生成\n",
        "data = np.random.randn(50, 2)\n",
        "# マーカの色と形を指定して散布図で表示\n",
        "plt.scatter(data[:,0], data[:,1], c='blue',marker='o')"
      ],
      "metadata": {
        "colab": {
          "base_uri": "https://localhost:8080/",
          "height": 449
        },
        "id": "TY9fobB_QdTx",
        "outputId": "fcb07473-d80f-40c3-98d6-9d00440e3e52"
      },
      "execution_count": 26,
      "outputs": [
        {
          "output_type": "execute_result",
          "data": {
            "text/plain": [
              "<matplotlib.collections.PathCollection at 0x7fc6722fd8e0>"
            ]
          },
          "metadata": {},
          "execution_count": 26
        },
        {
          "output_type": "display_data",
          "data": {
            "text/plain": [
              "<Figure size 640x480 with 1 Axes>"
            ],
            "image/png": "[encoded data removed]"
          },
          "metadata": {}
        }
      ]
    },
    {
      "cell_type": "code",
      "source": [
        "# ヒストグラム\n",
        "\n",
        "np.random.seed(0)\n",
        "# 平均0、分散1の正規分布から1次元データを1000個生成\n",
        "data = np.random.randn(1000)\n",
        "# データを20個のbinに分割して、度数・binの端の値を返し、グラフを表示\n",
        "plt.hist(data, bins=20)"
      ],
      "metadata": {
        "colab": {
          "base_uri": "https://localhost:8080/",
          "height": 541
        },
        "id": "LXDDR_5PQdXS",
        "outputId": "24225921-577c-4dda-d46b-868c15385cd7"
      },
      "execution_count": 27,
      "outputs": [
        {
          "output_type": "execute_result",
          "data": {
            "text/plain": [
              "(array([  3.,   6.,   9.,  11.,  30.,  40.,  59.,  87., 103., 114., 116.,\n",
              "        123.,  83.,  77.,  48.,  38.,  22.,  16.,  11.,   4.]),\n",
              " array([-3.046, -2.756, -2.466, -2.175, -1.885, -1.595, -1.304, -1.014,\n",
              "        -0.724, -0.434, -0.143,  0.147,  0.437,  0.727,  1.018,  1.308,\n",
              "         1.598,  1.889,  2.179,  2.469,  2.759]),\n",
              " <BarContainer object of 20 artists>)"
            ]
          },
          "metadata": {},
          "execution_count": 27
        },
        {
          "output_type": "display_data",
          "data": {
            "text/plain": [
              "<Figure size 640x480 with 1 Axes>"
            ],
            "image/png": "[encoded data removed]"
          },
          "metadata": {}
        }
      ]
    }
  ],
  "metadata": {
    "colab": {
      "provenance": []
    },
    "kernelspec": {
      "display_name": "Python 3",
      "name": "python3"
    },
    "language_info": {
      "name": "python"
    }
  },
  "nbformat": 4,
  "nbformat_minor": 0
}