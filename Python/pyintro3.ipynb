{
  "cells": [
    {
      "cell_type": "markdown",
      "metadata": {
        "id": "TqAC-YxnaEzg"
      },
      "source": [
        "<a href=\"https://colab.research.google.com/github/MasahiroAraki/SpeechRecognition/blob/master/Python/pyintro3.ipynb\" target=\"_parent\"><img src=\"https://colab.research.google.com/assets/colab-badge.svg\" alt=\"Open In Colab\"/></a>"
      ]
    },
    {
      "cell_type": "markdown",
      "metadata": {
        "id": "7gH3x-6taGD2"
      },
      "source": [
        "# Python入門(3)\n",
        "\n",
        "- 数値計算ライブラリ numpy\n",
        "- グラフ描画ライブラリ matplotlib\n",
        "- データ操作ライブラリ pandas\n",
        "\n",
        "このテキストは [京大 プログラミング演習 Python 2021](http://hdl.handle.net/2433/265459) 第14章を参考にしています。説明が足りないところはリンク先のテキストで補ってください。"
      ]
    },
    {
      "cell_type": "markdown",
      "metadata": {
        "id": "G5yeoH4yxjJZ"
      },
      "source": [
        "Pythonと各種ライブラリの関係\n",
        "\n",
        "![スライド2.PNG](data:image/png;base64,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)"
      ]
    },
    {
      "cell_type": "markdown",
      "metadata": {
        "id": "AT1CPpJdNXng"
      },
      "source": [
        "## ライブラリの使用準備\n",
        "\n",
        "ライブラリを使用可能にするには、インポートする必要があります。書式は `import ライブラリ名 as 別名` です。 よく使われるライブラリは別名もほぼ決まっており、これ以外の別名を使うと他人がコードを読むときに混乱します。"
      ]
    },
    {
      "cell_type": "code",
      "execution_count": null,
      "metadata": {
        "id": "tWOcfnLaNX2G"
      },
      "outputs": [],
      "source": [
        "import numpy as np\n",
        "import matplotlib.pyplot as plt\n",
        "import pandas as pd"
      ]
    },
    {
      "cell_type": "markdown",
      "metadata": {
        "id": "SWJftnw9zMVm"
      },
      "source": [
        "ライブラリ中の特定のクラスやメソッドのみをインポートするときは `from ライブラリ名 import 対象` と書きます。"
      ]
    },
    {
      "cell_type": "markdown",
      "metadata": {
        "id": "NwLTD30oQanS"
      },
      "source": [
        "## Notebookの設定変更\n",
        "\n",
        "このnotebookでは小数点以下の表示を3桁に制限して見やすく表示します。"
      ]
    },
    {
      "cell_type": "code",
      "execution_count": null,
      "metadata": {
        "colab": {
          "base_uri": "https://localhost:8080/",
          "height": 35
        },
        "id": "d_XthViIQaxY",
        "outputId": "2c50d123-a970-4984-c354-52828cd123aa"
      },
      "outputs": [
        {
          "output_type": "execute_result",
          "data": {
            "text/plain": [
              "'%.3f'"
            ],
            "application/vnd.google.colaboratory.intrinsic+json": {
              "type": "string"
            }
          },
          "metadata": {},
          "execution_count": 2
        }
      ],
      "source": [
        "%precision 3"
      ]
    },
    {
      "cell_type": "markdown",
      "metadata": {
        "id": "vmam046PaGId"
      },
      "source": [
        "## 数値計算ライブラリ numpy\n",
        "\n",
        "numpyは型付き多次元配列（ベクトル、行列、テンソル）に対して数学的な操作を高速に行うライブラリです。"
      ]
    },
    {
      "cell_type": "markdown",
      "metadata": {
        "id": "dF47GpOSc6sj"
      },
      "source": [
        "### numpyの基本データ型: ndarray\n",
        "\n",
        "numpyでは多次元配列を[ndarray](https://numpy.org/doc/stable/reference/arrays.ndarray.html)というデータ形式で表します。ndarrayは見た目はPythonのリストと同じですが、すべての要素が同じ型の固定長のアレイです。ndarrayはPythonのリストを引数としてnp.arrayメソッドで作成することができます。\n",
        "\n",
        "以下の例で、定義時に要素のひとつを浮動小数点数に変えて、すべての要素型がどのように変わるか確かめてください。なお、Pythonのオブジェクトの型はtypeで表示させることができます。そしてndarrayについては、テンソルとしての階数（C言語の多次元配列では次元数とよんでいるもの）はndim、サイズはshape、要素型はdtypeでそれぞれ調べることができます。"
      ]
    },
    {
      "cell_type": "code",
      "execution_count": null,
      "metadata": {
        "colab": {
          "base_uri": "https://localhost:8080/"
        },
        "id": "SYWyujF7c63a",
        "outputId": "4899442f-46b7-4678-b57a-3f094fd9d94c"
      },
      "outputs": [
        {
          "output_type": "execute_result",
          "data": {
            "text/plain": [
              "array([1, 2, 3])"
            ]
          },
          "metadata": {},
          "execution_count": 3
        }
      ],
      "source": [
        "arr1 = np.array([1, 2, 3])\n",
        "arr1"
      ]
    },
    {
      "cell_type": "code",
      "execution_count": null,
      "metadata": {
        "colab": {
          "base_uri": "https://localhost:8080/"
        },
        "id": "gWb-bDrDzyLO",
        "outputId": "ff85c68d-748c-4e1a-d240-f9f2e4354be3"
      },
      "outputs": [
        {
          "output_type": "execute_result",
          "data": {
            "text/plain": [
              "numpy.ndarray"
            ]
          },
          "metadata": {},
          "execution_count": 4
        }
      ],
      "source": [
        "type(arr1)"
      ]
    },
    {
      "cell_type": "code",
      "execution_count": null,
      "metadata": {
        "colab": {
          "base_uri": "https://localhost:8080/"
        },
        "id": "WweAsmzx0bZK",
        "outputId": "b4675e2b-bdb3-4632-deee-92f3b108a771"
      },
      "outputs": [
        {
          "output_type": "execute_result",
          "data": {
            "text/plain": [
              "1"
            ]
          },
          "metadata": {},
          "execution_count": 5
        }
      ],
      "source": [
        "# ベクトルは1階のテンソル\n",
        "arr1.ndim"
      ]
    },
    {
      "cell_type": "code",
      "execution_count": null,
      "metadata": {
        "colab": {
          "base_uri": "https://localhost:8080/"
        },
        "id": "6ZJVVd1G0uEP",
        "outputId": "4623a3ab-984a-4d46-bb29-0ad1696e90da"
      },
      "outputs": [
        {
          "output_type": "execute_result",
          "data": {
            "text/plain": [
              "(3,)"
            ]
          },
          "metadata": {},
          "execution_count": 6
        }
      ],
      "source": [
        "# テンソルのサイズ\n",
        "arr1.shape"
      ]
    },
    {
      "cell_type": "markdown",
      "metadata": {
        "id": "LD00iFqx0__p"
      },
      "source": [
        "テンソルのサイズは階数を要素の個数とするタプルで表現されます。1階のテンソルの場合、要素数が1つのタプルなので `(要素,)` と表示されます。一見おかしな表示ですが、カンマがなければ優先順位を示す括弧で要素が囲われているものと区別がつきません。"
      ]
    },
    {
      "cell_type": "code",
      "execution_count": null,
      "metadata": {
        "colab": {
          "base_uri": "https://localhost:8080/"
        },
        "id": "3tmK3mUGzjWz",
        "outputId": "1dddc1fc-3a38-4190-ab45-b30306a18740"
      },
      "outputs": [
        {
          "output_type": "execute_result",
          "data": {
            "text/plain": [
              "dtype('int64')"
            ]
          },
          "metadata": {},
          "execution_count": 7
        }
      ],
      "source": [
        "# ndarrayの要素のデータ型\n",
        "arr1.dtype"
      ]
    },
    {
      "cell_type": "markdown",
      "metadata": {
        "id": "fOxXHCTy1S0P"
      },
      "source": [
        "浮動小数点数の行列を作って、上記のそれぞれを値を確認してみてください。"
      ]
    },
    {
      "cell_type": "code",
      "execution_count": null,
      "metadata": {
        "colab": {
          "base_uri": "https://localhost:8080/"
        },
        "id": "OjTbIfvnzjhW",
        "outputId": "e9b7413b-086c-430d-fc34-7fbfab5ac6ca"
      },
      "outputs": [
        {
          "output_type": "stream",
          "name": "stdout",
          "text": [
            "[[1.3 2.5 3.1]\n",
            " [4.  5.1 6.9]]\n",
            "type:  <class 'numpy.ndarray'>\n",
            "ndim:  2\n",
            "shape:  (2, 3)\n",
            "dtype:  float64\n"
          ]
        }
      ],
      "source": [
        "arr2 = np.array([[1.3, 2.5, 3.1], [4.0, 5.1, 6.9]])\n",
        "print(arr2)\n",
        "print('type: ', type(arr2))\n",
        "print('ndim: ', arr2.ndim)\n",
        "print('shape: ', arr2.shape)\n",
        "print('dtype: ', arr2.dtype)"
      ]
    },
    {
      "cell_type": "markdown",
      "metadata": {
        "id": "h9oECcvK2PHW"
      },
      "source": [
        "### ndarrayへのアクセス\n",
        "\n",
        "ndarrayに対する要素へのアクセスはPythonのリストと同様で、インデックスやスライスを用います。"
      ]
    },
    {
      "cell_type": "code",
      "execution_count": null,
      "metadata": {
        "colab": {
          "base_uri": "https://localhost:8080/"
        },
        "id": "HTvLiAdZ2PYG",
        "outputId": "549eedd0-70b0-4b5e-e040-56c3fcbdcfe9"
      },
      "outputs": [
        {
          "output_type": "execute_result",
          "data": {
            "text/plain": [
              "array([ 1, 15,  3])"
            ]
          },
          "metadata": {},
          "execution_count": 9
        }
      ],
      "source": [
        "# インデックスによる参照\n",
        "arr1[1] = 15\n",
        "arr1"
      ]
    },
    {
      "cell_type": "code",
      "execution_count": null,
      "metadata": {
        "colab": {
          "base_uri": "https://localhost:8080/"
        },
        "id": "Lerty9I22cFw",
        "outputId": "4d0e4bee-2bc1-4cd7-890d-92fe453c60b1"
      },
      "outputs": [
        {
          "output_type": "execute_result",
          "data": {
            "text/plain": [
              "array([[1.3, 2.5],\n",
              "       [4. , 5.1]])"
            ]
          },
          "metadata": {},
          "execution_count": 10
        }
      ],
      "source": [
        "# スライスを用いた参照\n",
        "arr2[0:2, 0:2]"
      ]
    },
    {
      "cell_type": "markdown",
      "metadata": {
        "id": "MNHdk9SJ3Gpe"
      },
      "source": [
        "### ndarrayの作成\n",
        "\n",
        "特定の初期値や乱数を要素として、指定のサイズのndarrayを作ることができます。"
      ]
    },
    {
      "cell_type": "code",
      "execution_count": null,
      "metadata": {
        "colab": {
          "base_uri": "https://localhost:8080/"
        },
        "id": "nl0W75aU5bPu",
        "outputId": "3a180e75-f950-4aa1-a771-e91d6935d8ff"
      },
      "outputs": [
        {
          "output_type": "execute_result",
          "data": {
            "text/plain": [
              "array([[0., 0., 0., 0., 0.],\n",
              "       [0., 0., 0., 0., 0.],\n",
              "       [0., 0., 0., 0., 0.],\n",
              "       [0., 0., 0., 0., 0.],\n",
              "       [0., 0., 0., 0., 0.]])"
            ]
          },
          "metadata": {},
          "execution_count": 11
        }
      ],
      "source": [
        "# zerosは初期値0で多次元配列を作成。初期値1はones\n",
        "np.zeros((5,5))"
      ]
    },
    {
      "cell_type": "code",
      "execution_count": null,
      "metadata": {
        "colab": {
          "base_uri": "https://localhost:8080/"
        },
        "id": "Jt-2DQLD50GM",
        "outputId": "4749d28d-8c71-4437-8859-3fba36726927"
      },
      "outputs": [
        {
          "output_type": "execute_result",
          "data": {
            "text/plain": [
              "array([[0.962, 0.423, 0.634],\n",
              "       [0.324, 0.17 , 0.4  ],\n",
              "       [0.441, 0.43 , 0.35 ]])"
            ]
          },
          "metadata": {},
          "execution_count": 12
        }
      ],
      "source": [
        "# 乱数（0から1までの一様分布）で多次元配列の初期値を与える\n",
        "np.random.rand(3, 3)"
      ]
    },
    {
      "cell_type": "code",
      "execution_count": null,
      "metadata": {
        "colab": {
          "base_uri": "https://localhost:8080/"
        },
        "id": "X6WkHUXMD8pb",
        "outputId": "48728b87-cff2-4e01-df5c-e154267add41"
      },
      "outputs": [
        {
          "output_type": "stream",
          "name": "stdout",
          "text": [
            "[ 1.495 -1.171 -0.411  0.574 -0.83   0.159 -0.343 -2.162 -0.207 -0.183]\n"
          ]
        }
      ],
      "source": [
        "# 乱数（平均0、分散1の標準正規分布）で配列の初期値を与える\n",
        "arr3 = np.random.randn(10)\n",
        "print(arr3)"
      ]
    },
    {
      "cell_type": "markdown",
      "metadata": {
        "id": "EaJl4Trp5bkd"
      },
      "source": [
        "### ブールインデックス参照\n",
        "\n",
        "ndarrayに対して条件式を適用すると、その条件に対する True or False を要素とする同サイズのndarray （ブールインデックス）が得られます。"
      ]
    },
    {
      "cell_type": "code",
      "execution_count": null,
      "metadata": {
        "colab": {
          "base_uri": "https://localhost:8080/"
        },
        "id": "c9Y8NH0A5bs5",
        "outputId": "63b7ef2a-daa0-452d-c7db-f9b17d211281"
      },
      "outputs": [
        {
          "output_type": "stream",
          "name": "stdout",
          "text": [
            "[ True False False  True False  True False False False False]\n"
          ]
        }
      ],
      "source": [
        "print(arr3 > 0)"
      ]
    },
    {
      "cell_type": "markdown",
      "metadata": {
        "id": "Ehl5GZf-2PgE"
      },
      "source": [
        "ndarrayの要素参照にブールインデックスを用いると、Trueに対応する要素だけを取り出すことができます。"
      ]
    },
    {
      "cell_type": "code",
      "execution_count": null,
      "metadata": {
        "colab": {
          "base_uri": "https://localhost:8080/"
        },
        "id": "lmicnhJ_2PmJ",
        "outputId": "71f69207-00cd-49f2-bf47-6664799522a6"
      },
      "outputs": [
        {
          "output_type": "execute_result",
          "data": {
            "text/plain": [
              "array([1.495, 0.574, 0.159])"
            ]
          },
          "metadata": {},
          "execution_count": 15
        }
      ],
      "source": [
        "arr3[arr3 > 0]"
      ]
    },
    {
      "cell_type": "markdown",
      "metadata": {
        "id": "N05Qj02uOLDm"
      },
      "source": [
        "### 行列計算\n",
        "\n",
        "2階のndarrayに対して様々な行列計算が可能です。線形代数の代表的な演算は[np.linalg](https://numpy.org/doc/stable/reference/routines.linalg.html)で定義されています。"
      ]
    },
    {
      "cell_type": "code",
      "execution_count": null,
      "metadata": {
        "colab": {
          "base_uri": "https://localhost:8080/"
        },
        "id": "TTW3TOj8zjls",
        "outputId": "8914bd1c-20fa-4763-b794-d97e7e5b20b2"
      },
      "outputs": [
        {
          "output_type": "stream",
          "name": "stdout",
          "text": [
            "original:\n",
            "[[1 2]\n",
            " [3 4]]\n",
            "transposed:\n",
            "[[1 3]\n",
            " [2 4]]\n",
            "inverse:\n",
            "[[-2.   1. ]\n",
            " [ 1.5 -0.5]]\n",
            "diag:\n",
            "[1 4]\n",
            "det:\n",
            "-2.0000000000000004\n",
            "eigenvalues:\n",
            "(array([-0.372,  5.372]), array([[-0.825, -0.416],\n",
            "       [ 0.566, -0.909]]))\n",
            "sum:\n",
            "[[ 6  8]\n",
            " [10 12]]\n",
            "product:\n",
            "[[19 22]\n",
            " [43 50]]\n"
          ]
        }
      ],
      "source": [
        "m1 = np.array([[1, 2], [3, 4]])\n",
        "m2 = np.array([[5, 6], [7, 8]])\n",
        "\n",
        "print('original:')\n",
        "print(m1)\n",
        "# 転置\n",
        "print('transposed:')\n",
        "print(m1.T)\n",
        "# 逆行列\n",
        "print('inverse:')\n",
        "print(np.linalg.inv(m1))\n",
        "# 対角要素\n",
        "print('diag:')\n",
        "print(np.diag(m1))\n",
        "# 行列式\n",
        "print('det:')\n",
        "print(np.linalg.det(m1))\n",
        "# 固有値\n",
        "print('eigenvalues:')\n",
        "print(np.linalg.eig(m1))\n",
        "# 和\n",
        "print('sum:')\n",
        "print(m1 + m2)\n",
        "# 積\n",
        "print('product:')\n",
        "print(m1 @ m2)"
      ]
    },
    {
      "cell_type": "markdown",
      "metadata": {
        "id": "yiqwc2q6gV1I"
      },
      "source": [
        "### 練習問題1\n",
        "\n",
        "numpy.linalg.solveを用いて、2元1次方程式の解を求めるコードを記述せよ。"
      ]
    },
    {
      "cell_type": "code",
      "execution_count": null,
      "metadata": {
        "id": "gYUdJy9UgWCR"
      },
      "outputs": [],
      "source": [
        ""
      ]
    },
    {
      "cell_type": "markdown",
      "metadata": {
        "id": "OATSyyyvaHLm"
      },
      "source": [
        "## グラフ描画ライブラリ matplotlib\n"
      ]
    },
    {
      "cell_type": "markdown",
      "metadata": {
        "id": "g-cExXaTc-GT"
      },
      "source": [
        "[matplotlib](https://matplotlib.org/)はグラフを描画するためのライブラリです。そのサブモジュールであるpyplotはMATLABに似たAPIを提供するもので、通常はこのpyplotを使います。pyplotでは関数のグラフ、散布図、ヒストグラムなどを簡単に作成することができます。"
      ]
    },
    {
      "cell_type": "markdown",
      "metadata": {
        "id": "BtpHWgo1b-og"
      },
      "source": [
        "### 関数のグラフ\n",
        "\n",
        "関数のグラフはplotメソッドの第1引数にx軸方向の値、第2引数にy軸方向の値、第3引数は線の種類（省略すれば黒の実線）を与えます。"
      ]
    },
    {
      "cell_type": "code",
      "execution_count": null,
      "metadata": {
        "colab": {
          "base_uri": "https://localhost:8080/",
          "height": 312
        },
        "id": "QG6ksmq6c-lb",
        "outputId": "6799fd64-90a2-44dd-d3b6-9543d7b2caa5"
      },
      "outputs": [
        {
          "output_type": "execute_result",
          "data": {
            "text/plain": [
              "[<matplotlib.lines.Line2D at 0x7f69db7c8b10>]"
            ]
          },
          "metadata": {},
          "execution_count": 17
        },
        {
          "output_type": "display_data",
          "data": {
            "text/plain": [
              "<Figure size 432x288 with 1 Axes>"
            ],
            "image/png": "[encoded data removed]"
          },
          "metadata": {
            "needs_background": "light"
          }
        }
      ],
      "source": [
        "import math\n",
        "x = np.arange(-math.pi, math.pi, 0.1)\n",
        "y = np.sin(x)\n",
        "plt.title('sine curve')\n",
        "plt.xlabel('x')\n",
        "plt.ylabel('y')\n",
        "plt.plot(x, y, 'r-')\n",
        "plt.plot(x, y*2, 'b--')"
      ]
    },
    {
      "cell_type": "markdown",
      "metadata": {
        "id": "ipnXig7uc-tc"
      },
      "source": [
        "### 散布図\n",
        "\n",
        "散布図を描く場合は、scatterメソッドを使います。"
      ]
    },
    {
      "cell_type": "code",
      "execution_count": null,
      "metadata": {
        "colab": {
          "base_uri": "https://localhost:8080/",
          "height": 283
        },
        "id": "sq5DRSU5aHSX",
        "outputId": "ce013e2c-668d-465c-e115-d4ca240bd74d"
      },
      "outputs": [
        {
          "output_type": "execute_result",
          "data": {
            "text/plain": [
              "<matplotlib.collections.PathCollection at 0x7f69db72a0d0>"
            ]
          },
          "metadata": {},
          "execution_count": 18
        },
        {
          "output_type": "display_data",
          "data": {
            "text/plain": [
              "<Figure size 432x288 with 1 Axes>"
            ],
            "image/png": "[encoded data removed]"
          },
          "metadata": {
            "needs_background": "light"
          }
        }
      ],
      "source": [
        "# 平均(0,0)、分散1の正規分布から2次元データを50個生成\n",
        "data = np.random.randn(50, 2)\n",
        "# マーカの色と形を指定して散布図で表示\n",
        "plt.scatter(data[:,0], data[:,1], c='blue',marker='o')"
      ]
    },
    {
      "cell_type": "markdown",
      "metadata": {
        "id": "O06dHC2efdu-"
      },
      "source": [
        "### ヒストグラム\n",
        "\n",
        "ヒストグラムはhistメソッドを使います。"
      ]
    },
    {
      "cell_type": "code",
      "execution_count": null,
      "metadata": {
        "colab": {
          "base_uri": "https://localhost:8080/",
          "height": 372
        },
        "id": "TI643HrIfd4O",
        "outputId": "9ed2ef4f-00a1-4576-c3af-d0233773ba26"
      },
      "outputs": [
        {
          "output_type": "execute_result",
          "data": {
            "text/plain": [
              "(array([  1.,   0.,   0.,   2.,   3.,  13.,  20.,  50.,  72.,  80., 129.,\n",
              "        120., 140., 121.,  96.,  62.,  52.,  21.,   8.,  10.]),\n",
              " array([-4.042, -3.707, -3.372, -3.038, -2.703, -2.369, -2.034, -1.7  ,\n",
              "        -1.365, -1.031, -0.696, -0.361, -0.027,  0.308,  0.642,  0.977,\n",
              "         1.311,  1.646,  1.98 ,  2.315,  2.649]),\n",
              " <a list of 20 Patch objects>)"
            ]
          },
          "metadata": {},
          "execution_count": 19
        },
        {
          "output_type": "display_data",
          "data": {
            "text/plain": [
              "<Figure size 432x288 with 1 Axes>"
            ],
            "image/png": "[encoded data removed]"
          },
          "metadata": {
            "needs_background": "light"
          }
        }
      ],
      "source": [
        "# 平均0、分散1の正規分布から1次元データを1000個生成\n",
        "data = np.random.randn(1000)\n",
        "# データを20個のbinに分割して、度数・binの端の値を返し、グラフを表示\n",
        "plt.hist(data, bins=20)"
      ]
    },
    {
      "cell_type": "markdown",
      "metadata": {
        "id": "KGzDFb3xgbSt"
      },
      "source": [
        "### 練習問題2\n",
        "\n",
        "平均(0,0)、分散1の正規分布、および平均(2,2)、分散1の正規分布からそれぞれ2次元データを50個ずつ生成し、どちらの分布から生成されたデータであるか区別がつくような散布図を表示せよ。"
      ]
    },
    {
      "cell_type": "code",
      "execution_count": null,
      "metadata": {
        "id": "zTqMQyrJgbck"
      },
      "outputs": [],
      "source": [
        ""
      ]
    },
    {
      "cell_type": "markdown",
      "metadata": {
        "id": "XCfJFeAOaHY-"
      },
      "source": [
        "## データ操作ライブラリ pandas"
      ]
    },
    {
      "cell_type": "markdown",
      "metadata": {
        "id": "uKbM3HdgdALD"
      },
      "source": [
        "[pandas](https://pandas.pydata.org/)は表計算ソフトやリレーショナルデータベースで管理されているデータをPythonに読み込んで処理するためのライブラリです。各種のデータ加工メソッドが提供されています。参考）[pandasのcheatsheet](https://github.com/pandas-dev/pandas/blob/main/doc/cheatsheet/Pandas_Cheat_Sheet.pdf)\n",
        "\n",
        "pandasのデータ形式は、ベクトルが Seriesオブジェクト、行列がDataFrameオブジェクトです。"
      ]
    },
    {
      "cell_type": "markdown",
      "metadata": {
        "id": "rgGb1YBQDqwd"
      },
      "source": [
        "Google ColabはDataFrameのインタラクティブな表示機能を持っているので、それを有効にします。\n",
        "\n",
        "importを実行しなくても、DataFrameを表示してから右上に出てくるアイコンをクリックするだけでもインタラクティブな表示になります。"
      ]
    },
    {
      "cell_type": "code",
      "execution_count": null,
      "metadata": {
        "id": "5b-Su6PCDq36"
      },
      "outputs": [],
      "source": [
        "from google.colab import data_table\n",
        "data_table.enable_dataframe_formatter()"
      ]
    },
    {
      "cell_type": "markdown",
      "metadata": {
        "id": "GryNV-6qk1gi"
      },
      "source": [
        "### データの読み込み\n",
        "\n",
        "[カリフォルニア大学アーバイン校の機械学習用データリポジトリ](https://archive.ics.uci.edu/ml/index.php)からirisとよばれるデータをダウンロードします。irisデータは、アヤメの種類(setosa, versicolor, virginica)を、花弁・萼のそれぞれの幅・長さという4つの特徴から識別するものです。"
      ]
    },
    {
      "cell_type": "code",
      "execution_count": null,
      "metadata": {
        "colab": {
          "base_uri": "https://localhost:8080/"
        },
        "id": "rgqPE3gD7n1d",
        "outputId": "a6880dc7-b168-44f4-f9ae-f40dca1dd957"
      },
      "outputs": [
        {
          "output_type": "stream",
          "name": "stdout",
          "text": [
            "--2022-04-18 06:40:43--  https://archive.ics.uci.edu/ml/machine-learning-databases/iris/iris.data\n",
            "Resolving archive.ics.uci.edu (archive.ics.uci.edu)... 128.195.10.252\n",
            "Connecting to archive.ics.uci.edu (archive.ics.uci.edu)|128.195.10.252|:443... connected.\n",
            "HTTP request sent, awaiting response... 200 OK\n",
            "Length: 4551 (4.4K) [application/x-httpd-php]\n",
            "Saving to: ‘iris.data.1’\n",
            "\n",
            "iris.data.1         100%[===================>]   4.44K  --.-KB/s    in 0s      \n",
            "\n",
            "2022-04-18 06:40:44 (104 MB/s) - ‘iris.data.1’ saved [4551/4551]\n",
            "\n"
          ]
        }
      ],
      "source": [
        "!wget https://archive.ics.uci.edu/ml/machine-learning-databases/iris/iris.data"
      ]
    },
    {
      "cell_type": "markdown",
      "metadata": {
        "id": "LCWdPZ-x8qAf"
      },
      "source": [
        "ダウンロードしたファイルの拡張子はdataですが、中身はヘッダなしのcsvファイルです。pandasのread_csvメソッドで列名を付けてDataFrame型として読み込みます。"
      ]
    },
    {
      "cell_type": "code",
      "execution_count": null,
      "metadata": {
        "colab": {
          "base_uri": "https://localhost:8080/",
          "height": 637
        },
        "id": "48a1jrbO8qMr",
        "outputId": "76d35b46-1732-4fc6-fd22-8b8272a20ac9"
      },
      "outputs": [
        {
          "output_type": "execute_result",
          "data": {
            "text/plain": [
              "     sepallength  sepalwidth  petallength  petalwidth          target\n",
              "0            5.1         3.5          1.4         0.2     Iris-setosa\n",
              "1            4.9         3.0          1.4         0.2     Iris-setosa\n",
              "2            4.7         3.2          1.3         0.2     Iris-setosa\n",
              "3            4.6         3.1          1.5         0.2     Iris-setosa\n",
              "4            5.0         3.6          1.4         0.2     Iris-setosa\n",
              "..           ...         ...          ...         ...             ...\n",
              "145          6.7         3.0          5.2         2.3  Iris-virginica\n",
              "146          6.3         2.5          5.0         1.9  Iris-virginica\n",
              "147          6.5         3.0          5.2         2.0  Iris-virginica\n",
              "148          6.2         3.4          5.4         2.3  Iris-virginica\n",
              "149          5.9         3.0          5.1         1.8  Iris-virginica\n",
              "\n",
              "[150 rows x 5 columns]"
            ],
            "text/html": [
              "\n",
              "  <div id=\"df-42007cd8-00c4-4264-81d5-4353750e23b0\">\n",
              "    <div class=\"colab-df-container\">\n",
              "      <div>\n",
              "<style scoped>\n",
              "    .dataframe tbody tr th:only-of-type {\n",
              "        vertical-align: middle;\n",
              "    }\n",
              "\n",
              "    .dataframe tbody tr th {\n",
              "        vertical-align: top;\n",
              "    }\n",
              "\n",
              "    .dataframe thead th {\n",
              "        text-align: right;\n",
              "    }\n",
              "</style>\n",
              "<table border=\"1\" class=\"dataframe\">\n",
              "  <thead>\n",
              "    <tr style=\"text-align: right;\">\n",
              "      <th></th>\n",
              "      <th>sepallength</th>\n",
              "      <th>sepalwidth</th>\n",
              "      <th>petallength</th>\n",
              "      <th>petalwidth</th>\n",
              "      <th>target</th>\n",
              "    </tr>\n",
              "  </thead>\n",
              "  <tbody>\n",
              "    <tr>\n",
              "      <th>0</th>\n",
              "      <td>5.1</td>\n",
              "      <td>3.5</td>\n",
              "      <td>1.4</td>\n",
              "      <td>0.2</td>\n",
              "      <td>Iris-setosa</td>\n",
              "    </tr>\n",
              "    <tr>\n",
              "      <th>1</th>\n",
              "      <td>4.9</td>\n",
              "      <td>3.0</td>\n",
              "      <td>1.4</td>\n",
              "      <td>0.2</td>\n",
              "      <td>Iris-setosa</td>\n",
              "    </tr>\n",
              "    <tr>\n",
              "      <th>2</th>\n",
              "      <td>4.7</td>\n",
              "      <td>3.2</td>\n",
              "      <td>1.3</td>\n",
              "      <td>0.2</td>\n",
              "      <td>Iris-setosa</td>\n",
              "    </tr>\n",
              "    <tr>\n",
              "      <th>3</th>\n",
              "      <td>4.6</td>\n",
              "      <td>3.1</td>\n",
              "      <td>1.5</td>\n",
              "      <td>0.2</td>\n",
              "      <td>Iris-setosa</td>\n",
              "    </tr>\n",
              "    <tr>\n",
              "      <th>4</th>\n",
              "      <td>5.0</td>\n",
              "      <td>3.6</td>\n",
              "      <td>1.4</td>\n",
              "      <td>0.2</td>\n",
              "      <td>Iris-setosa</td>\n",
              "    </tr>\n",
              "    <tr>\n",
              "      <th>...</th>\n",
              "      <td>...</td>\n",
              "      <td>...</td>\n",
              "      <td>...</td>\n",
              "      <td>...</td>\n",
              "      <td>...</td>\n",
              "    </tr>\n",
              "    <tr>\n",
              "      <th>145</th>\n",
              "      <td>6.7</td>\n",
              "      <td>3.0</td>\n",
              "      <td>5.2</td>\n",
              "      <td>2.3</td>\n",
              "      <td>Iris-virginica</td>\n",
              "    </tr>\n",
              "    <tr>\n",
              "      <th>146</th>\n",
              "      <td>6.3</td>\n",
              "      <td>2.5</td>\n",
              "      <td>5.0</td>\n",
              "      <td>1.9</td>\n",
              "      <td>Iris-virginica</td>\n",
              "    </tr>\n",
              "    <tr>\n",
              "      <th>147</th>\n",
              "      <td>6.5</td>\n",
              "      <td>3.0</td>\n",
              "      <td>5.2</td>\n",
              "      <td>2.0</td>\n",
              "      <td>Iris-virginica</td>\n",
              "    </tr>\n",
              "    <tr>\n",
              "      <th>148</th>\n",
              "      <td>6.2</td>\n",
              "      <td>3.4</td>\n",
              "      <td>5.4</td>\n",
              "      <td>2.3</td>\n",
              "      <td>Iris-virginica</td>\n",
              "    </tr>\n",
              "    <tr>\n",
              "      <th>149</th>\n",
              "      <td>5.9</td>\n",
              "      <td>3.0</td>\n",
              "      <td>5.1</td>\n",
              "      <td>1.8</td>\n",
              "      <td>Iris-virginica</td>\n",
              "    </tr>\n",
              "  </tbody>\n",
              "</table>\n",
              "<p>150 rows × 5 columns</p>\n",
              "</div>\n",
              "      <button class=\"colab-df-convert\" onclick=\"convertToInteractive('df-42007cd8-00c4-4264-81d5-4353750e23b0')\"\n",
              "              title=\"Convert this dataframe to an interactive table.\"\n",
              "              style=\"display:none;\">\n",
              "        \n",
              "  <svg xmlns=\"http://www.w3.org/2000/svg\" height=\"24px\"viewBox=\"0 0 24 24\"\n",
              "       width=\"24px\">\n",
              "    <path d=\"M0 0h24v24H0V0z\" fill=\"none\"/>\n",
              "    <path d=\"M18.56 5.44l.94 2.06.94-2.06 2.06-.94-2.06-.94-.94-2.06-.94 2.06-2.06.94zm-11 1L8.5 8.5l.94-2.06 2.06-.94-2.06-.94L8.5 2.5l-.94 2.06-2.06.94zm10 10l.94 2.06.94-2.06 2.06-.94-2.06-.94-.94-2.06-.94 2.06-2.06.94z\"/><path d=\"M17.41 7.96l-1.37-1.37c-.4-.4-.92-.59-1.43-.59-.52 0-1.04.2-1.43.59L10.3 9.45l-7.72 7.72c-.78.78-.78 2.05 0 2.83L4 21.41c.39.39.9.59 1.41.59.51 0 1.02-.2 1.41-.59l7.78-7.78 2.81-2.81c.8-.78.8-2.07 0-2.86zM5.41 20L4 18.59l7.72-7.72 1.47 1.35L5.41 20z\"/>\n",
              "  </svg>\n",
              "      </button>\n",
              "      \n",
              "  <style>\n",
              "    .colab-df-container {\n",
              "      display:flex;\n",
              "      flex-wrap:wrap;\n",
              "      gap: 12px;\n",
              "    }\n",
              "\n",
              "    .colab-df-convert {\n",
              "      background-color: #E8F0FE;\n",
              "      border: none;\n",
              "      border-radius: 50%;\n",
              "      cursor: pointer;\n",
              "      display: none;\n",
              "      fill: #1967D2;\n",
              "      height: 32px;\n",
              "      padding: 0 0 0 0;\n",
              "      width: 32px;\n",
              "    }\n",
              "\n",
              "    .colab-df-convert:hover {\n",
              "      background-color: #E2EBFA;\n",
              "      box-shadow: 0px 1px 2px rgba(60, 64, 67, 0.3), 0px 1px 3px 1px rgba(60, 64, 67, 0.15);\n",
              "      fill: #174EA6;\n",
              "    }\n",
              "\n",
              "    [theme=dark] .colab-df-convert {\n",
              "      background-color: #3B4455;\n",
              "      fill: #D2E3FC;\n",
              "    }\n",
              "\n",
              "    [theme=dark] .colab-df-convert:hover {\n",
              "      background-color: #434B5C;\n",
              "      box-shadow: 0px 1px 3px 1px rgba(0, 0, 0, 0.15);\n",
              "      filter: drop-shadow(0px 1px 2px rgba(0, 0, 0, 0.3));\n",
              "      fill: #FFFFFF;\n",
              "    }\n",
              "  </style>\n",
              "\n",
              "      <script>\n",
              "        const buttonEl =\n",
              "          document.querySelector('#df-42007cd8-00c4-4264-81d5-4353750e23b0 button.colab-df-convert');\n",
              "        buttonEl.style.display =\n",
              "          google.colab.kernel.accessAllowed ? 'block' : 'none';\n",
              "\n",
              "        async function convertToInteractive(key) {\n",
              "          const element = document.querySelector('#df-42007cd8-00c4-4264-81d5-4353750e23b0');\n",
              "          const dataTable =\n",
              "            await google.colab.kernel.invokeFunction('convertToInteractive',\n",
              "                                                     [key], {});\n",
              "          if (!dataTable) return;\n",
              "\n",
              "          const docLinkHtml = 'Like what you see? Visit the ' +\n",
              "            '<a target=\"_blank\" href=https://colab.research.google.com/notebooks/data_table.ipynb>data table notebook</a>'\n",
              "            + ' to learn more about interactive tables.';\n",
              "          element.innerHTML = '';\n",
              "          dataTable['output_type'] = 'display_data';\n",
              "          await google.colab.output.renderOutput(dataTable, element);\n",
              "          const docLink = document.createElement('div');\n",
              "          docLink.innerHTML = docLinkHtml;\n",
              "          element.appendChild(docLink);\n",
              "        }\n",
              "      </script>\n",
              "    </div>\n",
              "  </div>\n",
              "  "
            ],
            "application/vnd.google.colaboratory.module+javascript": "\n      import \"https://ssl.gstatic.com/colaboratory/data_table/81f25a011006ed3d/data_table.js\";\n\n      window.createDataTable({\n        data: [[{\n            'v': 0,\n            'f': \"0\",\n        },\n{\n            'v': 5.1,\n            'f': \"5.1\",\n        },\n{\n            'v': 3.5,\n            'f': \"3.5\",\n        },\n{\n            'v': 1.4,\n            'f': \"1.4\",\n        },\n{\n            'v': 0.2,\n            'f': \"0.2\",\n        },\n\"Iris-setosa\"],\n [{\n            'v': 1,\n            'f': \"1\",\n        },\n{\n            'v': 4.9,\n            'f': \"4.9\",\n        },\n{\n            'v': 3.0,\n            'f': \"3.0\",\n        },\n{\n            'v': 1.4,\n            'f': \"1.4\",\n        },\n{\n            'v': 0.2,\n            'f': \"0.2\",\n        },\n\"Iris-setosa\"],\n [{\n            'v': 2,\n            'f': \"2\",\n        },\n{\n            'v': 4.7,\n            'f': \"4.7\",\n        },\n{\n            'v': 3.2,\n            'f': \"3.2\",\n        },\n{\n            'v': 1.3,\n            'f': \"1.3\",\n        },\n{\n            'v': 0.2,\n            'f': \"0.2\",\n        },\n\"Iris-setosa\"],\n [{\n            'v': 3,\n            'f': \"3\",\n        },\n{\n            'v': 4.6,\n            'f': \"4.6\",\n        },\n{\n            'v': 3.1,\n            'f': \"3.1\",\n        },\n{\n            'v': 1.5,\n            'f': \"1.5\",\n        },\n{\n            'v': 0.2,\n            'f': \"0.2\",\n        },\n\"Iris-setosa\"],\n [{\n            'v': 4,\n            'f': \"4\",\n        },\n{\n            'v': 5.0,\n            'f': \"5.0\",\n        },\n{\n            'v': 3.6,\n            'f': \"3.6\",\n        },\n{\n            'v': 1.4,\n            'f': \"1.4\",\n        },\n{\n            'v': 0.2,\n            'f': \"0.2\",\n        },\n\"Iris-setosa\"],\n [{\n            'v': 5,\n            'f': \"5\",\n        },\n{\n            'v': 5.4,\n            'f': \"5.4\",\n        },\n{\n            'v': 3.9,\n            'f': \"3.9\",\n        },\n{\n            'v': 1.7,\n            'f': \"1.7\",\n        },\n{\n            'v': 0.4,\n            'f': \"0.4\",\n        },\n\"Iris-setosa\"],\n [{\n            'v': 6,\n            'f': \"6\",\n        },\n{\n            'v': 4.6,\n            'f': \"4.6\",\n        },\n{\n            'v': 3.4,\n            'f': \"3.4\",\n        },\n{\n            'v': 1.4,\n            'f': \"1.4\",\n        },\n{\n            'v': 0.3,\n            'f': \"0.3\",\n        },\n\"Iris-setosa\"],\n [{\n            'v': 7,\n            'f': \"7\",\n        },\n{\n            'v': 5.0,\n            'f': \"5.0\",\n        },\n{\n            'v': 3.4,\n            'f': \"3.4\",\n        },\n{\n            'v': 1.5,\n            'f': \"1.5\",\n        },\n{\n            'v': 0.2,\n            'f': \"0.2\",\n        },\n\"Iris-setosa\"],\n [{\n            'v': 8,\n            'f': \"8\",\n        },\n{\n            'v': 4.4,\n            'f': \"4.4\",\n        },\n{\n            'v': 2.9,\n            'f': \"2.9\",\n        },\n{\n            'v': 1.4,\n            'f': \"1.4\",\n        },\n{\n            'v': 0.2,\n            'f': \"0.2\",\n        },\n\"Iris-setosa\"],\n [{\n            'v': 9,\n            'f': \"9\",\n        },\n{\n            'v': 4.9,\n            'f': \"4.9\",\n        },\n{\n            'v': 3.1,\n            'f': \"3.1\",\n        },\n{\n            'v': 1.5,\n            'f': \"1.5\",\n        },\n{\n            'v': 0.1,\n            'f': \"0.1\",\n        },\n\"Iris-setosa\"],\n [{\n            'v': 10,\n            'f': \"10\",\n        },\n{\n            'v': 5.4,\n            'f': \"5.4\",\n        },\n{\n            'v': 3.7,\n            'f': \"3.7\",\n        },\n{\n            'v': 1.5,\n            'f': \"1.5\",\n        },\n{\n            'v': 0.2,\n            'f': \"0.2\",\n        },\n\"Iris-setosa\"],\n [{\n            'v': 11,\n            'f': \"11\",\n        },\n{\n            'v': 4.8,\n            'f': \"4.8\",\n        },\n{\n            'v': 3.4,\n            'f': \"3.4\",\n        },\n{\n            'v': 1.6,\n            'f': \"1.6\",\n        },\n{\n            'v': 0.2,\n            'f': \"0.2\",\n        },\n\"Iris-setosa\"],\n [{\n            'v': 12,\n            'f': \"12\",\n        },\n{\n            'v': 4.8,\n            'f': \"4.8\",\n        },\n{\n            'v': 3.0,\n            'f': \"3.0\",\n        },\n{\n            'v': 1.4,\n            'f': \"1.4\",\n        },\n{\n            'v': 0.1,\n            'f': \"0.1\",\n        },\n\"Iris-setosa\"],\n [{\n            'v': 13,\n            'f': \"13\",\n        },\n{\n            'v': 4.3,\n            'f': \"4.3\",\n        },\n{\n            'v': 3.0,\n            'f': \"3.0\",\n        },\n{\n            'v': 1.1,\n            'f': \"1.1\",\n        },\n{\n            'v': 0.1,\n            'f': \"0.1\",\n        },\n\"Iris-setosa\"],\n [{\n            'v': 14,\n            'f': \"14\",\n        },\n{\n            'v': 5.8,\n            'f': \"5.8\",\n        },\n{\n            'v': 4.0,\n            'f': \"4.0\",\n        },\n{\n            'v': 1.2,\n            'f': \"1.2\",\n        },\n{\n            'v': 0.2,\n            'f': \"0.2\",\n        },\n\"Iris-setosa\"],\n [{\n            'v': 15,\n            'f': \"15\",\n        },\n{\n            'v': 5.7,\n            'f': \"5.7\",\n        },\n{\n            'v': 4.4,\n            'f': \"4.4\",\n        },\n{\n            'v': 1.5,\n            'f': \"1.5\",\n        },\n{\n            'v': 0.4,\n            'f': \"0.4\",\n        },\n\"Iris-setosa\"],\n [{\n            'v': 16,\n            'f': \"16\",\n        },\n{\n            'v': 5.4,\n            'f': \"5.4\",\n        },\n{\n            'v': 3.9,\n            'f': \"3.9\",\n        },\n{\n            'v': 1.3,\n            'f': \"1.3\",\n        },\n{\n            'v': 0.4,\n            'f': \"0.4\",\n        },\n\"Iris-setosa\"],\n [{\n            'v': 17,\n            'f': \"17\",\n        },\n{\n            'v': 5.1,\n            'f': \"5.1\",\n        },\n{\n            'v': 3.5,\n            'f': \"3.5\",\n        },\n{\n            'v': 1.4,\n            'f': \"1.4\",\n        },\n{\n            'v': 0.3,\n            'f': \"0.3\",\n        },\n\"Iris-setosa\"],\n [{\n            'v': 18,\n            'f': \"18\",\n        },\n{\n            'v': 5.7,\n            'f': \"5.7\",\n        },\n{\n            'v': 3.8,\n            'f': \"3.8\",\n        },\n{\n            'v': 1.7,\n            'f': \"1.7\",\n        },\n{\n            'v': 0.3,\n            'f': \"0.3\",\n        },\n\"Iris-setosa\"],\n [{\n            'v': 19,\n            'f': \"19\",\n        },\n{\n            'v': 5.1,\n            'f': \"5.1\",\n        },\n{\n            'v': 3.8,\n            'f': \"3.8\",\n        },\n{\n            'v': 1.5,\n            'f': \"1.5\",\n        },\n{\n            'v': 0.3,\n            'f': \"0.3\",\n        },\n\"Iris-setosa\"],\n [{\n            'v': 20,\n            'f': \"20\",\n        },\n{\n            'v': 5.4,\n            'f': \"5.4\",\n        },\n{\n            'v': 3.4,\n            'f': \"3.4\",\n        },\n{\n            'v': 1.7,\n            'f': \"1.7\",\n        },\n{\n            'v': 0.2,\n            'f': \"0.2\",\n        },\n\"Iris-setosa\"],\n [{\n            'v': 21,\n            'f': \"21\",\n        },\n{\n            'v': 5.1,\n            'f': \"5.1\",\n        },\n{\n            'v': 3.7,\n            'f': \"3.7\",\n        },\n{\n            'v': 1.5,\n            'f': \"1.5\",\n        },\n{\n            'v': 0.4,\n            'f': \"0.4\",\n        },\n\"Iris-setosa\"],\n [{\n            'v': 22,\n            'f': \"22\",\n        },\n{\n            'v': 4.6,\n            'f': \"4.6\",\n        },\n{\n            'v': 3.6,\n            'f': \"3.6\",\n        },\n{\n            'v': 1.0,\n            'f': \"1.0\",\n        },\n{\n            'v': 0.2,\n            'f': \"0.2\",\n        },\n\"Iris-setosa\"],\n [{\n            'v': 23,\n            'f': \"23\",\n        },\n{\n            'v': 5.1,\n            'f': \"5.1\",\n        },\n{\n            'v': 3.3,\n            'f': \"3.3\",\n        },\n{\n            'v': 1.7,\n            'f': \"1.7\",\n        },\n{\n            'v': 0.5,\n            'f': \"0.5\",\n        },\n\"Iris-setosa\"],\n [{\n            'v': 24,\n            'f': \"24\",\n        },\n{\n            'v': 4.8,\n            'f': \"4.8\",\n        },\n{\n            'v': 3.4,\n            'f': \"3.4\",\n        },\n{\n            'v': 1.9,\n            'f': \"1.9\",\n        },\n{\n            'v': 0.2,\n            'f': \"0.2\",\n        },\n\"Iris-setosa\"],\n [{\n            'v': 25,\n            'f': \"25\",\n        },\n{\n            'v': 5.0,\n            'f': \"5.0\",\n        },\n{\n            'v': 3.0,\n            'f': \"3.0\",\n        },\n{\n            'v': 1.6,\n            'f': \"1.6\",\n        },\n{\n            'v': 0.2,\n            'f': \"0.2\",\n        },\n\"Iris-setosa\"],\n [{\n            'v': 26,\n            'f': \"26\",\n        },\n{\n            'v': 5.0,\n            'f': \"5.0\",\n        },\n{\n            'v': 3.4,\n            'f': \"3.4\",\n        },\n{\n            'v': 1.6,\n            'f': \"1.6\",\n        },\n{\n            'v': 0.4,\n            'f': \"0.4\",\n        },\n\"Iris-setosa\"],\n [{\n            'v': 27,\n            'f': \"27\",\n        },\n{\n            'v': 5.2,\n            'f': \"5.2\",\n        },\n{\n            'v': 3.5,\n            'f': \"3.5\",\n        },\n{\n            'v': 1.5,\n            'f': \"1.5\",\n        },\n{\n            'v': 0.2,\n            'f': \"0.2\",\n        },\n\"Iris-setosa\"],\n [{\n            'v': 28,\n            'f': \"28\",\n        },\n{\n            'v': 5.2,\n            'f': \"5.2\",\n        },\n{\n            'v': 3.4,\n            'f': \"3.4\",\n        },\n{\n            'v': 1.4,\n            'f': \"1.4\",\n        },\n{\n            'v': 0.2,\n            'f': \"0.2\",\n        },\n\"Iris-setosa\"],\n [{\n            'v': 29,\n            'f': \"29\",\n        },\n{\n            'v': 4.7,\n            'f': \"4.7\",\n        },\n{\n            'v': 3.2,\n            'f': \"3.2\",\n        },\n{\n            'v': 1.6,\n            'f': \"1.6\",\n        },\n{\n            'v': 0.2,\n            'f': \"0.2\",\n        },\n\"Iris-setosa\"],\n [{\n            'v': 30,\n            'f': \"30\",\n        },\n{\n            'v': 4.8,\n            'f': \"4.8\",\n        },\n{\n            'v': 3.1,\n            'f': \"3.1\",\n        },\n{\n            'v': 1.6,\n            'f': \"1.6\",\n        },\n{\n            'v': 0.2,\n            'f': \"0.2\",\n        },\n\"Iris-setosa\"],\n [{\n            'v': 31,\n            'f': \"31\",\n        },\n{\n            'v': 5.4,\n            'f': \"5.4\",\n        },\n{\n            'v': 3.4,\n            'f': \"3.4\",\n        },\n{\n            'v': 1.5,\n            'f': \"1.5\",\n        },\n{\n            'v': 0.4,\n            'f': \"0.4\",\n        },\n\"Iris-setosa\"],\n [{\n            'v': 32,\n            'f': \"32\",\n        },\n{\n            'v': 5.2,\n            'f': \"5.2\",\n        },\n{\n            'v': 4.1,\n            'f': \"4.1\",\n        },\n{\n            'v': 1.5,\n            'f': \"1.5\",\n        },\n{\n            'v': 0.1,\n            'f': \"0.1\",\n        },\n\"Iris-setosa\"],\n [{\n            'v': 33,\n            'f': \"33\",\n        },\n{\n            'v': 5.5,\n            'f': \"5.5\",\n        },\n{\n            'v': 4.2,\n            'f': \"4.2\",\n        },\n{\n            'v': 1.4,\n            'f': \"1.4\",\n        },\n{\n            'v': 0.2,\n            'f': \"0.2\",\n        },\n\"Iris-setosa\"],\n [{\n            'v': 34,\n            'f': \"34\",\n        },\n{\n            'v': 4.9,\n            'f': \"4.9\",\n        },\n{\n            'v': 3.1,\n            'f': \"3.1\",\n        },\n{\n            'v': 1.5,\n            'f': \"1.5\",\n        },\n{\n            'v': 0.1,\n            'f': \"0.1\",\n        },\n\"Iris-setosa\"],\n [{\n            'v': 35,\n            'f': \"35\",\n        },\n{\n            'v': 5.0,\n            'f': \"5.0\",\n        },\n{\n            'v': 3.2,\n            'f': \"3.2\",\n        },\n{\n            'v': 1.2,\n            'f': \"1.2\",\n        },\n{\n            'v': 0.2,\n            'f': \"0.2\",\n        },\n\"Iris-setosa\"],\n [{\n            'v': 36,\n            'f': \"36\",\n        },\n{\n            'v': 5.5,\n            'f': \"5.5\",\n        },\n{\n            'v': 3.5,\n            'f': \"3.5\",\n        },\n{\n            'v': 1.3,\n            'f': \"1.3\",\n        },\n{\n            'v': 0.2,\n            'f': \"0.2\",\n        },\n\"Iris-setosa\"],\n [{\n            'v': 37,\n            'f': \"37\",\n        },\n{\n            'v': 4.9,\n            'f': \"4.9\",\n        },\n{\n            'v': 3.1,\n            'f': \"3.1\",\n        },\n{\n            'v': 1.5,\n            'f': \"1.5\",\n        },\n{\n            'v': 0.1,\n            'f': \"0.1\",\n        },\n\"Iris-setosa\"],\n [{\n            'v': 38,\n            'f': \"38\",\n        },\n{\n            'v': 4.4,\n            'f': \"4.4\",\n        },\n{\n            'v': 3.0,\n            'f': \"3.0\",\n        },\n{\n            'v': 1.3,\n            'f': \"1.3\",\n        },\n{\n            'v': 0.2,\n            'f': \"0.2\",\n        },\n\"Iris-setosa\"],\n [{\n            'v': 39,\n            'f': \"39\",\n        },\n{\n            'v': 5.1,\n            'f': \"5.1\",\n        },\n{\n            'v': 3.4,\n            'f': \"3.4\",\n        },\n{\n            'v': 1.5,\n            'f': \"1.5\",\n        },\n{\n            'v': 0.2,\n            'f': \"0.2\",\n        },\n\"Iris-setosa\"],\n [{\n            'v': 40,\n            'f': \"40\",\n        },\n{\n            'v': 5.0,\n            'f': \"5.0\",\n        },\n{\n            'v': 3.5,\n            'f': \"3.5\",\n        },\n{\n            'v': 1.3,\n            'f': \"1.3\",\n        },\n{\n            'v': 0.3,\n            'f': \"0.3\",\n        },\n\"Iris-setosa\"],\n [{\n            'v': 41,\n            'f': \"41\",\n        },\n{\n            'v': 4.5,\n            'f': \"4.5\",\n        },\n{\n            'v': 2.3,\n            'f': \"2.3\",\n        },\n{\n            'v': 1.3,\n            'f': \"1.3\",\n        },\n{\n            'v': 0.3,\n            'f': \"0.3\",\n        },\n\"Iris-setosa\"],\n [{\n            'v': 42,\n            'f': \"42\",\n        },\n{\n            'v': 4.4,\n            'f': \"4.4\",\n        },\n{\n            'v': 3.2,\n            'f': \"3.2\",\n        },\n{\n            'v': 1.3,\n            'f': \"1.3\",\n        },\n{\n            'v': 0.2,\n            'f': \"0.2\",\n        },\n\"Iris-setosa\"],\n [{\n            'v': 43,\n            'f': \"43\",\n        },\n{\n            'v': 5.0,\n            'f': \"5.0\",\n        },\n{\n            'v': 3.5,\n            'f': \"3.5\",\n        },\n{\n            'v': 1.6,\n            'f': \"1.6\",\n        },\n{\n            'v': 0.6,\n            'f': \"0.6\",\n        },\n\"Iris-setosa\"],\n [{\n            'v': 44,\n            'f': \"44\",\n        },\n{\n            'v': 5.1,\n            'f': \"5.1\",\n        },\n{\n            'v': 3.8,\n            'f': \"3.8\",\n        },\n{\n            'v': 1.9,\n            'f': \"1.9\",\n        },\n{\n            'v': 0.4,\n            'f': \"0.4\",\n        },\n\"Iris-setosa\"],\n [{\n            'v': 45,\n            'f': \"45\",\n        },\n{\n            'v': 4.8,\n            'f': \"4.8\",\n        },\n{\n            'v': 3.0,\n            'f': \"3.0\",\n        },\n{\n            'v': 1.4,\n            'f': \"1.4\",\n        },\n{\n            'v': 0.3,\n            'f': \"0.3\",\n        },\n\"Iris-setosa\"],\n [{\n            'v': 46,\n            'f': \"46\",\n        },\n{\n            'v': 5.1,\n            'f': \"5.1\",\n        },\n{\n            'v': 3.8,\n            'f': \"3.8\",\n        },\n{\n            'v': 1.6,\n            'f': \"1.6\",\n        },\n{\n            'v': 0.2,\n            'f': \"0.2\",\n        },\n\"Iris-setosa\"],\n [{\n            'v': 47,\n            'f': \"47\",\n        },\n{\n            'v': 4.6,\n            'f': \"4.6\",\n        },\n{\n            'v': 3.2,\n            'f': \"3.2\",\n        },\n{\n            'v': 1.4,\n            'f': \"1.4\",\n        },\n{\n            'v': 0.2,\n            'f': \"0.2\",\n        },\n\"Iris-setosa\"],\n [{\n            'v': 48,\n            'f': \"48\",\n        },\n{\n            'v': 5.3,\n            'f': \"5.3\",\n        },\n{\n            'v': 3.7,\n            'f': \"3.7\",\n        },\n{\n            'v': 1.5,\n            'f': \"1.5\",\n        },\n{\n            'v': 0.2,\n            'f': \"0.2\",\n        },\n\"Iris-setosa\"],\n [{\n            'v': 49,\n            'f': \"49\",\n        },\n{\n            'v': 5.0,\n            'f': \"5.0\",\n        },\n{\n            'v': 3.3,\n            'f': \"3.3\",\n        },\n{\n            'v': 1.4,\n            'f': \"1.4\",\n        },\n{\n            'v': 0.2,\n            'f': \"0.2\",\n        },\n\"Iris-setosa\"],\n [{\n            'v': 50,\n            'f': \"50\",\n        },\n{\n            'v': 7.0,\n            'f': \"7.0\",\n        },\n{\n            'v': 3.2,\n            'f': \"3.2\",\n        },\n{\n            'v': 4.7,\n            'f': \"4.7\",\n        },\n{\n            'v': 1.4,\n            'f': \"1.4\",\n        },\n\"Iris-versicolor\"],\n [{\n            'v': 51,\n            'f': \"51\",\n        },\n{\n            'v': 6.4,\n            'f': \"6.4\",\n        },\n{\n            'v': 3.2,\n            'f': \"3.2\",\n        },\n{\n            'v': 4.5,\n            'f': \"4.5\",\n        },\n{\n            'v': 1.5,\n            'f': \"1.5\",\n        },\n\"Iris-versicolor\"],\n [{\n            'v': 52,\n            'f': \"52\",\n        },\n{\n            'v': 6.9,\n            'f': \"6.9\",\n        },\n{\n            'v': 3.1,\n            'f': \"3.1\",\n        },\n{\n            'v': 4.9,\n            'f': \"4.9\",\n        },\n{\n            'v': 1.5,\n            'f': \"1.5\",\n        },\n\"Iris-versicolor\"],\n [{\n            'v': 53,\n            'f': \"53\",\n        },\n{\n            'v': 5.5,\n            'f': \"5.5\",\n        },\n{\n            'v': 2.3,\n            'f': \"2.3\",\n        },\n{\n            'v': 4.0,\n            'f': \"4.0\",\n        },\n{\n            'v': 1.3,\n            'f': \"1.3\",\n        },\n\"Iris-versicolor\"],\n [{\n            'v': 54,\n            'f': \"54\",\n        },\n{\n            'v': 6.5,\n            'f': \"6.5\",\n        },\n{\n            'v': 2.8,\n            'f': \"2.8\",\n        },\n{\n            'v': 4.6,\n            'f': \"4.6\",\n        },\n{\n            'v': 1.5,\n            'f': \"1.5\",\n        },\n\"Iris-versicolor\"],\n [{\n            'v': 55,\n            'f': \"55\",\n        },\n{\n            'v': 5.7,\n            'f': \"5.7\",\n        },\n{\n            'v': 2.8,\n            'f': \"2.8\",\n        },\n{\n            'v': 4.5,\n            'f': \"4.5\",\n        },\n{\n            'v': 1.3,\n            'f': \"1.3\",\n        },\n\"Iris-versicolor\"],\n [{\n            'v': 56,\n            'f': \"56\",\n        },\n{\n            'v': 6.3,\n            'f': \"6.3\",\n        },\n{\n            'v': 3.3,\n            'f': \"3.3\",\n        },\n{\n            'v': 4.7,\n            'f': \"4.7\",\n        },\n{\n            'v': 1.6,\n            'f': \"1.6\",\n        },\n\"Iris-versicolor\"],\n [{\n            'v': 57,\n            'f': \"57\",\n        },\n{\n            'v': 4.9,\n            'f': \"4.9\",\n        },\n{\n            'v': 2.4,\n            'f': \"2.4\",\n        },\n{\n            'v': 3.3,\n            'f': \"3.3\",\n        },\n{\n            'v': 1.0,\n            'f': \"1.0\",\n        },\n\"Iris-versicolor\"],\n [{\n            'v': 58,\n            'f': \"58\",\n        },\n{\n            'v': 6.6,\n            'f': \"6.6\",\n        },\n{\n            'v': 2.9,\n            'f': \"2.9\",\n        },\n{\n            'v': 4.6,\n            'f': \"4.6\",\n        },\n{\n            'v': 1.3,\n            'f': \"1.3\",\n        },\n\"Iris-versicolor\"],\n [{\n            'v': 59,\n            'f': \"59\",\n        },\n{\n            'v': 5.2,\n            'f': \"5.2\",\n        },\n{\n            'v': 2.7,\n            'f': \"2.7\",\n        },\n{\n            'v': 3.9,\n            'f': \"3.9\",\n        },\n{\n            'v': 1.4,\n            'f': \"1.4\",\n        },\n\"Iris-versicolor\"],\n [{\n            'v': 60,\n            'f': \"60\",\n        },\n{\n            'v': 5.0,\n            'f': \"5.0\",\n        },\n{\n            'v': 2.0,\n            'f': \"2.0\",\n        },\n{\n            'v': 3.5,\n            'f': \"3.5\",\n        },\n{\n            'v': 1.0,\n            'f': \"1.0\",\n        },\n\"Iris-versicolor\"],\n [{\n            'v': 61,\n            'f': \"61\",\n        },\n{\n            'v': 5.9,\n            'f': \"5.9\",\n        },\n{\n            'v': 3.0,\n            'f': \"3.0\",\n        },\n{\n            'v': 4.2,\n            'f': \"4.2\",\n        },\n{\n            'v': 1.5,\n            'f': \"1.5\",\n        },\n\"Iris-versicolor\"],\n [{\n            'v': 62,\n            'f': \"62\",\n        },\n{\n            'v': 6.0,\n            'f': \"6.0\",\n        },\n{\n            'v': 2.2,\n            'f': \"2.2\",\n        },\n{\n            'v': 4.0,\n            'f': \"4.0\",\n        },\n{\n            'v': 1.0,\n            'f': \"1.0\",\n        },\n\"Iris-versicolor\"],\n [{\n            'v': 63,\n            'f': \"63\",\n        },\n{\n            'v': 6.1,\n            'f': \"6.1\",\n        },\n{\n            'v': 2.9,\n            'f': \"2.9\",\n        },\n{\n            'v': 4.7,\n            'f': \"4.7\",\n        },\n{\n            'v': 1.4,\n            'f': \"1.4\",\n        },\n\"Iris-versicolor\"],\n [{\n            'v': 64,\n            'f': \"64\",\n        },\n{\n            'v': 5.6,\n            'f': \"5.6\",\n        },\n{\n            'v': 2.9,\n            'f': \"2.9\",\n        },\n{\n            'v': 3.6,\n            'f': \"3.6\",\n        },\n{\n            'v': 1.3,\n            'f': \"1.3\",\n        },\n\"Iris-versicolor\"],\n [{\n            'v': 65,\n            'f': \"65\",\n        },\n{\n            'v': 6.7,\n            'f': \"6.7\",\n        },\n{\n            'v': 3.1,\n            'f': \"3.1\",\n        },\n{\n            'v': 4.4,\n            'f': \"4.4\",\n        },\n{\n            'v': 1.4,\n            'f': \"1.4\",\n        },\n\"Iris-versicolor\"],\n [{\n            'v': 66,\n            'f': \"66\",\n        },\n{\n            'v': 5.6,\n            'f': \"5.6\",\n        },\n{\n            'v': 3.0,\n            'f': \"3.0\",\n        },\n{\n            'v': 4.5,\n            'f': \"4.5\",\n        },\n{\n            'v': 1.5,\n            'f': \"1.5\",\n        },\n\"Iris-versicolor\"],\n [{\n            'v': 67,\n            'f': \"67\",\n        },\n{\n            'v': 5.8,\n            'f': \"5.8\",\n        },\n{\n            'v': 2.7,\n            'f': \"2.7\",\n        },\n{\n            'v': 4.1,\n            'f': \"4.1\",\n        },\n{\n            'v': 1.0,\n            'f': \"1.0\",\n        },\n\"Iris-versicolor\"],\n [{\n            'v': 68,\n            'f': \"68\",\n        },\n{\n            'v': 6.2,\n            'f': \"6.2\",\n        },\n{\n            'v': 2.2,\n            'f': \"2.2\",\n        },\n{\n            'v': 4.5,\n            'f': \"4.5\",\n        },\n{\n            'v': 1.5,\n            'f': \"1.5\",\n        },\n\"Iris-versicolor\"],\n [{\n            'v': 69,\n            'f': \"69\",\n        },\n{\n            'v': 5.6,\n            'f': \"5.6\",\n        },\n{\n            'v': 2.5,\n            'f': \"2.5\",\n        },\n{\n            'v': 3.9,\n            'f': \"3.9\",\n        },\n{\n            'v': 1.1,\n            'f': \"1.1\",\n        },\n\"Iris-versicolor\"],\n [{\n            'v': 70,\n            'f': \"70\",\n        },\n{\n            'v': 5.9,\n            'f': \"5.9\",\n        },\n{\n            'v': 3.2,\n            'f': \"3.2\",\n        },\n{\n            'v': 4.8,\n            'f': \"4.8\",\n        },\n{\n            'v': 1.8,\n            'f': \"1.8\",\n        },\n\"Iris-versicolor\"],\n [{\n            'v': 71,\n            'f': \"71\",\n        },\n{\n            'v': 6.1,\n            'f': \"6.1\",\n        },\n{\n            'v': 2.8,\n            'f': \"2.8\",\n        },\n{\n            'v': 4.0,\n            'f': \"4.0\",\n        },\n{\n            'v': 1.3,\n            'f': \"1.3\",\n        },\n\"Iris-versicolor\"],\n [{\n            'v': 72,\n            'f': \"72\",\n        },\n{\n            'v': 6.3,\n            'f': \"6.3\",\n        },\n{\n            'v': 2.5,\n            'f': \"2.5\",\n        },\n{\n            'v': 4.9,\n            'f': \"4.9\",\n        },\n{\n            'v': 1.5,\n            'f': \"1.5\",\n        },\n\"Iris-versicolor\"],\n [{\n            'v': 73,\n            'f': \"73\",\n        },\n{\n            'v': 6.1,\n            'f': \"6.1\",\n        },\n{\n            'v': 2.8,\n            'f': \"2.8\",\n        },\n{\n            'v': 4.7,\n            'f': \"4.7\",\n        },\n{\n            'v': 1.2,\n            'f': \"1.2\",\n        },\n\"Iris-versicolor\"],\n [{\n            'v': 74,\n            'f': \"74\",\n        },\n{\n            'v': 6.4,\n            'f': \"6.4\",\n        },\n{\n            'v': 2.9,\n            'f': \"2.9\",\n        },\n{\n            'v': 4.3,\n            'f': \"4.3\",\n        },\n{\n            'v': 1.3,\n            'f': \"1.3\",\n        },\n\"Iris-versicolor\"],\n [{\n            'v': 75,\n            'f': \"75\",\n        },\n{\n            'v': 6.6,\n            'f': \"6.6\",\n        },\n{\n            'v': 3.0,\n            'f': \"3.0\",\n        },\n{\n            'v': 4.4,\n            'f': \"4.4\",\n        },\n{\n            'v': 1.4,\n            'f': \"1.4\",\n        },\n\"Iris-versicolor\"],\n [{\n            'v': 76,\n            'f': \"76\",\n        },\n{\n            'v': 6.8,\n            'f': \"6.8\",\n        },\n{\n            'v': 2.8,\n            'f': \"2.8\",\n        },\n{\n            'v': 4.8,\n            'f': \"4.8\",\n        },\n{\n            'v': 1.4,\n            'f': \"1.4\",\n        },\n\"Iris-versicolor\"],\n [{\n            'v': 77,\n            'f': \"77\",\n        },\n{\n            'v': 6.7,\n            'f': \"6.7\",\n        },\n{\n            'v': 3.0,\n            'f': \"3.0\",\n        },\n{\n            'v': 5.0,\n            'f': \"5.0\",\n        },\n{\n            'v': 1.7,\n            'f': \"1.7\",\n        },\n\"Iris-versicolor\"],\n [{\n            'v': 78,\n            'f': \"78\",\n        },\n{\n            'v': 6.0,\n            'f': \"6.0\",\n        },\n{\n            'v': 2.9,\n            'f': \"2.9\",\n        },\n{\n            'v': 4.5,\n            'f': \"4.5\",\n        },\n{\n            'v': 1.5,\n            'f': \"1.5\",\n        },\n\"Iris-versicolor\"],\n [{\n            'v': 79,\n            'f': \"79\",\n        },\n{\n            'v': 5.7,\n            'f': \"5.7\",\n        },\n{\n            'v': 2.6,\n            'f': \"2.6\",\n        },\n{\n            'v': 3.5,\n            'f': \"3.5\",\n        },\n{\n            'v': 1.0,\n            'f': \"1.0\",\n        },\n\"Iris-versicolor\"],\n [{\n            'v': 80,\n            'f': \"80\",\n        },\n{\n            'v': 5.5,\n            'f': \"5.5\",\n        },\n{\n            'v': 2.4,\n            'f': \"2.4\",\n        },\n{\n            'v': 3.8,\n            'f': \"3.8\",\n        },\n{\n            'v': 1.1,\n            'f': \"1.1\",\n        },\n\"Iris-versicolor\"],\n [{\n            'v': 81,\n            'f': \"81\",\n        },\n{\n            'v': 5.5,\n            'f': \"5.5\",\n        },\n{\n            'v': 2.4,\n            'f': \"2.4\",\n        },\n{\n            'v': 3.7,\n            'f': \"3.7\",\n        },\n{\n            'v': 1.0,\n            'f': \"1.0\",\n        },\n\"Iris-versicolor\"],\n [{\n            'v': 82,\n            'f': \"82\",\n        },\n{\n            'v': 5.8,\n            'f': \"5.8\",\n        },\n{\n            'v': 2.7,\n            'f': \"2.7\",\n        },\n{\n            'v': 3.9,\n            'f': \"3.9\",\n        },\n{\n            'v': 1.2,\n            'f': \"1.2\",\n        },\n\"Iris-versicolor\"],\n [{\n            'v': 83,\n            'f': \"83\",\n        },\n{\n            'v': 6.0,\n            'f': \"6.0\",\n        },\n{\n            'v': 2.7,\n            'f': \"2.7\",\n        },\n{\n            'v': 5.1,\n            'f': \"5.1\",\n        },\n{\n            'v': 1.6,\n            'f': \"1.6\",\n        },\n\"Iris-versicolor\"],\n [{\n            'v': 84,\n            'f': \"84\",\n        },\n{\n            'v': 5.4,\n            'f': \"5.4\",\n        },\n{\n            'v': 3.0,\n            'f': \"3.0\",\n        },\n{\n            'v': 4.5,\n            'f': \"4.5\",\n        },\n{\n            'v': 1.5,\n            'f': \"1.5\",\n        },\n\"Iris-versicolor\"],\n [{\n            'v': 85,\n            'f': \"85\",\n        },\n{\n            'v': 6.0,\n            'f': \"6.0\",\n        },\n{\n            'v': 3.4,\n            'f': \"3.4\",\n        },\n{\n            'v': 4.5,\n            'f': \"4.5\",\n        },\n{\n            'v': 1.6,\n            'f': \"1.6\",\n        },\n\"Iris-versicolor\"],\n [{\n            'v': 86,\n            'f': \"86\",\n        },\n{\n            'v': 6.7,\n            'f': \"6.7\",\n        },\n{\n            'v': 3.1,\n            'f': \"3.1\",\n        },\n{\n            'v': 4.7,\n            'f': \"4.7\",\n        },\n{\n            'v': 1.5,\n            'f': \"1.5\",\n        },\n\"Iris-versicolor\"],\n [{\n            'v': 87,\n            'f': \"87\",\n        },\n{\n            'v': 6.3,\n            'f': \"6.3\",\n        },\n{\n            'v': 2.3,\n            'f': \"2.3\",\n        },\n{\n            'v': 4.4,\n            'f': \"4.4\",\n        },\n{\n            'v': 1.3,\n            'f': \"1.3\",\n        },\n\"Iris-versicolor\"],\n [{\n            'v': 88,\n            'f': \"88\",\n        },\n{\n            'v': 5.6,\n            'f': \"5.6\",\n        },\n{\n            'v': 3.0,\n            'f': \"3.0\",\n        },\n{\n            'v': 4.1,\n            'f': \"4.1\",\n        },\n{\n            'v': 1.3,\n            'f': \"1.3\",\n        },\n\"Iris-versicolor\"],\n [{\n            'v': 89,\n            'f': \"89\",\n        },\n{\n            'v': 5.5,\n            'f': \"5.5\",\n        },\n{\n            'v': 2.5,\n            'f': \"2.5\",\n        },\n{\n            'v': 4.0,\n            'f': \"4.0\",\n        },\n{\n            'v': 1.3,\n            'f': \"1.3\",\n        },\n\"Iris-versicolor\"],\n [{\n            'v': 90,\n            'f': \"90\",\n        },\n{\n            'v': 5.5,\n            'f': \"5.5\",\n        },\n{\n            'v': 2.6,\n            'f': \"2.6\",\n        },\n{\n            'v': 4.4,\n            'f': \"4.4\",\n        },\n{\n            'v': 1.2,\n            'f': \"1.2\",\n        },\n\"Iris-versicolor\"],\n [{\n            'v': 91,\n            'f': \"91\",\n        },\n{\n            'v': 6.1,\n            'f': \"6.1\",\n        },\n{\n            'v': 3.0,\n            'f': \"3.0\",\n        },\n{\n            'v': 4.6,\n            'f': \"4.6\",\n        },\n{\n            'v': 1.4,\n            'f': \"1.4\",\n        },\n\"Iris-versicolor\"],\n [{\n            'v': 92,\n            'f': \"92\",\n        },\n{\n            'v': 5.8,\n            'f': \"5.8\",\n        },\n{\n            'v': 2.6,\n            'f': \"2.6\",\n        },\n{\n            'v': 4.0,\n            'f': \"4.0\",\n        },\n{\n            'v': 1.2,\n            'f': \"1.2\",\n        },\n\"Iris-versicolor\"],\n [{\n            'v': 93,\n            'f': \"93\",\n        },\n{\n            'v': 5.0,\n            'f': \"5.0\",\n        },\n{\n            'v': 2.3,\n            'f': \"2.3\",\n        },\n{\n            'v': 3.3,\n            'f': \"3.3\",\n        },\n{\n            'v': 1.0,\n            'f': \"1.0\",\n        },\n\"Iris-versicolor\"],\n [{\n            'v': 94,\n            'f': \"94\",\n        },\n{\n            'v': 5.6,\n            'f': \"5.6\",\n        },\n{\n            'v': 2.7,\n            'f': \"2.7\",\n        },\n{\n            'v': 4.2,\n            'f': \"4.2\",\n        },\n{\n            'v': 1.3,\n            'f': \"1.3\",\n        },\n\"Iris-versicolor\"],\n [{\n            'v': 95,\n            'f': \"95\",\n        },\n{\n            'v': 5.7,\n            'f': \"5.7\",\n        },\n{\n            'v': 3.0,\n            'f': \"3.0\",\n        },\n{\n            'v': 4.2,\n            'f': \"4.2\",\n        },\n{\n            'v': 1.2,\n            'f': \"1.2\",\n        },\n\"Iris-versicolor\"],\n [{\n            'v': 96,\n            'f': \"96\",\n        },\n{\n            'v': 5.7,\n            'f': \"5.7\",\n        },\n{\n            'v': 2.9,\n            'f': \"2.9\",\n        },\n{\n            'v': 4.2,\n            'f': \"4.2\",\n        },\n{\n            'v': 1.3,\n            'f': \"1.3\",\n        },\n\"Iris-versicolor\"],\n [{\n            'v': 97,\n            'f': \"97\",\n        },\n{\n            'v': 6.2,\n            'f': \"6.2\",\n        },\n{\n            'v': 2.9,\n            'f': \"2.9\",\n        },\n{\n            'v': 4.3,\n            'f': \"4.3\",\n        },\n{\n            'v': 1.3,\n            'f': \"1.3\",\n        },\n\"Iris-versicolor\"],\n [{\n            'v': 98,\n            'f': \"98\",\n        },\n{\n            'v': 5.1,\n            'f': \"5.1\",\n        },\n{\n            'v': 2.5,\n            'f': \"2.5\",\n        },\n{\n            'v': 3.0,\n            'f': \"3.0\",\n        },\n{\n            'v': 1.1,\n            'f': \"1.1\",\n        },\n\"Iris-versicolor\"],\n [{\n            'v': 99,\n            'f': \"99\",\n        },\n{\n            'v': 5.7,\n            'f': \"5.7\",\n        },\n{\n            'v': 2.8,\n            'f': \"2.8\",\n        },\n{\n            'v': 4.1,\n            'f': \"4.1\",\n        },\n{\n            'v': 1.3,\n            'f': \"1.3\",\n        },\n\"Iris-versicolor\"],\n [{\n            'v': 100,\n            'f': \"100\",\n        },\n{\n            'v': 6.3,\n            'f': \"6.3\",\n        },\n{\n            'v': 3.3,\n            'f': \"3.3\",\n        },\n{\n            'v': 6.0,\n            'f': \"6.0\",\n        },\n{\n            'v': 2.5,\n            'f': \"2.5\",\n        },\n\"Iris-virginica\"],\n [{\n            'v': 101,\n            'f': \"101\",\n        },\n{\n            'v': 5.8,\n            'f': \"5.8\",\n        },\n{\n            'v': 2.7,\n            'f': \"2.7\",\n        },\n{\n            'v': 5.1,\n            'f': \"5.1\",\n        },\n{\n            'v': 1.9,\n            'f': \"1.9\",\n        },\n\"Iris-virginica\"],\n [{\n            'v': 102,\n            'f': \"102\",\n        },\n{\n            'v': 7.1,\n            'f': \"7.1\",\n        },\n{\n            'v': 3.0,\n            'f': \"3.0\",\n        },\n{\n            'v': 5.9,\n            'f': \"5.9\",\n        },\n{\n            'v': 2.1,\n            'f': \"2.1\",\n        },\n\"Iris-virginica\"],\n [{\n            'v': 103,\n            'f': \"103\",\n        },\n{\n            'v': 6.3,\n            'f': \"6.3\",\n        },\n{\n            'v': 2.9,\n            'f': \"2.9\",\n        },\n{\n            'v': 5.6,\n            'f': \"5.6\",\n        },\n{\n            'v': 1.8,\n            'f': \"1.8\",\n        },\n\"Iris-virginica\"],\n [{\n            'v': 104,\n            'f': \"104\",\n        },\n{\n            'v': 6.5,\n            'f': \"6.5\",\n        },\n{\n            'v': 3.0,\n            'f': \"3.0\",\n        },\n{\n            'v': 5.8,\n            'f': \"5.8\",\n        },\n{\n            'v': 2.2,\n            'f': \"2.2\",\n        },\n\"Iris-virginica\"],\n [{\n            'v': 105,\n            'f': \"105\",\n        },\n{\n            'v': 7.6,\n            'f': \"7.6\",\n        },\n{\n            'v': 3.0,\n            'f': \"3.0\",\n        },\n{\n            'v': 6.6,\n            'f': \"6.6\",\n        },\n{\n            'v': 2.1,\n            'f': \"2.1\",\n        },\n\"Iris-virginica\"],\n [{\n            'v': 106,\n            'f': \"106\",\n        },\n{\n            'v': 4.9,\n            'f': \"4.9\",\n        },\n{\n            'v': 2.5,\n            'f': \"2.5\",\n        },\n{\n            'v': 4.5,\n            'f': \"4.5\",\n        },\n{\n            'v': 1.7,\n            'f': \"1.7\",\n        },\n\"Iris-virginica\"],\n [{\n            'v': 107,\n            'f': \"107\",\n        },\n{\n            'v': 7.3,\n            'f': \"7.3\",\n        },\n{\n            'v': 2.9,\n            'f': \"2.9\",\n        },\n{\n            'v': 6.3,\n            'f': \"6.3\",\n        },\n{\n            'v': 1.8,\n            'f': \"1.8\",\n        },\n\"Iris-virginica\"],\n [{\n            'v': 108,\n            'f': \"108\",\n        },\n{\n            'v': 6.7,\n            'f': \"6.7\",\n        },\n{\n            'v': 2.5,\n            'f': \"2.5\",\n        },\n{\n            'v': 5.8,\n            'f': \"5.8\",\n        },\n{\n            'v': 1.8,\n            'f': \"1.8\",\n        },\n\"Iris-virginica\"],\n [{\n            'v': 109,\n            'f': \"109\",\n        },\n{\n            'v': 7.2,\n            'f': \"7.2\",\n        },\n{\n            'v': 3.6,\n            'f': \"3.6\",\n        },\n{\n            'v': 6.1,\n            'f': \"6.1\",\n        },\n{\n            'v': 2.5,\n            'f': \"2.5\",\n        },\n\"Iris-virginica\"],\n [{\n            'v': 110,\n            'f': \"110\",\n        },\n{\n            'v': 6.5,\n            'f': \"6.5\",\n        },\n{\n            'v': 3.2,\n            'f': \"3.2\",\n        },\n{\n            'v': 5.1,\n            'f': \"5.1\",\n        },\n{\n            'v': 2.0,\n            'f': \"2.0\",\n        },\n\"Iris-virginica\"],\n [{\n            'v': 111,\n            'f': \"111\",\n        },\n{\n            'v': 6.4,\n            'f': \"6.4\",\n        },\n{\n            'v': 2.7,\n            'f': \"2.7\",\n        },\n{\n            'v': 5.3,\n            'f': \"5.3\",\n        },\n{\n            'v': 1.9,\n            'f': \"1.9\",\n        },\n\"Iris-virginica\"],\n [{\n            'v': 112,\n            'f': \"112\",\n        },\n{\n            'v': 6.8,\n            'f': \"6.8\",\n        },\n{\n            'v': 3.0,\n            'f': \"3.0\",\n        },\n{\n            'v': 5.5,\n            'f': \"5.5\",\n        },\n{\n            'v': 2.1,\n            'f': \"2.1\",\n        },\n\"Iris-virginica\"],\n [{\n            'v': 113,\n            'f': \"113\",\n        },\n{\n            'v': 5.7,\n            'f': \"5.7\",\n        },\n{\n            'v': 2.5,\n            'f': \"2.5\",\n        },\n{\n            'v': 5.0,\n            'f': \"5.0\",\n        },\n{\n            'v': 2.0,\n            'f': \"2.0\",\n        },\n\"Iris-virginica\"],\n [{\n            'v': 114,\n            'f': \"114\",\n        },\n{\n            'v': 5.8,\n            'f': \"5.8\",\n        },\n{\n            'v': 2.8,\n            'f': \"2.8\",\n        },\n{\n            'v': 5.1,\n            'f': \"5.1\",\n        },\n{\n            'v': 2.4,\n            'f': \"2.4\",\n        },\n\"Iris-virginica\"],\n [{\n            'v': 115,\n            'f': \"115\",\n        },\n{\n            'v': 6.4,\n            'f': \"6.4\",\n        },\n{\n            'v': 3.2,\n            'f': \"3.2\",\n        },\n{\n            'v': 5.3,\n            'f': \"5.3\",\n        },\n{\n            'v': 2.3,\n            'f': \"2.3\",\n        },\n\"Iris-virginica\"],\n [{\n            'v': 116,\n            'f': \"116\",\n        },\n{\n            'v': 6.5,\n            'f': \"6.5\",\n        },\n{\n            'v': 3.0,\n            'f': \"3.0\",\n        },\n{\n            'v': 5.5,\n            'f': \"5.5\",\n        },\n{\n            'v': 1.8,\n            'f': \"1.8\",\n        },\n\"Iris-virginica\"],\n [{\n            'v': 117,\n            'f': \"117\",\n        },\n{\n            'v': 7.7,\n            'f': \"7.7\",\n        },\n{\n            'v': 3.8,\n            'f': \"3.8\",\n        },\n{\n            'v': 6.7,\n            'f': \"6.7\",\n        },\n{\n            'v': 2.2,\n            'f': \"2.2\",\n        },\n\"Iris-virginica\"],\n [{\n            'v': 118,\n            'f': \"118\",\n        },\n{\n            'v': 7.7,\n            'f': \"7.7\",\n        },\n{\n            'v': 2.6,\n            'f': \"2.6\",\n        },\n{\n            'v': 6.9,\n            'f': \"6.9\",\n        },\n{\n            'v': 2.3,\n            'f': \"2.3\",\n        },\n\"Iris-virginica\"],\n [{\n            'v': 119,\n            'f': \"119\",\n        },\n{\n            'v': 6.0,\n            'f': \"6.0\",\n        },\n{\n            'v': 2.2,\n            'f': \"2.2\",\n        },\n{\n            'v': 5.0,\n            'f': \"5.0\",\n        },\n{\n            'v': 1.5,\n            'f': \"1.5\",\n        },\n\"Iris-virginica\"],\n [{\n            'v': 120,\n            'f': \"120\",\n        },\n{\n            'v': 6.9,\n            'f': \"6.9\",\n        },\n{\n            'v': 3.2,\n            'f': \"3.2\",\n        },\n{\n            'v': 5.7,\n            'f': \"5.7\",\n        },\n{\n            'v': 2.3,\n            'f': \"2.3\",\n        },\n\"Iris-virginica\"],\n [{\n            'v': 121,\n            'f': \"121\",\n        },\n{\n            'v': 5.6,\n            'f': \"5.6\",\n        },\n{\n            'v': 2.8,\n            'f': \"2.8\",\n        },\n{\n            'v': 4.9,\n            'f': \"4.9\",\n        },\n{\n            'v': 2.0,\n            'f': \"2.0\",\n        },\n\"Iris-virginica\"],\n [{\n            'v': 122,\n            'f': \"122\",\n        },\n{\n            'v': 7.7,\n            'f': \"7.7\",\n        },\n{\n            'v': 2.8,\n            'f': \"2.8\",\n        },\n{\n            'v': 6.7,\n            'f': \"6.7\",\n        },\n{\n            'v': 2.0,\n            'f': \"2.0\",\n        },\n\"Iris-virginica\"],\n [{\n            'v': 123,\n            'f': \"123\",\n        },\n{\n            'v': 6.3,\n            'f': \"6.3\",\n        },\n{\n            'v': 2.7,\n            'f': \"2.7\",\n        },\n{\n            'v': 4.9,\n            'f': \"4.9\",\n        },\n{\n            'v': 1.8,\n            'f': \"1.8\",\n        },\n\"Iris-virginica\"],\n [{\n            'v': 124,\n            'f': \"124\",\n        },\n{\n            'v': 6.7,\n            'f': \"6.7\",\n        },\n{\n            'v': 3.3,\n            'f': \"3.3\",\n        },\n{\n            'v': 5.7,\n            'f': \"5.7\",\n        },\n{\n            'v': 2.1,\n            'f': \"2.1\",\n        },\n\"Iris-virginica\"],\n [{\n            'v': 125,\n            'f': \"125\",\n        },\n{\n            'v': 7.2,\n            'f': \"7.2\",\n        },\n{\n            'v': 3.2,\n            'f': \"3.2\",\n        },\n{\n            'v': 6.0,\n            'f': \"6.0\",\n        },\n{\n            'v': 1.8,\n            'f': \"1.8\",\n        },\n\"Iris-virginica\"],\n [{\n            'v': 126,\n            'f': \"126\",\n        },\n{\n            'v': 6.2,\n            'f': \"6.2\",\n        },\n{\n            'v': 2.8,\n            'f': \"2.8\",\n        },\n{\n            'v': 4.8,\n            'f': \"4.8\",\n        },\n{\n            'v': 1.8,\n            'f': \"1.8\",\n        },\n\"Iris-virginica\"],\n [{\n            'v': 127,\n            'f': \"127\",\n        },\n{\n            'v': 6.1,\n            'f': \"6.1\",\n        },\n{\n            'v': 3.0,\n            'f': \"3.0\",\n        },\n{\n            'v': 4.9,\n            'f': \"4.9\",\n        },\n{\n            'v': 1.8,\n            'f': \"1.8\",\n        },\n\"Iris-virginica\"],\n [{\n            'v': 128,\n            'f': \"128\",\n        },\n{\n            'v': 6.4,\n            'f': \"6.4\",\n        },\n{\n            'v': 2.8,\n            'f': \"2.8\",\n        },\n{\n            'v': 5.6,\n            'f': \"5.6\",\n        },\n{\n            'v': 2.1,\n            'f': \"2.1\",\n        },\n\"Iris-virginica\"],\n [{\n            'v': 129,\n            'f': \"129\",\n        },\n{\n            'v': 7.2,\n            'f': \"7.2\",\n        },\n{\n            'v': 3.0,\n            'f': \"3.0\",\n        },\n{\n            'v': 5.8,\n            'f': \"5.8\",\n        },\n{\n            'v': 1.6,\n            'f': \"1.6\",\n        },\n\"Iris-virginica\"],\n [{\n            'v': 130,\n            'f': \"130\",\n        },\n{\n            'v': 7.4,\n            'f': \"7.4\",\n        },\n{\n            'v': 2.8,\n            'f': \"2.8\",\n        },\n{\n            'v': 6.1,\n            'f': \"6.1\",\n        },\n{\n            'v': 1.9,\n            'f': \"1.9\",\n        },\n\"Iris-virginica\"],\n [{\n            'v': 131,\n            'f': \"131\",\n        },\n{\n            'v': 7.9,\n            'f': \"7.9\",\n        },\n{\n            'v': 3.8,\n            'f': \"3.8\",\n        },\n{\n            'v': 6.4,\n            'f': \"6.4\",\n        },\n{\n            'v': 2.0,\n            'f': \"2.0\",\n        },\n\"Iris-virginica\"],\n [{\n            'v': 132,\n            'f': \"132\",\n        },\n{\n            'v': 6.4,\n            'f': \"6.4\",\n        },\n{\n            'v': 2.8,\n            'f': \"2.8\",\n        },\n{\n            'v': 5.6,\n            'f': \"5.6\",\n        },\n{\n            'v': 2.2,\n            'f': \"2.2\",\n        },\n\"Iris-virginica\"],\n [{\n            'v': 133,\n            'f': \"133\",\n        },\n{\n            'v': 6.3,\n            'f': \"6.3\",\n        },\n{\n            'v': 2.8,\n            'f': \"2.8\",\n        },\n{\n            'v': 5.1,\n            'f': \"5.1\",\n        },\n{\n            'v': 1.5,\n            'f': \"1.5\",\n        },\n\"Iris-virginica\"],\n [{\n            'v': 134,\n            'f': \"134\",\n        },\n{\n            'v': 6.1,\n            'f': \"6.1\",\n        },\n{\n            'v': 2.6,\n            'f': \"2.6\",\n        },\n{\n            'v': 5.6,\n            'f': \"5.6\",\n        },\n{\n            'v': 1.4,\n            'f': \"1.4\",\n        },\n\"Iris-virginica\"],\n [{\n            'v': 135,\n            'f': \"135\",\n        },\n{\n            'v': 7.7,\n            'f': \"7.7\",\n        },\n{\n            'v': 3.0,\n            'f': \"3.0\",\n        },\n{\n            'v': 6.1,\n            'f': \"6.1\",\n        },\n{\n            'v': 2.3,\n            'f': \"2.3\",\n        },\n\"Iris-virginica\"],\n [{\n            'v': 136,\n            'f': \"136\",\n        },\n{\n            'v': 6.3,\n            'f': \"6.3\",\n        },\n{\n            'v': 3.4,\n            'f': \"3.4\",\n        },\n{\n            'v': 5.6,\n            'f': \"5.6\",\n        },\n{\n            'v': 2.4,\n            'f': \"2.4\",\n        },\n\"Iris-virginica\"],\n [{\n            'v': 137,\n            'f': \"137\",\n        },\n{\n            'v': 6.4,\n            'f': \"6.4\",\n        },\n{\n            'v': 3.1,\n            'f': \"3.1\",\n        },\n{\n            'v': 5.5,\n            'f': \"5.5\",\n        },\n{\n            'v': 1.8,\n            'f': \"1.8\",\n        },\n\"Iris-virginica\"],\n [{\n            'v': 138,\n            'f': \"138\",\n        },\n{\n            'v': 6.0,\n            'f': \"6.0\",\n        },\n{\n            'v': 3.0,\n            'f': \"3.0\",\n        },\n{\n            'v': 4.8,\n            'f': \"4.8\",\n        },\n{\n            'v': 1.8,\n            'f': \"1.8\",\n        },\n\"Iris-virginica\"],\n [{\n            'v': 139,\n            'f': \"139\",\n        },\n{\n            'v': 6.9,\n            'f': \"6.9\",\n        },\n{\n            'v': 3.1,\n            'f': \"3.1\",\n        },\n{\n            'v': 5.4,\n            'f': \"5.4\",\n        },\n{\n            'v': 2.1,\n            'f': \"2.1\",\n        },\n\"Iris-virginica\"],\n [{\n            'v': 140,\n            'f': \"140\",\n        },\n{\n            'v': 6.7,\n            'f': \"6.7\",\n        },\n{\n            'v': 3.1,\n            'f': \"3.1\",\n        },\n{\n            'v': 5.6,\n            'f': \"5.6\",\n        },\n{\n            'v': 2.4,\n            'f': \"2.4\",\n        },\n\"Iris-virginica\"],\n [{\n            'v': 141,\n            'f': \"141\",\n        },\n{\n            'v': 6.9,\n            'f': \"6.9\",\n        },\n{\n            'v': 3.1,\n            'f': \"3.1\",\n        },\n{\n            'v': 5.1,\n            'f': \"5.1\",\n        },\n{\n            'v': 2.3,\n            'f': \"2.3\",\n        },\n\"Iris-virginica\"],\n [{\n            'v': 142,\n            'f': \"142\",\n        },\n{\n            'v': 5.8,\n            'f': \"5.8\",\n        },\n{\n            'v': 2.7,\n            'f': \"2.7\",\n        },\n{\n            'v': 5.1,\n            'f': \"5.1\",\n        },\n{\n            'v': 1.9,\n            'f': \"1.9\",\n        },\n\"Iris-virginica\"],\n [{\n            'v': 143,\n            'f': \"143\",\n        },\n{\n            'v': 6.8,\n            'f': \"6.8\",\n        },\n{\n            'v': 3.2,\n            'f': \"3.2\",\n        },\n{\n            'v': 5.9,\n            'f': \"5.9\",\n        },\n{\n            'v': 2.3,\n            'f': \"2.3\",\n        },\n\"Iris-virginica\"],\n [{\n            'v': 144,\n            'f': \"144\",\n        },\n{\n            'v': 6.7,\n            'f': \"6.7\",\n        },\n{\n            'v': 3.3,\n            'f': \"3.3\",\n        },\n{\n            'v': 5.7,\n            'f': \"5.7\",\n        },\n{\n            'v': 2.5,\n            'f': \"2.5\",\n        },\n\"Iris-virginica\"],\n [{\n            'v': 145,\n            'f': \"145\",\n        },\n{\n            'v': 6.7,\n            'f': \"6.7\",\n        },\n{\n            'v': 3.0,\n            'f': \"3.0\",\n        },\n{\n            'v': 5.2,\n            'f': \"5.2\",\n        },\n{\n            'v': 2.3,\n            'f': \"2.3\",\n        },\n\"Iris-virginica\"],\n [{\n            'v': 146,\n            'f': \"146\",\n        },\n{\n            'v': 6.3,\n            'f': \"6.3\",\n        },\n{\n            'v': 2.5,\n            'f': \"2.5\",\n        },\n{\n            'v': 5.0,\n            'f': \"5.0\",\n        },\n{\n            'v': 1.9,\n            'f': \"1.9\",\n        },\n\"Iris-virginica\"],\n [{\n            'v': 147,\n            'f': \"147\",\n        },\n{\n            'v': 6.5,\n            'f': \"6.5\",\n        },\n{\n            'v': 3.0,\n            'f': \"3.0\",\n        },\n{\n            'v': 5.2,\n            'f': \"5.2\",\n        },\n{\n            'v': 2.0,\n            'f': \"2.0\",\n        },\n\"Iris-virginica\"],\n [{\n            'v': 148,\n            'f': \"148\",\n        },\n{\n            'v': 6.2,\n            'f': \"6.2\",\n        },\n{\n            'v': 3.4,\n            'f': \"3.4\",\n        },\n{\n            'v': 5.4,\n            'f': \"5.4\",\n        },\n{\n            'v': 2.3,\n            'f': \"2.3\",\n        },\n\"Iris-virginica\"],\n [{\n            'v': 149,\n            'f': \"149\",\n        },\n{\n            'v': 5.9,\n            'f': \"5.9\",\n        },\n{\n            'v': 3.0,\n            'f': \"3.0\",\n        },\n{\n            'v': 5.1,\n            'f': \"5.1\",\n        },\n{\n            'v': 1.8,\n            'f': \"1.8\",\n        },\n\"Iris-virginica\"]],\n        columns: [[\"number\", \"index\"], [\"number\", \"sepallength\"], [\"number\", \"sepalwidth\"], [\"number\", \"petallength\"], [\"number\", \"petalwidth\"], [\"string\", \"target\"]],\n        columnOptions: [{\"width\": \"1px\", \"className\": \"index_column\"}],\n        rowsPerPage: 25,\n        helpUrl: \"https://colab.research.google.com/notebooks/data_table.ipynb\",\n        suppressOutputScrolling: true,\n        minimumWidth: undefined,\n      });\n    "
          },
          "metadata": {},
          "execution_count": 22
        }
      ],
      "source": [
        "df = pd.read_csv('iris.data', header=None, names=['sepallength', 'sepalwidth', 'petallength', 'petalwidth', 'target'])\n",
        "df"
      ]
    },
    {
      "cell_type": "markdown",
      "metadata": {
        "id": "b580rApe6ZDC"
      },
      "source": [
        "DataFrame型は柔軟なので、整数・浮動小数点数・文字列などが混在していても、そのままの型で読み込むことができます。\n",
        "\n",
        "またread_csvメソッドも、1行目がヘッダとなっているcsvファイルの読み込みや、特定の列の読み込みなど、引数の指定によって柔軟にファイル読み込みが可能です。"
      ]
    },
    {
      "cell_type": "markdown",
      "metadata": {
        "id": "ZfGXT0UMnMQ6"
      },
      "source": [
        "### 要素へのアクセス・表示\n",
        "\n",
        "DataFrameの列要素へは列名でアクセスできます。"
      ]
    },
    {
      "cell_type": "code",
      "execution_count": null,
      "metadata": {
        "colab": {
          "base_uri": "https://localhost:8080/"
        },
        "id": "gzQj684unMjT",
        "outputId": "3546c404-b369-4b1f-e869-808b420bed79"
      },
      "outputs": [
        {
          "output_type": "execute_result",
          "data": {
            "text/plain": [
              "0      1.4\n",
              "1      1.4\n",
              "2      1.3\n",
              "3      1.5\n",
              "4      1.4\n",
              "      ... \n",
              "145    5.2\n",
              "146    5.0\n",
              "147    5.2\n",
              "148    5.4\n",
              "149    5.1\n",
              "Name: petallength, Length: 150, dtype: float64"
            ]
          },
          "metadata": {},
          "execution_count": 23
        }
      ],
      "source": [
        "df['petallength']"
      ]
    },
    {
      "cell_type": "markdown",
      "metadata": {
        "id": "ny4WNEs3nMt9"
      },
      "source": [
        "データのプロットはDataFrameのplotメソッドで行うことができます。"
      ]
    },
    {
      "cell_type": "code",
      "execution_count": null,
      "metadata": {
        "colab": {
          "base_uri": "https://localhost:8080/",
          "height": 296
        },
        "id": "tq8QfOe0nM2K",
        "outputId": "e76140aa-d430-4fe0-a233-456130ffd01c"
      },
      "outputs": [
        {
          "output_type": "execute_result",
          "data": {
            "text/plain": [
              "<matplotlib.axes._subplots.AxesSubplot at 0x7f69daa92f10>"
            ]
          },
          "metadata": {},
          "execution_count": 24
        },
        {
          "output_type": "display_data",
          "data": {
            "text/plain": [
              "<Figure size 432x288 with 1 Axes>"
            ],
            "image/png": "[encoded data removed]"
          },
          "metadata": {
            "needs_background": "light"
          }
        }
      ],
      "source": [
        "df.plot.scatter('petallength','petalwidth')"
      ]
    },
    {
      "cell_type": "markdown",
      "metadata": {
        "id": "Wd-PwE_CnKpM"
      },
      "source": [
        "### 練習問題3\n",
        "\n",
        "Google Colabにダウンロードしたiris.dataを開いて、適当なデータの適当な要素を削除してから再度データを読み込んで、どのように処理されているか確認してください。次にその欠損値を適切な値で埋めるコードを記述してください。"
      ]
    },
    {
      "cell_type": "code",
      "execution_count": null,
      "metadata": {
        "id": "m0wfCZUEmlSd"
      },
      "outputs": [],
      "source": [
        ""
      ]
    },
    {
      "cell_type": "markdown",
      "metadata": {
        "id": "jM20IoIEs2dA"
      },
      "source": [
        "## 正解"
      ]
    },
    {
      "cell_type": "markdown",
      "metadata": {
        "id": "cLibaM95s3w5"
      },
      "source": [
        "### 練習問題1"
      ]
    },
    {
      "cell_type": "code",
      "execution_count": null,
      "metadata": {
        "colab": {
          "base_uri": "https://localhost:8080/"
        },
        "id": "sizn8K9bs20F",
        "outputId": "7375e686-9c3a-4360-db36-05d0b3d97fbb"
      },
      "outputs": [
        {
          "output_type": "execute_result",
          "data": {
            "text/plain": [
              "array([-1.,  1.])"
            ]
          },
          "metadata": {},
          "execution_count": 25
        }
      ],
      "source": [
        "a = np.array([[1, 2], [3, 5]])\n",
        "b = np.array([1, 2])\n",
        "x = np.linalg.solve(a, b)\n",
        "x"
      ]
    },
    {
      "cell_type": "markdown",
      "metadata": {
        "id": "sBKCEt3BtJRO"
      },
      "source": [
        "### 練習問題2"
      ]
    },
    {
      "cell_type": "code",
      "execution_count": null,
      "metadata": {
        "colab": {
          "base_uri": "https://localhost:8080/",
          "height": 283
        },
        "id": "jc4PLdAmtJYs",
        "outputId": "fa4017ed-2389-4407-aeb6-699c4d65e8b2"
      },
      "outputs": [
        {
          "output_type": "execute_result",
          "data": {
            "text/plain": [
              "<matplotlib.collections.PathCollection at 0x7f69da9d1710>"
            ]
          },
          "metadata": {},
          "execution_count": 26
        },
        {
          "output_type": "display_data",
          "data": {
            "text/plain": [
              "<Figure size 432x288 with 1 Axes>"
            ],
            "image/png": "[encoded data removed]"
          },
          "metadata": {
            "needs_background": "light"
          }
        }
      ],
      "source": [
        "data1 = np.random.randn(50, 2)\n",
        "data2 = np.random.randn(50, 2) + [2,2]\n",
        "plt.scatter(data1[:,0], data1[:,1], c='blue',marker='o')\n",
        "plt.scatter(data2[:,0], data2[:,1], c='red',marker='^')"
      ]
    },
    {
      "cell_type": "markdown",
      "metadata": {
        "id": "P3GC3MI3tJhg"
      },
      "source": [
        "### 練習問題3"
      ]
    },
    {
      "cell_type": "markdown",
      "metadata": {
        "id": "JVTHdU5BKJna"
      },
      "source": [
        "ファイルエクスプローラでiris.dataをダブルクリックして開き、適当なデータを削除してから読み込みます。"
      ]
    },
    {
      "cell_type": "code",
      "execution_count": null,
      "metadata": {
        "colab": {
          "base_uri": "https://localhost:8080/",
          "height": 637
        },
        "id": "a9JBJiDhsOsy",
        "outputId": "bb246be7-d640-44e3-ea15-735da8ca472a"
      },
      "outputs": [
        {
          "output_type": "execute_result",
          "data": {
            "text/plain": [
              "     sepallength  sepalwidth  petallength  petalwidth          target\n",
              "0            5.1         3.5          1.4         0.2     Iris-setosa\n",
              "1            4.9         3.0          1.4         0.2     Iris-setosa\n",
              "2            4.7         3.2          1.3         0.2     Iris-setosa\n",
              "3            4.6         3.1          1.5         0.2     Iris-setosa\n",
              "4            5.0         3.6          1.4         0.2     Iris-setosa\n",
              "..           ...         ...          ...         ...             ...\n",
              "145          6.7         3.0          5.2         2.3  Iris-virginica\n",
              "146          6.3         2.5          5.0         1.9  Iris-virginica\n",
              "147          6.5         3.0          5.2         2.0  Iris-virginica\n",
              "148          6.2         3.4          5.4         2.3  Iris-virginica\n",
              "149          5.9         3.0          5.1         1.8  Iris-virginica\n",
              "\n",
              "[150 rows x 5 columns]"
            ],
            "text/html": [
              "\n",
              "  <div id=\"df-bbb8d393-093e-4df4-bfdc-b193f00ae736\">\n",
              "    <div class=\"colab-df-container\">\n",
              "      <div>\n",
              "<style scoped>\n",
              "    .dataframe tbody tr th:only-of-type {\n",
              "        vertical-align: middle;\n",
              "    }\n",
              "\n",
              "    .dataframe tbody tr th {\n",
              "        vertical-align: top;\n",
              "    }\n",
              "\n",
              "    .dataframe thead th {\n",
              "        text-align: right;\n",
              "    }\n",
              "</style>\n",
              "<table border=\"1\" class=\"dataframe\">\n",
              "  <thead>\n",
              "    <tr style=\"text-align: right;\">\n",
              "      <th></th>\n",
              "      <th>sepallength</th>\n",
              "      <th>sepalwidth</th>\n",
              "      <th>petallength</th>\n",
              "      <th>petalwidth</th>\n",
              "      <th>target</th>\n",
              "    </tr>\n",
              "  </thead>\n",
              "  <tbody>\n",
              "    <tr>\n",
              "      <th>0</th>\n",
              "      <td>5.1</td>\n",
              "      <td>3.5</td>\n",
              "      <td>1.4</td>\n",
              "      <td>0.2</td>\n",
              "      <td>Iris-setosa</td>\n",
              "    </tr>\n",
              "    <tr>\n",
              "      <th>1</th>\n",
              "      <td>4.9</td>\n",
              "      <td>3.0</td>\n",
              "      <td>1.4</td>\n",
              "      <td>0.2</td>\n",
              "      <td>Iris-setosa</td>\n",
              "    </tr>\n",
              "    <tr>\n",
              "      <th>2</th>\n",
              "      <td>4.7</td>\n",
              "      <td>3.2</td>\n",
              "      <td>1.3</td>\n",
              "      <td>0.2</td>\n",
              "      <td>Iris-setosa</td>\n",
              "    </tr>\n",
              "    <tr>\n",
              "      <th>3</th>\n",
              "      <td>4.6</td>\n",
              "      <td>3.1</td>\n",
              "      <td>1.5</td>\n",
              "      <td>0.2</td>\n",
              "      <td>Iris-setosa</td>\n",
              "    </tr>\n",
              "    <tr>\n",
              "      <th>4</th>\n",
              "      <td>5.0</td>\n",
              "      <td>3.6</td>\n",
              "      <td>1.4</td>\n",
              "      <td>0.2</td>\n",
              "      <td>Iris-setosa</td>\n",
              "    </tr>\n",
              "    <tr>\n",
              "      <th>...</th>\n",
              "      <td>...</td>\n",
              "      <td>...</td>\n",
              "      <td>...</td>\n",
              "      <td>...</td>\n",
              "      <td>...</td>\n",
              "    </tr>\n",
              "    <tr>\n",
              "      <th>145</th>\n",
              "      <td>6.7</td>\n",
              "      <td>3.0</td>\n",
              "      <td>5.2</td>\n",
              "      <td>2.3</td>\n",
              "      <td>Iris-virginica</td>\n",
              "    </tr>\n",
              "    <tr>\n",
              "      <th>146</th>\n",
              "      <td>6.3</td>\n",
              "      <td>2.5</td>\n",
              "      <td>5.0</td>\n",
              "      <td>1.9</td>\n",
              "      <td>Iris-virginica</td>\n",
              "    </tr>\n",
              "    <tr>\n",
              "      <th>147</th>\n",
              "      <td>6.5</td>\n",
              "      <td>3.0</td>\n",
              "      <td>5.2</td>\n",
              "      <td>2.0</td>\n",
              "      <td>Iris-virginica</td>\n",
              "    </tr>\n",
              "    <tr>\n",
              "      <th>148</th>\n",
              "      <td>6.2</td>\n",
              "      <td>3.4</td>\n",
              "      <td>5.4</td>\n",
              "      <td>2.3</td>\n",
              "      <td>Iris-virginica</td>\n",
              "    </tr>\n",
              "    <tr>\n",
              "      <th>149</th>\n",
              "      <td>5.9</td>\n",
              "      <td>3.0</td>\n",
              "      <td>5.1</td>\n",
              "      <td>1.8</td>\n",
              "      <td>Iris-virginica</td>\n",
              "    </tr>\n",
              "  </tbody>\n",
              "</table>\n",
              "<p>150 rows × 5 columns</p>\n",
              "</div>\n",
              "      <button class=\"colab-df-convert\" onclick=\"convertToInteractive('df-bbb8d393-093e-4df4-bfdc-b193f00ae736')\"\n",
              "              title=\"Convert this dataframe to an interactive table.\"\n",
              "              style=\"display:none;\">\n",
              "        \n",
              "  <svg xmlns=\"http://www.w3.org/2000/svg\" height=\"24px\"viewBox=\"0 0 24 24\"\n",
              "       width=\"24px\">\n",
              "    <path d=\"M0 0h24v24H0V0z\" fill=\"none\"/>\n",
              "    <path d=\"M18.56 5.44l.94 2.06.94-2.06 2.06-.94-2.06-.94-.94-2.06-.94 2.06-2.06.94zm-11 1L8.5 8.5l.94-2.06 2.06-.94-2.06-.94L8.5 2.5l-.94 2.06-2.06.94zm10 10l.94 2.06.94-2.06 2.06-.94-2.06-.94-.94-2.06-.94 2.06-2.06.94z\"/><path d=\"M17.41 7.96l-1.37-1.37c-.4-.4-.92-.59-1.43-.59-.52 0-1.04.2-1.43.59L10.3 9.45l-7.72 7.72c-.78.78-.78 2.05 0 2.83L4 21.41c.39.39.9.59 1.41.59.51 0 1.02-.2 1.41-.59l7.78-7.78 2.81-2.81c.8-.78.8-2.07 0-2.86zM5.41 20L4 18.59l7.72-7.72 1.47 1.35L5.41 20z\"/>\n",
              "  </svg>\n",
              "      </button>\n",
              "      \n",
              "  <style>\n",
              "    .colab-df-container {\n",
              "      display:flex;\n",
              "      flex-wrap:wrap;\n",
              "      gap: 12px;\n",
              "    }\n",
              "\n",
              "    .colab-df-convert {\n",
              "      background-color: #E8F0FE;\n",
              "      border: none;\n",
              "      border-radius: 50%;\n",
              "      cursor: pointer;\n",
              "      display: none;\n",
              "      fill: #1967D2;\n",
              "      height: 32px;\n",
              "      padding: 0 0 0 0;\n",
              "      width: 32px;\n",
              "    }\n",
              "\n",
              "    .colab-df-convert:hover {\n",
              "      background-color: #E2EBFA;\n",
              "      box-shadow: 0px 1px 2px rgba(60, 64, 67, 0.3), 0px 1px 3px 1px rgba(60, 64, 67, 0.15);\n",
              "      fill: #174EA6;\n",
              "    }\n",
              "\n",
              "    [theme=dark] .colab-df-convert {\n",
              "      background-color: #3B4455;\n",
              "      fill: #D2E3FC;\n",
              "    }\n",
              "\n",
              "    [theme=dark] .colab-df-convert:hover {\n",
              "      background-color: #434B5C;\n",
              "      box-shadow: 0px 1px 3px 1px rgba(0, 0, 0, 0.15);\n",
              "      filter: drop-shadow(0px 1px 2px rgba(0, 0, 0, 0.3));\n",
              "      fill: #FFFFFF;\n",
              "    }\n",
              "  </style>\n",
              "\n",
              "      <script>\n",
              "        const buttonEl =\n",
              "          document.querySelector('#df-bbb8d393-093e-4df4-bfdc-b193f00ae736 button.colab-df-convert');\n",
              "        buttonEl.style.display =\n",
              "          google.colab.kernel.accessAllowed ? 'block' : 'none';\n",
              "\n",
              "        async function convertToInteractive(key) {\n",
              "          const element = document.querySelector('#df-bbb8d393-093e-4df4-bfdc-b193f00ae736');\n",
              "          const dataTable =\n",
              "            await google.colab.kernel.invokeFunction('convertToInteractive',\n",
              "                                                     [key], {});\n",
              "          if (!dataTable) return;\n",
              "\n",
              "          const docLinkHtml = 'Like what you see? Visit the ' +\n",
              "            '<a target=\"_blank\" href=https://colab.research.google.com/notebooks/data_table.ipynb>data table notebook</a>'\n",
              "            + ' to learn more about interactive tables.';\n",
              "          element.innerHTML = '';\n",
              "          dataTable['output_type'] = 'display_data';\n",
              "          await google.colab.output.renderOutput(dataTable, element);\n",
              "          const docLink = document.createElement('div');\n",
              "          docLink.innerHTML = docLinkHtml;\n",
              "          element.appendChild(docLink);\n",
              "        }\n",
              "      </script>\n",
              "    </div>\n",
              "  </div>\n",
              "  "
            ],
            "application/vnd.google.colaboratory.module+javascript": "\n      import \"https://ssl.gstatic.com/colaboratory/data_table/81f25a011006ed3d/data_table.js\";\n\n      window.createDataTable({\n        data: [[{\n            'v': 0,\n            'f': \"0\",\n        },\n{\n            'v': 5.1,\n            'f': \"5.1\",\n        },\n{\n            'v': 3.5,\n            'f': \"3.5\",\n        },\n{\n            'v': 1.4,\n            'f': \"1.4\",\n        },\n{\n            'v': 0.2,\n            'f': \"0.2\",\n        },\n\"Iris-setosa\"],\n [{\n            'v': 1,\n            'f': \"1\",\n        },\n{\n            'v': 4.9,\n            'f': \"4.9\",\n        },\n{\n            'v': 3.0,\n            'f': \"3.0\",\n        },\n{\n            'v': 1.4,\n            'f': \"1.4\",\n        },\n{\n            'v': 0.2,\n            'f': \"0.2\",\n        },\n\"Iris-setosa\"],\n [{\n            'v': 2,\n            'f': \"2\",\n        },\n{\n            'v': 4.7,\n            'f': \"4.7\",\n        },\n{\n            'v': 3.2,\n            'f': \"3.2\",\n        },\n{\n            'v': 1.3,\n            'f': \"1.3\",\n        },\n{\n            'v': 0.2,\n            'f': \"0.2\",\n        },\n\"Iris-setosa\"],\n [{\n            'v': 3,\n            'f': \"3\",\n        },\n{\n            'v': 4.6,\n            'f': \"4.6\",\n        },\n{\n            'v': 3.1,\n            'f': \"3.1\",\n        },\n{\n            'v': 1.5,\n            'f': \"1.5\",\n        },\n{\n            'v': 0.2,\n            'f': \"0.2\",\n        },\n\"Iris-setosa\"],\n [{\n            'v': 4,\n            'f': \"4\",\n        },\n{\n            'v': 5.0,\n            'f': \"5.0\",\n        },\n{\n            'v': 3.6,\n            'f': \"3.6\",\n        },\n{\n            'v': 1.4,\n            'f': \"1.4\",\n        },\n{\n            'v': 0.2,\n            'f': \"0.2\",\n        },\n\"Iris-setosa\"],\n [{\n            'v': 5,\n            'f': \"5\",\n        },\n{\n            'v': 5.4,\n            'f': \"5.4\",\n        },\n{\n            'v': 3.9,\n            'f': \"3.9\",\n        },\n{\n            'v': 1.7,\n            'f': \"1.7\",\n        },\n{\n            'v': 0.4,\n            'f': \"0.4\",\n        },\n\"Iris-setosa\"],\n [{\n            'v': 6,\n            'f': \"6\",\n        },\n{\n            'v': 4.6,\n            'f': \"4.6\",\n        },\n{\n            'v': 3.4,\n            'f': \"3.4\",\n        },\n{\n            'v': 1.4,\n            'f': \"1.4\",\n        },\n{\n            'v': 0.3,\n            'f': \"0.3\",\n        },\n\"Iris-setosa\"],\n [{\n            'v': 7,\n            'f': \"7\",\n        },\n{\n            'v': 5.0,\n            'f': \"5.0\",\n        },\n{\n            'v': 3.4,\n            'f': \"3.4\",\n        },\n{\n            'v': 1.5,\n            'f': \"1.5\",\n        },\n{\n            'v': 0.2,\n            'f': \"0.2\",\n        },\n\"Iris-setosa\"],\n [{\n            'v': 8,\n            'f': \"8\",\n        },\n{\n            'v': 4.4,\n            'f': \"4.4\",\n        },\n{\n            'v': 2.9,\n            'f': \"2.9\",\n        },\n{\n            'v': 1.4,\n            'f': \"1.4\",\n        },\n{\n            'v': 0.2,\n            'f': \"0.2\",\n        },\n\"Iris-setosa\"],\n [{\n            'v': 9,\n            'f': \"9\",\n        },\n{\n            'v': 4.9,\n            'f': \"4.9\",\n        },\n{\n            'v': 3.1,\n            'f': \"3.1\",\n        },\n{\n            'v': 1.5,\n            'f': \"1.5\",\n        },\n{\n            'v': 0.1,\n            'f': \"0.1\",\n        },\n\"Iris-setosa\"],\n [{\n            'v': 10,\n            'f': \"10\",\n        },\n{\n            'v': 5.4,\n            'f': \"5.4\",\n        },\n{\n            'v': 3.7,\n            'f': \"3.7\",\n        },\n{\n            'v': 1.5,\n            'f': \"1.5\",\n        },\n{\n            'v': 0.2,\n            'f': \"0.2\",\n        },\n\"Iris-setosa\"],\n [{\n            'v': 11,\n            'f': \"11\",\n        },\n{\n            'v': 4.8,\n            'f': \"4.8\",\n        },\n{\n            'v': 3.4,\n            'f': \"3.4\",\n        },\n{\n            'v': 1.6,\n            'f': \"1.6\",\n        },\n{\n            'v': 0.2,\n            'f': \"0.2\",\n        },\n\"Iris-setosa\"],\n [{\n            'v': 12,\n            'f': \"12\",\n        },\n{\n            'v': 4.8,\n            'f': \"4.8\",\n        },\n{\n            'v': 3.0,\n            'f': \"3.0\",\n        },\n{\n            'v': 1.4,\n            'f': \"1.4\",\n        },\n{\n            'v': 0.1,\n            'f': \"0.1\",\n        },\n\"Iris-setosa\"],\n [{\n            'v': 13,\n            'f': \"13\",\n        },\n{\n            'v': 4.3,\n            'f': \"4.3\",\n        },\n{\n            'v': 3.0,\n            'f': \"3.0\",\n        },\n{\n            'v': 1.1,\n            'f': \"1.1\",\n        },\n{\n            'v': 0.1,\n            'f': \"0.1\",\n        },\n\"Iris-setosa\"],\n [{\n            'v': 14,\n            'f': \"14\",\n        },\n{\n            'v': 5.8,\n            'f': \"5.8\",\n        },\n{\n            'v': 4.0,\n            'f': \"4.0\",\n        },\n{\n            'v': 1.2,\n            'f': \"1.2\",\n        },\n{\n            'v': 0.2,\n            'f': \"0.2\",\n        },\n\"Iris-setosa\"],\n [{\n            'v': 15,\n            'f': \"15\",\n        },\n{\n            'v': 5.7,\n            'f': \"5.7\",\n        },\n{\n            'v': 4.4,\n            'f': \"4.4\",\n        },\n{\n            'v': 1.5,\n            'f': \"1.5\",\n        },\n{\n            'v': 0.4,\n            'f': \"0.4\",\n        },\n\"Iris-setosa\"],\n [{\n            'v': 16,\n            'f': \"16\",\n        },\n{\n            'v': 5.4,\n            'f': \"5.4\",\n        },\n{\n            'v': 3.9,\n            'f': \"3.9\",\n        },\n{\n            'v': 1.3,\n            'f': \"1.3\",\n        },\n{\n            'v': 0.4,\n            'f': \"0.4\",\n        },\n\"Iris-setosa\"],\n [{\n            'v': 17,\n            'f': \"17\",\n        },\n{\n            'v': 5.1,\n            'f': \"5.1\",\n        },\n{\n            'v': 3.5,\n            'f': \"3.5\",\n        },\n{\n            'v': 1.4,\n            'f': \"1.4\",\n        },\n{\n            'v': 0.3,\n            'f': \"0.3\",\n        },\n\"Iris-setosa\"],\n [{\n            'v': 18,\n            'f': \"18\",\n        },\n{\n            'v': 5.7,\n            'f': \"5.7\",\n        },\n{\n            'v': 3.8,\n            'f': \"3.8\",\n        },\n{\n            'v': 1.7,\n            'f': \"1.7\",\n        },\n{\n            'v': 0.3,\n            'f': \"0.3\",\n        },\n\"Iris-setosa\"],\n [{\n            'v': 19,\n            'f': \"19\",\n        },\n{\n            'v': 5.1,\n            'f': \"5.1\",\n        },\n{\n            'v': 3.8,\n            'f': \"3.8\",\n        },\n{\n            'v': 1.5,\n            'f': \"1.5\",\n        },\n{\n            'v': 0.3,\n            'f': \"0.3\",\n        },\n\"Iris-setosa\"],\n [{\n            'v': 20,\n            'f': \"20\",\n        },\n{\n            'v': 5.4,\n            'f': \"5.4\",\n        },\n{\n            'v': 3.4,\n            'f': \"3.4\",\n        },\n{\n            'v': 1.7,\n            'f': \"1.7\",\n        },\n{\n            'v': 0.2,\n            'f': \"0.2\",\n        },\n\"Iris-setosa\"],\n [{\n            'v': 21,\n            'f': \"21\",\n        },\n{\n            'v': 5.1,\n            'f': \"5.1\",\n        },\n{\n            'v': 3.7,\n            'f': \"3.7\",\n        },\n{\n            'v': 1.5,\n            'f': \"1.5\",\n        },\n{\n            'v': 0.4,\n            'f': \"0.4\",\n        },\n\"Iris-setosa\"],\n [{\n            'v': 22,\n            'f': \"22\",\n        },\n{\n            'v': 4.6,\n            'f': \"4.6\",\n        },\n{\n            'v': 3.6,\n            'f': \"3.6\",\n        },\n{\n            'v': 1.0,\n            'f': \"1.0\",\n        },\n{\n            'v': 0.2,\n            'f': \"0.2\",\n        },\n\"Iris-setosa\"],\n [{\n            'v': 23,\n            'f': \"23\",\n        },\n{\n            'v': 5.1,\n            'f': \"5.1\",\n        },\n{\n            'v': 3.3,\n            'f': \"3.3\",\n        },\n{\n            'v': 1.7,\n            'f': \"1.7\",\n        },\n{\n            'v': 0.5,\n            'f': \"0.5\",\n        },\n\"Iris-setosa\"],\n [{\n            'v': 24,\n            'f': \"24\",\n        },\n{\n            'v': 4.8,\n            'f': \"4.8\",\n        },\n{\n            'v': 3.4,\n            'f': \"3.4\",\n        },\n{\n            'v': 1.9,\n            'f': \"1.9\",\n        },\n{\n            'v': 0.2,\n            'f': \"0.2\",\n        },\n\"Iris-setosa\"],\n [{\n            'v': 25,\n            'f': \"25\",\n        },\n{\n            'v': 5.0,\n            'f': \"5.0\",\n        },\n{\n            'v': 3.0,\n            'f': \"3.0\",\n        },\n{\n            'v': 1.6,\n            'f': \"1.6\",\n        },\n{\n            'v': 0.2,\n            'f': \"0.2\",\n        },\n\"Iris-setosa\"],\n [{\n            'v': 26,\n            'f': \"26\",\n        },\n{\n            'v': 5.0,\n            'f': \"5.0\",\n        },\n{\n            'v': 3.4,\n            'f': \"3.4\",\n        },\n{\n            'v': 1.6,\n            'f': \"1.6\",\n        },\n{\n            'v': 0.4,\n            'f': \"0.4\",\n        },\n\"Iris-setosa\"],\n [{\n            'v': 27,\n            'f': \"27\",\n        },\n{\n            'v': 5.2,\n            'f': \"5.2\",\n        },\n{\n            'v': 3.5,\n            'f': \"3.5\",\n        },\n{\n            'v': 1.5,\n            'f': \"1.5\",\n        },\n{\n            'v': 0.2,\n            'f': \"0.2\",\n        },\n\"Iris-setosa\"],\n [{\n            'v': 28,\n            'f': \"28\",\n        },\n{\n            'v': 5.2,\n            'f': \"5.2\",\n        },\n{\n            'v': 3.4,\n            'f': \"3.4\",\n        },\n{\n            'v': 1.4,\n            'f': \"1.4\",\n        },\n{\n            'v': 0.2,\n            'f': \"0.2\",\n        },\n\"Iris-setosa\"],\n [{\n            'v': 29,\n            'f': \"29\",\n        },\n{\n            'v': 4.7,\n            'f': \"4.7\",\n        },\n{\n            'v': 3.2,\n            'f': \"3.2\",\n        },\n{\n            'v': 1.6,\n            'f': \"1.6\",\n        },\n{\n            'v': 0.2,\n            'f': \"0.2\",\n        },\n\"Iris-setosa\"],\n [{\n            'v': 30,\n            'f': \"30\",\n        },\n{\n            'v': 4.8,\n            'f': \"4.8\",\n        },\n{\n            'v': 3.1,\n            'f': \"3.1\",\n        },\n{\n            'v': 1.6,\n            'f': \"1.6\",\n        },\n{\n            'v': 0.2,\n            'f': \"0.2\",\n        },\n\"Iris-setosa\"],\n [{\n            'v': 31,\n            'f': \"31\",\n        },\n{\n            'v': 5.4,\n            'f': \"5.4\",\n        },\n{\n            'v': 3.4,\n            'f': \"3.4\",\n        },\n{\n            'v': 1.5,\n            'f': \"1.5\",\n        },\n{\n            'v': 0.4,\n            'f': \"0.4\",\n        },\n\"Iris-setosa\"],\n [{\n            'v': 32,\n            'f': \"32\",\n        },\n{\n            'v': 5.2,\n            'f': \"5.2\",\n        },\n{\n            'v': 4.1,\n            'f': \"4.1\",\n        },\n{\n            'v': 1.5,\n            'f': \"1.5\",\n        },\n{\n            'v': 0.1,\n            'f': \"0.1\",\n        },\n\"Iris-setosa\"],\n [{\n            'v': 33,\n            'f': \"33\",\n        },\n{\n            'v': 5.5,\n            'f': \"5.5\",\n        },\n{\n            'v': 4.2,\n            'f': \"4.2\",\n        },\n{\n            'v': 1.4,\n            'f': \"1.4\",\n        },\n{\n            'v': 0.2,\n            'f': \"0.2\",\n        },\n\"Iris-setosa\"],\n [{\n            'v': 34,\n            'f': \"34\",\n        },\n{\n            'v': 4.9,\n            'f': \"4.9\",\n        },\n{\n            'v': 3.1,\n            'f': \"3.1\",\n        },\n{\n            'v': 1.5,\n            'f': \"1.5\",\n        },\n{\n            'v': 0.1,\n            'f': \"0.1\",\n        },\n\"Iris-setosa\"],\n [{\n            'v': 35,\n            'f': \"35\",\n        },\n{\n            'v': 5.0,\n            'f': \"5.0\",\n        },\n{\n            'v': 3.2,\n            'f': \"3.2\",\n        },\n{\n            'v': 1.2,\n            'f': \"1.2\",\n        },\n{\n            'v': 0.2,\n            'f': \"0.2\",\n        },\n\"Iris-setosa\"],\n [{\n            'v': 36,\n            'f': \"36\",\n        },\n{\n            'v': 5.5,\n            'f': \"5.5\",\n        },\n{\n            'v': 3.5,\n            'f': \"3.5\",\n        },\n{\n            'v': 1.3,\n            'f': \"1.3\",\n        },\n{\n            'v': 0.2,\n            'f': \"0.2\",\n        },\n\"Iris-setosa\"],\n [{\n            'v': 37,\n            'f': \"37\",\n        },\n{\n            'v': 4.9,\n            'f': \"4.9\",\n        },\n{\n            'v': 3.1,\n            'f': \"3.1\",\n        },\n{\n            'v': 1.5,\n            'f': \"1.5\",\n        },\n{\n            'v': 0.1,\n            'f': \"0.1\",\n        },\n\"Iris-setosa\"],\n [{\n            'v': 38,\n            'f': \"38\",\n        },\n{\n            'v': 4.4,\n            'f': \"4.4\",\n        },\n{\n            'v': 3.0,\n            'f': \"3.0\",\n        },\n{\n            'v': 1.3,\n            'f': \"1.3\",\n        },\n{\n            'v': 0.2,\n            'f': \"0.2\",\n        },\n\"Iris-setosa\"],\n [{\n            'v': 39,\n            'f': \"39\",\n        },\n{\n            'v': 5.1,\n            'f': \"5.1\",\n        },\n{\n            'v': 3.4,\n            'f': \"3.4\",\n        },\n{\n            'v': 1.5,\n            'f': \"1.5\",\n        },\n{\n            'v': 0.2,\n            'f': \"0.2\",\n        },\n\"Iris-setosa\"],\n [{\n            'v': 40,\n            'f': \"40\",\n        },\n{\n            'v': 5.0,\n            'f': \"5.0\",\n        },\n{\n            'v': 3.5,\n            'f': \"3.5\",\n        },\n{\n            'v': 1.3,\n            'f': \"1.3\",\n        },\n{\n            'v': 0.3,\n            'f': \"0.3\",\n        },\n\"Iris-setosa\"],\n [{\n            'v': 41,\n            'f': \"41\",\n        },\n{\n            'v': 4.5,\n            'f': \"4.5\",\n        },\n{\n            'v': 2.3,\n            'f': \"2.3\",\n        },\n{\n            'v': 1.3,\n            'f': \"1.3\",\n        },\n{\n            'v': 0.3,\n            'f': \"0.3\",\n        },\n\"Iris-setosa\"],\n [{\n            'v': 42,\n            'f': \"42\",\n        },\n{\n            'v': 4.4,\n            'f': \"4.4\",\n        },\n{\n            'v': 3.2,\n            'f': \"3.2\",\n        },\n{\n            'v': 1.3,\n            'f': \"1.3\",\n        },\n{\n            'v': 0.2,\n            'f': \"0.2\",\n        },\n\"Iris-setosa\"],\n [{\n            'v': 43,\n            'f': \"43\",\n        },\n{\n            'v': 5.0,\n            'f': \"5.0\",\n        },\n{\n            'v': 3.5,\n            'f': \"3.5\",\n        },\n{\n            'v': 1.6,\n            'f': \"1.6\",\n        },\n{\n            'v': 0.6,\n            'f': \"0.6\",\n        },\n\"Iris-setosa\"],\n [{\n            'v': 44,\n            'f': \"44\",\n        },\n{\n            'v': 5.1,\n            'f': \"5.1\",\n        },\n{\n            'v': 3.8,\n            'f': \"3.8\",\n        },\n{\n            'v': 1.9,\n            'f': \"1.9\",\n        },\n{\n            'v': 0.4,\n            'f': \"0.4\",\n        },\n\"Iris-setosa\"],\n [{\n            'v': 45,\n            'f': \"45\",\n        },\n{\n            'v': 4.8,\n            'f': \"4.8\",\n        },\n{\n            'v': 3.0,\n            'f': \"3.0\",\n        },\n{\n            'v': 1.4,\n            'f': \"1.4\",\n        },\n{\n            'v': 0.3,\n            'f': \"0.3\",\n        },\n\"Iris-setosa\"],\n [{\n            'v': 46,\n            'f': \"46\",\n        },\n{\n            'v': 5.1,\n            'f': \"5.1\",\n        },\n{\n            'v': 3.8,\n            'f': \"3.8\",\n        },\n{\n            'v': 1.6,\n            'f': \"1.6\",\n        },\n{\n            'v': 0.2,\n            'f': \"0.2\",\n        },\n\"Iris-setosa\"],\n [{\n            'v': 47,\n            'f': \"47\",\n        },\n{\n            'v': 4.6,\n            'f': \"4.6\",\n        },\n{\n            'v': 3.2,\n            'f': \"3.2\",\n        },\n{\n            'v': 1.4,\n            'f': \"1.4\",\n        },\n{\n            'v': 0.2,\n            'f': \"0.2\",\n        },\n\"Iris-setosa\"],\n [{\n            'v': 48,\n            'f': \"48\",\n        },\n{\n            'v': 5.3,\n            'f': \"5.3\",\n        },\n{\n            'v': 3.7,\n            'f': \"3.7\",\n        },\n{\n            'v': 1.5,\n            'f': \"1.5\",\n        },\n{\n            'v': 0.2,\n            'f': \"0.2\",\n        },\n\"Iris-setosa\"],\n [{\n            'v': 49,\n            'f': \"49\",\n        },\n{\n            'v': 5.0,\n            'f': \"5.0\",\n        },\n{\n            'v': 3.3,\n            'f': \"3.3\",\n        },\n{\n            'v': 1.4,\n            'f': \"1.4\",\n        },\n{\n            'v': 0.2,\n            'f': \"0.2\",\n        },\n\"Iris-setosa\"],\n [{\n            'v': 50,\n            'f': \"50\",\n        },\n{\n            'v': 7.0,\n            'f': \"7.0\",\n        },\n{\n            'v': 3.2,\n            'f': \"3.2\",\n        },\n{\n            'v': 4.7,\n            'f': \"4.7\",\n        },\n{\n            'v': 1.4,\n            'f': \"1.4\",\n        },\n\"Iris-versicolor\"],\n [{\n            'v': 51,\n            'f': \"51\",\n        },\n{\n            'v': 6.4,\n            'f': \"6.4\",\n        },\n{\n            'v': 3.2,\n            'f': \"3.2\",\n        },\n{\n            'v': 4.5,\n            'f': \"4.5\",\n        },\n{\n            'v': 1.5,\n            'f': \"1.5\",\n        },\n\"Iris-versicolor\"],\n [{\n            'v': 52,\n            'f': \"52\",\n        },\n{\n            'v': 6.9,\n            'f': \"6.9\",\n        },\n{\n            'v': 3.1,\n            'f': \"3.1\",\n        },\n{\n            'v': 4.9,\n            'f': \"4.9\",\n        },\n{\n            'v': 1.5,\n            'f': \"1.5\",\n        },\n\"Iris-versicolor\"],\n [{\n            'v': 53,\n            'f': \"53\",\n        },\n{\n            'v': 5.5,\n            'f': \"5.5\",\n        },\n{\n            'v': 2.3,\n            'f': \"2.3\",\n        },\n{\n            'v': 4.0,\n            'f': \"4.0\",\n        },\n{\n            'v': 1.3,\n            'f': \"1.3\",\n        },\n\"Iris-versicolor\"],\n [{\n            'v': 54,\n            'f': \"54\",\n        },\n{\n            'v': 6.5,\n            'f': \"6.5\",\n        },\n{\n            'v': 2.8,\n            'f': \"2.8\",\n        },\n{\n            'v': 4.6,\n            'f': \"4.6\",\n        },\n{\n            'v': 1.5,\n            'f': \"1.5\",\n        },\n\"Iris-versicolor\"],\n [{\n            'v': 55,\n            'f': \"55\",\n        },\n{\n            'v': 5.7,\n            'f': \"5.7\",\n        },\n{\n            'v': 2.8,\n            'f': \"2.8\",\n        },\n{\n            'v': 4.5,\n            'f': \"4.5\",\n        },\n{\n            'v': 1.3,\n            'f': \"1.3\",\n        },\n\"Iris-versicolor\"],\n [{\n            'v': 56,\n            'f': \"56\",\n        },\n{\n            'v': 6.3,\n            'f': \"6.3\",\n        },\n{\n            'v': 3.3,\n            'f': \"3.3\",\n        },\n{\n            'v': 4.7,\n            'f': \"4.7\",\n        },\n{\n            'v': 1.6,\n            'f': \"1.6\",\n        },\n\"Iris-versicolor\"],\n [{\n            'v': 57,\n            'f': \"57\",\n        },\n{\n            'v': 4.9,\n            'f': \"4.9\",\n        },\n{\n            'v': 2.4,\n            'f': \"2.4\",\n        },\n{\n            'v': 3.3,\n            'f': \"3.3\",\n        },\n{\n            'v': 1.0,\n            'f': \"1.0\",\n        },\n\"Iris-versicolor\"],\n [{\n            'v': 58,\n            'f': \"58\",\n        },\n{\n            'v': 6.6,\n            'f': \"6.6\",\n        },\n{\n            'v': 2.9,\n            'f': \"2.9\",\n        },\n{\n            'v': 4.6,\n            'f': \"4.6\",\n        },\n{\n            'v': 1.3,\n            'f': \"1.3\",\n        },\n\"Iris-versicolor\"],\n [{\n            'v': 59,\n            'f': \"59\",\n        },\n{\n            'v': 5.2,\n            'f': \"5.2\",\n        },\n{\n            'v': 2.7,\n            'f': \"2.7\",\n        },\n{\n            'v': 3.9,\n            'f': \"3.9\",\n        },\n{\n            'v': 1.4,\n            'f': \"1.4\",\n        },\n\"Iris-versicolor\"],\n [{\n            'v': 60,\n            'f': \"60\",\n        },\n{\n            'v': 5.0,\n            'f': \"5.0\",\n        },\n{\n            'v': 2.0,\n            'f': \"2.0\",\n        },\n{\n            'v': 3.5,\n            'f': \"3.5\",\n        },\n{\n            'v': 1.0,\n            'f': \"1.0\",\n        },\n\"Iris-versicolor\"],\n [{\n            'v': 61,\n            'f': \"61\",\n        },\n{\n            'v': 5.9,\n            'f': \"5.9\",\n        },\n{\n            'v': 3.0,\n            'f': \"3.0\",\n        },\n{\n            'v': 4.2,\n            'f': \"4.2\",\n        },\n{\n            'v': 1.5,\n            'f': \"1.5\",\n        },\n\"Iris-versicolor\"],\n [{\n            'v': 62,\n            'f': \"62\",\n        },\n{\n            'v': 6.0,\n            'f': \"6.0\",\n        },\n{\n            'v': 2.2,\n            'f': \"2.2\",\n        },\n{\n            'v': 4.0,\n            'f': \"4.0\",\n        },\n{\n            'v': 1.0,\n            'f': \"1.0\",\n        },\n\"Iris-versicolor\"],\n [{\n            'v': 63,\n            'f': \"63\",\n        },\n{\n            'v': 6.1,\n            'f': \"6.1\",\n        },\n{\n            'v': 2.9,\n            'f': \"2.9\",\n        },\n{\n            'v': 4.7,\n            'f': \"4.7\",\n        },\n{\n            'v': 1.4,\n            'f': \"1.4\",\n        },\n\"Iris-versicolor\"],\n [{\n            'v': 64,\n            'f': \"64\",\n        },\n{\n            'v': 5.6,\n            'f': \"5.6\",\n        },\n{\n            'v': 2.9,\n            'f': \"2.9\",\n        },\n{\n            'v': 3.6,\n            'f': \"3.6\",\n        },\n{\n            'v': 1.3,\n            'f': \"1.3\",\n        },\n\"Iris-versicolor\"],\n [{\n            'v': 65,\n            'f': \"65\",\n        },\n{\n            'v': 6.7,\n            'f': \"6.7\",\n        },\n{\n            'v': 3.1,\n            'f': \"3.1\",\n        },\n{\n            'v': 4.4,\n            'f': \"4.4\",\n        },\n{\n            'v': 1.4,\n            'f': \"1.4\",\n        },\n\"Iris-versicolor\"],\n [{\n            'v': 66,\n            'f': \"66\",\n        },\n{\n            'v': 5.6,\n            'f': \"5.6\",\n        },\n{\n            'v': 3.0,\n            'f': \"3.0\",\n        },\n{\n            'v': 4.5,\n            'f': \"4.5\",\n        },\n{\n            'v': 1.5,\n            'f': \"1.5\",\n        },\n\"Iris-versicolor\"],\n [{\n            'v': 67,\n            'f': \"67\",\n        },\n{\n            'v': 5.8,\n            'f': \"5.8\",\n        },\n{\n            'v': 2.7,\n            'f': \"2.7\",\n        },\n{\n            'v': 4.1,\n            'f': \"4.1\",\n        },\n{\n            'v': 1.0,\n            'f': \"1.0\",\n        },\n\"Iris-versicolor\"],\n [{\n            'v': 68,\n            'f': \"68\",\n        },\n{\n            'v': 6.2,\n            'f': \"6.2\",\n        },\n{\n            'v': 2.2,\n            'f': \"2.2\",\n        },\n{\n            'v': 4.5,\n            'f': \"4.5\",\n        },\n{\n            'v': 1.5,\n            'f': \"1.5\",\n        },\n\"Iris-versicolor\"],\n [{\n            'v': 69,\n            'f': \"69\",\n        },\n{\n            'v': 5.6,\n            'f': \"5.6\",\n        },\n{\n            'v': 2.5,\n            'f': \"2.5\",\n        },\n{\n            'v': 3.9,\n            'f': \"3.9\",\n        },\n{\n            'v': 1.1,\n            'f': \"1.1\",\n        },\n\"Iris-versicolor\"],\n [{\n            'v': 70,\n            'f': \"70\",\n        },\n{\n            'v': 5.9,\n            'f': \"5.9\",\n        },\n{\n            'v': 3.2,\n            'f': \"3.2\",\n        },\n{\n            'v': 4.8,\n            'f': \"4.8\",\n        },\n{\n            'v': 1.8,\n            'f': \"1.8\",\n        },\n\"Iris-versicolor\"],\n [{\n            'v': 71,\n            'f': \"71\",\n        },\n{\n            'v': 6.1,\n            'f': \"6.1\",\n        },\n{\n            'v': 2.8,\n            'f': \"2.8\",\n        },\n{\n            'v': 4.0,\n            'f': \"4.0\",\n        },\n{\n            'v': 1.3,\n            'f': \"1.3\",\n        },\n\"Iris-versicolor\"],\n [{\n            'v': 72,\n            'f': \"72\",\n        },\n{\n            'v': 6.3,\n            'f': \"6.3\",\n        },\n{\n            'v': 2.5,\n            'f': \"2.5\",\n        },\n{\n            'v': 4.9,\n            'f': \"4.9\",\n        },\n{\n            'v': 1.5,\n            'f': \"1.5\",\n        },\n\"Iris-versicolor\"],\n [{\n            'v': 73,\n            'f': \"73\",\n        },\n{\n            'v': 6.1,\n            'f': \"6.1\",\n        },\n{\n            'v': 2.8,\n            'f': \"2.8\",\n        },\n{\n            'v': 4.7,\n            'f': \"4.7\",\n        },\n{\n            'v': 1.2,\n            'f': \"1.2\",\n        },\n\"Iris-versicolor\"],\n [{\n            'v': 74,\n            'f': \"74\",\n        },\n{\n            'v': 6.4,\n            'f': \"6.4\",\n        },\n{\n            'v': 2.9,\n            'f': \"2.9\",\n        },\n{\n            'v': 4.3,\n            'f': \"4.3\",\n        },\n{\n            'v': 1.3,\n            'f': \"1.3\",\n        },\n\"Iris-versicolor\"],\n [{\n            'v': 75,\n            'f': \"75\",\n        },\n{\n            'v': 6.6,\n            'f': \"6.6\",\n        },\n{\n            'v': 3.0,\n            'f': \"3.0\",\n        },\n{\n            'v': 4.4,\n            'f': \"4.4\",\n        },\n{\n            'v': 1.4,\n            'f': \"1.4\",\n        },\n\"Iris-versicolor\"],\n [{\n            'v': 76,\n            'f': \"76\",\n        },\n{\n            'v': 6.8,\n            'f': \"6.8\",\n        },\n{\n            'v': 2.8,\n            'f': \"2.8\",\n        },\n{\n            'v': 4.8,\n            'f': \"4.8\",\n        },\n{\n            'v': 1.4,\n            'f': \"1.4\",\n        },\n\"Iris-versicolor\"],\n [{\n            'v': 77,\n            'f': \"77\",\n        },\n{\n            'v': 6.7,\n            'f': \"6.7\",\n        },\n{\n            'v': 3.0,\n            'f': \"3.0\",\n        },\n{\n            'v': 5.0,\n            'f': \"5.0\",\n        },\n{\n            'v': 1.7,\n            'f': \"1.7\",\n        },\n\"Iris-versicolor\"],\n [{\n            'v': 78,\n            'f': \"78\",\n        },\n{\n            'v': 6.0,\n            'f': \"6.0\",\n        },\n{\n            'v': 2.9,\n            'f': \"2.9\",\n        },\n{\n            'v': 4.5,\n            'f': \"4.5\",\n        },\n{\n            'v': 1.5,\n            'f': \"1.5\",\n        },\n\"Iris-versicolor\"],\n [{\n            'v': 79,\n            'f': \"79\",\n        },\n{\n            'v': 5.7,\n            'f': \"5.7\",\n        },\n{\n            'v': 2.6,\n            'f': \"2.6\",\n        },\n{\n            'v': 3.5,\n            'f': \"3.5\",\n        },\n{\n            'v': 1.0,\n            'f': \"1.0\",\n        },\n\"Iris-versicolor\"],\n [{\n            'v': 80,\n            'f': \"80\",\n        },\n{\n            'v': 5.5,\n            'f': \"5.5\",\n        },\n{\n            'v': 2.4,\n            'f': \"2.4\",\n        },\n{\n            'v': 3.8,\n            'f': \"3.8\",\n        },\n{\n            'v': 1.1,\n            'f': \"1.1\",\n        },\n\"Iris-versicolor\"],\n [{\n            'v': 81,\n            'f': \"81\",\n        },\n{\n            'v': 5.5,\n            'f': \"5.5\",\n        },\n{\n            'v': 2.4,\n            'f': \"2.4\",\n        },\n{\n            'v': 3.7,\n            'f': \"3.7\",\n        },\n{\n            'v': 1.0,\n            'f': \"1.0\",\n        },\n\"Iris-versicolor\"],\n [{\n            'v': 82,\n            'f': \"82\",\n        },\n{\n            'v': 5.8,\n            'f': \"5.8\",\n        },\n{\n            'v': 2.7,\n            'f': \"2.7\",\n        },\n{\n            'v': 3.9,\n            'f': \"3.9\",\n        },\n{\n            'v': 1.2,\n            'f': \"1.2\",\n        },\n\"Iris-versicolor\"],\n [{\n            'v': 83,\n            'f': \"83\",\n        },\n{\n            'v': 6.0,\n            'f': \"6.0\",\n        },\n{\n            'v': 2.7,\n            'f': \"2.7\",\n        },\n{\n            'v': 5.1,\n            'f': \"5.1\",\n        },\n{\n            'v': 1.6,\n            'f': \"1.6\",\n        },\n\"Iris-versicolor\"],\n [{\n            'v': 84,\n            'f': \"84\",\n        },\n{\n            'v': 5.4,\n            'f': \"5.4\",\n        },\n{\n            'v': 3.0,\n            'f': \"3.0\",\n        },\n{\n            'v': 4.5,\n            'f': \"4.5\",\n        },\n{\n            'v': 1.5,\n            'f': \"1.5\",\n        },\n\"Iris-versicolor\"],\n [{\n            'v': 85,\n            'f': \"85\",\n        },\n{\n            'v': 6.0,\n            'f': \"6.0\",\n        },\n{\n            'v': 3.4,\n            'f': \"3.4\",\n        },\n{\n            'v': 4.5,\n            'f': \"4.5\",\n        },\n{\n            'v': 1.6,\n            'f': \"1.6\",\n        },\n\"Iris-versicolor\"],\n [{\n            'v': 86,\n            'f': \"86\",\n        },\n{\n            'v': 6.7,\n            'f': \"6.7\",\n        },\n{\n            'v': 3.1,\n            'f': \"3.1\",\n        },\n{\n            'v': 4.7,\n            'f': \"4.7\",\n        },\n{\n            'v': 1.5,\n            'f': \"1.5\",\n        },\n\"Iris-versicolor\"],\n [{\n            'v': 87,\n            'f': \"87\",\n        },\n{\n            'v': 6.3,\n            'f': \"6.3\",\n        },\n{\n            'v': 2.3,\n            'f': \"2.3\",\n        },\n{\n            'v': 4.4,\n            'f': \"4.4\",\n        },\n{\n            'v': 1.3,\n            'f': \"1.3\",\n        },\n\"Iris-versicolor\"],\n [{\n            'v': 88,\n            'f': \"88\",\n        },\n{\n            'v': 5.6,\n            'f': \"5.6\",\n        },\n{\n            'v': 3.0,\n            'f': \"3.0\",\n        },\n{\n            'v': 4.1,\n            'f': \"4.1\",\n        },\n{\n            'v': 1.3,\n            'f': \"1.3\",\n        },\n\"Iris-versicolor\"],\n [{\n            'v': 89,\n            'f': \"89\",\n        },\n{\n            'v': 5.5,\n            'f': \"5.5\",\n        },\n{\n            'v': 2.5,\n            'f': \"2.5\",\n        },\n{\n            'v': 4.0,\n            'f': \"4.0\",\n        },\n{\n            'v': 1.3,\n            'f': \"1.3\",\n        },\n\"Iris-versicolor\"],\n [{\n            'v': 90,\n            'f': \"90\",\n        },\n{\n            'v': 5.5,\n            'f': \"5.5\",\n        },\n{\n            'v': 2.6,\n            'f': \"2.6\",\n        },\n{\n            'v': 4.4,\n            'f': \"4.4\",\n        },\n{\n            'v': 1.2,\n            'f': \"1.2\",\n        },\n\"Iris-versicolor\"],\n [{\n            'v': 91,\n            'f': \"91\",\n        },\n{\n            'v': 6.1,\n            'f': \"6.1\",\n        },\n{\n            'v': 3.0,\n            'f': \"3.0\",\n        },\n{\n            'v': 4.6,\n            'f': \"4.6\",\n        },\n{\n            'v': 1.4,\n            'f': \"1.4\",\n        },\n\"Iris-versicolor\"],\n [{\n            'v': 92,\n            'f': \"92\",\n        },\n{\n            'v': 5.8,\n            'f': \"5.8\",\n        },\n{\n            'v': 2.6,\n            'f': \"2.6\",\n        },\n{\n            'v': 4.0,\n            'f': \"4.0\",\n        },\n{\n            'v': 1.2,\n            'f': \"1.2\",\n        },\n\"Iris-versicolor\"],\n [{\n            'v': 93,\n            'f': \"93\",\n        },\n{\n            'v': 5.0,\n            'f': \"5.0\",\n        },\n{\n            'v': 2.3,\n            'f': \"2.3\",\n        },\n{\n            'v': 3.3,\n            'f': \"3.3\",\n        },\n{\n            'v': 1.0,\n            'f': \"1.0\",\n        },\n\"Iris-versicolor\"],\n [{\n            'v': 94,\n            'f': \"94\",\n        },\n{\n            'v': 5.6,\n            'f': \"5.6\",\n        },\n{\n            'v': 2.7,\n            'f': \"2.7\",\n        },\n{\n            'v': 4.2,\n            'f': \"4.2\",\n        },\n{\n            'v': 1.3,\n            'f': \"1.3\",\n        },\n\"Iris-versicolor\"],\n [{\n            'v': 95,\n            'f': \"95\",\n        },\n{\n            'v': 5.7,\n            'f': \"5.7\",\n        },\n{\n            'v': 3.0,\n            'f': \"3.0\",\n        },\n{\n            'v': 4.2,\n            'f': \"4.2\",\n        },\n{\n            'v': 1.2,\n            'f': \"1.2\",\n        },\n\"Iris-versicolor\"],\n [{\n            'v': 96,\n            'f': \"96\",\n        },\n{\n            'v': 5.7,\n            'f': \"5.7\",\n        },\n{\n            'v': 2.9,\n            'f': \"2.9\",\n        },\n{\n            'v': 4.2,\n            'f': \"4.2\",\n        },\n{\n            'v': 1.3,\n            'f': \"1.3\",\n        },\n\"Iris-versicolor\"],\n [{\n            'v': 97,\n            'f': \"97\",\n        },\n{\n            'v': 6.2,\n            'f': \"6.2\",\n        },\n{\n            'v': 2.9,\n            'f': \"2.9\",\n        },\n{\n            'v': 4.3,\n            'f': \"4.3\",\n        },\n{\n            'v': 1.3,\n            'f': \"1.3\",\n        },\n\"Iris-versicolor\"],\n [{\n            'v': 98,\n            'f': \"98\",\n        },\n{\n            'v': 5.1,\n            'f': \"5.1\",\n        },\n{\n            'v': 2.5,\n            'f': \"2.5\",\n        },\n{\n            'v': 3.0,\n            'f': \"3.0\",\n        },\n{\n            'v': 1.1,\n            'f': \"1.1\",\n        },\n\"Iris-versicolor\"],\n [{\n            'v': 99,\n            'f': \"99\",\n        },\n{\n            'v': 5.7,\n            'f': \"5.7\",\n        },\n{\n            'v': 2.8,\n            'f': \"2.8\",\n        },\n{\n            'v': 4.1,\n            'f': \"4.1\",\n        },\n{\n            'v': 1.3,\n            'f': \"1.3\",\n        },\n\"Iris-versicolor\"],\n [{\n            'v': 100,\n            'f': \"100\",\n        },\n{\n            'v': 6.3,\n            'f': \"6.3\",\n        },\n{\n            'v': 3.3,\n            'f': \"3.3\",\n        },\n{\n            'v': 6.0,\n            'f': \"6.0\",\n        },\n{\n            'v': 2.5,\n            'f': \"2.5\",\n        },\n\"Iris-virginica\"],\n [{\n            'v': 101,\n            'f': \"101\",\n        },\n{\n            'v': 5.8,\n            'f': \"5.8\",\n        },\n{\n            'v': 2.7,\n            'f': \"2.7\",\n        },\n{\n            'v': 5.1,\n            'f': \"5.1\",\n        },\n{\n            'v': 1.9,\n            'f': \"1.9\",\n        },\n\"Iris-virginica\"],\n [{\n            'v': 102,\n            'f': \"102\",\n        },\n{\n            'v': 7.1,\n            'f': \"7.1\",\n        },\n{\n            'v': 3.0,\n            'f': \"3.0\",\n        },\n{\n            'v': 5.9,\n            'f': \"5.9\",\n        },\n{\n            'v': 2.1,\n            'f': \"2.1\",\n        },\n\"Iris-virginica\"],\n [{\n            'v': 103,\n            'f': \"103\",\n        },\n{\n            'v': 6.3,\n            'f': \"6.3\",\n        },\n{\n            'v': 2.9,\n            'f': \"2.9\",\n        },\n{\n            'v': 5.6,\n            'f': \"5.6\",\n        },\n{\n            'v': 1.8,\n            'f': \"1.8\",\n        },\n\"Iris-virginica\"],\n [{\n            'v': 104,\n            'f': \"104\",\n        },\n{\n            'v': 6.5,\n            'f': \"6.5\",\n        },\n{\n            'v': 3.0,\n            'f': \"3.0\",\n        },\n{\n            'v': 5.8,\n            'f': \"5.8\",\n        },\n{\n            'v': 2.2,\n            'f': \"2.2\",\n        },\n\"Iris-virginica\"],\n [{\n            'v': 105,\n            'f': \"105\",\n        },\n{\n            'v': 7.6,\n            'f': \"7.6\",\n        },\n{\n            'v': 3.0,\n            'f': \"3.0\",\n        },\n{\n            'v': 6.6,\n            'f': \"6.6\",\n        },\n{\n            'v': 2.1,\n            'f': \"2.1\",\n        },\n\"Iris-virginica\"],\n [{\n            'v': 106,\n            'f': \"106\",\n        },\n{\n            'v': 4.9,\n            'f': \"4.9\",\n        },\n{\n            'v': 2.5,\n            'f': \"2.5\",\n        },\n{\n            'v': 4.5,\n            'f': \"4.5\",\n        },\n{\n            'v': 1.7,\n            'f': \"1.7\",\n        },\n\"Iris-virginica\"],\n [{\n            'v': 107,\n            'f': \"107\",\n        },\n{\n            'v': 7.3,\n            'f': \"7.3\",\n        },\n{\n            'v': 2.9,\n            'f': \"2.9\",\n        },\n{\n            'v': 6.3,\n            'f': \"6.3\",\n        },\n{\n            'v': 1.8,\n            'f': \"1.8\",\n        },\n\"Iris-virginica\"],\n [{\n            'v': 108,\n            'f': \"108\",\n        },\n{\n            'v': 6.7,\n            'f': \"6.7\",\n        },\n{\n            'v': 2.5,\n            'f': \"2.5\",\n        },\n{\n            'v': 5.8,\n            'f': \"5.8\",\n        },\n{\n            'v': 1.8,\n            'f': \"1.8\",\n        },\n\"Iris-virginica\"],\n [{\n            'v': 109,\n            'f': \"109\",\n        },\n{\n            'v': 7.2,\n            'f': \"7.2\",\n        },\n{\n            'v': 3.6,\n            'f': \"3.6\",\n        },\n{\n            'v': 6.1,\n            'f': \"6.1\",\n        },\n{\n            'v': 2.5,\n            'f': \"2.5\",\n        },\n\"Iris-virginica\"],\n [{\n            'v': 110,\n            'f': \"110\",\n        },\n{\n            'v': 6.5,\n            'f': \"6.5\",\n        },\n{\n            'v': 3.2,\n            'f': \"3.2\",\n        },\n{\n            'v': 5.1,\n            'f': \"5.1\",\n        },\n{\n            'v': 2.0,\n            'f': \"2.0\",\n        },\n\"Iris-virginica\"],\n [{\n            'v': 111,\n            'f': \"111\",\n        },\n{\n            'v': 6.4,\n            'f': \"6.4\",\n        },\n{\n            'v': 2.7,\n            'f': \"2.7\",\n        },\n{\n            'v': 5.3,\n            'f': \"5.3\",\n        },\n{\n            'v': 1.9,\n            'f': \"1.9\",\n        },\n\"Iris-virginica\"],\n [{\n            'v': 112,\n            'f': \"112\",\n        },\n{\n            'v': 6.8,\n            'f': \"6.8\",\n        },\n{\n            'v': 3.0,\n            'f': \"3.0\",\n        },\n{\n            'v': 5.5,\n            'f': \"5.5\",\n        },\n{\n            'v': 2.1,\n            'f': \"2.1\",\n        },\n\"Iris-virginica\"],\n [{\n            'v': 113,\n            'f': \"113\",\n        },\n{\n            'v': 5.7,\n            'f': \"5.7\",\n        },\n{\n            'v': 2.5,\n            'f': \"2.5\",\n        },\n{\n            'v': 5.0,\n            'f': \"5.0\",\n        },\n{\n            'v': 2.0,\n            'f': \"2.0\",\n        },\n\"Iris-virginica\"],\n [{\n            'v': 114,\n            'f': \"114\",\n        },\n{\n            'v': 5.8,\n            'f': \"5.8\",\n        },\n{\n            'v': 2.8,\n            'f': \"2.8\",\n        },\n{\n            'v': 5.1,\n            'f': \"5.1\",\n        },\n{\n            'v': 2.4,\n            'f': \"2.4\",\n        },\n\"Iris-virginica\"],\n [{\n            'v': 115,\n            'f': \"115\",\n        },\n{\n            'v': 6.4,\n            'f': \"6.4\",\n        },\n{\n            'v': 3.2,\n            'f': \"3.2\",\n        },\n{\n            'v': 5.3,\n            'f': \"5.3\",\n        },\n{\n            'v': 2.3,\n            'f': \"2.3\",\n        },\n\"Iris-virginica\"],\n [{\n            'v': 116,\n            'f': \"116\",\n        },\n{\n            'v': 6.5,\n            'f': \"6.5\",\n        },\n{\n            'v': 3.0,\n            'f': \"3.0\",\n        },\n{\n            'v': 5.5,\n            'f': \"5.5\",\n        },\n{\n            'v': 1.8,\n            'f': \"1.8\",\n        },\n\"Iris-virginica\"],\n [{\n            'v': 117,\n            'f': \"117\",\n        },\n{\n            'v': 7.7,\n            'f': \"7.7\",\n        },\n{\n            'v': 3.8,\n            'f': \"3.8\",\n        },\n{\n            'v': 6.7,\n            'f': \"6.7\",\n        },\n{\n            'v': 2.2,\n            'f': \"2.2\",\n        },\n\"Iris-virginica\"],\n [{\n            'v': 118,\n            'f': \"118\",\n        },\n{\n            'v': 7.7,\n            'f': \"7.7\",\n        },\n{\n            'v': 2.6,\n            'f': \"2.6\",\n        },\n{\n            'v': 6.9,\n            'f': \"6.9\",\n        },\n{\n            'v': 2.3,\n            'f': \"2.3\",\n        },\n\"Iris-virginica\"],\n [{\n            'v': 119,\n            'f': \"119\",\n        },\n{\n            'v': 6.0,\n            'f': \"6.0\",\n        },\n{\n            'v': 2.2,\n            'f': \"2.2\",\n        },\n{\n            'v': 5.0,\n            'f': \"5.0\",\n        },\n{\n            'v': 1.5,\n            'f': \"1.5\",\n        },\n\"Iris-virginica\"],\n [{\n            'v': 120,\n            'f': \"120\",\n        },\n{\n            'v': 6.9,\n            'f': \"6.9\",\n        },\n{\n            'v': 3.2,\n            'f': \"3.2\",\n        },\n{\n            'v': 5.7,\n            'f': \"5.7\",\n        },\n{\n            'v': 2.3,\n            'f': \"2.3\",\n        },\n\"Iris-virginica\"],\n [{\n            'v': 121,\n            'f': \"121\",\n        },\n{\n            'v': 5.6,\n            'f': \"5.6\",\n        },\n{\n            'v': 2.8,\n            'f': \"2.8\",\n        },\n{\n            'v': 4.9,\n            'f': \"4.9\",\n        },\n{\n            'v': 2.0,\n            'f': \"2.0\",\n        },\n\"Iris-virginica\"],\n [{\n            'v': 122,\n            'f': \"122\",\n        },\n{\n            'v': 7.7,\n            'f': \"7.7\",\n        },\n{\n            'v': 2.8,\n            'f': \"2.8\",\n        },\n{\n            'v': 6.7,\n            'f': \"6.7\",\n        },\n{\n            'v': 2.0,\n            'f': \"2.0\",\n        },\n\"Iris-virginica\"],\n [{\n            'v': 123,\n            'f': \"123\",\n        },\n{\n            'v': 6.3,\n            'f': \"6.3\",\n        },\n{\n            'v': 2.7,\n            'f': \"2.7\",\n        },\n{\n            'v': 4.9,\n            'f': \"4.9\",\n        },\n{\n            'v': 1.8,\n            'f': \"1.8\",\n        },\n\"Iris-virginica\"],\n [{\n            'v': 124,\n            'f': \"124\",\n        },\n{\n            'v': 6.7,\n            'f': \"6.7\",\n        },\n{\n            'v': 3.3,\n            'f': \"3.3\",\n        },\n{\n            'v': 5.7,\n            'f': \"5.7\",\n        },\n{\n            'v': 2.1,\n            'f': \"2.1\",\n        },\n\"Iris-virginica\"],\n [{\n            'v': 125,\n            'f': \"125\",\n        },\n{\n            'v': 7.2,\n            'f': \"7.2\",\n        },\n{\n            'v': 3.2,\n            'f': \"3.2\",\n        },\n{\n            'v': 6.0,\n            'f': \"6.0\",\n        },\n{\n            'v': 1.8,\n            'f': \"1.8\",\n        },\n\"Iris-virginica\"],\n [{\n            'v': 126,\n            'f': \"126\",\n        },\n{\n            'v': 6.2,\n            'f': \"6.2\",\n        },\n{\n            'v': 2.8,\n            'f': \"2.8\",\n        },\n{\n            'v': 4.8,\n            'f': \"4.8\",\n        },\n{\n            'v': 1.8,\n            'f': \"1.8\",\n        },\n\"Iris-virginica\"],\n [{\n            'v': 127,\n            'f': \"127\",\n        },\n{\n            'v': 6.1,\n            'f': \"6.1\",\n        },\n{\n            'v': 3.0,\n            'f': \"3.0\",\n        },\n{\n            'v': 4.9,\n            'f': \"4.9\",\n        },\n{\n            'v': 1.8,\n            'f': \"1.8\",\n        },\n\"Iris-virginica\"],\n [{\n            'v': 128,\n            'f': \"128\",\n        },\n{\n            'v': 6.4,\n            'f': \"6.4\",\n        },\n{\n            'v': 2.8,\n            'f': \"2.8\",\n        },\n{\n            'v': 5.6,\n            'f': \"5.6\",\n        },\n{\n            'v': 2.1,\n            'f': \"2.1\",\n        },\n\"Iris-virginica\"],\n [{\n            'v': 129,\n            'f': \"129\",\n        },\n{\n            'v': 7.2,\n            'f': \"7.2\",\n        },\n{\n            'v': 3.0,\n            'f': \"3.0\",\n        },\n{\n            'v': 5.8,\n            'f': \"5.8\",\n        },\n{\n            'v': 1.6,\n            'f': \"1.6\",\n        },\n\"Iris-virginica\"],\n [{\n            'v': 130,\n            'f': \"130\",\n        },\n{\n            'v': 7.4,\n            'f': \"7.4\",\n        },\n{\n            'v': 2.8,\n            'f': \"2.8\",\n        },\n{\n            'v': 6.1,\n            'f': \"6.1\",\n        },\n{\n            'v': 1.9,\n            'f': \"1.9\",\n        },\n\"Iris-virginica\"],\n [{\n            'v': 131,\n            'f': \"131\",\n        },\n{\n            'v': 7.9,\n            'f': \"7.9\",\n        },\n{\n            'v': 3.8,\n            'f': \"3.8\",\n        },\n{\n            'v': 6.4,\n            'f': \"6.4\",\n        },\n{\n            'v': 2.0,\n            'f': \"2.0\",\n        },\n\"Iris-virginica\"],\n [{\n            'v': 132,\n            'f': \"132\",\n        },\n{\n            'v': 6.4,\n            'f': \"6.4\",\n        },\n{\n            'v': 2.8,\n            'f': \"2.8\",\n        },\n{\n            'v': 5.6,\n            'f': \"5.6\",\n        },\n{\n            'v': 2.2,\n            'f': \"2.2\",\n        },\n\"Iris-virginica\"],\n [{\n            'v': 133,\n            'f': \"133\",\n        },\n{\n            'v': 6.3,\n            'f': \"6.3\",\n        },\n{\n            'v': 2.8,\n            'f': \"2.8\",\n        },\n{\n            'v': 5.1,\n            'f': \"5.1\",\n        },\n{\n            'v': 1.5,\n            'f': \"1.5\",\n        },\n\"Iris-virginica\"],\n [{\n            'v': 134,\n            'f': \"134\",\n        },\n{\n            'v': 6.1,\n            'f': \"6.1\",\n        },\n{\n            'v': 2.6,\n            'f': \"2.6\",\n        },\n{\n            'v': 5.6,\n            'f': \"5.6\",\n        },\n{\n            'v': 1.4,\n            'f': \"1.4\",\n        },\n\"Iris-virginica\"],\n [{\n            'v': 135,\n            'f': \"135\",\n        },\n{\n            'v': 7.7,\n            'f': \"7.7\",\n        },\n{\n            'v': 3.0,\n            'f': \"3.0\",\n        },\n{\n            'v': 6.1,\n            'f': \"6.1\",\n        },\n{\n            'v': 2.3,\n            'f': \"2.3\",\n        },\n\"Iris-virginica\"],\n [{\n            'v': 136,\n            'f': \"136\",\n        },\n{\n            'v': 6.3,\n            'f': \"6.3\",\n        },\n{\n            'v': 3.4,\n            'f': \"3.4\",\n        },\n{\n            'v': 5.6,\n            'f': \"5.6\",\n        },\n{\n            'v': 2.4,\n            'f': \"2.4\",\n        },\n\"Iris-virginica\"],\n [{\n            'v': 137,\n            'f': \"137\",\n        },\n{\n            'v': 6.4,\n            'f': \"6.4\",\n        },\n{\n            'v': 3.1,\n            'f': \"3.1\",\n        },\n{\n            'v': 5.5,\n            'f': \"5.5\",\n        },\n{\n            'v': 1.8,\n            'f': \"1.8\",\n        },\n\"Iris-virginica\"],\n [{\n            'v': 138,\n            'f': \"138\",\n        },\n{\n            'v': 6.0,\n            'f': \"6.0\",\n        },\n{\n            'v': 3.0,\n            'f': \"3.0\",\n        },\n{\n            'v': 4.8,\n            'f': \"4.8\",\n        },\n{\n            'v': 1.8,\n            'f': \"1.8\",\n        },\n\"Iris-virginica\"],\n [{\n            'v': 139,\n            'f': \"139\",\n        },\n{\n            'v': 6.9,\n            'f': \"6.9\",\n        },\n{\n            'v': 3.1,\n            'f': \"3.1\",\n        },\n{\n            'v': 5.4,\n            'f': \"5.4\",\n        },\n{\n            'v': 2.1,\n            'f': \"2.1\",\n        },\n\"Iris-virginica\"],\n [{\n            'v': 140,\n            'f': \"140\",\n        },\n{\n            'v': 6.7,\n            'f': \"6.7\",\n        },\n{\n            'v': 3.1,\n            'f': \"3.1\",\n        },\n{\n            'v': 5.6,\n            'f': \"5.6\",\n        },\n{\n            'v': 2.4,\n            'f': \"2.4\",\n        },\n\"Iris-virginica\"],\n [{\n            'v': 141,\n            'f': \"141\",\n        },\n{\n            'v': 6.9,\n            'f': \"6.9\",\n        },\n{\n            'v': 3.1,\n            'f': \"3.1\",\n        },\n{\n            'v': 5.1,\n            'f': \"5.1\",\n        },\n{\n            'v': 2.3,\n            'f': \"2.3\",\n        },\n\"Iris-virginica\"],\n [{\n            'v': 142,\n            'f': \"142\",\n        },\n{\n            'v': 5.8,\n            'f': \"5.8\",\n        },\n{\n            'v': 2.7,\n            'f': \"2.7\",\n        },\n{\n            'v': 5.1,\n            'f': \"5.1\",\n        },\n{\n            'v': 1.9,\n            'f': \"1.9\",\n        },\n\"Iris-virginica\"],\n [{\n            'v': 143,\n            'f': \"143\",\n        },\n{\n            'v': 6.8,\n            'f': \"6.8\",\n        },\n{\n            'v': 3.2,\n            'f': \"3.2\",\n        },\n{\n            'v': 5.9,\n            'f': \"5.9\",\n        },\n{\n            'v': 2.3,\n            'f': \"2.3\",\n        },\n\"Iris-virginica\"],\n [{\n            'v': 144,\n            'f': \"144\",\n        },\n{\n            'v': 6.7,\n            'f': \"6.7\",\n        },\n{\n            'v': 3.3,\n            'f': \"3.3\",\n        },\n{\n            'v': 5.7,\n            'f': \"5.7\",\n        },\n{\n            'v': 2.5,\n            'f': \"2.5\",\n        },\n\"Iris-virginica\"],\n [{\n            'v': 145,\n            'f': \"145\",\n        },\n{\n            'v': 6.7,\n            'f': \"6.7\",\n        },\n{\n            'v': 3.0,\n            'f': \"3.0\",\n        },\n{\n            'v': 5.2,\n            'f': \"5.2\",\n        },\n{\n            'v': 2.3,\n            'f': \"2.3\",\n        },\n\"Iris-virginica\"],\n [{\n            'v': 146,\n            'f': \"146\",\n        },\n{\n            'v': 6.3,\n            'f': \"6.3\",\n        },\n{\n            'v': 2.5,\n            'f': \"2.5\",\n        },\n{\n            'v': 5.0,\n            'f': \"5.0\",\n        },\n{\n            'v': 1.9,\n            'f': \"1.9\",\n        },\n\"Iris-virginica\"],\n [{\n            'v': 147,\n            'f': \"147\",\n        },\n{\n            'v': 6.5,\n            'f': \"6.5\",\n        },\n{\n            'v': 3.0,\n            'f': \"3.0\",\n        },\n{\n            'v': 5.2,\n            'f': \"5.2\",\n        },\n{\n            'v': 2.0,\n            'f': \"2.0\",\n        },\n\"Iris-virginica\"],\n [{\n            'v': 148,\n            'f': \"148\",\n        },\n{\n            'v': 6.2,\n            'f': \"6.2\",\n        },\n{\n            'v': 3.4,\n            'f': \"3.4\",\n        },\n{\n            'v': 5.4,\n            'f': \"5.4\",\n        },\n{\n            'v': 2.3,\n            'f': \"2.3\",\n        },\n\"Iris-virginica\"],\n [{\n            'v': 149,\n            'f': \"149\",\n        },\n{\n            'v': 5.9,\n            'f': \"5.9\",\n        },\n{\n            'v': 3.0,\n            'f': \"3.0\",\n        },\n{\n            'v': 5.1,\n            'f': \"5.1\",\n        },\n{\n            'v': 1.8,\n            'f': \"1.8\",\n        },\n\"Iris-virginica\"]],\n        columns: [[\"number\", \"index\"], [\"number\", \"sepallength\"], [\"number\", \"sepalwidth\"], [\"number\", \"petallength\"], [\"number\", \"petalwidth\"], [\"string\", \"target\"]],\n        columnOptions: [{\"width\": \"1px\", \"className\": \"index_column\"}],\n        rowsPerPage: 25,\n        helpUrl: \"https://colab.research.google.com/notebooks/data_table.ipynb\",\n        suppressOutputScrolling: true,\n        minimumWidth: undefined,\n      });\n    "
          },
          "metadata": {},
          "execution_count": 27
        }
      ],
      "source": [
        "df = pd.read_csv('iris.data', header=None, names=['sepallength', 'sepalwidth', 'petallength', 'petalwidth', 'target'])\n",
        "df"
      ]
    },
    {
      "cell_type": "markdown",
      "metadata": {
        "id": "lbKR6BCEKzRv"
      },
      "source": [
        "欠損値を列の中央値で埋める"
      ]
    },
    {
      "cell_type": "code",
      "execution_count": null,
      "metadata": {
        "colab": {
          "base_uri": "https://localhost:8080/",
          "height": 693
        },
        "id": "IZRCO7LyKc6r",
        "outputId": "1d93aaab-3a3d-40b0-d481-e7f42cff2ac3"
      },
      "outputs": [
        {
          "output_type": "stream",
          "name": "stderr",
          "text": [
            "/usr/local/lib/python3.7/dist-packages/ipykernel_launcher.py:1: FutureWarning: Dropping of nuisance columns in DataFrame reductions (with 'numeric_only=None') is deprecated; in a future version this will raise TypeError.  Select only valid columns before calling the reduction.\n",
            "  \"\"\"Entry point for launching an IPython kernel.\n"
          ]
        },
        {
          "output_type": "execute_result",
          "data": {
            "text/plain": [
              "     sepallength  sepalwidth  petallength  petalwidth          target\n",
              "0            5.1         3.5          1.4         0.2     Iris-setosa\n",
              "1            4.9         3.0          1.4         0.2     Iris-setosa\n",
              "2            4.7         3.2          1.3         0.2     Iris-setosa\n",
              "3            4.6         3.1          1.5         0.2     Iris-setosa\n",
              "4            5.0         3.6          1.4         0.2     Iris-setosa\n",
              "..           ...         ...          ...         ...             ...\n",
              "145          6.7         3.0          5.2         2.3  Iris-virginica\n",
              "146          6.3         2.5          5.0         1.9  Iris-virginica\n",
              "147          6.5         3.0          5.2         2.0  Iris-virginica\n",
              "148          6.2         3.4          5.4         2.3  Iris-virginica\n",
              "149          5.9         3.0          5.1         1.8  Iris-virginica\n",
              "\n",
              "[150 rows x 5 columns]"
            ],
            "text/html": [
              "\n",
              "  <div id=\"df-c20eb6b7-f1f3-4001-9032-91549eb5accf\">\n",
              "    <div class=\"colab-df-container\">\n",
              "      <div>\n",
              "<style scoped>\n",
              "    .dataframe tbody tr th:only-of-type {\n",
              "        vertical-align: middle;\n",
              "    }\n",
              "\n",
              "    .dataframe tbody tr th {\n",
              "        vertical-align: top;\n",
              "    }\n",
              "\n",
              "    .dataframe thead th {\n",
              "        text-align: right;\n",
              "    }\n",
              "</style>\n",
              "<table border=\"1\" class=\"dataframe\">\n",
              "  <thead>\n",
              "    <tr style=\"text-align: right;\">\n",
              "      <th></th>\n",
              "      <th>sepallength</th>\n",
              "      <th>sepalwidth</th>\n",
              "      <th>petallength</th>\n",
              "      <th>petalwidth</th>\n",
              "      <th>target</th>\n",
              "    </tr>\n",
              "  </thead>\n",
              "  <tbody>\n",
              "    <tr>\n",
              "      <th>0</th>\n",
              "      <td>5.1</td>\n",
              "      <td>3.5</td>\n",
              "      <td>1.4</td>\n",
              "      <td>0.2</td>\n",
              "      <td>Iris-setosa</td>\n",
              "    </tr>\n",
              "    <tr>\n",
              "      <th>1</th>\n",
              "      <td>4.9</td>\n",
              "      <td>3.0</td>\n",
              "      <td>1.4</td>\n",
              "      <td>0.2</td>\n",
              "      <td>Iris-setosa</td>\n",
              "    </tr>\n",
              "    <tr>\n",
              "      <th>2</th>\n",
              "      <td>4.7</td>\n",
              "      <td>3.2</td>\n",
              "      <td>1.3</td>\n",
              "      <td>0.2</td>\n",
              "      <td>Iris-setosa</td>\n",
              "    </tr>\n",
              "    <tr>\n",
              "      <th>3</th>\n",
              "      <td>4.6</td>\n",
              "      <td>3.1</td>\n",
              "      <td>1.5</td>\n",
              "      <td>0.2</td>\n",
              "      <td>Iris-setosa</td>\n",
              "    </tr>\n",
              "    <tr>\n",
              "      <th>4</th>\n",
              "      <td>5.0</td>\n",
              "      <td>3.6</td>\n",
              "      <td>1.4</td>\n",
              "      <td>0.2</td>\n",
              "      <td>Iris-setosa</td>\n",
              "    </tr>\n",
              "    <tr>\n",
              "      <th>...</th>\n",
              "      <td>...</td>\n",
              "      <td>...</td>\n",
              "      <td>...</td>\n",
              "      <td>...</td>\n",
              "      <td>...</td>\n",
              "    </tr>\n",
              "    <tr>\n",
              "      <th>145</th>\n",
              "      <td>6.7</td>\n",
              "      <td>3.0</td>\n",
              "      <td>5.2</td>\n",
              "      <td>2.3</td>\n",
              "      <td>Iris-virginica</td>\n",
              "    </tr>\n",
              "    <tr>\n",
              "      <th>146</th>\n",
              "      <td>6.3</td>\n",
              "      <td>2.5</td>\n",
              "      <td>5.0</td>\n",
              "      <td>1.9</td>\n",
              "      <td>Iris-virginica</td>\n",
              "    </tr>\n",
              "    <tr>\n",
              "      <th>147</th>\n",
              "      <td>6.5</td>\n",
              "      <td>3.0</td>\n",
              "      <td>5.2</td>\n",
              "      <td>2.0</td>\n",
              "      <td>Iris-virginica</td>\n",
              "    </tr>\n",
              "    <tr>\n",
              "      <th>148</th>\n",
              "      <td>6.2</td>\n",
              "      <td>3.4</td>\n",
              "      <td>5.4</td>\n",
              "      <td>2.3</td>\n",
              "      <td>Iris-virginica</td>\n",
              "    </tr>\n",
              "    <tr>\n",
              "      <th>149</th>\n",
              "      <td>5.9</td>\n",
              "      <td>3.0</td>\n",
              "      <td>5.1</td>\n",
              "      <td>1.8</td>\n",
              "      <td>Iris-virginica</td>\n",
              "    </tr>\n",
              "  </tbody>\n",
              "</table>\n",
              "<p>150 rows × 5 columns</p>\n",
              "</div>\n",
              "      <button class=\"colab-df-convert\" onclick=\"convertToInteractive('df-c20eb6b7-f1f3-4001-9032-91549eb5accf')\"\n",
              "              title=\"Convert this dataframe to an interactive table.\"\n",
              "              style=\"display:none;\">\n",
              "        \n",
              "  <svg xmlns=\"http://www.w3.org/2000/svg\" height=\"24px\"viewBox=\"0 0 24 24\"\n",
              "       width=\"24px\">\n",
              "    <path d=\"M0 0h24v24H0V0z\" fill=\"none\"/>\n",
              "    <path d=\"M18.56 5.44l.94 2.06.94-2.06 2.06-.94-2.06-.94-.94-2.06-.94 2.06-2.06.94zm-11 1L8.5 8.5l.94-2.06 2.06-.94-2.06-.94L8.5 2.5l-.94 2.06-2.06.94zm10 10l.94 2.06.94-2.06 2.06-.94-2.06-.94-.94-2.06-.94 2.06-2.06.94z\"/><path d=\"M17.41 7.96l-1.37-1.37c-.4-.4-.92-.59-1.43-.59-.52 0-1.04.2-1.43.59L10.3 9.45l-7.72 7.72c-.78.78-.78 2.05 0 2.83L4 21.41c.39.39.9.59 1.41.59.51 0 1.02-.2 1.41-.59l7.78-7.78 2.81-2.81c.8-.78.8-2.07 0-2.86zM5.41 20L4 18.59l7.72-7.72 1.47 1.35L5.41 20z\"/>\n",
              "  </svg>\n",
              "      </button>\n",
              "      \n",
              "  <style>\n",
              "    .colab-df-container {\n",
              "      display:flex;\n",
              "      flex-wrap:wrap;\n",
              "      gap: 12px;\n",
              "    }\n",
              "\n",
              "    .colab-df-convert {\n",
              "      background-color: #E8F0FE;\n",
              "      border: none;\n",
              "      border-radius: 50%;\n",
              "      cursor: pointer;\n",
              "      display: none;\n",
              "      fill: #1967D2;\n",
              "      height: 32px;\n",
              "      padding: 0 0 0 0;\n",
              "      width: 32px;\n",
              "    }\n",
              "\n",
              "    .colab-df-convert:hover {\n",
              "      background-color: #E2EBFA;\n",
              "      box-shadow: 0px 1px 2px rgba(60, 64, 67, 0.3), 0px 1px 3px 1px rgba(60, 64, 67, 0.15);\n",
              "      fill: #174EA6;\n",
              "    }\n",
              "\n",
              "    [theme=dark] .colab-df-convert {\n",
              "      background-color: #3B4455;\n",
              "      fill: #D2E3FC;\n",
              "    }\n",
              "\n",
              "    [theme=dark] .colab-df-convert:hover {\n",
              "      background-color: #434B5C;\n",
              "      box-shadow: 0px 1px 3px 1px rgba(0, 0, 0, 0.15);\n",
              "      filter: drop-shadow(0px 1px 2px rgba(0, 0, 0, 0.3));\n",
              "      fill: #FFFFFF;\n",
              "    }\n",
              "  </style>\n",
              "\n",
              "      <script>\n",
              "        const buttonEl =\n",
              "          document.querySelector('#df-c20eb6b7-f1f3-4001-9032-91549eb5accf button.colab-df-convert');\n",
              "        buttonEl.style.display =\n",
              "          google.colab.kernel.accessAllowed ? 'block' : 'none';\n",
              "\n",
              "        async function convertToInteractive(key) {\n",
              "          const element = document.querySelector('#df-c20eb6b7-f1f3-4001-9032-91549eb5accf');\n",
              "          const dataTable =\n",
              "            await google.colab.kernel.invokeFunction('convertToInteractive',\n",
              "                                                     [key], {});\n",
              "          if (!dataTable) return;\n",
              "\n",
              "          const docLinkHtml = 'Like what you see? Visit the ' +\n",
              "            '<a target=\"_blank\" href=https://colab.research.google.com/notebooks/data_table.ipynb>data table notebook</a>'\n",
              "            + ' to learn more about interactive tables.';\n",
              "          element.innerHTML = '';\n",
              "          dataTable['output_type'] = 'display_data';\n",
              "          await google.colab.output.renderOutput(dataTable, element);\n",
              "          const docLink = document.createElement('div');\n",
              "          docLink.innerHTML = docLinkHtml;\n",
              "          element.appendChild(docLink);\n",
              "        }\n",
              "      </script>\n",
              "    </div>\n",
              "  </div>\n",
              "  "
            ],
            "application/vnd.google.colaboratory.module+javascript": "\n      import \"https://ssl.gstatic.com/colaboratory/data_table/81f25a011006ed3d/data_table.js\";\n\n      window.createDataTable({\n        data: [[{\n            'v': 0,\n            'f': \"0\",\n        },\n{\n            'v': 5.1,\n            'f': \"5.1\",\n        },\n{\n            'v': 3.5,\n            'f': \"3.5\",\n        },\n{\n            'v': 1.4,\n            'f': \"1.4\",\n        },\n{\n            'v': 0.2,\n            'f': \"0.2\",\n        },\n\"Iris-setosa\"],\n [{\n            'v': 1,\n            'f': \"1\",\n        },\n{\n            'v': 4.9,\n            'f': \"4.9\",\n        },\n{\n            'v': 3.0,\n            'f': \"3.0\",\n        },\n{\n            'v': 1.4,\n            'f': \"1.4\",\n        },\n{\n            'v': 0.2,\n            'f': \"0.2\",\n        },\n\"Iris-setosa\"],\n [{\n            'v': 2,\n            'f': \"2\",\n        },\n{\n            'v': 4.7,\n            'f': \"4.7\",\n        },\n{\n            'v': 3.2,\n            'f': \"3.2\",\n        },\n{\n            'v': 1.3,\n            'f': \"1.3\",\n        },\n{\n            'v': 0.2,\n            'f': \"0.2\",\n        },\n\"Iris-setosa\"],\n [{\n            'v': 3,\n            'f': \"3\",\n        },\n{\n            'v': 4.6,\n            'f': \"4.6\",\n        },\n{\n            'v': 3.1,\n            'f': \"3.1\",\n        },\n{\n            'v': 1.5,\n            'f': \"1.5\",\n        },\n{\n            'v': 0.2,\n            'f': \"0.2\",\n        },\n\"Iris-setosa\"],\n [{\n            'v': 4,\n            'f': \"4\",\n        },\n{\n            'v': 5.0,\n            'f': \"5.0\",\n        },\n{\n            'v': 3.6,\n            'f': \"3.6\",\n        },\n{\n            'v': 1.4,\n            'f': \"1.4\",\n        },\n{\n            'v': 0.2,\n            'f': \"0.2\",\n        },\n\"Iris-setosa\"],\n [{\n            'v': 5,\n            'f': \"5\",\n        },\n{\n            'v': 5.4,\n            'f': \"5.4\",\n        },\n{\n            'v': 3.9,\n            'f': \"3.9\",\n        },\n{\n            'v': 1.7,\n            'f': \"1.7\",\n        },\n{\n            'v': 0.4,\n            'f': \"0.4\",\n        },\n\"Iris-setosa\"],\n [{\n            'v': 6,\n            'f': \"6\",\n        },\n{\n            'v': 4.6,\n            'f': \"4.6\",\n        },\n{\n            'v': 3.4,\n            'f': \"3.4\",\n        },\n{\n            'v': 1.4,\n            'f': \"1.4\",\n        },\n{\n            'v': 0.3,\n            'f': \"0.3\",\n        },\n\"Iris-setosa\"],\n [{\n            'v': 7,\n            'f': \"7\",\n        },\n{\n            'v': 5.0,\n            'f': \"5.0\",\n        },\n{\n            'v': 3.4,\n            'f': \"3.4\",\n        },\n{\n            'v': 1.5,\n            'f': \"1.5\",\n        },\n{\n            'v': 0.2,\n            'f': \"0.2\",\n        },\n\"Iris-setosa\"],\n [{\n            'v': 8,\n            'f': \"8\",\n        },\n{\n            'v': 4.4,\n            'f': \"4.4\",\n        },\n{\n            'v': 2.9,\n            'f': \"2.9\",\n        },\n{\n            'v': 1.4,\n            'f': \"1.4\",\n        },\n{\n            'v': 0.2,\n            'f': \"0.2\",\n        },\n\"Iris-setosa\"],\n [{\n            'v': 9,\n            'f': \"9\",\n        },\n{\n            'v': 4.9,\n            'f': \"4.9\",\n        },\n{\n            'v': 3.1,\n            'f': \"3.1\",\n        },\n{\n            'v': 1.5,\n            'f': \"1.5\",\n        },\n{\n            'v': 0.1,\n            'f': \"0.1\",\n        },\n\"Iris-setosa\"],\n [{\n            'v': 10,\n            'f': \"10\",\n        },\n{\n            'v': 5.4,\n            'f': \"5.4\",\n        },\n{\n            'v': 3.7,\n            'f': \"3.7\",\n        },\n{\n            'v': 1.5,\n            'f': \"1.5\",\n        },\n{\n            'v': 0.2,\n            'f': \"0.2\",\n        },\n\"Iris-setosa\"],\n [{\n            'v': 11,\n            'f': \"11\",\n        },\n{\n            'v': 4.8,\n            'f': \"4.8\",\n        },\n{\n            'v': 3.4,\n            'f': \"3.4\",\n        },\n{\n            'v': 1.6,\n            'f': \"1.6\",\n        },\n{\n            'v': 0.2,\n            'f': \"0.2\",\n        },\n\"Iris-setosa\"],\n [{\n            'v': 12,\n            'f': \"12\",\n        },\n{\n            'v': 4.8,\n            'f': \"4.8\",\n        },\n{\n            'v': 3.0,\n            'f': \"3.0\",\n        },\n{\n            'v': 1.4,\n            'f': \"1.4\",\n        },\n{\n            'v': 0.1,\n            'f': \"0.1\",\n        },\n\"Iris-setosa\"],\n [{\n            'v': 13,\n            'f': \"13\",\n        },\n{\n            'v': 4.3,\n            'f': \"4.3\",\n        },\n{\n            'v': 3.0,\n            'f': \"3.0\",\n        },\n{\n            'v': 1.1,\n            'f': \"1.1\",\n        },\n{\n            'v': 0.1,\n            'f': \"0.1\",\n        },\n\"Iris-setosa\"],\n [{\n            'v': 14,\n            'f': \"14\",\n        },\n{\n            'v': 5.8,\n            'f': \"5.8\",\n        },\n{\n            'v': 4.0,\n            'f': \"4.0\",\n        },\n{\n            'v': 1.2,\n            'f': \"1.2\",\n        },\n{\n            'v': 0.2,\n            'f': \"0.2\",\n        },\n\"Iris-setosa\"],\n [{\n            'v': 15,\n            'f': \"15\",\n        },\n{\n            'v': 5.7,\n            'f': \"5.7\",\n        },\n{\n            'v': 4.4,\n            'f': \"4.4\",\n        },\n{\n            'v': 1.5,\n            'f': \"1.5\",\n        },\n{\n            'v': 0.4,\n            'f': \"0.4\",\n        },\n\"Iris-setosa\"],\n [{\n            'v': 16,\n            'f': \"16\",\n        },\n{\n            'v': 5.4,\n            'f': \"5.4\",\n        },\n{\n            'v': 3.9,\n            'f': \"3.9\",\n        },\n{\n            'v': 1.3,\n            'f': \"1.3\",\n        },\n{\n            'v': 0.4,\n            'f': \"0.4\",\n        },\n\"Iris-setosa\"],\n [{\n            'v': 17,\n            'f': \"17\",\n        },\n{\n            'v': 5.1,\n            'f': \"5.1\",\n        },\n{\n            'v': 3.5,\n            'f': \"3.5\",\n        },\n{\n            'v': 1.4,\n            'f': \"1.4\",\n        },\n{\n            'v': 0.3,\n            'f': \"0.3\",\n        },\n\"Iris-setosa\"],\n [{\n            'v': 18,\n            'f': \"18\",\n        },\n{\n            'v': 5.7,\n            'f': \"5.7\",\n        },\n{\n            'v': 3.8,\n            'f': \"3.8\",\n        },\n{\n            'v': 1.7,\n            'f': \"1.7\",\n        },\n{\n            'v': 0.3,\n            'f': \"0.3\",\n        },\n\"Iris-setosa\"],\n [{\n            'v': 19,\n            'f': \"19\",\n        },\n{\n            'v': 5.1,\n            'f': \"5.1\",\n        },\n{\n            'v': 3.8,\n            'f': \"3.8\",\n        },\n{\n            'v': 1.5,\n            'f': \"1.5\",\n        },\n{\n            'v': 0.3,\n            'f': \"0.3\",\n        },\n\"Iris-setosa\"],\n [{\n            'v': 20,\n            'f': \"20\",\n        },\n{\n            'v': 5.4,\n            'f': \"5.4\",\n        },\n{\n            'v': 3.4,\n            'f': \"3.4\",\n        },\n{\n            'v': 1.7,\n            'f': \"1.7\",\n        },\n{\n            'v': 0.2,\n            'f': \"0.2\",\n        },\n\"Iris-setosa\"],\n [{\n            'v': 21,\n            'f': \"21\",\n        },\n{\n            'v': 5.1,\n            'f': \"5.1\",\n        },\n{\n            'v': 3.7,\n            'f': \"3.7\",\n        },\n{\n            'v': 1.5,\n            'f': \"1.5\",\n        },\n{\n            'v': 0.4,\n            'f': \"0.4\",\n        },\n\"Iris-setosa\"],\n [{\n            'v': 22,\n            'f': \"22\",\n        },\n{\n            'v': 4.6,\n            'f': \"4.6\",\n        },\n{\n            'v': 3.6,\n            'f': \"3.6\",\n        },\n{\n            'v': 1.0,\n            'f': \"1.0\",\n        },\n{\n            'v': 0.2,\n            'f': \"0.2\",\n        },\n\"Iris-setosa\"],\n [{\n            'v': 23,\n            'f': \"23\",\n        },\n{\n            'v': 5.1,\n            'f': \"5.1\",\n        },\n{\n            'v': 3.3,\n            'f': \"3.3\",\n        },\n{\n            'v': 1.7,\n            'f': \"1.7\",\n        },\n{\n            'v': 0.5,\n            'f': \"0.5\",\n        },\n\"Iris-setosa\"],\n [{\n            'v': 24,\n            'f': \"24\",\n        },\n{\n            'v': 4.8,\n            'f': \"4.8\",\n        },\n{\n            'v': 3.4,\n            'f': \"3.4\",\n        },\n{\n            'v': 1.9,\n            'f': \"1.9\",\n        },\n{\n            'v': 0.2,\n            'f': \"0.2\",\n        },\n\"Iris-setosa\"],\n [{\n            'v': 25,\n            'f': \"25\",\n        },\n{\n            'v': 5.0,\n            'f': \"5.0\",\n        },\n{\n            'v': 3.0,\n            'f': \"3.0\",\n        },\n{\n            'v': 1.6,\n            'f': \"1.6\",\n        },\n{\n            'v': 0.2,\n            'f': \"0.2\",\n        },\n\"Iris-setosa\"],\n [{\n            'v': 26,\n            'f': \"26\",\n        },\n{\n            'v': 5.0,\n            'f': \"5.0\",\n        },\n{\n            'v': 3.4,\n            'f': \"3.4\",\n        },\n{\n            'v': 1.6,\n            'f': \"1.6\",\n        },\n{\n            'v': 0.4,\n            'f': \"0.4\",\n        },\n\"Iris-setosa\"],\n [{\n            'v': 27,\n            'f': \"27\",\n        },\n{\n            'v': 5.2,\n            'f': \"5.2\",\n        },\n{\n            'v': 3.5,\n            'f': \"3.5\",\n        },\n{\n            'v': 1.5,\n            'f': \"1.5\",\n        },\n{\n            'v': 0.2,\n            'f': \"0.2\",\n        },\n\"Iris-setosa\"],\n [{\n            'v': 28,\n            'f': \"28\",\n        },\n{\n            'v': 5.2,\n            'f': \"5.2\",\n        },\n{\n            'v': 3.4,\n            'f': \"3.4\",\n        },\n{\n            'v': 1.4,\n            'f': \"1.4\",\n        },\n{\n            'v': 0.2,\n            'f': \"0.2\",\n        },\n\"Iris-setosa\"],\n [{\n            'v': 29,\n            'f': \"29\",\n        },\n{\n            'v': 4.7,\n            'f': \"4.7\",\n        },\n{\n            'v': 3.2,\n            'f': \"3.2\",\n        },\n{\n            'v': 1.6,\n            'f': \"1.6\",\n        },\n{\n            'v': 0.2,\n            'f': \"0.2\",\n        },\n\"Iris-setosa\"],\n [{\n            'v': 30,\n            'f': \"30\",\n        },\n{\n            'v': 4.8,\n            'f': \"4.8\",\n        },\n{\n            'v': 3.1,\n            'f': \"3.1\",\n        },\n{\n            'v': 1.6,\n            'f': \"1.6\",\n        },\n{\n            'v': 0.2,\n            'f': \"0.2\",\n        },\n\"Iris-setosa\"],\n [{\n            'v': 31,\n            'f': \"31\",\n        },\n{\n            'v': 5.4,\n            'f': \"5.4\",\n        },\n{\n            'v': 3.4,\n            'f': \"3.4\",\n        },\n{\n            'v': 1.5,\n            'f': \"1.5\",\n        },\n{\n            'v': 0.4,\n            'f': \"0.4\",\n        },\n\"Iris-setosa\"],\n [{\n            'v': 32,\n            'f': \"32\",\n        },\n{\n            'v': 5.2,\n            'f': \"5.2\",\n        },\n{\n            'v': 4.1,\n            'f': \"4.1\",\n        },\n{\n            'v': 1.5,\n            'f': \"1.5\",\n        },\n{\n            'v': 0.1,\n            'f': \"0.1\",\n        },\n\"Iris-setosa\"],\n [{\n            'v': 33,\n            'f': \"33\",\n        },\n{\n            'v': 5.5,\n            'f': \"5.5\",\n        },\n{\n            'v': 4.2,\n            'f': \"4.2\",\n        },\n{\n            'v': 1.4,\n            'f': \"1.4\",\n        },\n{\n            'v': 0.2,\n            'f': \"0.2\",\n        },\n\"Iris-setosa\"],\n [{\n            'v': 34,\n            'f': \"34\",\n        },\n{\n            'v': 4.9,\n            'f': \"4.9\",\n        },\n{\n            'v': 3.1,\n            'f': \"3.1\",\n        },\n{\n            'v': 1.5,\n            'f': \"1.5\",\n        },\n{\n            'v': 0.1,\n            'f': \"0.1\",\n        },\n\"Iris-setosa\"],\n [{\n            'v': 35,\n            'f': \"35\",\n        },\n{\n            'v': 5.0,\n            'f': \"5.0\",\n        },\n{\n            'v': 3.2,\n            'f': \"3.2\",\n        },\n{\n            'v': 1.2,\n            'f': \"1.2\",\n        },\n{\n            'v': 0.2,\n            'f': \"0.2\",\n        },\n\"Iris-setosa\"],\n [{\n            'v': 36,\n            'f': \"36\",\n        },\n{\n            'v': 5.5,\n            'f': \"5.5\",\n        },\n{\n            'v': 3.5,\n            'f': \"3.5\",\n        },\n{\n            'v': 1.3,\n            'f': \"1.3\",\n        },\n{\n            'v': 0.2,\n            'f': \"0.2\",\n        },\n\"Iris-setosa\"],\n [{\n            'v': 37,\n            'f': \"37\",\n        },\n{\n            'v': 4.9,\n            'f': \"4.9\",\n        },\n{\n            'v': 3.1,\n            'f': \"3.1\",\n        },\n{\n            'v': 1.5,\n            'f': \"1.5\",\n        },\n{\n            'v': 0.1,\n            'f': \"0.1\",\n        },\n\"Iris-setosa\"],\n [{\n            'v': 38,\n            'f': \"38\",\n        },\n{\n            'v': 4.4,\n            'f': \"4.4\",\n        },\n{\n            'v': 3.0,\n            'f': \"3.0\",\n        },\n{\n            'v': 1.3,\n            'f': \"1.3\",\n        },\n{\n            'v': 0.2,\n            'f': \"0.2\",\n        },\n\"Iris-setosa\"],\n [{\n            'v': 39,\n            'f': \"39\",\n        },\n{\n            'v': 5.1,\n            'f': \"5.1\",\n        },\n{\n            'v': 3.4,\n            'f': \"3.4\",\n        },\n{\n            'v': 1.5,\n            'f': \"1.5\",\n        },\n{\n            'v': 0.2,\n            'f': \"0.2\",\n        },\n\"Iris-setosa\"],\n [{\n            'v': 40,\n            'f': \"40\",\n        },\n{\n            'v': 5.0,\n            'f': \"5.0\",\n        },\n{\n            'v': 3.5,\n            'f': \"3.5\",\n        },\n{\n            'v': 1.3,\n            'f': \"1.3\",\n        },\n{\n            'v': 0.3,\n            'f': \"0.3\",\n        },\n\"Iris-setosa\"],\n [{\n            'v': 41,\n            'f': \"41\",\n        },\n{\n            'v': 4.5,\n            'f': \"4.5\",\n        },\n{\n            'v': 2.3,\n            'f': \"2.3\",\n        },\n{\n            'v': 1.3,\n            'f': \"1.3\",\n        },\n{\n            'v': 0.3,\n            'f': \"0.3\",\n        },\n\"Iris-setosa\"],\n [{\n            'v': 42,\n            'f': \"42\",\n        },\n{\n            'v': 4.4,\n            'f': \"4.4\",\n        },\n{\n            'v': 3.2,\n            'f': \"3.2\",\n        },\n{\n            'v': 1.3,\n            'f': \"1.3\",\n        },\n{\n            'v': 0.2,\n            'f': \"0.2\",\n        },\n\"Iris-setosa\"],\n [{\n            'v': 43,\n            'f': \"43\",\n        },\n{\n            'v': 5.0,\n            'f': \"5.0\",\n        },\n{\n            'v': 3.5,\n            'f': \"3.5\",\n        },\n{\n            'v': 1.6,\n            'f': \"1.6\",\n        },\n{\n            'v': 0.6,\n            'f': \"0.6\",\n        },\n\"Iris-setosa\"],\n [{\n            'v': 44,\n            'f': \"44\",\n        },\n{\n            'v': 5.1,\n            'f': \"5.1\",\n        },\n{\n            'v': 3.8,\n            'f': \"3.8\",\n        },\n{\n            'v': 1.9,\n            'f': \"1.9\",\n        },\n{\n            'v': 0.4,\n            'f': \"0.4\",\n        },\n\"Iris-setosa\"],\n [{\n            'v': 45,\n            'f': \"45\",\n        },\n{\n            'v': 4.8,\n            'f': \"4.8\",\n        },\n{\n            'v': 3.0,\n            'f': \"3.0\",\n        },\n{\n            'v': 1.4,\n            'f': \"1.4\",\n        },\n{\n            'v': 0.3,\n            'f': \"0.3\",\n        },\n\"Iris-setosa\"],\n [{\n            'v': 46,\n            'f': \"46\",\n        },\n{\n            'v': 5.1,\n            'f': \"5.1\",\n        },\n{\n            'v': 3.8,\n            'f': \"3.8\",\n        },\n{\n            'v': 1.6,\n            'f': \"1.6\",\n        },\n{\n            'v': 0.2,\n            'f': \"0.2\",\n        },\n\"Iris-setosa\"],\n [{\n            'v': 47,\n            'f': \"47\",\n        },\n{\n            'v': 4.6,\n            'f': \"4.6\",\n        },\n{\n            'v': 3.2,\n            'f': \"3.2\",\n        },\n{\n            'v': 1.4,\n            'f': \"1.4\",\n        },\n{\n            'v': 0.2,\n            'f': \"0.2\",\n        },\n\"Iris-setosa\"],\n [{\n            'v': 48,\n            'f': \"48\",\n        },\n{\n            'v': 5.3,\n            'f': \"5.3\",\n        },\n{\n            'v': 3.7,\n            'f': \"3.7\",\n        },\n{\n            'v': 1.5,\n            'f': \"1.5\",\n        },\n{\n            'v': 0.2,\n            'f': \"0.2\",\n        },\n\"Iris-setosa\"],\n [{\n            'v': 49,\n            'f': \"49\",\n        },\n{\n            'v': 5.0,\n            'f': \"5.0\",\n        },\n{\n            'v': 3.3,\n            'f': \"3.3\",\n        },\n{\n            'v': 1.4,\n            'f': \"1.4\",\n        },\n{\n            'v': 0.2,\n            'f': \"0.2\",\n        },\n\"Iris-setosa\"],\n [{\n            'v': 50,\n            'f': \"50\",\n        },\n{\n            'v': 7.0,\n            'f': \"7.0\",\n        },\n{\n            'v': 3.2,\n            'f': \"3.2\",\n        },\n{\n            'v': 4.7,\n            'f': \"4.7\",\n        },\n{\n            'v': 1.4,\n            'f': \"1.4\",\n        },\n\"Iris-versicolor\"],\n [{\n            'v': 51,\n            'f': \"51\",\n        },\n{\n            'v': 6.4,\n            'f': \"6.4\",\n        },\n{\n            'v': 3.2,\n            'f': \"3.2\",\n        },\n{\n            'v': 4.5,\n            'f': \"4.5\",\n        },\n{\n            'v': 1.5,\n            'f': \"1.5\",\n        },\n\"Iris-versicolor\"],\n [{\n            'v': 52,\n            'f': \"52\",\n        },\n{\n            'v': 6.9,\n            'f': \"6.9\",\n        },\n{\n            'v': 3.1,\n            'f': \"3.1\",\n        },\n{\n            'v': 4.9,\n            'f': \"4.9\",\n        },\n{\n            'v': 1.5,\n            'f': \"1.5\",\n        },\n\"Iris-versicolor\"],\n [{\n            'v': 53,\n            'f': \"53\",\n        },\n{\n            'v': 5.5,\n            'f': \"5.5\",\n        },\n{\n            'v': 2.3,\n            'f': \"2.3\",\n        },\n{\n            'v': 4.0,\n            'f': \"4.0\",\n        },\n{\n            'v': 1.3,\n            'f': \"1.3\",\n        },\n\"Iris-versicolor\"],\n [{\n            'v': 54,\n            'f': \"54\",\n        },\n{\n            'v': 6.5,\n            'f': \"6.5\",\n        },\n{\n            'v': 2.8,\n            'f': \"2.8\",\n        },\n{\n            'v': 4.6,\n            'f': \"4.6\",\n        },\n{\n            'v': 1.5,\n            'f': \"1.5\",\n        },\n\"Iris-versicolor\"],\n [{\n            'v': 55,\n            'f': \"55\",\n        },\n{\n            'v': 5.7,\n            'f': \"5.7\",\n        },\n{\n            'v': 2.8,\n            'f': \"2.8\",\n        },\n{\n            'v': 4.5,\n            'f': \"4.5\",\n        },\n{\n            'v': 1.3,\n            'f': \"1.3\",\n        },\n\"Iris-versicolor\"],\n [{\n            'v': 56,\n            'f': \"56\",\n        },\n{\n            'v': 6.3,\n            'f': \"6.3\",\n        },\n{\n            'v': 3.3,\n            'f': \"3.3\",\n        },\n{\n            'v': 4.7,\n            'f': \"4.7\",\n        },\n{\n            'v': 1.6,\n            'f': \"1.6\",\n        },\n\"Iris-versicolor\"],\n [{\n            'v': 57,\n            'f': \"57\",\n        },\n{\n            'v': 4.9,\n            'f': \"4.9\",\n        },\n{\n            'v': 2.4,\n            'f': \"2.4\",\n        },\n{\n            'v': 3.3,\n            'f': \"3.3\",\n        },\n{\n            'v': 1.0,\n            'f': \"1.0\",\n        },\n\"Iris-versicolor\"],\n [{\n            'v': 58,\n            'f': \"58\",\n        },\n{\n            'v': 6.6,\n            'f': \"6.6\",\n        },\n{\n            'v': 2.9,\n            'f': \"2.9\",\n        },\n{\n            'v': 4.6,\n            'f': \"4.6\",\n        },\n{\n            'v': 1.3,\n            'f': \"1.3\",\n        },\n\"Iris-versicolor\"],\n [{\n            'v': 59,\n            'f': \"59\",\n        },\n{\n            'v': 5.2,\n            'f': \"5.2\",\n        },\n{\n            'v': 2.7,\n            'f': \"2.7\",\n        },\n{\n            'v': 3.9,\n            'f': \"3.9\",\n        },\n{\n            'v': 1.4,\n            'f': \"1.4\",\n        },\n\"Iris-versicolor\"],\n [{\n            'v': 60,\n            'f': \"60\",\n        },\n{\n            'v': 5.0,\n            'f': \"5.0\",\n        },\n{\n            'v': 2.0,\n            'f': \"2.0\",\n        },\n{\n            'v': 3.5,\n            'f': \"3.5\",\n        },\n{\n            'v': 1.0,\n            'f': \"1.0\",\n        },\n\"Iris-versicolor\"],\n [{\n            'v': 61,\n            'f': \"61\",\n        },\n{\n            'v': 5.9,\n            'f': \"5.9\",\n        },\n{\n            'v': 3.0,\n            'f': \"3.0\",\n        },\n{\n            'v': 4.2,\n            'f': \"4.2\",\n        },\n{\n            'v': 1.5,\n            'f': \"1.5\",\n        },\n\"Iris-versicolor\"],\n [{\n            'v': 62,\n            'f': \"62\",\n        },\n{\n            'v': 6.0,\n            'f': \"6.0\",\n        },\n{\n            'v': 2.2,\n            'f': \"2.2\",\n        },\n{\n            'v': 4.0,\n            'f': \"4.0\",\n        },\n{\n            'v': 1.0,\n            'f': \"1.0\",\n        },\n\"Iris-versicolor\"],\n [{\n            'v': 63,\n            'f': \"63\",\n        },\n{\n            'v': 6.1,\n            'f': \"6.1\",\n        },\n{\n            'v': 2.9,\n            'f': \"2.9\",\n        },\n{\n            'v': 4.7,\n            'f': \"4.7\",\n        },\n{\n            'v': 1.4,\n            'f': \"1.4\",\n        },\n\"Iris-versicolor\"],\n [{\n            'v': 64,\n            'f': \"64\",\n        },\n{\n            'v': 5.6,\n            'f': \"5.6\",\n        },\n{\n            'v': 2.9,\n            'f': \"2.9\",\n        },\n{\n            'v': 3.6,\n            'f': \"3.6\",\n        },\n{\n            'v': 1.3,\n            'f': \"1.3\",\n        },\n\"Iris-versicolor\"],\n [{\n            'v': 65,\n            'f': \"65\",\n        },\n{\n            'v': 6.7,\n            'f': \"6.7\",\n        },\n{\n            'v': 3.1,\n            'f': \"3.1\",\n        },\n{\n            'v': 4.4,\n            'f': \"4.4\",\n        },\n{\n            'v': 1.4,\n            'f': \"1.4\",\n        },\n\"Iris-versicolor\"],\n [{\n            'v': 66,\n            'f': \"66\",\n        },\n{\n            'v': 5.6,\n            'f': \"5.6\",\n        },\n{\n            'v': 3.0,\n            'f': \"3.0\",\n        },\n{\n            'v': 4.5,\n            'f': \"4.5\",\n        },\n{\n            'v': 1.5,\n            'f': \"1.5\",\n        },\n\"Iris-versicolor\"],\n [{\n            'v': 67,\n            'f': \"67\",\n        },\n{\n            'v': 5.8,\n            'f': \"5.8\",\n        },\n{\n            'v': 2.7,\n            'f': \"2.7\",\n        },\n{\n            'v': 4.1,\n            'f': \"4.1\",\n        },\n{\n            'v': 1.0,\n            'f': \"1.0\",\n        },\n\"Iris-versicolor\"],\n [{\n            'v': 68,\n            'f': \"68\",\n        },\n{\n            'v': 6.2,\n            'f': \"6.2\",\n        },\n{\n            'v': 2.2,\n            'f': \"2.2\",\n        },\n{\n            'v': 4.5,\n            'f': \"4.5\",\n        },\n{\n            'v': 1.5,\n            'f': \"1.5\",\n        },\n\"Iris-versicolor\"],\n [{\n            'v': 69,\n            'f': \"69\",\n        },\n{\n            'v': 5.6,\n            'f': \"5.6\",\n        },\n{\n            'v': 2.5,\n            'f': \"2.5\",\n        },\n{\n            'v': 3.9,\n            'f': \"3.9\",\n        },\n{\n            'v': 1.1,\n            'f': \"1.1\",\n        },\n\"Iris-versicolor\"],\n [{\n            'v': 70,\n            'f': \"70\",\n        },\n{\n            'v': 5.9,\n            'f': \"5.9\",\n        },\n{\n            'v': 3.2,\n            'f': \"3.2\",\n        },\n{\n            'v': 4.8,\n            'f': \"4.8\",\n        },\n{\n            'v': 1.8,\n            'f': \"1.8\",\n        },\n\"Iris-versicolor\"],\n [{\n            'v': 71,\n            'f': \"71\",\n        },\n{\n            'v': 6.1,\n            'f': \"6.1\",\n        },\n{\n            'v': 2.8,\n            'f': \"2.8\",\n        },\n{\n            'v': 4.0,\n            'f': \"4.0\",\n        },\n{\n            'v': 1.3,\n            'f': \"1.3\",\n        },\n\"Iris-versicolor\"],\n [{\n            'v': 72,\n            'f': \"72\",\n        },\n{\n            'v': 6.3,\n            'f': \"6.3\",\n        },\n{\n            'v': 2.5,\n            'f': \"2.5\",\n        },\n{\n            'v': 4.9,\n            'f': \"4.9\",\n        },\n{\n            'v': 1.5,\n            'f': \"1.5\",\n        },\n\"Iris-versicolor\"],\n [{\n            'v': 73,\n            'f': \"73\",\n        },\n{\n            'v': 6.1,\n            'f': \"6.1\",\n        },\n{\n            'v': 2.8,\n            'f': \"2.8\",\n        },\n{\n            'v': 4.7,\n            'f': \"4.7\",\n        },\n{\n            'v': 1.2,\n            'f': \"1.2\",\n        },\n\"Iris-versicolor\"],\n [{\n            'v': 74,\n            'f': \"74\",\n        },\n{\n            'v': 6.4,\n            'f': \"6.4\",\n        },\n{\n            'v': 2.9,\n            'f': \"2.9\",\n        },\n{\n            'v': 4.3,\n            'f': \"4.3\",\n        },\n{\n            'v': 1.3,\n            'f': \"1.3\",\n        },\n\"Iris-versicolor\"],\n [{\n            'v': 75,\n            'f': \"75\",\n        },\n{\n            'v': 6.6,\n            'f': \"6.6\",\n        },\n{\n            'v': 3.0,\n            'f': \"3.0\",\n        },\n{\n            'v': 4.4,\n            'f': \"4.4\",\n        },\n{\n            'v': 1.4,\n            'f': \"1.4\",\n        },\n\"Iris-versicolor\"],\n [{\n            'v': 76,\n            'f': \"76\",\n        },\n{\n            'v': 6.8,\n            'f': \"6.8\",\n        },\n{\n            'v': 2.8,\n            'f': \"2.8\",\n        },\n{\n            'v': 4.8,\n            'f': \"4.8\",\n        },\n{\n            'v': 1.4,\n            'f': \"1.4\",\n        },\n\"Iris-versicolor\"],\n [{\n            'v': 77,\n            'f': \"77\",\n        },\n{\n            'v': 6.7,\n            'f': \"6.7\",\n        },\n{\n            'v': 3.0,\n            'f': \"3.0\",\n        },\n{\n            'v': 5.0,\n            'f': \"5.0\",\n        },\n{\n            'v': 1.7,\n            'f': \"1.7\",\n        },\n\"Iris-versicolor\"],\n [{\n            'v': 78,\n            'f': \"78\",\n        },\n{\n            'v': 6.0,\n            'f': \"6.0\",\n        },\n{\n            'v': 2.9,\n            'f': \"2.9\",\n        },\n{\n            'v': 4.5,\n            'f': \"4.5\",\n        },\n{\n            'v': 1.5,\n            'f': \"1.5\",\n        },\n\"Iris-versicolor\"],\n [{\n            'v': 79,\n            'f': \"79\",\n        },\n{\n            'v': 5.7,\n            'f': \"5.7\",\n        },\n{\n            'v': 2.6,\n            'f': \"2.6\",\n        },\n{\n            'v': 3.5,\n            'f': \"3.5\",\n        },\n{\n            'v': 1.0,\n            'f': \"1.0\",\n        },\n\"Iris-versicolor\"],\n [{\n            'v': 80,\n            'f': \"80\",\n        },\n{\n            'v': 5.5,\n            'f': \"5.5\",\n        },\n{\n            'v': 2.4,\n            'f': \"2.4\",\n        },\n{\n            'v': 3.8,\n            'f': \"3.8\",\n        },\n{\n            'v': 1.1,\n            'f': \"1.1\",\n        },\n\"Iris-versicolor\"],\n [{\n            'v': 81,\n            'f': \"81\",\n        },\n{\n            'v': 5.5,\n            'f': \"5.5\",\n        },\n{\n            'v': 2.4,\n            'f': \"2.4\",\n        },\n{\n            'v': 3.7,\n            'f': \"3.7\",\n        },\n{\n            'v': 1.0,\n            'f': \"1.0\",\n        },\n\"Iris-versicolor\"],\n [{\n            'v': 82,\n            'f': \"82\",\n        },\n{\n            'v': 5.8,\n            'f': \"5.8\",\n        },\n{\n            'v': 2.7,\n            'f': \"2.7\",\n        },\n{\n            'v': 3.9,\n            'f': \"3.9\",\n        },\n{\n            'v': 1.2,\n            'f': \"1.2\",\n        },\n\"Iris-versicolor\"],\n [{\n            'v': 83,\n            'f': \"83\",\n        },\n{\n            'v': 6.0,\n            'f': \"6.0\",\n        },\n{\n            'v': 2.7,\n            'f': \"2.7\",\n        },\n{\n            'v': 5.1,\n            'f': \"5.1\",\n        },\n{\n            'v': 1.6,\n            'f': \"1.6\",\n        },\n\"Iris-versicolor\"],\n [{\n            'v': 84,\n            'f': \"84\",\n        },\n{\n            'v': 5.4,\n            'f': \"5.4\",\n        },\n{\n            'v': 3.0,\n            'f': \"3.0\",\n        },\n{\n            'v': 4.5,\n            'f': \"4.5\",\n        },\n{\n            'v': 1.5,\n            'f': \"1.5\",\n        },\n\"Iris-versicolor\"],\n [{\n            'v': 85,\n            'f': \"85\",\n        },\n{\n            'v': 6.0,\n            'f': \"6.0\",\n        },\n{\n            'v': 3.4,\n            'f': \"3.4\",\n        },\n{\n            'v': 4.5,\n            'f': \"4.5\",\n        },\n{\n            'v': 1.6,\n            'f': \"1.6\",\n        },\n\"Iris-versicolor\"],\n [{\n            'v': 86,\n            'f': \"86\",\n        },\n{\n            'v': 6.7,\n            'f': \"6.7\",\n        },\n{\n            'v': 3.1,\n            'f': \"3.1\",\n        },\n{\n            'v': 4.7,\n            'f': \"4.7\",\n        },\n{\n            'v': 1.5,\n            'f': \"1.5\",\n        },\n\"Iris-versicolor\"],\n [{\n            'v': 87,\n            'f': \"87\",\n        },\n{\n            'v': 6.3,\n            'f': \"6.3\",\n        },\n{\n            'v': 2.3,\n            'f': \"2.3\",\n        },\n{\n            'v': 4.4,\n            'f': \"4.4\",\n        },\n{\n            'v': 1.3,\n            'f': \"1.3\",\n        },\n\"Iris-versicolor\"],\n [{\n            'v': 88,\n            'f': \"88\",\n        },\n{\n            'v': 5.6,\n            'f': \"5.6\",\n        },\n{\n            'v': 3.0,\n            'f': \"3.0\",\n        },\n{\n            'v': 4.1,\n            'f': \"4.1\",\n        },\n{\n            'v': 1.3,\n            'f': \"1.3\",\n        },\n\"Iris-versicolor\"],\n [{\n            'v': 89,\n            'f': \"89\",\n        },\n{\n            'v': 5.5,\n            'f': \"5.5\",\n        },\n{\n            'v': 2.5,\n            'f': \"2.5\",\n        },\n{\n            'v': 4.0,\n            'f': \"4.0\",\n        },\n{\n            'v': 1.3,\n            'f': \"1.3\",\n        },\n\"Iris-versicolor\"],\n [{\n            'v': 90,\n            'f': \"90\",\n        },\n{\n            'v': 5.5,\n            'f': \"5.5\",\n        },\n{\n            'v': 2.6,\n            'f': \"2.6\",\n        },\n{\n            'v': 4.4,\n            'f': \"4.4\",\n        },\n{\n            'v': 1.2,\n            'f': \"1.2\",\n        },\n\"Iris-versicolor\"],\n [{\n            'v': 91,\n            'f': \"91\",\n        },\n{\n            'v': 6.1,\n            'f': \"6.1\",\n        },\n{\n            'v': 3.0,\n            'f': \"3.0\",\n        },\n{\n            'v': 4.6,\n            'f': \"4.6\",\n        },\n{\n            'v': 1.4,\n            'f': \"1.4\",\n        },\n\"Iris-versicolor\"],\n [{\n            'v': 92,\n            'f': \"92\",\n        },\n{\n            'v': 5.8,\n            'f': \"5.8\",\n        },\n{\n            'v': 2.6,\n            'f': \"2.6\",\n        },\n{\n            'v': 4.0,\n            'f': \"4.0\",\n        },\n{\n            'v': 1.2,\n            'f': \"1.2\",\n        },\n\"Iris-versicolor\"],\n [{\n            'v': 93,\n            'f': \"93\",\n        },\n{\n            'v': 5.0,\n            'f': \"5.0\",\n        },\n{\n            'v': 2.3,\n            'f': \"2.3\",\n        },\n{\n            'v': 3.3,\n            'f': \"3.3\",\n        },\n{\n            'v': 1.0,\n            'f': \"1.0\",\n        },\n\"Iris-versicolor\"],\n [{\n            'v': 94,\n            'f': \"94\",\n        },\n{\n            'v': 5.6,\n            'f': \"5.6\",\n        },\n{\n            'v': 2.7,\n            'f': \"2.7\",\n        },\n{\n            'v': 4.2,\n            'f': \"4.2\",\n        },\n{\n            'v': 1.3,\n            'f': \"1.3\",\n        },\n\"Iris-versicolor\"],\n [{\n            'v': 95,\n            'f': \"95\",\n        },\n{\n            'v': 5.7,\n            'f': \"5.7\",\n        },\n{\n            'v': 3.0,\n            'f': \"3.0\",\n        },\n{\n            'v': 4.2,\n            'f': \"4.2\",\n        },\n{\n            'v': 1.2,\n            'f': \"1.2\",\n        },\n\"Iris-versicolor\"],\n [{\n            'v': 96,\n            'f': \"96\",\n        },\n{\n            'v': 5.7,\n            'f': \"5.7\",\n        },\n{\n            'v': 2.9,\n            'f': \"2.9\",\n        },\n{\n            'v': 4.2,\n            'f': \"4.2\",\n        },\n{\n            'v': 1.3,\n            'f': \"1.3\",\n        },\n\"Iris-versicolor\"],\n [{\n            'v': 97,\n            'f': \"97\",\n        },\n{\n            'v': 6.2,\n            'f': \"6.2\",\n        },\n{\n            'v': 2.9,\n            'f': \"2.9\",\n        },\n{\n            'v': 4.3,\n            'f': \"4.3\",\n        },\n{\n            'v': 1.3,\n            'f': \"1.3\",\n        },\n\"Iris-versicolor\"],\n [{\n            'v': 98,\n            'f': \"98\",\n        },\n{\n            'v': 5.1,\n            'f': \"5.1\",\n        },\n{\n            'v': 2.5,\n            'f': \"2.5\",\n        },\n{\n            'v': 3.0,\n            'f': \"3.0\",\n        },\n{\n            'v': 1.1,\n            'f': \"1.1\",\n        },\n\"Iris-versicolor\"],\n [{\n            'v': 99,\n            'f': \"99\",\n        },\n{\n            'v': 5.7,\n            'f': \"5.7\",\n        },\n{\n            'v': 2.8,\n            'f': \"2.8\",\n        },\n{\n            'v': 4.1,\n            'f': \"4.1\",\n        },\n{\n            'v': 1.3,\n            'f': \"1.3\",\n        },\n\"Iris-versicolor\"],\n [{\n            'v': 100,\n            'f': \"100\",\n        },\n{\n            'v': 6.3,\n            'f': \"6.3\",\n        },\n{\n            'v': 3.3,\n            'f': \"3.3\",\n        },\n{\n            'v': 6.0,\n            'f': \"6.0\",\n        },\n{\n            'v': 2.5,\n            'f': \"2.5\",\n        },\n\"Iris-virginica\"],\n [{\n            'v': 101,\n            'f': \"101\",\n        },\n{\n            'v': 5.8,\n            'f': \"5.8\",\n        },\n{\n            'v': 2.7,\n            'f': \"2.7\",\n        },\n{\n            'v': 5.1,\n            'f': \"5.1\",\n        },\n{\n            'v': 1.9,\n            'f': \"1.9\",\n        },\n\"Iris-virginica\"],\n [{\n            'v': 102,\n            'f': \"102\",\n        },\n{\n            'v': 7.1,\n            'f': \"7.1\",\n        },\n{\n            'v': 3.0,\n            'f': \"3.0\",\n        },\n{\n            'v': 5.9,\n            'f': \"5.9\",\n        },\n{\n            'v': 2.1,\n            'f': \"2.1\",\n        },\n\"Iris-virginica\"],\n [{\n            'v': 103,\n            'f': \"103\",\n        },\n{\n            'v': 6.3,\n            'f': \"6.3\",\n        },\n{\n            'v': 2.9,\n            'f': \"2.9\",\n        },\n{\n            'v': 5.6,\n            'f': \"5.6\",\n        },\n{\n            'v': 1.8,\n            'f': \"1.8\",\n        },\n\"Iris-virginica\"],\n [{\n            'v': 104,\n            'f': \"104\",\n        },\n{\n            'v': 6.5,\n            'f': \"6.5\",\n        },\n{\n            'v': 3.0,\n            'f': \"3.0\",\n        },\n{\n            'v': 5.8,\n            'f': \"5.8\",\n        },\n{\n            'v': 2.2,\n            'f': \"2.2\",\n        },\n\"Iris-virginica\"],\n [{\n            'v': 105,\n            'f': \"105\",\n        },\n{\n            'v': 7.6,\n            'f': \"7.6\",\n        },\n{\n            'v': 3.0,\n            'f': \"3.0\",\n        },\n{\n            'v': 6.6,\n            'f': \"6.6\",\n        },\n{\n            'v': 2.1,\n            'f': \"2.1\",\n        },\n\"Iris-virginica\"],\n [{\n            'v': 106,\n            'f': \"106\",\n        },\n{\n            'v': 4.9,\n            'f': \"4.9\",\n        },\n{\n            'v': 2.5,\n            'f': \"2.5\",\n        },\n{\n            'v': 4.5,\n            'f': \"4.5\",\n        },\n{\n            'v': 1.7,\n            'f': \"1.7\",\n        },\n\"Iris-virginica\"],\n [{\n            'v': 107,\n            'f': \"107\",\n        },\n{\n            'v': 7.3,\n            'f': \"7.3\",\n        },\n{\n            'v': 2.9,\n            'f': \"2.9\",\n        },\n{\n            'v': 6.3,\n            'f': \"6.3\",\n        },\n{\n            'v': 1.8,\n            'f': \"1.8\",\n        },\n\"Iris-virginica\"],\n [{\n            'v': 108,\n            'f': \"108\",\n        },\n{\n            'v': 6.7,\n            'f': \"6.7\",\n        },\n{\n            'v': 2.5,\n            'f': \"2.5\",\n        },\n{\n            'v': 5.8,\n            'f': \"5.8\",\n        },\n{\n            'v': 1.8,\n            'f': \"1.8\",\n        },\n\"Iris-virginica\"],\n [{\n            'v': 109,\n            'f': \"109\",\n        },\n{\n            'v': 7.2,\n            'f': \"7.2\",\n        },\n{\n            'v': 3.6,\n            'f': \"3.6\",\n        },\n{\n            'v': 6.1,\n            'f': \"6.1\",\n        },\n{\n            'v': 2.5,\n            'f': \"2.5\",\n        },\n\"Iris-virginica\"],\n [{\n            'v': 110,\n            'f': \"110\",\n        },\n{\n            'v': 6.5,\n            'f': \"6.5\",\n        },\n{\n            'v': 3.2,\n            'f': \"3.2\",\n        },\n{\n            'v': 5.1,\n            'f': \"5.1\",\n        },\n{\n            'v': 2.0,\n            'f': \"2.0\",\n        },\n\"Iris-virginica\"],\n [{\n            'v': 111,\n            'f': \"111\",\n        },\n{\n            'v': 6.4,\n            'f': \"6.4\",\n        },\n{\n            'v': 2.7,\n            'f': \"2.7\",\n        },\n{\n            'v': 5.3,\n            'f': \"5.3\",\n        },\n{\n            'v': 1.9,\n            'f': \"1.9\",\n        },\n\"Iris-virginica\"],\n [{\n            'v': 112,\n            'f': \"112\",\n        },\n{\n            'v': 6.8,\n            'f': \"6.8\",\n        },\n{\n            'v': 3.0,\n            'f': \"3.0\",\n        },\n{\n            'v': 5.5,\n            'f': \"5.5\",\n        },\n{\n            'v': 2.1,\n            'f': \"2.1\",\n        },\n\"Iris-virginica\"],\n [{\n            'v': 113,\n            'f': \"113\",\n        },\n{\n            'v': 5.7,\n            'f': \"5.7\",\n        },\n{\n            'v': 2.5,\n            'f': \"2.5\",\n        },\n{\n            'v': 5.0,\n            'f': \"5.0\",\n        },\n{\n            'v': 2.0,\n            'f': \"2.0\",\n        },\n\"Iris-virginica\"],\n [{\n            'v': 114,\n            'f': \"114\",\n        },\n{\n            'v': 5.8,\n            'f': \"5.8\",\n        },\n{\n            'v': 2.8,\n            'f': \"2.8\",\n        },\n{\n            'v': 5.1,\n            'f': \"5.1\",\n        },\n{\n            'v': 2.4,\n            'f': \"2.4\",\n        },\n\"Iris-virginica\"],\n [{\n            'v': 115,\n            'f': \"115\",\n        },\n{\n            'v': 6.4,\n            'f': \"6.4\",\n        },\n{\n            'v': 3.2,\n            'f': \"3.2\",\n        },\n{\n            'v': 5.3,\n            'f': \"5.3\",\n        },\n{\n            'v': 2.3,\n            'f': \"2.3\",\n        },\n\"Iris-virginica\"],\n [{\n            'v': 116,\n            'f': \"116\",\n        },\n{\n            'v': 6.5,\n            'f': \"6.5\",\n        },\n{\n            'v': 3.0,\n            'f': \"3.0\",\n        },\n{\n            'v': 5.5,\n            'f': \"5.5\",\n        },\n{\n            'v': 1.8,\n            'f': \"1.8\",\n        },\n\"Iris-virginica\"],\n [{\n            'v': 117,\n            'f': \"117\",\n        },\n{\n            'v': 7.7,\n            'f': \"7.7\",\n        },\n{\n            'v': 3.8,\n            'f': \"3.8\",\n        },\n{\n            'v': 6.7,\n            'f': \"6.7\",\n        },\n{\n            'v': 2.2,\n            'f': \"2.2\",\n        },\n\"Iris-virginica\"],\n [{\n            'v': 118,\n            'f': \"118\",\n        },\n{\n            'v': 7.7,\n            'f': \"7.7\",\n        },\n{\n            'v': 2.6,\n            'f': \"2.6\",\n        },\n{\n            'v': 6.9,\n            'f': \"6.9\",\n        },\n{\n            'v': 2.3,\n            'f': \"2.3\",\n        },\n\"Iris-virginica\"],\n [{\n            'v': 119,\n            'f': \"119\",\n        },\n{\n            'v': 6.0,\n            'f': \"6.0\",\n        },\n{\n            'v': 2.2,\n            'f': \"2.2\",\n        },\n{\n            'v': 5.0,\n            'f': \"5.0\",\n        },\n{\n            'v': 1.5,\n            'f': \"1.5\",\n        },\n\"Iris-virginica\"],\n [{\n            'v': 120,\n            'f': \"120\",\n        },\n{\n            'v': 6.9,\n            'f': \"6.9\",\n        },\n{\n            'v': 3.2,\n            'f': \"3.2\",\n        },\n{\n            'v': 5.7,\n            'f': \"5.7\",\n        },\n{\n            'v': 2.3,\n            'f': \"2.3\",\n        },\n\"Iris-virginica\"],\n [{\n            'v': 121,\n            'f': \"121\",\n        },\n{\n            'v': 5.6,\n            'f': \"5.6\",\n        },\n{\n            'v': 2.8,\n            'f': \"2.8\",\n        },\n{\n            'v': 4.9,\n            'f': \"4.9\",\n        },\n{\n            'v': 2.0,\n            'f': \"2.0\",\n        },\n\"Iris-virginica\"],\n [{\n            'v': 122,\n            'f': \"122\",\n        },\n{\n            'v': 7.7,\n            'f': \"7.7\",\n        },\n{\n            'v': 2.8,\n            'f': \"2.8\",\n        },\n{\n            'v': 6.7,\n            'f': \"6.7\",\n        },\n{\n            'v': 2.0,\n            'f': \"2.0\",\n        },\n\"Iris-virginica\"],\n [{\n            'v': 123,\n            'f': \"123\",\n        },\n{\n            'v': 6.3,\n            'f': \"6.3\",\n        },\n{\n            'v': 2.7,\n            'f': \"2.7\",\n        },\n{\n            'v': 4.9,\n            'f': \"4.9\",\n        },\n{\n            'v': 1.8,\n            'f': \"1.8\",\n        },\n\"Iris-virginica\"],\n [{\n            'v': 124,\n            'f': \"124\",\n        },\n{\n            'v': 6.7,\n            'f': \"6.7\",\n        },\n{\n            'v': 3.3,\n            'f': \"3.3\",\n        },\n{\n            'v': 5.7,\n            'f': \"5.7\",\n        },\n{\n            'v': 2.1,\n            'f': \"2.1\",\n        },\n\"Iris-virginica\"],\n [{\n            'v': 125,\n            'f': \"125\",\n        },\n{\n            'v': 7.2,\n            'f': \"7.2\",\n        },\n{\n            'v': 3.2,\n            'f': \"3.2\",\n        },\n{\n            'v': 6.0,\n            'f': \"6.0\",\n        },\n{\n            'v': 1.8,\n            'f': \"1.8\",\n        },\n\"Iris-virginica\"],\n [{\n            'v': 126,\n            'f': \"126\",\n        },\n{\n            'v': 6.2,\n            'f': \"6.2\",\n        },\n{\n            'v': 2.8,\n            'f': \"2.8\",\n        },\n{\n            'v': 4.8,\n            'f': \"4.8\",\n        },\n{\n            'v': 1.8,\n            'f': \"1.8\",\n        },\n\"Iris-virginica\"],\n [{\n            'v': 127,\n            'f': \"127\",\n        },\n{\n            'v': 6.1,\n            'f': \"6.1\",\n        },\n{\n            'v': 3.0,\n            'f': \"3.0\",\n        },\n{\n            'v': 4.9,\n            'f': \"4.9\",\n        },\n{\n            'v': 1.8,\n            'f': \"1.8\",\n        },\n\"Iris-virginica\"],\n [{\n            'v': 128,\n            'f': \"128\",\n        },\n{\n            'v': 6.4,\n            'f': \"6.4\",\n        },\n{\n            'v': 2.8,\n            'f': \"2.8\",\n        },\n{\n            'v': 5.6,\n            'f': \"5.6\",\n        },\n{\n            'v': 2.1,\n            'f': \"2.1\",\n        },\n\"Iris-virginica\"],\n [{\n            'v': 129,\n            'f': \"129\",\n        },\n{\n            'v': 7.2,\n            'f': \"7.2\",\n        },\n{\n            'v': 3.0,\n            'f': \"3.0\",\n        },\n{\n            'v': 5.8,\n            'f': \"5.8\",\n        },\n{\n            'v': 1.6,\n            'f': \"1.6\",\n        },\n\"Iris-virginica\"],\n [{\n            'v': 130,\n            'f': \"130\",\n        },\n{\n            'v': 7.4,\n            'f': \"7.4\",\n        },\n{\n            'v': 2.8,\n            'f': \"2.8\",\n        },\n{\n            'v': 6.1,\n            'f': \"6.1\",\n        },\n{\n            'v': 1.9,\n            'f': \"1.9\",\n        },\n\"Iris-virginica\"],\n [{\n            'v': 131,\n            'f': \"131\",\n        },\n{\n            'v': 7.9,\n            'f': \"7.9\",\n        },\n{\n            'v': 3.8,\n            'f': \"3.8\",\n        },\n{\n            'v': 6.4,\n            'f': \"6.4\",\n        },\n{\n            'v': 2.0,\n            'f': \"2.0\",\n        },\n\"Iris-virginica\"],\n [{\n            'v': 132,\n            'f': \"132\",\n        },\n{\n            'v': 6.4,\n            'f': \"6.4\",\n        },\n{\n            'v': 2.8,\n            'f': \"2.8\",\n        },\n{\n            'v': 5.6,\n            'f': \"5.6\",\n        },\n{\n            'v': 2.2,\n            'f': \"2.2\",\n        },\n\"Iris-virginica\"],\n [{\n            'v': 133,\n            'f': \"133\",\n        },\n{\n            'v': 6.3,\n            'f': \"6.3\",\n        },\n{\n            'v': 2.8,\n            'f': \"2.8\",\n        },\n{\n            'v': 5.1,\n            'f': \"5.1\",\n        },\n{\n            'v': 1.5,\n            'f': \"1.5\",\n        },\n\"Iris-virginica\"],\n [{\n            'v': 134,\n            'f': \"134\",\n        },\n{\n            'v': 6.1,\n            'f': \"6.1\",\n        },\n{\n            'v': 2.6,\n            'f': \"2.6\",\n        },\n{\n            'v': 5.6,\n            'f': \"5.6\",\n        },\n{\n            'v': 1.4,\n            'f': \"1.4\",\n        },\n\"Iris-virginica\"],\n [{\n            'v': 135,\n            'f': \"135\",\n        },\n{\n            'v': 7.7,\n            'f': \"7.7\",\n        },\n{\n            'v': 3.0,\n            'f': \"3.0\",\n        },\n{\n            'v': 6.1,\n            'f': \"6.1\",\n        },\n{\n            'v': 2.3,\n            'f': \"2.3\",\n        },\n\"Iris-virginica\"],\n [{\n            'v': 136,\n            'f': \"136\",\n        },\n{\n            'v': 6.3,\n            'f': \"6.3\",\n        },\n{\n            'v': 3.4,\n            'f': \"3.4\",\n        },\n{\n            'v': 5.6,\n            'f': \"5.6\",\n        },\n{\n            'v': 2.4,\n            'f': \"2.4\",\n        },\n\"Iris-virginica\"],\n [{\n            'v': 137,\n            'f': \"137\",\n        },\n{\n            'v': 6.4,\n            'f': \"6.4\",\n        },\n{\n            'v': 3.1,\n            'f': \"3.1\",\n        },\n{\n            'v': 5.5,\n            'f': \"5.5\",\n        },\n{\n            'v': 1.8,\n            'f': \"1.8\",\n        },\n\"Iris-virginica\"],\n [{\n            'v': 138,\n            'f': \"138\",\n        },\n{\n            'v': 6.0,\n            'f': \"6.0\",\n        },\n{\n            'v': 3.0,\n            'f': \"3.0\",\n        },\n{\n            'v': 4.8,\n            'f': \"4.8\",\n        },\n{\n            'v': 1.8,\n            'f': \"1.8\",\n        },\n\"Iris-virginica\"],\n [{\n            'v': 139,\n            'f': \"139\",\n        },\n{\n            'v': 6.9,\n            'f': \"6.9\",\n        },\n{\n            'v': 3.1,\n            'f': \"3.1\",\n        },\n{\n            'v': 5.4,\n            'f': \"5.4\",\n        },\n{\n            'v': 2.1,\n            'f': \"2.1\",\n        },\n\"Iris-virginica\"],\n [{\n            'v': 140,\n            'f': \"140\",\n        },\n{\n            'v': 6.7,\n            'f': \"6.7\",\n        },\n{\n            'v': 3.1,\n            'f': \"3.1\",\n        },\n{\n            'v': 5.6,\n            'f': \"5.6\",\n        },\n{\n            'v': 2.4,\n            'f': \"2.4\",\n        },\n\"Iris-virginica\"],\n [{\n            'v': 141,\n            'f': \"141\",\n        },\n{\n            'v': 6.9,\n            'f': \"6.9\",\n        },\n{\n            'v': 3.1,\n            'f': \"3.1\",\n        },\n{\n            'v': 5.1,\n            'f': \"5.1\",\n        },\n{\n            'v': 2.3,\n            'f': \"2.3\",\n        },\n\"Iris-virginica\"],\n [{\n            'v': 142,\n            'f': \"142\",\n        },\n{\n            'v': 5.8,\n            'f': \"5.8\",\n        },\n{\n            'v': 2.7,\n            'f': \"2.7\",\n        },\n{\n            'v': 5.1,\n            'f': \"5.1\",\n        },\n{\n            'v': 1.9,\n            'f': \"1.9\",\n        },\n\"Iris-virginica\"],\n [{\n            'v': 143,\n            'f': \"143\",\n        },\n{\n            'v': 6.8,\n            'f': \"6.8\",\n        },\n{\n            'v': 3.2,\n            'f': \"3.2\",\n        },\n{\n            'v': 5.9,\n            'f': \"5.9\",\n        },\n{\n            'v': 2.3,\n            'f': \"2.3\",\n        },\n\"Iris-virginica\"],\n [{\n            'v': 144,\n            'f': \"144\",\n        },\n{\n            'v': 6.7,\n            'f': \"6.7\",\n        },\n{\n            'v': 3.3,\n            'f': \"3.3\",\n        },\n{\n            'v': 5.7,\n            'f': \"5.7\",\n        },\n{\n            'v': 2.5,\n            'f': \"2.5\",\n        },\n\"Iris-virginica\"],\n [{\n            'v': 145,\n            'f': \"145\",\n        },\n{\n            'v': 6.7,\n            'f': \"6.7\",\n        },\n{\n            'v': 3.0,\n            'f': \"3.0\",\n        },\n{\n            'v': 5.2,\n            'f': \"5.2\",\n        },\n{\n            'v': 2.3,\n            'f': \"2.3\",\n        },\n\"Iris-virginica\"],\n [{\n            'v': 146,\n            'f': \"146\",\n        },\n{\n            'v': 6.3,\n            'f': \"6.3\",\n        },\n{\n            'v': 2.5,\n            'f': \"2.5\",\n        },\n{\n            'v': 5.0,\n            'f': \"5.0\",\n        },\n{\n            'v': 1.9,\n            'f': \"1.9\",\n        },\n\"Iris-virginica\"],\n [{\n            'v': 147,\n            'f': \"147\",\n        },\n{\n            'v': 6.5,\n            'f': \"6.5\",\n        },\n{\n            'v': 3.0,\n            'f': \"3.0\",\n        },\n{\n            'v': 5.2,\n            'f': \"5.2\",\n        },\n{\n            'v': 2.0,\n            'f': \"2.0\",\n        },\n\"Iris-virginica\"],\n [{\n            'v': 148,\n            'f': \"148\",\n        },\n{\n            'v': 6.2,\n            'f': \"6.2\",\n        },\n{\n            'v': 3.4,\n            'f': \"3.4\",\n        },\n{\n            'v': 5.4,\n            'f': \"5.4\",\n        },\n{\n            'v': 2.3,\n            'f': \"2.3\",\n        },\n\"Iris-virginica\"],\n [{\n            'v': 149,\n            'f': \"149\",\n        },\n{\n            'v': 5.9,\n            'f': \"5.9\",\n        },\n{\n            'v': 3.0,\n            'f': \"3.0\",\n        },\n{\n            'v': 5.1,\n            'f': \"5.1\",\n        },\n{\n            'v': 1.8,\n            'f': \"1.8\",\n        },\n\"Iris-virginica\"]],\n        columns: [[\"number\", \"index\"], [\"number\", \"sepallength\"], [\"number\", \"sepalwidth\"], [\"number\", \"petallength\"], [\"number\", \"petalwidth\"], [\"string\", \"target\"]],\n        columnOptions: [{\"width\": \"1px\", \"className\": \"index_column\"}],\n        rowsPerPage: 25,\n        helpUrl: \"https://colab.research.google.com/notebooks/data_table.ipynb\",\n        suppressOutputScrolling: true,\n        minimumWidth: undefined,\n      });\n    "
          },
          "metadata": {},
          "execution_count": 28
        }
      ],
      "source": [
        "df.fillna(df.median())"
      ]
    }
  ],
  "metadata": {
    "colab": {
      "collapsed_sections": [],
      "name": "pyintro3.ipynb のコピー",
      "provenance": []
    },
    "kernelspec": {
      "display_name": "Python 3",
      "name": "python3"
    },
    "language_info": {
      "codemirror_mode": {
        "name": "ipython",
        "version": 3
      },
      "file_extension": ".py",
      "mimetype": "text/x-python",
      "name": "python",
      "nbconvert_exporter": "python",
      "pygments_lexer": "ipython3",
      "version": "3.10.4"
    }
  },
  "nbformat": 4,
  "nbformat_minor": 0
}