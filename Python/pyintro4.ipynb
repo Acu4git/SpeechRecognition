{
  "cells": [
    {
      "cell_type": "markdown",
      "metadata": {
        "id": "4IJ7fLw_WsLD"
      },
      "source": [
        "<a href=\"https://colab.research.google.com/github/MasahiroAraki/SpeechRecognition/blob/master/Python/pyintro4.ipynb\" target=\"_parent\"><img src=\"https://colab.research.google.com/assets/colab-badge.svg\" alt=\"Open In Colab\"/></a>"
      ]
    },
    {
      "cell_type": "markdown",
      "metadata": {
        "id": "3-Tuatoh135v"
      },
      "source": [
        "# Python入門(4)\n",
        "\n",
        "- pandasを用いた統計処理\n",
        "- 科学技術計算ライブラリ scipy\n",
        "\n",
        "このNotebookは「谷合廣紀著: Pythonで理解する統計解析の基礎」を参考にしています。"
      ]
    },
    {
      "cell_type": "code",
      "execution_count": 1,
      "metadata": {
        "id": "z3o65ZQ7caP-"
      },
      "outputs": [],
      "source": [
        "# 必要なimport\n",
        "import numpy as np\n",
        "import pandas as pd"
      ]
    },
    {
      "cell_type": "code",
      "execution_count": 2,
      "metadata": {
        "id": "hpEB_CIycadW"
      },
      "outputs": [],
      "source": [
        "# notebookの設定\n",
        "%load_ext google.colab.data_table\n",
        "%precision 3\n",
        "pd.set_option('precision', 3)"
      ]
    },
    {
      "cell_type": "markdown",
      "metadata": {
        "id": "tFHaij-OWtVb"
      },
      "source": [
        "# データの種類"
      ]
    },
    {
      "cell_type": "markdown",
      "metadata": {
        "id": "Lv9JsowzbHyU"
      },
      "source": [
        "統計処理を行いたいデータはpandasを利用して[DataFrame](https://pandas.pydata.org/docs/reference/api/pandas.DataFrame.html)とよばれる表形式で読み込む。表の列を変数とよぶ。変数には**質的変数**と**量的変数**がある。\n",
        "\n",
        "質的変数はデータに対してカテゴリとして与えられた値で、性別やアンケートによる満足度の回答などが例として挙げられる。質的変数はさらに名義尺度と順序尺度に分類できる。名義尺度は順序がつけられないカテゴリ、順序尺度は順序が付いて大小比較が行えるカテゴリである。\n",
        "\n",
        "量的変数は量を表現するものである。量的変数はさらに間隔尺度と比例尺度に分類できる。間隔尺度は差に意味があるもので、西暦の年数・温度など。比例尺度は0を基点として、差や比に意味があるもので、人数・長さなどである。なお量的変数は、年数・人数などのとびとびの値を取る離散型、温度・長さなどの実数値を取る連続型という分類もある。\n",
        "\n",
        "\n",
        "| 尺度 | 例 | 大小比較 | 差 | 比 |\n",
        "| --- | --- | --- | --- | --- | \n",
        "| 名義尺度 | 学生番号 | × | × | × |\n",
        "| 順序尺度 | 成績順位 | ○ | × | × |\n",
        "| 間隔尺度 | 温度 | ○ | ○ | × |\n",
        "| 比例尺度 | 距離 | ○ | ○ | ○ |\n"
      ]
    },
    {
      "cell_type": "markdown",
      "metadata": {
        "id": "c_X2SCayZQkK"
      },
      "source": [
        "# 1次元データ"
      ]
    },
    {
      "cell_type": "markdown",
      "metadata": {
        "id": "A15o8qQlbJoc"
      },
      "source": [
        "サンプルデータとして、試験の10人分の点数を整数値の乱数を発生させるnumpyの[randint](https://numpy.org/doc/stable/reference/random/generated/numpy.random.randint.html)を用いて生成し、それを用いてそれぞれに氏名の情報を付け加えたDataFrameを作成。"
      ]
    },
    {
      "cell_type": "code",
      "execution_count": 3,
      "metadata": {
        "colab": {
          "base_uri": "https://localhost:8080/"
        },
        "id": "Mrt_7NRCbJ0V",
        "outputId": "cdd529af-6ca5-4743-a753-796dbe4088f9"
      },
      "outputs": [
        {
          "output_type": "execute_result",
          "data": {
            "text/plain": [
              "array([60, 12, 44, 14, 73, 68, 31, 31, 48, 86])"
            ]
          },
          "metadata": {},
          "execution_count": 3
        }
      ],
      "source": [
        "scores = np.random.randint(100, size=10)\n",
        "scores"
      ]
    },
    {
      "cell_type": "code",
      "execution_count": 4,
      "metadata": {
        "colab": {
          "base_uri": "https://localhost:8080/",
          "height": 304
        },
        "id": "EjCmKg5qeEyd",
        "outputId": "47ec8847-5a2c-43a3-ff66-7fe48b94d400"
      },
      "outputs": [
        {
          "output_type": "execute_result",
          "data": {
            "text/plain": [
              "      Score\n",
              "name       \n",
              "A        60\n",
              "B        12\n",
              "C        44\n",
              "D        14\n",
              "E        73\n",
              "F        68\n",
              "G        31\n",
              "H        31\n",
              "I        48\n",
              "J        86"
            ],
            "text/html": [
              "\n",
              "  <div id=\"df-efe79157-f53a-4e3c-855d-678df5c210b3\">\n",
              "    <div class=\"colab-df-container\">\n",
              "      <div>\n",
              "<style scoped>\n",
              "    .dataframe tbody tr th:only-of-type {\n",
              "        vertical-align: middle;\n",
              "    }\n",
              "\n",
              "    .dataframe tbody tr th {\n",
              "        vertical-align: top;\n",
              "    }\n",
              "\n",
              "    .dataframe thead th {\n",
              "        text-align: right;\n",
              "    }\n",
              "</style>\n",
              "<table border=\"1\" class=\"dataframe\">\n",
              "  <thead>\n",
              "    <tr style=\"text-align: right;\">\n",
              "      <th></th>\n",
              "      <th>Score</th>\n",
              "    </tr>\n",
              "    <tr>\n",
              "      <th>name</th>\n",
              "      <th></th>\n",
              "    </tr>\n",
              "  </thead>\n",
              "  <tbody>\n",
              "    <tr>\n",
              "      <th>A</th>\n",
              "      <td>60</td>\n",
              "    </tr>\n",
              "    <tr>\n",
              "      <th>B</th>\n",
              "      <td>12</td>\n",
              "    </tr>\n",
              "    <tr>\n",
              "      <th>C</th>\n",
              "      <td>44</td>\n",
              "    </tr>\n",
              "    <tr>\n",
              "      <th>D</th>\n",
              "      <td>14</td>\n",
              "    </tr>\n",
              "    <tr>\n",
              "      <th>E</th>\n",
              "      <td>73</td>\n",
              "    </tr>\n",
              "    <tr>\n",
              "      <th>F</th>\n",
              "      <td>68</td>\n",
              "    </tr>\n",
              "    <tr>\n",
              "      <th>G</th>\n",
              "      <td>31</td>\n",
              "    </tr>\n",
              "    <tr>\n",
              "      <th>H</th>\n",
              "      <td>31</td>\n",
              "    </tr>\n",
              "    <tr>\n",
              "      <th>I</th>\n",
              "      <td>48</td>\n",
              "    </tr>\n",
              "    <tr>\n",
              "      <th>J</th>\n",
              "      <td>86</td>\n",
              "    </tr>\n",
              "  </tbody>\n",
              "</table>\n",
              "</div>\n",
              "      <button class=\"colab-df-convert\" onclick=\"convertToInteractive('df-efe79157-f53a-4e3c-855d-678df5c210b3')\"\n",
              "              title=\"Convert this dataframe to an interactive table.\"\n",
              "              style=\"display:none;\">\n",
              "        \n",
              "  <svg xmlns=\"http://www.w3.org/2000/svg\" height=\"24px\"viewBox=\"0 0 24 24\"\n",
              "       width=\"24px\">\n",
              "    <path d=\"M0 0h24v24H0V0z\" fill=\"none\"/>\n",
              "    <path d=\"M18.56 5.44l.94 2.06.94-2.06 2.06-.94-2.06-.94-.94-2.06-.94 2.06-2.06.94zm-11 1L8.5 8.5l.94-2.06 2.06-.94-2.06-.94L8.5 2.5l-.94 2.06-2.06.94zm10 10l.94 2.06.94-2.06 2.06-.94-2.06-.94-.94-2.06-.94 2.06-2.06.94z\"/><path d=\"M17.41 7.96l-1.37-1.37c-.4-.4-.92-.59-1.43-.59-.52 0-1.04.2-1.43.59L10.3 9.45l-7.72 7.72c-.78.78-.78 2.05 0 2.83L4 21.41c.39.39.9.59 1.41.59.51 0 1.02-.2 1.41-.59l7.78-7.78 2.81-2.81c.8-.78.8-2.07 0-2.86zM5.41 20L4 18.59l7.72-7.72 1.47 1.35L5.41 20z\"/>\n",
              "  </svg>\n",
              "      </button>\n",
              "      \n",
              "  <style>\n",
              "    .colab-df-container {\n",
              "      display:flex;\n",
              "      flex-wrap:wrap;\n",
              "      gap: 12px;\n",
              "    }\n",
              "\n",
              "    .colab-df-convert {\n",
              "      background-color: #E8F0FE;\n",
              "      border: none;\n",
              "      border-radius: 50%;\n",
              "      cursor: pointer;\n",
              "      display: none;\n",
              "      fill: #1967D2;\n",
              "      height: 32px;\n",
              "      padding: 0 0 0 0;\n",
              "      width: 32px;\n",
              "    }\n",
              "\n",
              "    .colab-df-convert:hover {\n",
              "      background-color: #E2EBFA;\n",
              "      box-shadow: 0px 1px 2px rgba(60, 64, 67, 0.3), 0px 1px 3px 1px rgba(60, 64, 67, 0.15);\n",
              "      fill: #174EA6;\n",
              "    }\n",
              "\n",
              "    [theme=dark] .colab-df-convert {\n",
              "      background-color: #3B4455;\n",
              "      fill: #D2E3FC;\n",
              "    }\n",
              "\n",
              "    [theme=dark] .colab-df-convert:hover {\n",
              "      background-color: #434B5C;\n",
              "      box-shadow: 0px 1px 3px 1px rgba(0, 0, 0, 0.15);\n",
              "      filter: drop-shadow(0px 1px 2px rgba(0, 0, 0, 0.3));\n",
              "      fill: #FFFFFF;\n",
              "    }\n",
              "  </style>\n",
              "\n",
              "      <script>\n",
              "        const buttonEl =\n",
              "          document.querySelector('#df-efe79157-f53a-4e3c-855d-678df5c210b3 button.colab-df-convert');\n",
              "        buttonEl.style.display =\n",
              "          google.colab.kernel.accessAllowed ? 'block' : 'none';\n",
              "\n",
              "        async function convertToInteractive(key) {\n",
              "          const element = document.querySelector('#df-efe79157-f53a-4e3c-855d-678df5c210b3');\n",
              "          const dataTable =\n",
              "            await google.colab.kernel.invokeFunction('convertToInteractive',\n",
              "                                                     [key], {});\n",
              "          if (!dataTable) return;\n",
              "\n",
              "          const docLinkHtml = 'Like what you see? Visit the ' +\n",
              "            '<a target=\"_blank\" href=https://colab.research.google.com/notebooks/data_table.ipynb>data table notebook</a>'\n",
              "            + ' to learn more about interactive tables.';\n",
              "          element.innerHTML = '';\n",
              "          dataTable['output_type'] = 'display_data';\n",
              "          await google.colab.output.renderOutput(dataTable, element);\n",
              "          const docLink = document.createElement('div');\n",
              "          docLink.innerHTML = docLinkHtml;\n",
              "          element.appendChild(docLink);\n",
              "        }\n",
              "      </script>\n",
              "    </div>\n",
              "  </div>\n",
              "  "
            ],
            "application/vnd.google.colaboratory.module+javascript": "\n      import \"https://ssl.gstatic.com/colaboratory/data_table/f872b2c2305463fd/data_table.js\";\n\n      window.createDataTable({\n        data: [[\"A\",\n{\n            'v': 60,\n            'f': \"60\",\n        }],\n [\"B\",\n{\n            'v': 12,\n            'f': \"12\",\n        }],\n [\"C\",\n{\n            'v': 44,\n            'f': \"44\",\n        }],\n [\"D\",\n{\n            'v': 14,\n            'f': \"14\",\n        }],\n [\"E\",\n{\n            'v': 73,\n            'f': \"73\",\n        }],\n [\"F\",\n{\n            'v': 68,\n            'f': \"68\",\n        }],\n [\"G\",\n{\n            'v': 31,\n            'f': \"31\",\n        }],\n [\"H\",\n{\n            'v': 31,\n            'f': \"31\",\n        }],\n [\"I\",\n{\n            'v': 48,\n            'f': \"48\",\n        }],\n [\"J\",\n{\n            'v': 86,\n            'f': \"86\",\n        }]],\n        columns: [[\"string\", \"name\"], [\"number\", \"Score\"]],\n        columnOptions: [{\"width\": \"1px\", \"className\": \"index_column\"}],\n        rowsPerPage: 25,\n        helpUrl: \"https://colab.research.google.com/notebooks/data_table.ipynb\",\n        suppressOutputScrolling: true,\n        minimumWidth: undefined,\n      });\n    "
          },
          "metadata": {},
          "execution_count": 4
        }
      ],
      "source": [
        "scores_df = pd.DataFrame({'Score':scores}, index=pd.Index(['A','B','C','D','E','F','G','H','I','J'], name='name'))\n",
        "scores_df"
      ]
    },
    {
      "cell_type": "markdown",
      "metadata": {
        "id": "ldTIs3zylFEW"
      },
      "source": [
        "## データの中心の指標\n",
        "\n",
        "データの中心的傾向を示す値を**代表値**とよぶ。データの性質に基づいて、平均値・中央値・最頻値などを使い分ける必要がある。"
      ]
    },
    {
      "cell_type": "markdown",
      "metadata": {
        "id": "8lXVtmoTbJ78"
      },
      "source": [
        "### 平均値\n",
        "\n",
        "$$\n",
        "\\mu = \\frac{1}{n}\\sum_{i=1}^n x_i\n",
        "$$"
      ]
    },
    {
      "cell_type": "markdown",
      "metadata": {
        "id": "sDF4l5p1jxlQ"
      },
      "source": [
        "ndarrayの場合は、[np.mean](https://numpy.org/doc/stable/reference/generated/numpy.mean.html)関数を用いる。"
      ]
    },
    {
      "cell_type": "code",
      "execution_count": 5,
      "metadata": {
        "colab": {
          "base_uri": "https://localhost:8080/"
        },
        "id": "nFdm4iB8bKFE",
        "outputId": "cda27d1d-e8be-4436-f968-981d2a983120"
      },
      "outputs": [
        {
          "output_type": "execute_result",
          "data": {
            "text/plain": [
              "46.700"
            ]
          },
          "metadata": {},
          "execution_count": 5
        }
      ],
      "source": [
        "np.mean(scores)"
      ]
    },
    {
      "cell_type": "markdown",
      "metadata": {
        "id": "3q7bA7HXj223"
      },
      "source": [
        "DataFrameの場合は、[mean](https://pandas.pydata.org/docs/reference/api/pandas.DataFrame.mean.html)メソッドを用いる。戻り値の型が[Series](https://pandas.pydata.org/docs/reference/api/pandas.Series.html)なので、平均値のみが必要な場合は、インデックス 'Score'を用いてその要素を取り出す。"
      ]
    },
    {
      "cell_type": "code",
      "execution_count": 6,
      "metadata": {
        "colab": {
          "base_uri": "https://localhost:8080/"
        },
        "id": "cdepQuGtfasM",
        "outputId": "797497e4-4107-497f-c777-7a752ccb1094"
      },
      "outputs": [
        {
          "output_type": "execute_result",
          "data": {
            "text/plain": [
              "46.700"
            ]
          },
          "metadata": {},
          "execution_count": 6
        }
      ],
      "source": [
        "scores_df.mean()['Score']"
      ]
    },
    {
      "cell_type": "markdown",
      "metadata": {
        "id": "-ugkq4Icfa5b"
      },
      "source": [
        "### 中央値\n",
        "\n",
        "データを大きさの順に並べたときに中央に位置する値。平均値と比較して外れ値に強い。データの個数が偶数個の場合は、中央の2つの値の平均値を中央値とする。"
      ]
    },
    {
      "cell_type": "code",
      "execution_count": 7,
      "metadata": {
        "colab": {
          "base_uri": "https://localhost:8080/"
        },
        "id": "DaNIpQEjfbAr",
        "outputId": "48544a1b-8e06-4b3a-ea28-43c654727ccc"
      },
      "outputs": [
        {
          "output_type": "execute_result",
          "data": {
            "text/plain": [
              "46.000"
            ]
          },
          "metadata": {},
          "execution_count": 7
        }
      ],
      "source": [
        "np.median(scores)"
      ]
    },
    {
      "cell_type": "code",
      "execution_count": 8,
      "metadata": {
        "colab": {
          "base_uri": "https://localhost:8080/"
        },
        "id": "U4kBuWTSiB3B",
        "outputId": "0d4db4be-9870-4597-a9ba-75887aac8138"
      },
      "outputs": [
        {
          "output_type": "execute_result",
          "data": {
            "text/plain": [
              "46.000"
            ]
          },
          "metadata": {},
          "execution_count": 8
        }
      ],
      "source": [
        "scores_df.median()[0]"
      ]
    },
    {
      "cell_type": "markdown",
      "metadata": {
        "id": "20DMw01FfbHb"
      },
      "source": [
        "### 最頻値\n",
        "\n",
        "主として質的データの代表値を求める場合に用いる。DataFrameやSeriesの[mode](https://pandas.pydata.org/docs/reference/api/pandas.DataFrame.mode.html)メソッドで求める。量的データの場合は、度数分布を求めてから最頻値の範囲を求める。\n",
        "\n",
        "サンプルデータとして、男性(m)と女性(f)を値とする質的データを作成し、最頻値を求める。"
      ]
    },
    {
      "cell_type": "code",
      "execution_count": 9,
      "metadata": {
        "colab": {
          "base_uri": "https://localhost:8080/",
          "height": 35
        },
        "id": "sWYFpdVBfbNM",
        "outputId": "e2094304-6852-4a9f-b13b-01ec075a346e"
      },
      "outputs": [
        {
          "output_type": "execute_result",
          "data": {
            "text/plain": [
              "'f'"
            ],
            "application/vnd.google.colaboratory.intrinsic+json": {
              "type": "string"
            }
          },
          "metadata": {},
          "execution_count": 9
        }
      ],
      "source": [
        "pd.Series(['m', 'f', 'f', 'f', 'm', 'f']).mode()[0]"
      ]
    },
    {
      "cell_type": "markdown",
      "metadata": {
        "id": "_t13iXezfbT7"
      },
      "source": [
        "## データのばらつきの指標"
      ]
    },
    {
      "cell_type": "markdown",
      "metadata": {
        "id": "J51wc8mRlUpd"
      },
      "source": [
        "### 分散と標準偏差\n",
        "\n",
        "個々のデータと平均値との差を**偏差**とよぶ。この偏差の大きさでデータのばらつきを表したいが、単純に足し合わせると平均よりも大きいデータの偏差と小さいデータの偏差が打ち消し合って0になってしまう。そこで、偏差を2乗して正の値として足し合わせ、データの個数で割ったものを**分散**$\\sigma^2$とよぶ。そして、分散の平方根を**標準偏差**$\\sigma$とよぶ。\n",
        "\n",
        "$$\n",
        "\\sigma^2 = \\frac{1}{n}\\sum_{i=1}^n (x_i - \\mu)^2\n",
        "$$\n",
        "\n",
        "$$\n",
        "\\sigma = \\sqrt{\\sigma^2}\n",
        "$$\n",
        "\n",
        "正確には、分散には**標本分散**と**不偏分散**とがある。偏差の2乗和をデータの個数で割るものが標本分散、「データの個数-1」で割るものが不偏分散である。標本分散と不偏分散の違いは、[高校数学の美しい物語「不偏標本分散の意味とn-1で割ることの証明」](https://manabitimes.jp/math/1035)を参照。\n",
        "\n",
        "numpyの[var](https://numpy.org/doc/stable/reference/generated/numpy.var.html)関数は標本分散、DataFrameやSeriesの[var](https://pandas.pydata.org/docs/reference/api/pandas.DataFrame.var.html)メソッドは不偏分散を計算する。"
      ]
    },
    {
      "cell_type": "code",
      "execution_count": 10,
      "metadata": {
        "colab": {
          "base_uri": "https://localhost:8080/"
        },
        "id": "_sni6OkvfbbL",
        "outputId": "544bd3ee-6adb-46bb-ab89-6567d80794bc"
      },
      "outputs": [
        {
          "output_type": "execute_result",
          "data": {
            "text/plain": [
              "564.210"
            ]
          },
          "metadata": {},
          "execution_count": 10
        }
      ],
      "source": [
        "np.var(scores)"
      ]
    },
    {
      "cell_type": "code",
      "execution_count": 11,
      "metadata": {
        "colab": {
          "base_uri": "https://localhost:8080/"
        },
        "id": "2IjVEMIwmo4W",
        "outputId": "f6767fa9-c4fb-45ff-8de7-c7eae1223598"
      },
      "outputs": [
        {
          "output_type": "execute_result",
          "data": {
            "text/plain": [
              "626.900"
            ]
          },
          "metadata": {},
          "execution_count": 11
        }
      ],
      "source": [
        "# 不偏分散を計算。標本分散を求めたいときはvarメソッドの引数でddof=0とする\n",
        "scores_df.var()[0]"
      ]
    },
    {
      "cell_type": "markdown",
      "metadata": {
        "id": "i7kqZOF4PK0r"
      },
      "source": [
        "標準偏差の計算は、numpyでは[std](https://numpy.org/doc/stable/reference/generated/numpy.std.html)関数、DataFrameやSeriesでは[std](https://pandas.pydata.org/docs/reference/api/pandas.DataFrame.std.html)メソッドを用いる。"
      ]
    },
    {
      "cell_type": "code",
      "execution_count": 12,
      "metadata": {
        "colab": {
          "base_uri": "https://localhost:8080/"
        },
        "id": "W_8AaGAfmpPU",
        "outputId": "4dae5bc3-2acb-4426-d22a-a6af81d9d610"
      },
      "outputs": [
        {
          "output_type": "execute_result",
          "data": {
            "text/plain": [
              "23.753"
            ]
          },
          "metadata": {},
          "execution_count": 12
        }
      ],
      "source": [
        "np.std(scores)"
      ]
    },
    {
      "cell_type": "code",
      "execution_count": 13,
      "metadata": {
        "colab": {
          "base_uri": "https://localhost:8080/"
        },
        "id": "BZGRUMBampWM",
        "outputId": "7857cc83-cecb-4108-ab3c-6c8b2c527575"
      },
      "outputs": [
        {
          "output_type": "execute_result",
          "data": {
            "text/plain": [
              "25.038"
            ]
          },
          "metadata": {},
          "execution_count": 13
        }
      ],
      "source": [
        "scores_df.std()[0]"
      ]
    },
    {
      "cell_type": "markdown",
      "metadata": {
        "id": "hLNltN-ClMhu"
      },
      "source": [
        "### 範囲と四分位範囲\n",
        "\n",
        "データの広がりは、最大値と最小値によって示すこともできるが、この場合は外れ値の影響が大きい。おおよそのデータの広がりを把握する方法として、データの下位25%、50%、75%に位置する値をそれぞれ第1四分位点Q1、第2四分位点Q2、第3四分位点Q3とよび、$Q3-Q1$を四分位範囲IQRとよぶ。第2四分位点は中央値であるので、IQRは中央値に対するばらつきの程度を表す値と解釈することができる。"
      ]
    },
    {
      "cell_type": "markdown",
      "metadata": {
        "id": "TkMFep0xxbgc"
      },
      "source": [
        "DataFrameやSeriesには[describe](https://pandas.pydata.org/docs/reference/api/pandas.DataFrame.describe.html)メソッドがあり、これまで説明した指標をすべて計算して表示することができる。"
      ]
    },
    {
      "cell_type": "code",
      "execution_count": 14,
      "metadata": {
        "colab": {
          "base_uri": "https://localhost:8080/",
          "height": 261
        },
        "id": "Ao-kTlwTlMoV",
        "outputId": "04a005d5-3ece-450a-a9f0-7c5f4b8ab716"
      },
      "outputs": [
        {
          "output_type": "execute_result",
          "data": {
            "text/plain": [
              "        Score\n",
              "count  10.000\n",
              "mean   46.700\n",
              "std    25.038\n",
              "min    12.000\n",
              "25%    31.000\n",
              "50%    46.000\n",
              "75%    66.000\n",
              "max    86.000"
            ],
            "text/html": [
              "\n",
              "  <div id=\"df-895fc23b-e09e-46e9-8aa9-f75197265251\">\n",
              "    <div class=\"colab-df-container\">\n",
              "      <div>\n",
              "<style scoped>\n",
              "    .dataframe tbody tr th:only-of-type {\n",
              "        vertical-align: middle;\n",
              "    }\n",
              "\n",
              "    .dataframe tbody tr th {\n",
              "        vertical-align: top;\n",
              "    }\n",
              "\n",
              "    .dataframe thead th {\n",
              "        text-align: right;\n",
              "    }\n",
              "</style>\n",
              "<table border=\"1\" class=\"dataframe\">\n",
              "  <thead>\n",
              "    <tr style=\"text-align: right;\">\n",
              "      <th></th>\n",
              "      <th>Score</th>\n",
              "    </tr>\n",
              "  </thead>\n",
              "  <tbody>\n",
              "    <tr>\n",
              "      <th>count</th>\n",
              "      <td>10.000</td>\n",
              "    </tr>\n",
              "    <tr>\n",
              "      <th>mean</th>\n",
              "      <td>46.700</td>\n",
              "    </tr>\n",
              "    <tr>\n",
              "      <th>std</th>\n",
              "      <td>25.038</td>\n",
              "    </tr>\n",
              "    <tr>\n",
              "      <th>min</th>\n",
              "      <td>12.000</td>\n",
              "    </tr>\n",
              "    <tr>\n",
              "      <th>25%</th>\n",
              "      <td>31.000</td>\n",
              "    </tr>\n",
              "    <tr>\n",
              "      <th>50%</th>\n",
              "      <td>46.000</td>\n",
              "    </tr>\n",
              "    <tr>\n",
              "      <th>75%</th>\n",
              "      <td>66.000</td>\n",
              "    </tr>\n",
              "    <tr>\n",
              "      <th>max</th>\n",
              "      <td>86.000</td>\n",
              "    </tr>\n",
              "  </tbody>\n",
              "</table>\n",
              "</div>\n",
              "      <button class=\"colab-df-convert\" onclick=\"convertToInteractive('df-895fc23b-e09e-46e9-8aa9-f75197265251')\"\n",
              "              title=\"Convert this dataframe to an interactive table.\"\n",
              "              style=\"display:none;\">\n",
              "        \n",
              "  <svg xmlns=\"http://www.w3.org/2000/svg\" height=\"24px\"viewBox=\"0 0 24 24\"\n",
              "       width=\"24px\">\n",
              "    <path d=\"M0 0h24v24H0V0z\" fill=\"none\"/>\n",
              "    <path d=\"M18.56 5.44l.94 2.06.94-2.06 2.06-.94-2.06-.94-.94-2.06-.94 2.06-2.06.94zm-11 1L8.5 8.5l.94-2.06 2.06-.94-2.06-.94L8.5 2.5l-.94 2.06-2.06.94zm10 10l.94 2.06.94-2.06 2.06-.94-2.06-.94-.94-2.06-.94 2.06-2.06.94z\"/><path d=\"M17.41 7.96l-1.37-1.37c-.4-.4-.92-.59-1.43-.59-.52 0-1.04.2-1.43.59L10.3 9.45l-7.72 7.72c-.78.78-.78 2.05 0 2.83L4 21.41c.39.39.9.59 1.41.59.51 0 1.02-.2 1.41-.59l7.78-7.78 2.81-2.81c.8-.78.8-2.07 0-2.86zM5.41 20L4 18.59l7.72-7.72 1.47 1.35L5.41 20z\"/>\n",
              "  </svg>\n",
              "      </button>\n",
              "      \n",
              "  <style>\n",
              "    .colab-df-container {\n",
              "      display:flex;\n",
              "      flex-wrap:wrap;\n",
              "      gap: 12px;\n",
              "    }\n",
              "\n",
              "    .colab-df-convert {\n",
              "      background-color: #E8F0FE;\n",
              "      border: none;\n",
              "      border-radius: 50%;\n",
              "      cursor: pointer;\n",
              "      display: none;\n",
              "      fill: #1967D2;\n",
              "      height: 32px;\n",
              "      padding: 0 0 0 0;\n",
              "      width: 32px;\n",
              "    }\n",
              "\n",
              "    .colab-df-convert:hover {\n",
              "      background-color: #E2EBFA;\n",
              "      box-shadow: 0px 1px 2px rgba(60, 64, 67, 0.3), 0px 1px 3px 1px rgba(60, 64, 67, 0.15);\n",
              "      fill: #174EA6;\n",
              "    }\n",
              "\n",
              "    [theme=dark] .colab-df-convert {\n",
              "      background-color: #3B4455;\n",
              "      fill: #D2E3FC;\n",
              "    }\n",
              "\n",
              "    [theme=dark] .colab-df-convert:hover {\n",
              "      background-color: #434B5C;\n",
              "      box-shadow: 0px 1px 3px 1px rgba(0, 0, 0, 0.15);\n",
              "      filter: drop-shadow(0px 1px 2px rgba(0, 0, 0, 0.3));\n",
              "      fill: #FFFFFF;\n",
              "    }\n",
              "  </style>\n",
              "\n",
              "      <script>\n",
              "        const buttonEl =\n",
              "          document.querySelector('#df-895fc23b-e09e-46e9-8aa9-f75197265251 button.colab-df-convert');\n",
              "        buttonEl.style.display =\n",
              "          google.colab.kernel.accessAllowed ? 'block' : 'none';\n",
              "\n",
              "        async function convertToInteractive(key) {\n",
              "          const element = document.querySelector('#df-895fc23b-e09e-46e9-8aa9-f75197265251');\n",
              "          const dataTable =\n",
              "            await google.colab.kernel.invokeFunction('convertToInteractive',\n",
              "                                                     [key], {});\n",
              "          if (!dataTable) return;\n",
              "\n",
              "          const docLinkHtml = 'Like what you see? Visit the ' +\n",
              "            '<a target=\"_blank\" href=https://colab.research.google.com/notebooks/data_table.ipynb>data table notebook</a>'\n",
              "            + ' to learn more about interactive tables.';\n",
              "          element.innerHTML = '';\n",
              "          dataTable['output_type'] = 'display_data';\n",
              "          await google.colab.output.renderOutput(dataTable, element);\n",
              "          const docLink = document.createElement('div');\n",
              "          docLink.innerHTML = docLinkHtml;\n",
              "          element.appendChild(docLink);\n",
              "        }\n",
              "      </script>\n",
              "    </div>\n",
              "  </div>\n",
              "  "
            ],
            "application/vnd.google.colaboratory.module+javascript": "\n      import \"https://ssl.gstatic.com/colaboratory/data_table/f872b2c2305463fd/data_table.js\";\n\n      window.createDataTable({\n        data: [[\"count\",\n{\n            'v': 10.0,\n            'f': \"10.0\",\n        }],\n [\"mean\",\n{\n            'v': 46.7,\n            'f': \"46.7\",\n        }],\n [\"std\",\n{\n            'v': 25.037971163814372,\n            'f': \"25.037971163814372\",\n        }],\n [\"min\",\n{\n            'v': 12.0,\n            'f': \"12.0\",\n        }],\n [\"25%\",\n{\n            'v': 31.0,\n            'f': \"31.0\",\n        }],\n [\"50%\",\n{\n            'v': 46.0,\n            'f': \"46.0\",\n        }],\n [\"75%\",\n{\n            'v': 66.0,\n            'f': \"66.0\",\n        }],\n [\"max\",\n{\n            'v': 86.0,\n            'f': \"86.0\",\n        }]],\n        columns: [[\"string\", \"index\"], [\"number\", \"Score\"]],\n        columnOptions: [{\"width\": \"1px\", \"className\": \"index_column\"}],\n        rowsPerPage: 25,\n        helpUrl: \"https://colab.research.google.com/notebooks/data_table.ipynb\",\n        suppressOutputScrolling: true,\n        minimumWidth: undefined,\n      });\n    "
          },
          "metadata": {},
          "execution_count": 14
        }
      ],
      "source": [
        "scores_df.describe()"
      ]
    },
    {
      "cell_type": "markdown",
      "metadata": {
        "id": "FEYGJRcklMvU"
      },
      "source": [
        "## データの正規化"
      ]
    },
    {
      "cell_type": "markdown",
      "metadata": {
        "id": "WgrGEILnygdC"
      },
      "source": [
        "データの個々の値の意味は、平均値や分散によって異なる。たとえば平均点が20点のテストで70点を取ったときと、平均点が90点のテストで70点を取ったときでは、その意味が異なる。異なった環境のデータを比較するときは、それぞれの環境での相対的な位置関係が把握できるとよい。データに対して平均や分散の影響を取り除いて統一的な指標に変換することを**正規化**とよぶ。"
      ]
    },
    {
      "cell_type": "markdown",
      "metadata": {
        "id": "cfVcPx5HznOC"
      },
      "source": [
        "### 標準化\n",
        "\n",
        "正規化のなかでも、データを平均0、分散1に変換することを**標準化**とよぶ。標準化は個々のデータから平均値を引き、標準偏差で割る処理を行う。標準化されたデータをZスコアとよぶ。\n",
        "\n",
        "$$\n",
        "z_i = \\frac{x_i - \\mu}{\\sigma}\n",
        "$$"
      ]
    },
    {
      "cell_type": "code",
      "execution_count": 15,
      "metadata": {
        "colab": {
          "base_uri": "https://localhost:8080/"
        },
        "id": "ksWwIVBRlM1k",
        "outputId": "3fc55b5d-7d17-4d73-e1f9-4c983a0c2875"
      },
      "outputs": [
        {
          "output_type": "execute_result",
          "data": {
            "text/plain": [
              "array([ 0.56 , -1.461, -0.114, -1.377,  1.107,  0.897, -0.661, -0.661,\n",
              "        0.055,  1.655])"
            ]
          },
          "metadata": {},
          "execution_count": 15
        }
      ],
      "source": [
        "z = (scores - np.mean(scores)) / np.std(scores)\n",
        "z"
      ]
    },
    {
      "cell_type": "code",
      "execution_count": 16,
      "metadata": {
        "colab": {
          "base_uri": "https://localhost:8080/"
        },
        "id": "D1Z1Z8Og0iag",
        "outputId": "3b6d5ae2-72dc-4d6e-9876-8bbb5bfcce2a"
      },
      "outputs": [
        {
          "output_type": "execute_result",
          "data": {
            "text/plain": [
              "(-0.000, 1.000)"
            ]
          },
          "metadata": {},
          "execution_count": 16
        }
      ],
      "source": [
        "# 平均0、分散1（=標準偏差1）を確認\n",
        "np.mean(z), np.std(z)"
      ]
    },
    {
      "cell_type": "markdown",
      "metadata": {
        "id": "riwtv0PXlM81"
      },
      "source": [
        "### 偏差値\n",
        "\n",
        "偏差値は、平均50、標準偏差10となるように正規化された値である。\n",
        "\n",
        "$$\n",
        "d = 50 + 10 \\times \\frac{x_i - \\mu}{\\sigma}\n",
        "$$\n"
      ]
    },
    {
      "cell_type": "code",
      "execution_count": 17,
      "metadata": {
        "colab": {
          "base_uri": "https://localhost:8080/"
        },
        "id": "SZn3gR7IlNEN",
        "outputId": "a32651a3-e386-419f-d1f3-cb18c356456a"
      },
      "outputs": [
        {
          "output_type": "execute_result",
          "data": {
            "text/plain": [
              "array([55.599, 35.391, 48.863, 36.233, 61.072, 58.967, 43.39 , 43.39 ,\n",
              "       50.547, 66.545])"
            ]
          },
          "metadata": {},
          "execution_count": 17
        }
      ],
      "source": [
        "d = 50 + 10 * (scores - np.mean(scores)) / np.std(scores)\n",
        "d"
      ]
    },
    {
      "cell_type": "markdown",
      "metadata": {
        "id": "iMOg1DJZ2Xl2"
      },
      "source": [
        "## 1次元データの可視化"
      ]
    },
    {
      "cell_type": "markdown",
      "metadata": {
        "id": "hdH-zA6f2YSm"
      },
      "source": [
        "### 度数分布\n",
        "\n",
        "量的データにおいて、どのぐらいの値がどのぐらいの頻度で出現するのかを分析するには、**度数分布表**を作成する。これは、データの値をいくつかの区間に分けて、各区間に含まれるデータの数を表の形式で示したものである。区間のことを階級、各階級に属しているデータ数を度数とよぶ。度数は[np.histogram](https://numpy.org/doc/stable/reference/generated/numpy.histogram.html)を用い、階級数を引数binsで、範囲を引数rangeで指定することで求めることができる。\n",
        "\n"
      ]
    },
    {
      "cell_type": "code",
      "execution_count": 18,
      "metadata": {
        "colab": {
          "base_uri": "https://localhost:8080/"
        },
        "id": "Ct9O-H0WtM_7",
        "outputId": "214d7d27-bb13-4c00-adb5-6dad47d785a1"
      },
      "outputs": [
        {
          "output_type": "execute_result",
          "data": {
            "text/plain": [
              "(array([0, 2, 0, 2, 2, 0, 2, 1, 1, 0]),\n",
              " array([  0.,  10.,  20.,  30.,  40.,  50.,  60.,  70.,  80.,  90., 100.]))"
            ]
          },
          "metadata": {},
          "execution_count": 18
        }
      ],
      "source": [
        "np.histogram(scores, bins=10, range=(0,100))"
      ]
    },
    {
      "cell_type": "markdown",
      "metadata": {
        "id": "0ukGZPJrtOiK"
      },
      "source": [
        "度数を棒グラフで表したものを**ヒストグラム**とよぶ。ヒストグラムの表示はDataFrameやSeriesの[hist](https://pandas.pydata.org/docs/reference/api/pandas.DataFrame.hist.html)メソッドを用いる。"
      ]
    },
    {
      "cell_type": "code",
      "execution_count": 19,
      "metadata": {
        "colab": {
          "base_uri": "https://localhost:8080/",
          "height": 317
        },
        "id": "ThHyi3eE1Yul",
        "outputId": "2b37f9d7-40e7-4f90-e34c-d15fa19038db"
      },
      "outputs": [
        {
          "output_type": "execute_result",
          "data": {
            "text/plain": [
              "array([[<matplotlib.axes._subplots.AxesSubplot object at 0x7f57fb28db90>]],\n",
              "      dtype=object)"
            ]
          },
          "metadata": {},
          "execution_count": 19
        },
        {
          "output_type": "display_data",
          "data": {
            "text/plain": [
              "<Figure size 432x288 with 1 Axes>"
            ],
            "image/png": "[encoded data removed]"
          },
          "metadata": {
            "needs_background": "light"
          }
        }
      ],
      "source": [
        "scores_df.hist(bins=10, range=(0,100))"
      ]
    },
    {
      "cell_type": "markdown",
      "metadata": {
        "id": "i3vQE9kVsetL"
      },
      "source": [
        "### 四分位範囲\n",
        "\n",
        "四分位範囲は箱ひげ図で可視化する。箱の下辺がQ1、上辺がQ3、横線がQ2(=中央値)を示し、上下に延びたひげの端はQ1,Q3からそれぞれ$1.5 \\times IQR$ 離れた値を示す。一般にこのひげの範囲の外側の値を外れ値として扱う。なお、データの最大値・最小値がこのひげの範囲内に収まる場合は、ひげの上下端がそれぞれ最大値・最小値を示す。\n",
        "\n",
        "箱ひげ図の表示はDataFrameの[boxplot](https://pandas.pydata.org/docs/reference/api/pandas.DataFrame.boxplot.html)メソッドを用いる。"
      ]
    },
    {
      "cell_type": "code",
      "execution_count": 20,
      "metadata": {
        "colab": {
          "base_uri": "https://localhost:8080/",
          "height": 283
        },
        "id": "iYtEXqM9se4a",
        "outputId": "965b1a24-50b5-4801-cd2e-084605617943"
      },
      "outputs": [
        {
          "output_type": "execute_result",
          "data": {
            "text/plain": [
              "<matplotlib.axes._subplots.AxesSubplot at 0x7f57fb1fb950>"
            ]
          },
          "metadata": {},
          "execution_count": 20
        },
        {
          "output_type": "display_data",
          "data": {
            "text/plain": [
              "<Figure size 432x288 with 1 Axes>"
            ],
            "image/png": "[encoded data removed]"
          },
          "metadata": {
            "needs_background": "light"
          }
        }
      ],
      "source": [
        "scores_df.boxplot()"
      ]
    },
    {
      "cell_type": "markdown",
      "metadata": {
        "id": "u6GSnGY8xA_v"
      },
      "source": [
        "# 2次元データ"
      ]
    },
    {
      "cell_type": "markdown",
      "metadata": {
        "id": "0iAUyT1OxEnf"
      },
      "source": [
        "2次元データを用いて、その関係性を分析する。\n",
        "\n",
        "サンプルデータとして、10人分の英語と数学の点数をランダムで生成したものを用いる。"
      ]
    },
    {
      "cell_type": "code",
      "execution_count": 21,
      "metadata": {
        "colab": {
          "base_uri": "https://localhost:8080/",
          "height": 304
        },
        "id": "9sSwww51wiOJ",
        "outputId": "f0a1cdd2-9e94-4cca-f779-e05fd165dcd2"
      },
      "outputs": [
        {
          "output_type": "execute_result",
          "data": {
            "text/plain": [
              "      Eng  Math\n",
              "name           \n",
              "A      87    67\n",
              "B      37    76\n",
              "C      44    90\n",
              "D      32    99\n",
              "E       2    72\n",
              "F      75    22\n",
              "G      30    83\n",
              "H      58    37\n",
              "I       3    31\n",
              "J      15     2"
            ],
            "text/html": [
              "\n",
              "  <div id=\"df-fecce84c-9582-4917-939d-6263dbe036eb\">\n",
              "    <div class=\"colab-df-container\">\n",
              "      <div>\n",
              "<style scoped>\n",
              "    .dataframe tbody tr th:only-of-type {\n",
              "        vertical-align: middle;\n",
              "    }\n",
              "\n",
              "    .dataframe tbody tr th {\n",
              "        vertical-align: top;\n",
              "    }\n",
              "\n",
              "    .dataframe thead th {\n",
              "        text-align: right;\n",
              "    }\n",
              "</style>\n",
              "<table border=\"1\" class=\"dataframe\">\n",
              "  <thead>\n",
              "    <tr style=\"text-align: right;\">\n",
              "      <th></th>\n",
              "      <th>Eng</th>\n",
              "      <th>Math</th>\n",
              "    </tr>\n",
              "    <tr>\n",
              "      <th>name</th>\n",
              "      <th></th>\n",
              "      <th></th>\n",
              "    </tr>\n",
              "  </thead>\n",
              "  <tbody>\n",
              "    <tr>\n",
              "      <th>A</th>\n",
              "      <td>87</td>\n",
              "      <td>67</td>\n",
              "    </tr>\n",
              "    <tr>\n",
              "      <th>B</th>\n",
              "      <td>37</td>\n",
              "      <td>76</td>\n",
              "    </tr>\n",
              "    <tr>\n",
              "      <th>C</th>\n",
              "      <td>44</td>\n",
              "      <td>90</td>\n",
              "    </tr>\n",
              "    <tr>\n",
              "      <th>D</th>\n",
              "      <td>32</td>\n",
              "      <td>99</td>\n",
              "    </tr>\n",
              "    <tr>\n",
              "      <th>E</th>\n",
              "      <td>2</td>\n",
              "      <td>72</td>\n",
              "    </tr>\n",
              "    <tr>\n",
              "      <th>F</th>\n",
              "      <td>75</td>\n",
              "      <td>22</td>\n",
              "    </tr>\n",
              "    <tr>\n",
              "      <th>G</th>\n",
              "      <td>30</td>\n",
              "      <td>83</td>\n",
              "    </tr>\n",
              "    <tr>\n",
              "      <th>H</th>\n",
              "      <td>58</td>\n",
              "      <td>37</td>\n",
              "    </tr>\n",
              "    <tr>\n",
              "      <th>I</th>\n",
              "      <td>3</td>\n",
              "      <td>31</td>\n",
              "    </tr>\n",
              "    <tr>\n",
              "      <th>J</th>\n",
              "      <td>15</td>\n",
              "      <td>2</td>\n",
              "    </tr>\n",
              "  </tbody>\n",
              "</table>\n",
              "</div>\n",
              "      <button class=\"colab-df-convert\" onclick=\"convertToInteractive('df-fecce84c-9582-4917-939d-6263dbe036eb')\"\n",
              "              title=\"Convert this dataframe to an interactive table.\"\n",
              "              style=\"display:none;\">\n",
              "        \n",
              "  <svg xmlns=\"http://www.w3.org/2000/svg\" height=\"24px\"viewBox=\"0 0 24 24\"\n",
              "       width=\"24px\">\n",
              "    <path d=\"M0 0h24v24H0V0z\" fill=\"none\"/>\n",
              "    <path d=\"M18.56 5.44l.94 2.06.94-2.06 2.06-.94-2.06-.94-.94-2.06-.94 2.06-2.06.94zm-11 1L8.5 8.5l.94-2.06 2.06-.94-2.06-.94L8.5 2.5l-.94 2.06-2.06.94zm10 10l.94 2.06.94-2.06 2.06-.94-2.06-.94-.94-2.06-.94 2.06-2.06.94z\"/><path d=\"M17.41 7.96l-1.37-1.37c-.4-.4-.92-.59-1.43-.59-.52 0-1.04.2-1.43.59L10.3 9.45l-7.72 7.72c-.78.78-.78 2.05 0 2.83L4 21.41c.39.39.9.59 1.41.59.51 0 1.02-.2 1.41-.59l7.78-7.78 2.81-2.81c.8-.78.8-2.07 0-2.86zM5.41 20L4 18.59l7.72-7.72 1.47 1.35L5.41 20z\"/>\n",
              "  </svg>\n",
              "      </button>\n",
              "      \n",
              "  <style>\n",
              "    .colab-df-container {\n",
              "      display:flex;\n",
              "      flex-wrap:wrap;\n",
              "      gap: 12px;\n",
              "    }\n",
              "\n",
              "    .colab-df-convert {\n",
              "      background-color: #E8F0FE;\n",
              "      border: none;\n",
              "      border-radius: 50%;\n",
              "      cursor: pointer;\n",
              "      display: none;\n",
              "      fill: #1967D2;\n",
              "      height: 32px;\n",
              "      padding: 0 0 0 0;\n",
              "      width: 32px;\n",
              "    }\n",
              "\n",
              "    .colab-df-convert:hover {\n",
              "      background-color: #E2EBFA;\n",
              "      box-shadow: 0px 1px 2px rgba(60, 64, 67, 0.3), 0px 1px 3px 1px rgba(60, 64, 67, 0.15);\n",
              "      fill: #174EA6;\n",
              "    }\n",
              "\n",
              "    [theme=dark] .colab-df-convert {\n",
              "      background-color: #3B4455;\n",
              "      fill: #D2E3FC;\n",
              "    }\n",
              "\n",
              "    [theme=dark] .colab-df-convert:hover {\n",
              "      background-color: #434B5C;\n",
              "      box-shadow: 0px 1px 3px 1px rgba(0, 0, 0, 0.15);\n",
              "      filter: drop-shadow(0px 1px 2px rgba(0, 0, 0, 0.3));\n",
              "      fill: #FFFFFF;\n",
              "    }\n",
              "  </style>\n",
              "\n",
              "      <script>\n",
              "        const buttonEl =\n",
              "          document.querySelector('#df-fecce84c-9582-4917-939d-6263dbe036eb button.colab-df-convert');\n",
              "        buttonEl.style.display =\n",
              "          google.colab.kernel.accessAllowed ? 'block' : 'none';\n",
              "\n",
              "        async function convertToInteractive(key) {\n",
              "          const element = document.querySelector('#df-fecce84c-9582-4917-939d-6263dbe036eb');\n",
              "          const dataTable =\n",
              "            await google.colab.kernel.invokeFunction('convertToInteractive',\n",
              "                                                     [key], {});\n",
              "          if (!dataTable) return;\n",
              "\n",
              "          const docLinkHtml = 'Like what you see? Visit the ' +\n",
              "            '<a target=\"_blank\" href=https://colab.research.google.com/notebooks/data_table.ipynb>data table notebook</a>'\n",
              "            + ' to learn more about interactive tables.';\n",
              "          element.innerHTML = '';\n",
              "          dataTable['output_type'] = 'display_data';\n",
              "          await google.colab.output.renderOutput(dataTable, element);\n",
              "          const docLink = document.createElement('div');\n",
              "          docLink.innerHTML = docLinkHtml;\n",
              "          element.appendChild(docLink);\n",
              "        }\n",
              "      </script>\n",
              "    </div>\n",
              "  </div>\n",
              "  "
            ],
            "application/vnd.google.colaboratory.module+javascript": "\n      import \"https://ssl.gstatic.com/colaboratory/data_table/f872b2c2305463fd/data_table.js\";\n\n      window.createDataTable({\n        data: [[\"A\",\n{\n            'v': 87,\n            'f': \"87\",\n        },\n{\n            'v': 67,\n            'f': \"67\",\n        }],\n [\"B\",\n{\n            'v': 37,\n            'f': \"37\",\n        },\n{\n            'v': 76,\n            'f': \"76\",\n        }],\n [\"C\",\n{\n            'v': 44,\n            'f': \"44\",\n        },\n{\n            'v': 90,\n            'f': \"90\",\n        }],\n [\"D\",\n{\n            'v': 32,\n            'f': \"32\",\n        },\n{\n            'v': 99,\n            'f': \"99\",\n        }],\n [\"E\",\n{\n            'v': 2,\n            'f': \"2\",\n        },\n{\n            'v': 72,\n            'f': \"72\",\n        }],\n [\"F\",\n{\n            'v': 75,\n            'f': \"75\",\n        },\n{\n            'v': 22,\n            'f': \"22\",\n        }],\n [\"G\",\n{\n            'v': 30,\n            'f': \"30\",\n        },\n{\n            'v': 83,\n            'f': \"83\",\n        }],\n [\"H\",\n{\n            'v': 58,\n            'f': \"58\",\n        },\n{\n            'v': 37,\n            'f': \"37\",\n        }],\n [\"I\",\n{\n            'v': 3,\n            'f': \"3\",\n        },\n{\n            'v': 31,\n            'f': \"31\",\n        }],\n [\"J\",\n{\n            'v': 15,\n            'f': \"15\",\n        },\n{\n            'v': 2,\n            'f': \"2\",\n        }]],\n        columns: [[\"string\", \"name\"], [\"number\", \"Eng\"], [\"number\", \"Math\"]],\n        columnOptions: [{\"width\": \"1px\", \"className\": \"index_column\"}],\n        rowsPerPage: 25,\n        helpUrl: \"https://colab.research.google.com/notebooks/data_table.ipynb\",\n        suppressOutputScrolling: true,\n        minimumWidth: undefined,\n      });\n    "
          },
          "metadata": {},
          "execution_count": 21
        }
      ],
      "source": [
        "en_scores = np.random.randint(0,100,10)\n",
        "ma_scores = np.random.randint(0,100,10)\n",
        "scores_df = pd.DataFrame({'Eng':en_scores, 'Math':ma_scores}, index=pd.Index(['A','B','C','D','E','F','G','H','I','J'], name='name'))\n",
        "scores_df"
      ]
    },
    {
      "cell_type": "markdown",
      "metadata": {
        "id": "RFtq6Lo6xFMu"
      },
      "source": [
        "## 2つのデータの関係性の指標\n",
        "\n",
        "2つのデータの相関を分析する。\n",
        "\n",
        "ここでは説明の都合上、まず可視化の方法を示す。2次元データの可視化には散布図を用いることができる。\n",
        "\n",
        "散布図はDataFrameの[plot.scatter](https://pandas.pydata.org/docs/reference/api/pandas.DataFrame.plot.scatter.html)メソッドで表示することができる。"
      ]
    },
    {
      "cell_type": "code",
      "execution_count": 22,
      "metadata": {
        "colab": {
          "base_uri": "https://localhost:8080/",
          "height": 296
        },
        "id": "jIqSCqClxFWO",
        "outputId": "15933a90-991e-40cc-8f71-9695fd873fcb"
      },
      "outputs": [
        {
          "output_type": "execute_result",
          "data": {
            "text/plain": [
              "<matplotlib.axes._subplots.AxesSubplot at 0x7f57facd3dd0>"
            ]
          },
          "metadata": {},
          "execution_count": 22
        },
        {
          "output_type": "display_data",
          "data": {
            "text/plain": [
              "<Figure size 432x288 with 1 Axes>"
            ],
            "image/png": "[encoded data removed]"
          },
          "metadata": {
            "needs_background": "light"
          }
        }
      ],
      "source": [
        "scores_df.plot.scatter(x='Eng', y='Math')"
      ]
    },
    {
      "cell_type": "code",
      "execution_count": 23,
      "metadata": {
        "colab": {
          "base_uri": "https://localhost:8080/",
          "height": 261
        },
        "id": "LBdy2c1n2GIU",
        "outputId": "694c3346-a51b-4474-87a7-2aaacf746dd1"
      },
      "outputs": [
        {
          "output_type": "execute_result",
          "data": {
            "text/plain": [
              "          Eng    Math\n",
              "count  10.000  10.000\n",
              "mean   38.300  57.900\n",
              "std    28.589  32.546\n",
              "min     2.000   2.000\n",
              "25%    18.750  32.500\n",
              "50%    34.500  69.500\n",
              "75%    54.500  81.250\n",
              "max    87.000  99.000"
            ],
            "text/html": [
              "\n",
              "  <div id=\"df-7ff6028a-c13c-4686-be2c-466077ca0deb\">\n",
              "    <div class=\"colab-df-container\">\n",
              "      <div>\n",
              "<style scoped>\n",
              "    .dataframe tbody tr th:only-of-type {\n",
              "        vertical-align: middle;\n",
              "    }\n",
              "\n",
              "    .dataframe tbody tr th {\n",
              "        vertical-align: top;\n",
              "    }\n",
              "\n",
              "    .dataframe thead th {\n",
              "        text-align: right;\n",
              "    }\n",
              "</style>\n",
              "<table border=\"1\" class=\"dataframe\">\n",
              "  <thead>\n",
              "    <tr style=\"text-align: right;\">\n",
              "      <th></th>\n",
              "      <th>Eng</th>\n",
              "      <th>Math</th>\n",
              "    </tr>\n",
              "  </thead>\n",
              "  <tbody>\n",
              "    <tr>\n",
              "      <th>count</th>\n",
              "      <td>10.000</td>\n",
              "      <td>10.000</td>\n",
              "    </tr>\n",
              "    <tr>\n",
              "      <th>mean</th>\n",
              "      <td>38.300</td>\n",
              "      <td>57.900</td>\n",
              "    </tr>\n",
              "    <tr>\n",
              "      <th>std</th>\n",
              "      <td>28.589</td>\n",
              "      <td>32.546</td>\n",
              "    </tr>\n",
              "    <tr>\n",
              "      <th>min</th>\n",
              "      <td>2.000</td>\n",
              "      <td>2.000</td>\n",
              "    </tr>\n",
              "    <tr>\n",
              "      <th>25%</th>\n",
              "      <td>18.750</td>\n",
              "      <td>32.500</td>\n",
              "    </tr>\n",
              "    <tr>\n",
              "      <th>50%</th>\n",
              "      <td>34.500</td>\n",
              "      <td>69.500</td>\n",
              "    </tr>\n",
              "    <tr>\n",
              "      <th>75%</th>\n",
              "      <td>54.500</td>\n",
              "      <td>81.250</td>\n",
              "    </tr>\n",
              "    <tr>\n",
              "      <th>max</th>\n",
              "      <td>87.000</td>\n",
              "      <td>99.000</td>\n",
              "    </tr>\n",
              "  </tbody>\n",
              "</table>\n",
              "</div>\n",
              "      <button class=\"colab-df-convert\" onclick=\"convertToInteractive('df-7ff6028a-c13c-4686-be2c-466077ca0deb')\"\n",
              "              title=\"Convert this dataframe to an interactive table.\"\n",
              "              style=\"display:none;\">\n",
              "        \n",
              "  <svg xmlns=\"http://www.w3.org/2000/svg\" height=\"24px\"viewBox=\"0 0 24 24\"\n",
              "       width=\"24px\">\n",
              "    <path d=\"M0 0h24v24H0V0z\" fill=\"none\"/>\n",
              "    <path d=\"M18.56 5.44l.94 2.06.94-2.06 2.06-.94-2.06-.94-.94-2.06-.94 2.06-2.06.94zm-11 1L8.5 8.5l.94-2.06 2.06-.94-2.06-.94L8.5 2.5l-.94 2.06-2.06.94zm10 10l.94 2.06.94-2.06 2.06-.94-2.06-.94-.94-2.06-.94 2.06-2.06.94z\"/><path d=\"M17.41 7.96l-1.37-1.37c-.4-.4-.92-.59-1.43-.59-.52 0-1.04.2-1.43.59L10.3 9.45l-7.72 7.72c-.78.78-.78 2.05 0 2.83L4 21.41c.39.39.9.59 1.41.59.51 0 1.02-.2 1.41-.59l7.78-7.78 2.81-2.81c.8-.78.8-2.07 0-2.86zM5.41 20L4 18.59l7.72-7.72 1.47 1.35L5.41 20z\"/>\n",
              "  </svg>\n",
              "      </button>\n",
              "      \n",
              "  <style>\n",
              "    .colab-df-container {\n",
              "      display:flex;\n",
              "      flex-wrap:wrap;\n",
              "      gap: 12px;\n",
              "    }\n",
              "\n",
              "    .colab-df-convert {\n",
              "      background-color: #E8F0FE;\n",
              "      border: none;\n",
              "      border-radius: 50%;\n",
              "      cursor: pointer;\n",
              "      display: none;\n",
              "      fill: #1967D2;\n",
              "      height: 32px;\n",
              "      padding: 0 0 0 0;\n",
              "      width: 32px;\n",
              "    }\n",
              "\n",
              "    .colab-df-convert:hover {\n",
              "      background-color: #E2EBFA;\n",
              "      box-shadow: 0px 1px 2px rgba(60, 64, 67, 0.3), 0px 1px 3px 1px rgba(60, 64, 67, 0.15);\n",
              "      fill: #174EA6;\n",
              "    }\n",
              "\n",
              "    [theme=dark] .colab-df-convert {\n",
              "      background-color: #3B4455;\n",
              "      fill: #D2E3FC;\n",
              "    }\n",
              "\n",
              "    [theme=dark] .colab-df-convert:hover {\n",
              "      background-color: #434B5C;\n",
              "      box-shadow: 0px 1px 3px 1px rgba(0, 0, 0, 0.15);\n",
              "      filter: drop-shadow(0px 1px 2px rgba(0, 0, 0, 0.3));\n",
              "      fill: #FFFFFF;\n",
              "    }\n",
              "  </style>\n",
              "\n",
              "      <script>\n",
              "        const buttonEl =\n",
              "          document.querySelector('#df-7ff6028a-c13c-4686-be2c-466077ca0deb button.colab-df-convert');\n",
              "        buttonEl.style.display =\n",
              "          google.colab.kernel.accessAllowed ? 'block' : 'none';\n",
              "\n",
              "        async function convertToInteractive(key) {\n",
              "          const element = document.querySelector('#df-7ff6028a-c13c-4686-be2c-466077ca0deb');\n",
              "          const dataTable =\n",
              "            await google.colab.kernel.invokeFunction('convertToInteractive',\n",
              "                                                     [key], {});\n",
              "          if (!dataTable) return;\n",
              "\n",
              "          const docLinkHtml = 'Like what you see? Visit the ' +\n",
              "            '<a target=\"_blank\" href=https://colab.research.google.com/notebooks/data_table.ipynb>data table notebook</a>'\n",
              "            + ' to learn more about interactive tables.';\n",
              "          element.innerHTML = '';\n",
              "          dataTable['output_type'] = 'display_data';\n",
              "          await google.colab.output.renderOutput(dataTable, element);\n",
              "          const docLink = document.createElement('div');\n",
              "          docLink.innerHTML = docLinkHtml;\n",
              "          element.appendChild(docLink);\n",
              "        }\n",
              "      </script>\n",
              "    </div>\n",
              "  </div>\n",
              "  "
            ],
            "application/vnd.google.colaboratory.module+javascript": "\n      import \"https://ssl.gstatic.com/colaboratory/data_table/f872b2c2305463fd/data_table.js\";\n\n      window.createDataTable({\n        data: [[\"count\",\n{\n            'v': 10.0,\n            'f': \"10.0\",\n        },\n{\n            'v': 10.0,\n            'f': \"10.0\",\n        }],\n [\"mean\",\n{\n            'v': 38.3,\n            'f': \"38.3\",\n        },\n{\n            'v': 57.9,\n            'f': \"57.9\",\n        }],\n [\"std\",\n{\n            'v': 28.589236513842835,\n            'f': \"28.589236513842835\",\n        },\n{\n            'v': 32.545523672405565,\n            'f': \"32.545523672405565\",\n        }],\n [\"min\",\n{\n            'v': 2.0,\n            'f': \"2.0\",\n        },\n{\n            'v': 2.0,\n            'f': \"2.0\",\n        }],\n [\"25%\",\n{\n            'v': 18.75,\n            'f': \"18.75\",\n        },\n{\n            'v': 32.5,\n            'f': \"32.5\",\n        }],\n [\"50%\",\n{\n            'v': 34.5,\n            'f': \"34.5\",\n        },\n{\n            'v': 69.5,\n            'f': \"69.5\",\n        }],\n [\"75%\",\n{\n            'v': 54.5,\n            'f': \"54.5\",\n        },\n{\n            'v': 81.25,\n            'f': \"81.25\",\n        }],\n [\"max\",\n{\n            'v': 87.0,\n            'f': \"87.0\",\n        },\n{\n            'v': 99.0,\n            'f': \"99.0\",\n        }]],\n        columns: [[\"string\", \"index\"], [\"number\", \"Eng\"], [\"number\", \"Math\"]],\n        columnOptions: [{\"width\": \"1px\", \"className\": \"index_column\"}],\n        rowsPerPage: 25,\n        helpUrl: \"https://colab.research.google.com/notebooks/data_table.ipynb\",\n        suppressOutputScrolling: true,\n        minimumWidth: undefined,\n      });\n    "
          },
          "metadata": {},
          "execution_count": 23
        }
      ],
      "source": [
        "scores_df.describe()"
      ]
    },
    {
      "cell_type": "markdown",
      "metadata": {
        "id": "vN7WkV4NxFdv"
      },
      "source": [
        "この散布図を、それぞれの軸の平均値を表す直線を用いて4分割したとき、右上と左下に入るデータは英語と数学の点数が同じ傾向を示すことを支持しており、左上と右下に入るデータは逆の傾向を支持している。つまりそれぞれの軸に対して平均値との差をとって掛け合わせたものが正になれば、同じ傾向を支持する値となり、負になれば逆の傾向を支持する値となる。それらを全体として足し合わせれば、データ全体が英語が高ければ数学も高いという傾向（正の相関）を示すのか、英語が高ければ数学が低いという傾向（負の相関）を示すのか、あるいはそれらは無関係（無相関）であるのかが判別できる。\n",
        "\n",
        "従って、変数xと変数yの**共分散**$\\sigma_{xy}$は以下の式で定義される。\n",
        "\n",
        "$$\n",
        "\\sigma_{xy} = \\frac{1}{n}\\sum_{i=1}^n (x_i - \\mu_x)(y_i - \\mu_y)\n",
        "$$"
      ]
    },
    {
      "cell_type": "markdown",
      "metadata": {
        "id": "URZx8HEH4wMx"
      },
      "source": [
        "これらの変数x,yを縦横に配置してそれぞれの共分散を表したものが**共分散行列**である。なお、同じ変数の共分散は分散となる。\n",
        "\n",
        "$$\n",
        "\\Sigma = \n",
        "\\begin{pmatrix}\n",
        "\\sigma_x^2 & \\sigma_{xy} \\\\\n",
        "\\sigma_{xy} & \\sigma_y^2 \\\\\n",
        "\\end{pmatrix}\n",
        "$$\n",
        "\n",
        "共分散行列は[np.cov](https://numpy.org/doc/stable/reference/generated/numpy.cov.html)関数で求めることができる。"
      ]
    },
    {
      "cell_type": "code",
      "execution_count": 24,
      "metadata": {
        "colab": {
          "base_uri": "https://localhost:8080/"
        },
        "id": "mMesJzF_4S8v",
        "outputId": "2c160d6b-e8fe-4cf0-b89a-b87bbdc0eb5a"
      },
      "outputs": [
        {
          "output_type": "execute_result",
          "data": {
            "text/plain": [
              "array([[735.61,  14.63],\n",
              "       [ 14.63, 953.29]])"
            ]
          },
          "metadata": {},
          "execution_count": 24
        }
      ],
      "source": [
        "np.cov(en_scores, ma_scores, ddof=0)"
      ]
    },
    {
      "cell_type": "markdown",
      "metadata": {
        "id": "CFYsUQMC5suP"
      },
      "source": [
        "それぞれの軸を標準化したときに得られる共分散が相関係数である。相関係数は-1から1の値をとる。\n",
        "\n",
        "相関行列は[np.corrcoef](https://numpy.org/doc/stable/reference/generated/numpy.corrcoef.html)関数で求めることができ、その非対角要素が相関係数である。"
      ]
    },
    {
      "cell_type": "code",
      "execution_count": 25,
      "metadata": {
        "colab": {
          "base_uri": "https://localhost:8080/"
        },
        "id": "LzKTOFzsxFl2",
        "outputId": "c3e6bc51-6b79-4280-c411-0032065603fa"
      },
      "outputs": [
        {
          "output_type": "execute_result",
          "data": {
            "text/plain": [
              "array([[1.   , 0.017],\n",
              "       [0.017, 1.   ]])"
            ]
          },
          "metadata": {},
          "execution_count": 25
        }
      ],
      "source": [
        "np.corrcoef(en_scores, ma_scores)"
      ]
    },
    {
      "cell_type": "markdown",
      "metadata": {
        "id": "8-RsJMklxFso"
      },
      "source": [
        "## 2次元データの可視化\n",
        "\n",
        "ここでは散布図以外の可視化の方法として回帰直線とヒートマップを説明する。"
      ]
    },
    {
      "cell_type": "markdown",
      "metadata": {
        "id": "I2D-uOq26kPm"
      },
      "source": [
        "### 回帰直線\n",
        "\n",
        "各点の縦軸の値と直線が表す値との差の2乗和が最小になるような直線が回帰直線である。回帰直線は、データがないところの値を予測するような用途で用いることができる。\n",
        "\n",
        "回帰直線を$y=b + ax$として、[np.polyfit](https://numpy.org/doc/stable/reference/generated/numpy.polyfit.html)関数で$b, a$を求め、[poly_1d](https://numpy.org/doc/stable/reference/generated/numpy.poly1d.html)関数で直線を表す関数を作成し、その関数にx軸の値を与えてy軸の値を求め、最後にmatplotlib.pyplotの[scatter](https://matplotlib.org/stable/api/_as_gen/matplotlib.pyplot.scatter.html)と[plot](https://matplotlib.org/stable/api/_as_gen/matplotlib.pyplot.plot.html)で散布図と直線を重ねて表示する。"
      ]
    },
    {
      "cell_type": "code",
      "execution_count": 26,
      "metadata": {
        "id": "nw1NruOuxF0g"
      },
      "outputs": [],
      "source": [
        "import matplotlib.pyplot as plt"
      ]
    },
    {
      "cell_type": "code",
      "execution_count": 27,
      "metadata": {
        "colab": {
          "base_uri": "https://localhost:8080/",
          "height": 296
        },
        "id": "a_i57qD68e49",
        "outputId": "b3c33d0f-a262-4a19-b65d-82a4ebf19cdf"
      },
      "outputs": [
        {
          "output_type": "execute_result",
          "data": {
            "text/plain": [
              "[<matplotlib.lines.Line2D at 0x7f57fac1f8d0>]"
            ]
          },
          "metadata": {},
          "execution_count": 27
        },
        {
          "output_type": "display_data",
          "data": {
            "text/plain": [
              "<Figure size 432x288 with 1 Axes>"
            ],
            "image/png": "[encoded data removed]"
          },
          "metadata": {
            "needs_background": "light"
          }
        }
      ],
      "source": [
        "# 第3引数は多項式の次数\n",
        "poly_fit = np.polyfit(en_scores, ma_scores, 1)\n",
        "# 係数から1次関数を作成\n",
        "poly_1d = np.poly1d(poly_fit)\n",
        "# 最小値から最大値の間に等間隔で50個の数値を作成\n",
        "xs = np.linspace(en_scores.min(), en_scores.max())\n",
        "# xsに対応するy座標を計算\n",
        "ys = poly_1d(xs)\n",
        "\n",
        "plt.xlabel('Eng')\n",
        "plt.ylabel('Math')\n",
        "plt.scatter(en_scores, ma_scores)\n",
        "plt.plot(xs, ys, color='red')"
      ]
    },
    {
      "cell_type": "markdown",
      "metadata": {
        "id": "GV4GdMem-2Hy"
      },
      "source": [
        "### ヒートマップ\n",
        "\n",
        "ヒートマップはヒストグラムの2次元版で、各区画の頻度を色の濃さで表現したものである。\n",
        "\n",
        "ヒートマップの表示はmatplotlib.pyplotの[hist2d](https://matplotlib.org/stable/api/_as_gen/matplotlib.pyplot.hist2d.html)を用いる。\n"
      ]
    },
    {
      "cell_type": "code",
      "execution_count": 28,
      "metadata": {
        "colab": {
          "base_uri": "https://localhost:8080/",
          "height": 505
        },
        "id": "yIqwWj3M8ptM",
        "outputId": "040de295-fdeb-4d05-bf24-0f971f358282"
      },
      "outputs": [
        {
          "output_type": "execute_result",
          "data": {
            "text/plain": [
              "<matplotlib.colorbar.Colorbar at 0x7f57fab55910>"
            ]
          },
          "metadata": {},
          "execution_count": 28
        },
        {
          "output_type": "display_data",
          "data": {
            "text/plain": [
              "<Figure size 720x576 with 2 Axes>"
            ],
            "image/png": "[encoded data removed]"
          },
          "metadata": {
            "needs_background": "light"
          }
        }
      ],
      "source": [
        "fig = plt.figure(figsize=(10,8))\n",
        "ax = fig.add_subplot(111)\n",
        "c = ax.hist2d(en_scores, ma_scores, bins=[10,10], range=[(0,100),(0,100)])\n",
        "ax.set_xticks(c[1])\n",
        "ax.set_xticks(c[2])\n",
        "fig.colorbar(c[3], ax=ax)"
      ]
    },
    {
      "cell_type": "markdown",
      "metadata": {
        "id": "Sssvlyqr6pi1"
      },
      "source": [
        "# 推測統計の基本"
      ]
    },
    {
      "cell_type": "markdown",
      "metadata": {
        "id": "ckN3gh9lA5G_"
      },
      "source": [
        "ここまでの説明は、得られたデータを分析する記述統計についてであった。ここからは得られたデータから母集団の性質を推定する推測統計について説明する。\n",
        "\n",
        "推測統計では確率が重要な道具となる。それは推測統計においては、得られたデータ（標本）は、観測対象全体（母集団）から確率的に得られたものと仮定し、その上で母集団の分布を推測することを行っているからである。\n",
        "\n",
        "推測統計はさらに**推定**と**検定**に分けられる。推定は標本から母集団のもつパラメータ（母数）を推定するものである。検定はある仮説が正しいかどうかを統計的に判断するものである。"
      ]
    },
    {
      "cell_type": "markdown",
      "metadata": {
        "id": "m9N3J2mjZwDt"
      },
      "source": [
        "以下では、パターン認識に関係が深い**推定**について説明する。\n",
        "\n",
        "![python.png](data:image/png;base64,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)"
      ]
    },
    {
      "cell_type": "markdown",
      "metadata": {
        "id": "X7Kp1XXcBEOg"
      },
      "source": [
        "例題：全校生徒300人が同じテストを受けた。平均点などは公開されていないが、ある生徒が自分のテストのできを調べるため、ランダムに20人を選んで点数を聞き、平均点を推測した。"
      ]
    },
    {
      "cell_type": "code",
      "execution_count": 29,
      "metadata": {
        "id": "wnH_HHwBA31I"
      },
      "outputs": [],
      "source": [
        "# 300人分のテストのデータの生成\n",
        "all_scores = np.random.randint(100,size=300)"
      ]
    },
    {
      "cell_type": "markdown",
      "metadata": {
        "id": "OZIDZFqoBFPX"
      },
      "source": [
        "## 母集団と標本\n",
        "\n",
        "### 標本の抽出方法\n",
        "\n",
        "複数回同じ標本を選ぶ可能性がある方法を復元抽出、同じ標本は一度しか選ばない方法を非復元抽出とよぶ。一度抽出した標本を母集団に戻すかどうかという基準。"
      ]
    },
    {
      "cell_type": "code",
      "execution_count": 30,
      "metadata": {
        "colab": {
          "base_uri": "https://localhost:8080/"
        },
        "id": "OEXGJ-Xv6pp-",
        "outputId": "dbe96db4-d6ce-4c8d-9a27-412b6db7fd52"
      },
      "outputs": [
        {
          "output_type": "execute_result",
          "data": {
            "text/plain": [
              "array([3, 3, 1])"
            ]
          },
          "metadata": {},
          "execution_count": 30
        }
      ],
      "source": [
        "# 復元抽出\n",
        "np.random.choice([1,2,3], 3)"
      ]
    },
    {
      "cell_type": "code",
      "execution_count": 31,
      "metadata": {
        "colab": {
          "base_uri": "https://localhost:8080/"
        },
        "id": "5ejs7uwobdZ1",
        "outputId": "4272bb00-932a-4d3e-f8f0-36c43d061c99"
      },
      "outputs": [
        {
          "output_type": "execute_result",
          "data": {
            "text/plain": [
              "array([1, 3, 2])"
            ]
          },
          "metadata": {},
          "execution_count": 31
        }
      ],
      "source": [
        "# 非復元抽出\n",
        "np.random.choice([1,2,3], 3, replace=False)"
      ]
    },
    {
      "cell_type": "code",
      "execution_count": 32,
      "metadata": {
        "id": "pvEXaVM7aQb9",
        "colab": {
          "base_uri": "https://localhost:8080/"
        },
        "outputId": "d47ce82e-9b3e-4bf0-d840-458445272c6b"
      },
      "outputs": [
        {
          "output_type": "execute_result",
          "data": {
            "text/plain": [
              "array([72, 89, 64,  6,  6, 37, 64, 87, 60,  7,  9, 53, 51, 59, 28, 42, 53,\n",
              "       20, 77, 62])"
            ]
          },
          "metadata": {},
          "execution_count": 32
        }
      ],
      "source": [
        "# 20人分のテストのデータを非復元抽出\n",
        "samples = np.random.choice(all_scores, 20, replace=False)\n",
        "samples"
      ]
    },
    {
      "cell_type": "markdown",
      "metadata": {
        "id": "keSuAFwg68La"
      },
      "source": [
        "###母集団の平均と標本の平均の比較\n",
        "\n",
        "標本数を変えて差を比較してみよ。"
      ]
    },
    {
      "cell_type": "code",
      "execution_count": 33,
      "metadata": {
        "colab": {
          "base_uri": "https://localhost:8080/"
        },
        "id": "AdUua_ED67M7",
        "outputId": "037b6397-ca77-4fa0-857a-c88fc5974378"
      },
      "outputs": [
        {
          "output_type": "execute_result",
          "data": {
            "text/plain": [
              "(49.950, 47.300)"
            ]
          },
          "metadata": {},
          "execution_count": 33
        }
      ],
      "source": [
        "all_scores.mean(), samples.mean()"
      ]
    },
    {
      "cell_type": "markdown",
      "metadata": {
        "id": "udY5Kth-6pxe"
      },
      "source": [
        "## 確率変数\n",
        "\n",
        "とりうる値とその値がでる確率が与えられている変数を確率変数とよぶ。確率変数の振る舞いを示すものを確率分布とよぶ。"
      ]
    },
    {
      "cell_type": "markdown",
      "metadata": {
        "id": "Mt7_JPoAcrcs"
      },
      "source": [
        "### 離散型確率変数\n",
        "\n",
        "とりうる値が離散値である確率変数を離散型確率変数とよぶ。1次元の離散型確率変数の例としてはサイコロの目がある。この確率変数がある値をとる確率を関数の形で表したものが確率質量関数である。\n",
        "\n",
        "確率変数を2つ組み合わせた2次元の場合は、同時確率を考えることになる。同時確率が得られたとき、片方の確率変数のとりうる値を同時確率関数に代入して足し合わせることを周辺化とよび、そのようにして得られたもうひとつの確率変数の分布を周辺分布とよぶ。"
      ]
    },
    {
      "cell_type": "markdown",
      "metadata": {
        "id": "6K_nsS6yeBbG"
      },
      "source": [
        "### 離散確率分布"
      ]
    },
    {
      "cell_type": "markdown",
      "metadata": {
        "id": "bW_1LnGUeJbh"
      },
      "source": [
        "ベルヌーイ分布\n",
        "\n",
        "とりうる値が0または1の2種類しかないときの確率分布。1が出る確率pが分布のパラメータとなり、0が出る確率は1-pとなる。ベルヌーイ分布の期待値はp、分散はp(1-p)となる。\n",
        "\n",
        "$$\n",
        "f(x) = \n",
        "\\begin{cases}\n",
        "p^x (1-p)^{(1-x)} ~~ (x \\in \\{0,1\\})\\\\\n",
        "0 ~~~~~~~~~~~~~~~~~~~ (otherwise)\n",
        "\\end{cases}\n",
        "$$"
      ]
    },
    {
      "cell_type": "markdown",
      "metadata": {
        "id": "VeDcE41VfLIp"
      },
      "source": [
        "[scipy.stats](https://docs.scipy.org/doc/scipy/reference/stats.html)以下にはさまざまな分布関数が用意されている。"
      ]
    },
    {
      "cell_type": "code",
      "execution_count": 34,
      "metadata": {
        "id": "JOPJWaWXbb5s"
      },
      "outputs": [],
      "source": [
        "from scipy import stats"
      ]
    },
    {
      "cell_type": "code",
      "execution_count": 35,
      "metadata": {
        "id": "9LaSKfFo6p5e"
      },
      "outputs": [],
      "source": [
        "rv = stats.bernoulli(0.7)"
      ]
    },
    {
      "cell_type": "code",
      "execution_count": 36,
      "metadata": {
        "colab": {
          "base_uri": "https://localhost:8080/"
        },
        "id": "A1DjL_bLfBUn",
        "outputId": "75011d11-f000-4095-a806-db502f711261"
      },
      "outputs": [
        {
          "output_type": "execute_result",
          "data": {
            "text/plain": [
              "(0.300, 0.700)"
            ]
          },
          "metadata": {},
          "execution_count": 36
        }
      ],
      "source": [
        "# 確率質量関数の計算はpmfメソッドを用いる。引数は確率変数の値\n",
        "rv.pmf(0), rv.pmf(1)"
      ]
    },
    {
      "cell_type": "markdown",
      "metadata": {
        "id": "Wpp8BFFqhOBe"
      },
      "source": [
        "二項分布\n",
        "\n",
        "ベルヌーイ試行をn回行ったときの1のでる回数が従う分布。とりうる値は0からnとなる。分布のパラメータはnとpであり、期待値はnp、分散はnp(1-p)である。\n",
        "\n",
        "$$\n",
        "f(x) = \n",
        "\\begin{cases}\n",
        "{}_n \\mathrm{C}_x p^x (1-p)^{(n-x)} ~~ (x \\in \\{0,1,\\dots,n\\})\\\\\n",
        "0 ~~~~~~~~~~~~~~~~~~~ (otherwise)\n",
        "\\end{cases}\n",
        "$$"
      ]
    },
    {
      "cell_type": "code",
      "execution_count": 37,
      "metadata": {
        "colab": {
          "base_uri": "https://localhost:8080/",
          "height": 283
        },
        "id": "k7Gwz-vvfDII",
        "outputId": "c884d72b-50e6-44a2-818c-5541de5868ee"
      },
      "outputs": [
        {
          "output_type": "execute_result",
          "data": {
            "text/plain": [
              "<BarContainer object of 12 artists>"
            ]
          },
          "metadata": {},
          "execution_count": 37
        },
        {
          "output_type": "display_data",
          "data": {
            "text/plain": [
              "<Figure size 432x288 with 1 Axes>"
            ],
            "image/png": "[encoded data removed]"
          },
          "metadata": {
            "needs_background": "light"
          }
        }
      ],
      "source": [
        "rv = stats.binom(11, 0.2)\n",
        "linenum = range(0,12)\n",
        "plt.bar(linenum, rv.pmf(linenum))"
      ]
    },
    {
      "cell_type": "markdown",
      "metadata": {
        "id": "uV-3WgwShPIO"
      },
      "source": [
        "幾何分布\n",
        "\n",
        "ベルヌーイ試行が初めて成功するまでの試行回数の分布。とりうる値は整数全体。パラメータはp。期待値は$1/p$、分散は$(1-p)/p^2$。\n",
        "\n",
        "$$\n",
        "f(x) = \n",
        "\\begin{cases}\n",
        "(1-p)^{(x-1)}p ~~ (x \\in \\{1,2,3,\\dots\\})\\\\\n",
        "0 ~~~~~~~~~~~~~~~~~~~ (otherwise)\n",
        "\\end{cases}\n",
        "$$"
      ]
    },
    {
      "cell_type": "code",
      "execution_count": 38,
      "metadata": {
        "colab": {
          "base_uri": "https://localhost:8080/",
          "height": 283
        },
        "id": "MmAmHrnFhPVl",
        "outputId": "456a41f0-0147-4b88-957b-4b50bd73152d"
      },
      "outputs": [
        {
          "output_type": "execute_result",
          "data": {
            "text/plain": [
              "<BarContainer object of 20 artists>"
            ]
          },
          "metadata": {},
          "execution_count": 38
        },
        {
          "output_type": "display_data",
          "data": {
            "text/plain": [
              "<Figure size 432x288 with 1 Axes>"
            ],
            "image/png": "[encoded data removed]"
          },
          "metadata": {
            "needs_background": "light"
          }
        }
      ],
      "source": [
        "rv = stats.geom(0.2)\n",
        "linenum = range(1,21)\n",
        "plt.bar(linenum, rv.pmf(linenum))"
      ]
    },
    {
      "cell_type": "markdown",
      "metadata": {
        "id": "L7g5fA8FhPbk"
      },
      "source": [
        "ポアソン分布\n",
        "\n",
        "ランダムな事象が単位時間あたりに発生する件数の分布。とりうる値は0と整数全体。パラメータは$\\lambda$。期待値、分散とも$\\lambda$。\n",
        "\n",
        "ポアソン分布は二項分布の極限。詳細は[高校数学の美しい物語「ポアソン分布の意味と平均・分散」](https://manabitimes.jp/math/924)を参照。\n",
        "\n",
        "$$\n",
        "f(x) = \n",
        "\\begin{cases}\n",
        "\\frac{\\lambda^x}{x!} e^{-\\lambda} ~~ (x \\in \\{0,1,2,\\dots\\})\\\\\n",
        "0 ~~~~~~~~~~~~~~~~~~~ (otherwise)\n",
        "\\end{cases}\n",
        "$$"
      ]
    },
    {
      "cell_type": "code",
      "execution_count": 39,
      "metadata": {
        "colab": {
          "base_uri": "https://localhost:8080/",
          "height": 283
        },
        "id": "sVzSntKWhPiX",
        "outputId": "4b51b532-d7f7-42a3-f8b5-de23a97577d7"
      },
      "outputs": [
        {
          "output_type": "execute_result",
          "data": {
            "text/plain": [
              "<BarContainer object of 11 artists>"
            ]
          },
          "metadata": {},
          "execution_count": 39
        },
        {
          "output_type": "display_data",
          "data": {
            "text/plain": [
              "<Figure size 432x288 with 1 Axes>"
            ],
            "image/png": "[encoded data removed]"
          },
          "metadata": {
            "needs_background": "light"
          }
        }
      ],
      "source": [
        "rv = stats.poisson(3)\n",
        "linenum = range(0,11)\n",
        "plt.bar(linenum, rv.pmf(linenum))"
      ]
    },
    {
      "cell_type": "markdown",
      "metadata": {
        "id": "zVmm12cHhPnh"
      },
      "source": [
        "## 連続確率分布\n",
        "\n",
        "連続値を値とする確率分布は確率密度関数で表す。連続値の場合は、特定の値をとる確率は0なので、区間を指定して積分で確率を表す。\n",
        "\n",
        "分布の計算をしやすくするために、値がある値以下になる確率を累積分布関数(CDF)とよび、特定の区間の確率はこのCDFの差で求めることができる。"
      ]
    },
    {
      "cell_type": "markdown",
      "metadata": {
        "id": "PPom3F1ZnsVO"
      },
      "source": [
        "正規分布\n",
        "\n",
        "自然界の多くの現象が従う分布。パラメータは平均と分散。\n",
        "\n",
        "$$\n",
        "f(x) = \\frac{1}{\\sqrt{2 \\pi \\sigma^2}} \\exp\\{-\\frac{(x - \\mu)^2}{2\\sigma^2}\\} ~~~(-\\infty < x < \\infty)\n",
        "$$"
      ]
    },
    {
      "cell_type": "code",
      "execution_count": 40,
      "metadata": {
        "colab": {
          "base_uri": "https://localhost:8080/",
          "height": 283
        },
        "id": "g3rJ--RjhPtk",
        "outputId": "7c40cfae-a90e-42c6-d2a4-c1f2dcaa3e09"
      },
      "outputs": [
        {
          "output_type": "execute_result",
          "data": {
            "text/plain": [
              "[<matplotlib.lines.Line2D at 0x7f57ec7a1810>]"
            ]
          },
          "metadata": {},
          "execution_count": 40
        },
        {
          "output_type": "display_data",
          "data": {
            "text/plain": [
              "<Figure size 432x288 with 1 Axes>"
            ],
            "image/png": "[encoded data removed]"
          },
          "metadata": {
            "needs_background": "light"
          }
        }
      ],
      "source": [
        "# 平均身長が170cm、標準偏差が5cmと仮定したときの正規分布\n",
        "rv = stats.norm(170, 5)\n",
        "linenum = range(150,190)\n",
        "plt.plot(linenum, rv.pdf(linenum))"
      ]
    },
    {
      "cell_type": "code",
      "execution_count": 41,
      "metadata": {
        "colab": {
          "base_uri": "https://localhost:8080/"
        },
        "id": "x9WRCn05puJu",
        "outputId": "5c417ea1-ea0f-40b3-e0ce-96f5e6524214"
      },
      "outputs": [
        {
          "output_type": "execute_result",
          "data": {
            "text/plain": [
              "0.954"
            ]
          },
          "metadata": {},
          "execution_count": 41
        }
      ],
      "source": [
        "# 160cmから180cmの人に出会う確率\n",
        "rv.cdf(180)-rv.cdf(160)"
      ]
    },
    {
      "cell_type": "markdown",
      "metadata": {
        "id": "gwY9gu8LmsHw"
      },
      "source": [
        "指数分布\n",
        "\n",
        "ある事象が発生する間隔が従う分布。パラメータは単位時間あたりの事象の平均発生回数$\\lambda$。期待値は$1/\\lambda$、分散は$1/\\lambda^2$。\n",
        "\n",
        "$$\n",
        "f(x) = \n",
        "\\begin{cases}\n",
        "\\lambda e^{-\\lambda x} ~~ (x \\geq 0)\\\\\n",
        "0 ~~~~~~~~~~ (otherwise)\n",
        "\\end{cases}\n",
        "$$"
      ]
    },
    {
      "cell_type": "code",
      "execution_count": 42,
      "metadata": {
        "colab": {
          "base_uri": "https://localhost:8080/",
          "height": 283
        },
        "id": "CK138_mtmsPg",
        "outputId": "b7c4dc21-4986-4c9d-ab74-b0a93df4fc86"
      },
      "outputs": [
        {
          "output_type": "execute_result",
          "data": {
            "text/plain": [
              "[<matplotlib.lines.Line2D at 0x7f57ec6b4390>]"
            ]
          },
          "metadata": {},
          "execution_count": 42
        },
        {
          "output_type": "display_data",
          "data": {
            "text/plain": [
              "<Figure size 432x288 with 1 Axes>"
            ],
            "image/png": "[encoded data removed]"
          },
          "metadata": {
            "needs_background": "light"
          }
        }
      ],
      "source": [
        "rv = stats.expon(scale=1/3)\n",
        "linenum = np.arange(0,2,0.1)\n",
        "plt.plot(linenum, rv.pdf(linenum))"
      ]
    },
    {
      "cell_type": "code",
      "execution_count": 43,
      "metadata": {
        "colab": {
          "base_uri": "https://localhost:8080/"
        },
        "id": "hht0O8XvttYh",
        "outputId": "ab97fc76-4e5d-4e42-86a7-bccc0a8961e5"
      },
      "outputs": [
        {
          "output_type": "execute_result",
          "data": {
            "text/plain": [
              "0.998"
            ]
          },
          "metadata": {},
          "execution_count": 43
        }
      ],
      "source": [
        "# 平均して1日3件交通事故が発生する地域で、2日以内に事故が発生する確率\n",
        "rv.cdf(2)"
      ]
    },
    {
      "cell_type": "markdown",
      "metadata": {
        "id": "rPtP2ev5msV4"
      },
      "source": [
        "# 統計的推定"
      ]
    },
    {
      "cell_type": "markdown",
      "metadata": {
        "id": "8R3N5CG2uiEn"
      },
      "source": [
        "母集団の分布に何の制約も設けない場合は、標本から分布を推定することは難しい。そこで、母集団の確率モデルとして特定の分布を仮定し、そのパラメータを標本統計量から求める方法がよく用いられる。この方法を**パラメトリックな方法**とよぶ。一方、分布を仮定しない方法を**ノンパラメトリックな方法**とよぶ。\n",
        "\n",
        "また、分布の推定において、特定のパラメータを推定する方法を**点推定**とよび、幅を持って推定する方法を**区間推定**とよぶ。次回以降説明する機械学習ではデータにうまく適合するモデルのパラメータを求めることになるので、点推定を行うことが多い。"
      ]
    }
  ],
  "metadata": {
    "colab": {
      "collapsed_sections": [],
      "name": "pyintro4.ipynb のコピー",
      "provenance": []
    },
    "kernelspec": {
      "display_name": "Python 3",
      "name": "python3"
    },
    "language_info": {
      "name": "python"
    }
  },
  "nbformat": 4,
  "nbformat_minor": 0
}